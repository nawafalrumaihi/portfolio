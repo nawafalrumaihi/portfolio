{
 "cells": [
  {
   "cell_type": "code",
   "execution_count": 2,
   "metadata": {},
   "outputs": [
    {
     "data": {
      "application/vnd.plotly.v1+json": {
       "config": {
        "plotlyServerURL": "https://plot.ly"
       },
       "data": [
        {
         "customdata": [
          [
           24.03,
           "2007-04-23T00:00:00"
          ],
          [
           24.49,
           "2007-04-23T00:00:00"
          ],
          [
           24.71,
           "2007-04-23T00:00:00"
          ],
          [
           24.79,
           "2007-04-23T00:00:00"
          ],
          [
           24.75,
           "2007-04-23T00:00:00"
          ],
          [
           24.7,
           "2007-04-23T00:00:00"
          ],
          [
           24.06,
           "2007-04-23T00:00:00"
          ]
         ],
         "hovertemplate": "<b>%{hovertext}</b><br><br>animation_frame=2007-04-23<br>Temperature oC=%{marker.color}<br>Latitude_dd=%{lat}<br>Longitude_dd=%{lon}<br>Date=%{customdata[1]}<extra></extra>",
         "hovertext": [
          "askar",
          "bapco",
          "fasht tighalib",
          "ghumais",
          "jabbari",
          "mashtan",
          "qassar noon"
         ],
         "lat": [
          26.05994444,
          26.108525,
          25.95768056,
          26.03835,
          25.917225,
          25.84470833,
          25.81586944
         ],
         "legendgroup": "",
         "lon": [
          50.63189722,
          50.64105,
          50.71598889,
          50.86679444,
          50.66624167,
          50.68702778,
          50.63698056
         ],
         "marker": {
          "color": [
           24.03,
           24.49,
           24.71,
           24.79,
           24.75,
           24.7,
           24.06
          ],
          "coloraxis": "coloraxis",
          "size": [
           24.03,
           24.49,
           24.71,
           24.79,
           24.75,
           24.7,
           24.06
          ],
          "sizemode": "area",
          "sizeref": 0.1591111111111111
         },
         "mode": "markers",
         "name": "",
         "showlegend": false,
         "subplot": "mapbox",
         "type": "scattermapbox"
        }
       ],
       "frames": [
        {
         "data": [
          {
           "customdata": [
            [
             24.03,
             "2007-04-23T00:00:00"
            ],
            [
             24.49,
             "2007-04-23T00:00:00"
            ],
            [
             24.71,
             "2007-04-23T00:00:00"
            ],
            [
             24.79,
             "2007-04-23T00:00:00"
            ],
            [
             24.75,
             "2007-04-23T00:00:00"
            ],
            [
             24.7,
             "2007-04-23T00:00:00"
            ],
            [
             24.06,
             "2007-04-23T00:00:00"
            ]
           ],
           "hovertemplate": "<b>%{hovertext}</b><br><br>animation_frame=2007-04-23<br>Temperature oC=%{marker.color}<br>Latitude_dd=%{lat}<br>Longitude_dd=%{lon}<br>Date=%{customdata[1]}<extra></extra>",
           "hovertext": [
            "askar",
            "bapco",
            "fasht tighalib",
            "ghumais",
            "jabbari",
            "mashtan",
            "qassar noon"
           ],
           "lat": [
            26.05994444,
            26.108525,
            25.95768056,
            26.03835,
            25.917225,
            25.84470833,
            25.81586944
           ],
           "legendgroup": "",
           "lon": [
            50.63189722,
            50.64105,
            50.71598889,
            50.86679444,
            50.66624167,
            50.68702778,
            50.63698056
           ],
           "marker": {
            "color": [
             24.03,
             24.49,
             24.71,
             24.79,
             24.75,
             24.7,
             24.06
            ],
            "coloraxis": "coloraxis",
            "size": [
             24.03,
             24.49,
             24.71,
             24.79,
             24.75,
             24.7,
             24.06
            ],
            "sizemode": "area",
            "sizeref": 0.1591111111111111
           },
           "mode": "markers",
           "name": "",
           "showlegend": false,
           "subplot": "mapbox",
           "type": "scattermapbox"
          }
         ],
         "name": "2007-04-23"
        },
        {
         "data": [
          {
           "customdata": [
            [
             30.72,
             "2007-07-08T00:00:00"
            ],
            [
             31.56,
             "2007-07-08T00:00:00"
            ],
            [
             31.79,
             "2007-07-08T00:00:00"
            ],
            [
             31.3,
             "2007-07-08T00:00:00"
            ],
            [
             31.37,
             "2007-07-08T00:00:00"
            ],
            [
             31.39,
             "2007-07-08T00:00:00"
            ]
           ],
           "hovertemplate": "<b>%{hovertext}</b><br><br>animation_frame=2007-07-08<br>Temperature oC=%{marker.color}<br>Latitude_dd=%{lat}<br>Longitude_dd=%{lon}<br>Date=%{customdata[1]}<extra></extra>",
           "hovertext": [
            "askar",
            "fasht tighalib",
            "ghumais",
            "jabbari",
            "mashtan",
            "qassar noon"
           ],
           "lat": [
            26.05994444,
            25.95768056,
            26.03835,
            25.917225,
            25.84470833,
            25.81586944
           ],
           "legendgroup": "",
           "lon": [
            50.63189722,
            50.71598889,
            50.86679444,
            50.66624167,
            50.68702778,
            50.63698056
           ],
           "marker": {
            "color": [
             30.72,
             31.56,
             31.79,
             31.3,
             31.37,
             31.39
            ],
            "coloraxis": "coloraxis",
            "size": [
             30.72,
             31.56,
             31.79,
             31.3,
             31.37,
             31.39
            ],
            "sizemode": "area",
            "sizeref": 0.1591111111111111
           },
           "mode": "markers",
           "name": "",
           "showlegend": false,
           "subplot": "mapbox",
           "type": "scattermapbox"
          }
         ],
         "name": "2007-07-08"
        },
        {
         "data": [
          {
           "customdata": [
            [
             29.79,
             "2007-10-29T00:00:00"
            ],
            [
             29.99,
             "2007-10-29T00:00:00"
            ],
            [
             29.5,
             "2007-10-29T00:00:00"
            ],
            [
             29.32,
             "2007-10-29T00:00:00"
            ],
            [
             29.46,
             "2007-10-29T00:00:00"
            ],
            [
             29.32,
             "2007-10-29T00:00:00"
            ],
            [
             29.53,
             "2007-10-29T00:00:00"
            ],
            [
             29.51,
             "2007-10-29T00:00:00"
            ]
           ],
           "hovertemplate": "<b>%{hovertext}</b><br><br>animation_frame=2007-10-29<br>Temperature oC=%{marker.color}<br>Latitude_dd=%{lat}<br>Longitude_dd=%{lon}<br>Date=%{customdata[1]}<extra></extra>",
           "hovertext": [
            "askar",
            "bapco",
            "fasht tighalib",
            "ghumais",
            "jabbari",
            "qassar noon",
            "msoor",
            "marina club"
           ],
           "lat": [
            26.05994444,
            26.108525,
            25.95768056,
            26.03835,
            25.917225,
            25.81586944,
            26.08035,
            26.23741389
           ],
           "legendgroup": "",
           "lon": [
            50.63189722,
            50.64105,
            50.71598889,
            50.86679444,
            50.66624167,
            50.63698056,
            50.70566944,
            50.60260278
           ],
           "marker": {
            "color": [
             29.79,
             29.99,
             29.5,
             29.32,
             29.46,
             29.32,
             29.53,
             29.51
            ],
            "coloraxis": "coloraxis",
            "size": [
             29.79,
             29.99,
             29.5,
             29.32,
             29.46,
             29.32,
             29.53,
             29.51
            ],
            "sizemode": "area",
            "sizeref": 0.1591111111111111
           },
           "mode": "markers",
           "name": "",
           "showlegend": false,
           "subplot": "mapbox",
           "type": "scattermapbox"
          }
         ],
         "name": "2007-10-29"
        },
        {
         "data": [
          {
           "customdata": [
            [
             18.86,
             "2008-01-06T00:00:00"
            ],
            [
             19.05,
             "2008-01-06T00:00:00"
            ],
            [
             18.04,
             "2008-01-06T00:00:00"
            ],
            [
             18.04,
             "2008-01-06T00:00:00"
            ],
            [
             17.9,
             "2008-01-06T00:00:00"
            ],
            [
             18.22,
             "2008-01-06T00:00:00"
            ],
            [
             17.86,
             "2008-01-06T00:00:00"
            ],
            [
             18.57,
             "2008-01-06T00:00:00"
            ],
            [
             18.3,
             "2008-01-06T00:00:00"
            ]
           ],
           "hovertemplate": "<b>%{hovertext}</b><br><br>animation_frame=2008-01-06<br>Temperature oC=%{marker.color}<br>Latitude_dd=%{lat}<br>Longitude_dd=%{lon}<br>Date=%{customdata[1]}<extra></extra>",
           "hovertext": [
            "askar",
            "bapco",
            "fasht tighalib",
            "ghumais",
            "jabbari",
            "mashtan",
            "qassar noon",
            "al gaha",
            "msoor"
           ],
           "lat": [
            26.05994444,
            26.108525,
            25.95768056,
            26.03835,
            25.917225,
            25.84470833,
            25.81586944,
            26.13141667,
            26.08035
           ],
           "legendgroup": "",
           "lon": [
            50.63189722,
            50.64105,
            50.71598889,
            50.86679444,
            50.66624167,
            50.68702778,
            50.63698056,
            50.67534167,
            50.70566944
           ],
           "marker": {
            "color": [
             18.86,
             19.05,
             18.04,
             18.04,
             17.9,
             18.22,
             17.86,
             18.57,
             18.3
            ],
            "coloraxis": "coloraxis",
            "size": [
             18.86,
             19.05,
             18.04,
             18.04,
             17.9,
             18.22,
             17.86,
             18.57,
             18.3
            ],
            "sizemode": "area",
            "sizeref": 0.1591111111111111
           },
           "mode": "markers",
           "name": "",
           "showlegend": false,
           "subplot": "mapbox",
           "type": "scattermapbox"
          }
         ],
         "name": "2008-01-06"
        },
        {
         "data": [
          {
           "customdata": [
            [
             25.66,
             "2008-04-21T00:00:00"
            ],
            [
             25.25,
             "2008-04-21T00:00:00"
            ],
            [
             24.91,
             "2008-04-21T00:00:00"
            ],
            [
             25.12,
             "2008-04-21T00:00:00"
            ],
            [
             25.01,
             "2008-04-21T00:00:00"
            ],
            [
             24.95,
             "2008-04-21T00:00:00"
            ],
            [
             25.1,
             "2008-04-21T00:00:00"
            ]
           ],
           "hovertemplate": "<b>%{hovertext}</b><br><br>animation_frame=2008-04-21<br>Temperature oC=%{marker.color}<br>Latitude_dd=%{lat}<br>Longitude_dd=%{lon}<br>Date=%{customdata[1]}<extra></extra>",
           "hovertext": [
            "askar",
            "fasht tighalib",
            "ghumais",
            "jabbari",
            "mashtan",
            "qassar noon",
            "msoor"
           ],
           "lat": [
            26.05994444,
            25.95768056,
            26.03835,
            25.917225,
            25.84470833,
            25.81586944,
            26.08035
           ],
           "legendgroup": "",
           "lon": [
            50.63189722,
            50.71598889,
            50.86679444,
            50.66624167,
            50.68702778,
            50.63698056,
            50.70566944
           ],
           "marker": {
            "color": [
             25.66,
             25.25,
             24.91,
             25.12,
             25.01,
             24.95,
             25.1
            ],
            "coloraxis": "coloraxis",
            "size": [
             25.66,
             25.25,
             24.91,
             25.12,
             25.01,
             24.95,
             25.1
            ],
            "sizemode": "area",
            "sizeref": 0.1591111111111111
           },
           "mode": "markers",
           "name": "",
           "showlegend": false,
           "subplot": "mapbox",
           "type": "scattermapbox"
          }
         ],
         "name": "2008-04-21"
        },
        {
         "data": [
          {
           "customdata": [
            [
             31,
             "2008-07-07T00:00:00"
            ],
            [
             31.31,
             "2008-07-07T00:00:00"
            ],
            [
             32.07,
             "2008-07-07T00:00:00"
            ],
            [
             31.94,
             "2008-07-07T00:00:00"
            ],
            [
             31.71,
             "2008-07-07T00:00:00"
            ],
            [
             32.05,
             "2008-07-07T00:00:00"
            ],
            [
             31.97,
             "2008-07-07T00:00:00"
            ],
            [
             31.9,
             "2008-07-07T00:00:00"
            ],
            [
             30.87,
             "2008-07-07T00:00:00"
            ]
           ],
           "hovertemplate": "<b>%{hovertext}</b><br><br>animation_frame=2008-07-07<br>Temperature oC=%{marker.color}<br>Latitude_dd=%{lat}<br>Longitude_dd=%{lon}<br>Date=%{customdata[1]}<extra></extra>",
           "hovertext": [
            "askar",
            "bapco",
            "fasht tighalib",
            "ghumais",
            "jabbari",
            "mashtan",
            "qassar noon",
            "al gaha",
            "msoor"
           ],
           "lat": [
            26.05994444,
            26.108525,
            25.95768056,
            26.03835,
            25.917225,
            25.84470833,
            25.81586944,
            26.13141667,
            26.08035
           ],
           "legendgroup": "",
           "lon": [
            50.63189722,
            50.64105,
            50.71598889,
            50.86679444,
            50.66624167,
            50.68702778,
            50.63698056,
            50.67534167,
            50.70566944
           ],
           "marker": {
            "color": [
             31,
             31.31,
             32.07,
             31.94,
             31.71,
             32.05,
             31.97,
             31.9,
             30.87
            ],
            "coloraxis": "coloraxis",
            "size": [
             31,
             31.31,
             32.07,
             31.94,
             31.71,
             32.05,
             31.97,
             31.9,
             30.87
            ],
            "sizemode": "area",
            "sizeref": 0.1591111111111111
           },
           "mode": "markers",
           "name": "",
           "showlegend": false,
           "subplot": "mapbox",
           "type": "scattermapbox"
          }
         ],
         "name": "2008-07-07"
        },
        {
         "data": [
          {
           "customdata": [
            [
             30.32,
             "2008-10-27T00:00:00"
            ],
            [
             30.19,
             "2008-10-27T00:00:00"
            ],
            [
             29.39,
             "2008-10-27T00:00:00"
            ],
            [
             29.88,
             "2008-10-27T00:00:00"
            ],
            [
             29.21,
             "2008-10-27T00:00:00"
            ],
            [
             29.29,
             "2008-10-27T00:00:00"
            ],
            [
             29.56,
             "2008-10-27T00:00:00"
            ],
            [
             30.11,
             "2008-10-27T00:00:00"
            ]
           ],
           "hovertemplate": "<b>%{hovertext}</b><br><br>animation_frame=2008-10-27<br>Temperature oC=%{marker.color}<br>Latitude_dd=%{lat}<br>Longitude_dd=%{lon}<br>Date=%{customdata[1]}<extra></extra>",
           "hovertext": [
            "askar",
            "bapco",
            "fasht tighalib",
            "ghumais",
            "jabbari",
            "mashtan",
            "qassar noon",
            "msoor"
           ],
           "lat": [
            26.05994444,
            26.108525,
            25.95768056,
            26.03835,
            25.917225,
            25.84470833,
            25.81586944,
            26.08035
           ],
           "legendgroup": "",
           "lon": [
            50.63189722,
            50.64105,
            50.71598889,
            50.86679444,
            50.66624167,
            50.68702778,
            50.63698056,
            50.70566944
           ],
           "marker": {
            "color": [
             30.32,
             30.19,
             29.39,
             29.88,
             29.21,
             29.29,
             29.56,
             30.11
            ],
            "coloraxis": "coloraxis",
            "size": [
             30.32,
             30.19,
             29.39,
             29.88,
             29.21,
             29.29,
             29.56,
             30.11
            ],
            "sizemode": "area",
            "sizeref": 0.1591111111111111
           },
           "mode": "markers",
           "name": "",
           "showlegend": false,
           "subplot": "mapbox",
           "type": "scattermapbox"
          }
         ],
         "name": "2008-10-27"
        },
        {
         "data": [
          {
           "customdata": [
            [
             16.15,
             "2009-01-19T00:00:00"
            ],
            [
             16.72,
             "2009-01-19T00:00:00"
            ],
            [
             15.72,
             "2009-01-19T00:00:00"
            ],
            [
             15.84,
             "2009-01-19T00:00:00"
            ],
            [
             15.64,
             "2009-01-19T00:00:00"
            ],
            [
             15.62,
             "2009-01-19T00:00:00"
            ],
            [
             15.58,
             "2009-01-19T00:00:00"
            ],
            [
             16.14,
             "2009-01-19T00:00:00"
            ]
           ],
           "hovertemplate": "<b>%{hovertext}</b><br><br>animation_frame=2009-01-19<br>Temperature oC=%{marker.color}<br>Latitude_dd=%{lat}<br>Longitude_dd=%{lon}<br>Date=%{customdata[1]}<extra></extra>",
           "hovertext": [
            "askar",
            "bapco",
            "fasht tighalib",
            "ghumais",
            "jabbari",
            "mashtan",
            "qassar noon",
            "msoor"
           ],
           "lat": [
            26.05994444,
            26.108525,
            25.95768056,
            26.03835,
            25.917225,
            25.84470833,
            25.81586944,
            26.08035
           ],
           "legendgroup": "",
           "lon": [
            50.63189722,
            50.64105,
            50.71598889,
            50.86679444,
            50.66624167,
            50.68702778,
            50.63698056,
            50.70566944
           ],
           "marker": {
            "color": [
             16.15,
             16.72,
             15.72,
             15.84,
             15.64,
             15.62,
             15.58,
             16.14
            ],
            "coloraxis": "coloraxis",
            "size": [
             16.15,
             16.72,
             15.72,
             15.84,
             15.64,
             15.62,
             15.58,
             16.14
            ],
            "sizemode": "area",
            "sizeref": 0.1591111111111111
           },
           "mode": "markers",
           "name": "",
           "showlegend": false,
           "subplot": "mapbox",
           "type": "scattermapbox"
          }
         ],
         "name": "2009-01-19"
        },
        {
         "data": [
          {
           "customdata": [
            [
             24.4,
             "2009-04-22T00:00:00"
            ],
            [
             24.41,
             "2009-04-22T00:00:00"
            ],
            [
             24.03,
             "2009-04-22T00:00:00"
            ],
            [
             24.09,
             "2009-04-22T00:00:00"
            ],
            [
             24.32,
             "2009-04-22T00:00:00"
            ],
            [
             24,
             "2009-04-22T00:00:00"
            ],
            [
             24.01,
             "2009-04-22T00:00:00"
            ],
            [
             23.82,
             "2009-04-22T00:00:00"
            ]
           ],
           "hovertemplate": "<b>%{hovertext}</b><br><br>animation_frame=2009-04-22<br>Temperature oC=%{marker.color}<br>Latitude_dd=%{lat}<br>Longitude_dd=%{lon}<br>Date=%{customdata[1]}<extra></extra>",
           "hovertext": [
            "askar",
            "bapco",
            "fasht tighalib",
            "ghumais",
            "jabbari",
            "mashtan",
            "qassar noon",
            "msoor"
           ],
           "lat": [
            26.05994444,
            26.108525,
            25.95768056,
            26.03835,
            25.917225,
            25.84470833,
            25.81586944,
            26.08035
           ],
           "legendgroup": "",
           "lon": [
            50.63189722,
            50.64105,
            50.71598889,
            50.86679444,
            50.66624167,
            50.68702778,
            50.63698056,
            50.70566944
           ],
           "marker": {
            "color": [
             24.4,
             24.41,
             24.03,
             24.09,
             24.32,
             24,
             24.01,
             23.82
            ],
            "coloraxis": "coloraxis",
            "size": [
             24.4,
             24.41,
             24.03,
             24.09,
             24.32,
             24,
             24.01,
             23.82
            ],
            "sizemode": "area",
            "sizeref": 0.1591111111111111
           },
           "mode": "markers",
           "name": "",
           "showlegend": false,
           "subplot": "mapbox",
           "type": "scattermapbox"
          }
         ],
         "name": "2009-04-22"
        },
        {
         "data": [
          {
           "customdata": [
            [
             31.38,
             "2009-07-05T00:00:00"
            ],
            [
             32.05,
             "2009-07-05T00:00:00"
            ],
            [
             32.32,
             "2009-07-05T00:00:00"
            ],
            [
             32.36,
             "2009-07-05T00:00:00"
            ],
            [
             32.16,
             "2009-07-05T00:00:00"
            ],
            [
             32.64,
             "2009-07-05T00:00:00"
            ],
            [
             32.34,
             "2009-07-05T00:00:00"
            ],
            [
             31.93,
             "2009-07-05T00:00:00"
            ]
           ],
           "hovertemplate": "<b>%{hovertext}</b><br><br>animation_frame=2009-07-05<br>Temperature oC=%{marker.color}<br>Latitude_dd=%{lat}<br>Longitude_dd=%{lon}<br>Date=%{customdata[1]}<extra></extra>",
           "hovertext": [
            "askar",
            "bapco",
            "fasht tighalib",
            "ghumais",
            "jabbari",
            "mashtan",
            "qassar noon",
            "msoor"
           ],
           "lat": [
            26.05994444,
            26.108525,
            25.95768056,
            26.03835,
            25.917225,
            25.84470833,
            25.81586944,
            26.08035
           ],
           "legendgroup": "",
           "lon": [
            50.63189722,
            50.64105,
            50.71598889,
            50.86679444,
            50.66624167,
            50.68702778,
            50.63698056,
            50.70566944
           ],
           "marker": {
            "color": [
             31.38,
             32.05,
             32.32,
             32.36,
             32.16,
             32.64,
             32.34,
             31.93
            ],
            "coloraxis": "coloraxis",
            "size": [
             31.38,
             32.05,
             32.32,
             32.36,
             32.16,
             32.64,
             32.34,
             31.93
            ],
            "sizemode": "area",
            "sizeref": 0.1591111111111111
           },
           "mode": "markers",
           "name": "",
           "showlegend": false,
           "subplot": "mapbox",
           "type": "scattermapbox"
          }
         ],
         "name": "2009-07-05"
        },
        {
         "data": [
          {
           "customdata": [
            [
             29.19,
             "2009-10-14T00:00:00"
            ],
            [
             30.24,
             "2009-10-14T00:00:00"
            ],
            [
             29.6,
             "2009-10-14T00:00:00"
            ],
            [
             29.55,
             "2009-10-14T00:00:00"
            ],
            [
             29.7,
             "2009-10-14T00:00:00"
            ],
            [
             29.7,
             "2009-10-14T00:00:00"
            ],
            [
             29.9,
             "2009-10-14T00:00:00"
            ],
            [
             29.44,
             "2009-10-14T00:00:00"
            ]
           ],
           "hovertemplate": "<b>%{hovertext}</b><br><br>animation_frame=2009-10-14<br>Temperature oC=%{marker.color}<br>Latitude_dd=%{lat}<br>Longitude_dd=%{lon}<br>Date=%{customdata[1]}<extra></extra>",
           "hovertext": [
            "askar",
            "bapco",
            "fasht tighalib",
            "ghumais",
            "jabbari",
            "mashtan",
            "qassar noon",
            "msoor"
           ],
           "lat": [
            26.05994444,
            26.108525,
            25.95768056,
            26.03835,
            25.917225,
            25.84470833,
            25.81586944,
            26.08035
           ],
           "legendgroup": "",
           "lon": [
            50.63189722,
            50.64105,
            50.71598889,
            50.86679444,
            50.66624167,
            50.68702778,
            50.63698056,
            50.70566944
           ],
           "marker": {
            "color": [
             29.19,
             30.24,
             29.6,
             29.55,
             29.7,
             29.7,
             29.9,
             29.44
            ],
            "coloraxis": "coloraxis",
            "size": [
             29.19,
             30.24,
             29.6,
             29.55,
             29.7,
             29.7,
             29.9,
             29.44
            ],
            "sizemode": "area",
            "sizeref": 0.1591111111111111
           },
           "mode": "markers",
           "name": "",
           "showlegend": false,
           "subplot": "mapbox",
           "type": "scattermapbox"
          }
         ],
         "name": "2009-10-14"
        },
        {
         "data": [
          {
           "customdata": [
            [
             19.15,
             "2010-02-01T00:00:00"
            ],
            [
             19.69,
             "2010-02-01T00:00:00"
            ],
            [
             18.94,
             "2010-02-01T00:00:00"
            ],
            [
             18.59,
             "2010-02-01T00:00:00"
            ],
            [
             18.79,
             "2010-02-01T00:00:00"
            ],
            [
             18.97,
             "2010-02-01T00:00:00"
            ],
            [
             18.76,
             "2010-02-01T00:00:00"
            ],
            [
             19.67,
             "2010-02-01T00:00:00"
            ]
           ],
           "hovertemplate": "<b>%{hovertext}</b><br><br>animation_frame=2010-02-01<br>Temperature oC=%{marker.color}<br>Latitude_dd=%{lat}<br>Longitude_dd=%{lon}<br>Date=%{customdata[1]}<extra></extra>",
           "hovertext": [
            "askar",
            "bapco",
            "fasht tighalib",
            "ghumais",
            "jabbari",
            "mashtan",
            "qassar noon",
            "msoor"
           ],
           "lat": [
            26.05994444,
            26.108525,
            25.95768056,
            26.03835,
            25.917225,
            25.84470833,
            25.81586944,
            26.08035
           ],
           "legendgroup": "",
           "lon": [
            50.63189722,
            50.64105,
            50.71598889,
            50.86679444,
            50.66624167,
            50.68702778,
            50.63698056,
            50.70566944
           ],
           "marker": {
            "color": [
             19.15,
             19.69,
             18.94,
             18.59,
             18.79,
             18.97,
             18.76,
             19.67
            ],
            "coloraxis": "coloraxis",
            "size": [
             19.15,
             19.69,
             18.94,
             18.59,
             18.79,
             18.97,
             18.76,
             19.67
            ],
            "sizemode": "area",
            "sizeref": 0.1591111111111111
           },
           "mode": "markers",
           "name": "",
           "showlegend": false,
           "subplot": "mapbox",
           "type": "scattermapbox"
          }
         ],
         "name": "2010-02-01"
        },
        {
         "data": [
          {
           "customdata": [
            [
             26.56,
             "2010-04-18T00:00:00"
            ],
            [
             26.7,
             "2010-04-18T00:00:00"
            ],
            [
             26.62,
             "2010-04-18T00:00:00"
            ],
            [
             26.15,
             "2010-04-18T00:00:00"
            ],
            [
             26.32,
             "2010-04-18T00:00:00"
            ],
            [
             26.72,
             "2010-04-18T00:00:00"
            ],
            [
             26.44,
             "2010-04-18T00:00:00"
            ],
            [
             26.62,
             "2010-04-18T00:00:00"
            ]
           ],
           "hovertemplate": "<b>%{hovertext}</b><br><br>animation_frame=2010-04-18<br>Temperature oC=%{marker.color}<br>Latitude_dd=%{lat}<br>Longitude_dd=%{lon}<br>Date=%{customdata[1]}<extra></extra>",
           "hovertext": [
            "askar",
            "bapco",
            "fasht tighalib",
            "ghumais",
            "jabbari",
            "mashtan",
            "qassar noon",
            "msoor"
           ],
           "lat": [
            26.05994444,
            26.108525,
            25.95768056,
            26.03835,
            25.917225,
            25.84470833,
            25.81586944,
            26.08035
           ],
           "legendgroup": "",
           "lon": [
            50.63189722,
            50.64105,
            50.71598889,
            50.86679444,
            50.66624167,
            50.68702778,
            50.63698056,
            50.70566944
           ],
           "marker": {
            "color": [
             26.56,
             26.7,
             26.62,
             26.15,
             26.32,
             26.72,
             26.44,
             26.62
            ],
            "coloraxis": "coloraxis",
            "size": [
             26.56,
             26.7,
             26.62,
             26.15,
             26.32,
             26.72,
             26.44,
             26.62
            ],
            "sizemode": "area",
            "sizeref": 0.1591111111111111
           },
           "mode": "markers",
           "name": "",
           "showlegend": false,
           "subplot": "mapbox",
           "type": "scattermapbox"
          }
         ],
         "name": "2010-04-18"
        },
        {
         "data": [
          {
           "customdata": [
            [
             30.98,
             "2010-07-07T00:00:00"
            ],
            [
             31.97,
             "2010-07-07T00:00:00"
            ],
            [
             31.41,
             "2010-07-07T00:00:00"
            ],
            [
             31.61,
             "2010-07-07T00:00:00"
            ],
            [
             31.24,
             "2010-07-07T00:00:00"
            ],
            [
             31.88,
             "2010-07-07T00:00:00"
            ],
            [
             31.72,
             "2010-07-07T00:00:00"
            ],
            [
             31.56,
             "2010-07-07T00:00:00"
            ]
           ],
           "hovertemplate": "<b>%{hovertext}</b><br><br>animation_frame=2010-07-07<br>Temperature oC=%{marker.color}<br>Latitude_dd=%{lat}<br>Longitude_dd=%{lon}<br>Date=%{customdata[1]}<extra></extra>",
           "hovertext": [
            "askar",
            "bapco",
            "fasht tighalib",
            "ghumais",
            "jabbari",
            "mashtan",
            "qassar noon",
            "msoor"
           ],
           "lat": [
            26.05994444,
            26.108525,
            25.95768056,
            26.03835,
            25.917225,
            25.84470833,
            25.81586944,
            26.08035
           ],
           "legendgroup": "",
           "lon": [
            50.63189722,
            50.64105,
            50.71598889,
            50.86679444,
            50.66624167,
            50.68702778,
            50.63698056,
            50.70566944
           ],
           "marker": {
            "color": [
             30.98,
             31.97,
             31.41,
             31.61,
             31.24,
             31.88,
             31.72,
             31.56
            ],
            "coloraxis": "coloraxis",
            "size": [
             30.98,
             31.97,
             31.41,
             31.61,
             31.24,
             31.88,
             31.72,
             31.56
            ],
            "sizemode": "area",
            "sizeref": 0.1591111111111111
           },
           "mode": "markers",
           "name": "",
           "showlegend": false,
           "subplot": "mapbox",
           "type": "scattermapbox"
          }
         ],
         "name": "2010-07-07"
        },
        {
         "data": [
          {
           "customdata": [
            [
             31.58,
             "2010-10-10T00:00:00"
            ],
            [
             31.77,
             "2010-10-10T00:00:00"
            ],
            [
             31.52,
             "2010-10-10T00:00:00"
            ],
            [
             31.45,
             "2010-10-10T00:00:00"
            ],
            [
             31.62,
             "2010-10-10T00:00:00"
            ],
            [
             31.43,
             "2010-10-10T00:00:00"
            ],
            [
             31.45,
             "2010-10-10T00:00:00"
            ],
            [
             31.22,
             "2010-10-10T00:00:00"
            ]
           ],
           "hovertemplate": "<b>%{hovertext}</b><br><br>animation_frame=2010-10-10<br>Temperature oC=%{marker.color}<br>Latitude_dd=%{lat}<br>Longitude_dd=%{lon}<br>Date=%{customdata[1]}<extra></extra>",
           "hovertext": [
            "askar",
            "bapco",
            "fasht tighalib",
            "ghumais",
            "jabbari",
            "mashtan",
            "qassar noon",
            "msoor"
           ],
           "lat": [
            26.05994444,
            26.108525,
            25.95768056,
            26.03835,
            25.917225,
            25.84470833,
            25.81586944,
            26.08035
           ],
           "legendgroup": "",
           "lon": [
            50.63189722,
            50.64105,
            50.71598889,
            50.86679444,
            50.66624167,
            50.68702778,
            50.63698056,
            50.70566944
           ],
           "marker": {
            "color": [
             31.58,
             31.77,
             31.52,
             31.45,
             31.62,
             31.43,
             31.45,
             31.22
            ],
            "coloraxis": "coloraxis",
            "size": [
             31.58,
             31.77,
             31.52,
             31.45,
             31.62,
             31.43,
             31.45,
             31.22
            ],
            "sizemode": "area",
            "sizeref": 0.1591111111111111
           },
           "mode": "markers",
           "name": "",
           "showlegend": false,
           "subplot": "mapbox",
           "type": "scattermapbox"
          }
         ],
         "name": "2010-10-10"
        },
        {
         "data": [
          {
           "customdata": [
            [
             17.86,
             "2011-01-20T00:00:00"
            ],
            [
             17.76,
             "2011-01-20T00:00:00"
            ],
            [
             17.44,
             "2011-01-20T00:00:00"
            ],
            [
             17.33,
             "2011-01-20T00:00:00"
            ],
            [
             17.15,
             "2011-01-20T00:00:00"
            ],
            [
             17.2,
             "2011-01-20T00:00:00"
            ],
            [
             17.39,
             "2011-01-20T00:00:00"
            ],
            [
             17.7,
             "2011-01-20T00:00:00"
            ],
            [
             17.42,
             "2011-01-20T00:00:00"
            ]
           ],
           "hovertemplate": "<b>%{hovertext}</b><br><br>animation_frame=2011-01-20<br>Temperature oC=%{marker.color}<br>Latitude_dd=%{lat}<br>Longitude_dd=%{lon}<br>Date=%{customdata[1]}<extra></extra>",
           "hovertext": [
            "askar",
            "bapco",
            "fasht tighalib",
            "ghumais",
            "jabbari",
            "mashtan",
            "qassar noon",
            "al gaha",
            "msoor"
           ],
           "lat": [
            26.05994444,
            26.108525,
            25.95768056,
            26.03835,
            25.917225,
            25.84470833,
            25.81586944,
            26.13141667,
            26.08035
           ],
           "legendgroup": "",
           "lon": [
            50.63189722,
            50.64105,
            50.71598889,
            50.86679444,
            50.66624167,
            50.68702778,
            50.63698056,
            50.67534167,
            50.70566944
           ],
           "marker": {
            "color": [
             17.86,
             17.76,
             17.44,
             17.33,
             17.15,
             17.2,
             17.39,
             17.7,
             17.42
            ],
            "coloraxis": "coloraxis",
            "size": [
             17.86,
             17.76,
             17.44,
             17.33,
             17.15,
             17.2,
             17.39,
             17.7,
             17.42
            ],
            "sizemode": "area",
            "sizeref": 0.1591111111111111
           },
           "mode": "markers",
           "name": "",
           "showlegend": false,
           "subplot": "mapbox",
           "type": "scattermapbox"
          }
         ],
         "name": "2011-01-20"
        },
        {
         "data": [
          {
           "customdata": [
            [
             26.03,
             "2011-04-24T00:00:00"
            ],
            [
             26.12,
             "2011-04-24T00:00:00"
            ],
            [
             25.26,
             "2011-04-24T00:00:00"
            ],
            [
             25.4,
             "2011-04-24T00:00:00"
            ],
            [
             24.97,
             "2011-04-24T00:00:00"
            ],
            [
             25.4,
             "2011-04-24T00:00:00"
            ],
            [
             24.5,
             "2011-04-24T00:00:00"
            ],
            [
             25.66,
             "2011-04-24T00:00:00"
            ],
            [
             26.42,
             "2011-04-24T00:00:00"
            ]
           ],
           "hovertemplate": "<b>%{hovertext}</b><br><br>animation_frame=2011-04-24<br>Temperature oC=%{marker.color}<br>Latitude_dd=%{lat}<br>Longitude_dd=%{lon}<br>Date=%{customdata[1]}<extra></extra>",
           "hovertext": [
            "askar",
            "bapco",
            "fasht tighalib",
            "ghumais",
            "jabbari",
            "mashtan",
            "qassar noon",
            "al gaha",
            "msoor"
           ],
           "lat": [
            26.05994444,
            26.108525,
            25.95768056,
            26.03835,
            25.917225,
            25.84470833,
            25.81586944,
            26.13141667,
            26.08035
           ],
           "legendgroup": "",
           "lon": [
            50.63189722,
            50.64105,
            50.71598889,
            50.86679444,
            50.66624167,
            50.68702778,
            50.63698056,
            50.67534167,
            50.70566944
           ],
           "marker": {
            "color": [
             26.03,
             26.12,
             25.26,
             25.4,
             24.97,
             25.4,
             24.5,
             25.66,
             26.42
            ],
            "coloraxis": "coloraxis",
            "size": [
             26.03,
             26.12,
             25.26,
             25.4,
             24.97,
             25.4,
             24.5,
             25.66,
             26.42
            ],
            "sizemode": "area",
            "sizeref": 0.1591111111111111
           },
           "mode": "markers",
           "name": "",
           "showlegend": false,
           "subplot": "mapbox",
           "type": "scattermapbox"
          }
         ],
         "name": "2011-04-24"
        },
        {
         "data": [
          {
           "customdata": [
            [
             32.11,
             "2011-07-10T00:00:00"
            ],
            [
             32.17,
             "2011-07-10T00:00:00"
            ],
            [
             31.81,
             "2011-07-10T00:00:00"
            ],
            [
             31.51,
             "2011-07-10T00:00:00"
            ],
            [
             31.69,
             "2011-07-10T00:00:00"
            ],
            [
             32.65,
             "2011-07-10T00:00:00"
            ],
            [
             32.61,
             "2011-07-10T00:00:00"
            ],
            [
             32.26,
             "2011-07-10T00:00:00"
            ],
            [
             31.9,
             "2011-07-10T00:00:00"
            ]
           ],
           "hovertemplate": "<b>%{hovertext}</b><br><br>animation_frame=2011-07-10<br>Temperature oC=%{marker.color}<br>Latitude_dd=%{lat}<br>Longitude_dd=%{lon}<br>Date=%{customdata[1]}<extra></extra>",
           "hovertext": [
            "askar",
            "bapco",
            "fasht tighalib",
            "ghumais",
            "jabbari",
            "mashtan",
            "qassar noon",
            "al gaha",
            "msoor"
           ],
           "lat": [
            26.05994444,
            26.108525,
            25.95768056,
            26.03835,
            25.917225,
            25.84470833,
            25.81586944,
            26.13141667,
            26.08035
           ],
           "legendgroup": "",
           "lon": [
            50.63189722,
            50.64105,
            50.71598889,
            50.86679444,
            50.66624167,
            50.68702778,
            50.63698056,
            50.67534167,
            50.70566944
           ],
           "marker": {
            "color": [
             32.11,
             32.17,
             31.81,
             31.51,
             31.69,
             32.65,
             32.61,
             32.26,
             31.9
            ],
            "coloraxis": "coloraxis",
            "size": [
             32.11,
             32.17,
             31.81,
             31.51,
             31.69,
             32.65,
             32.61,
             32.26,
             31.9
            ],
            "sizemode": "area",
            "sizeref": 0.1591111111111111
           },
           "mode": "markers",
           "name": "",
           "showlegend": false,
           "subplot": "mapbox",
           "type": "scattermapbox"
          }
         ],
         "name": "2011-07-10"
        },
        {
         "data": [
          {
           "customdata": [
            [
             28.78,
             "2011-10-09T00:00:00"
            ],
            [
             29.56,
             "2011-10-09T00:00:00"
            ],
            [
             29.18,
             "2011-10-09T00:00:00"
            ],
            [
             28.81,
             "2011-10-09T00:00:00"
            ],
            [
             29.12,
             "2011-10-09T00:00:00"
            ],
            [
             28.96,
             "2011-10-09T00:00:00"
            ],
            [
             29.27,
             "2011-10-09T00:00:00"
            ],
            [
             29.07,
             "2011-10-09T00:00:00"
            ],
            [
             28.68,
             "2011-10-09T00:00:00"
            ]
           ],
           "hovertemplate": "<b>%{hovertext}</b><br><br>animation_frame=2011-10-09<br>Temperature oC=%{marker.color}<br>Latitude_dd=%{lat}<br>Longitude_dd=%{lon}<br>Date=%{customdata[1]}<extra></extra>",
           "hovertext": [
            "askar",
            "bapco",
            "fasht tighalib",
            "ghumais",
            "jabbari",
            "mashtan",
            "qassar noon",
            "al gaha",
            "msoor"
           ],
           "lat": [
            26.05994444,
            26.108525,
            25.95768056,
            26.03835,
            25.917225,
            25.84470833,
            25.81586944,
            26.13141667,
            26.08035
           ],
           "legendgroup": "",
           "lon": [
            50.63189722,
            50.64105,
            50.71598889,
            50.86679444,
            50.66624167,
            50.68702778,
            50.63698056,
            50.67534167,
            50.70566944
           ],
           "marker": {
            "color": [
             28.78,
             29.56,
             29.18,
             28.81,
             29.12,
             28.96,
             29.27,
             29.07,
             28.68
            ],
            "coloraxis": "coloraxis",
            "size": [
             28.78,
             29.56,
             29.18,
             28.81,
             29.12,
             28.96,
             29.27,
             29.07,
             28.68
            ],
            "sizemode": "area",
            "sizeref": 0.1591111111111111
           },
           "mode": "markers",
           "name": "",
           "showlegend": false,
           "subplot": "mapbox",
           "type": "scattermapbox"
          }
         ],
         "name": "2011-10-09"
        },
        {
         "data": [
          {
           "customdata": [
            [
             17,
             "2012-01-16T00:00:00"
            ],
            [
             17.7,
             "2012-01-16T00:00:00"
            ],
            [
             17.71,
             "2012-01-16T00:00:00"
            ],
            [
             17.57,
             "2012-01-16T00:00:00"
            ],
            [
             17.75,
             "2012-01-16T00:00:00"
            ],
            [
             17.11,
             "2012-01-16T00:00:00"
            ],
            [
             16.9,
             "2012-01-16T00:00:00"
            ],
            [
             18.38,
             "2012-01-16T00:00:00"
            ],
            [
             17.3,
             "2012-01-16T00:00:00"
            ]
           ],
           "hovertemplate": "<b>%{hovertext}</b><br><br>animation_frame=2012-01-16<br>Temperature oC=%{marker.color}<br>Latitude_dd=%{lat}<br>Longitude_dd=%{lon}<br>Date=%{customdata[1]}<extra></extra>",
           "hovertext": [
            "askar",
            "bapco",
            "fasht tighalib",
            "ghumais",
            "jabbari",
            "mashtan",
            "qassar noon",
            "al gaha",
            "msoor"
           ],
           "lat": [
            26.05994444,
            26.108525,
            25.95768056,
            26.03835,
            25.917225,
            25.84470833,
            25.81586944,
            26.13141667,
            26.08035
           ],
           "legendgroup": "",
           "lon": [
            50.63189722,
            50.64105,
            50.71598889,
            50.86679444,
            50.66624167,
            50.68702778,
            50.63698056,
            50.67534167,
            50.70566944
           ],
           "marker": {
            "color": [
             17,
             17.7,
             17.71,
             17.57,
             17.75,
             17.11,
             16.9,
             18.38,
             17.3
            ],
            "coloraxis": "coloraxis",
            "size": [
             17,
             17.7,
             17.71,
             17.57,
             17.75,
             17.11,
             16.9,
             18.38,
             17.3
            ],
            "sizemode": "area",
            "sizeref": 0.1591111111111111
           },
           "mode": "markers",
           "name": "",
           "showlegend": false,
           "subplot": "mapbox",
           "type": "scattermapbox"
          }
         ],
         "name": "2012-01-16"
        },
        {
         "data": [
          {
           "customdata": [
            [
             24.19,
             "2012-04-15T00:00:00"
            ],
            [
             24.13,
             "2012-04-15T00:00:00"
            ],
            [
             24.11,
             "2012-04-15T00:00:00"
            ],
            [
             24.15,
             "2012-04-15T00:00:00"
            ],
            [
             24.05,
             "2012-04-15T00:00:00"
            ],
            [
             23.58,
             "2012-04-15T00:00:00"
            ],
            [
             23.41,
             "2012-04-15T00:00:00"
            ],
            [
             25.65,
             "2012-04-15T00:00:00"
            ],
            [
             24.22,
             "2012-04-15T00:00:00"
            ]
           ],
           "hovertemplate": "<b>%{hovertext}</b><br><br>animation_frame=2012-04-15<br>Temperature oC=%{marker.color}<br>Latitude_dd=%{lat}<br>Longitude_dd=%{lon}<br>Date=%{customdata[1]}<extra></extra>",
           "hovertext": [
            "askar",
            "bapco",
            "fasht tighalib",
            "ghumais",
            "jabbari",
            "mashtan",
            "qassar noon",
            "al gaha",
            "msoor"
           ],
           "lat": [
            26.05994444,
            26.108525,
            25.95768056,
            26.03835,
            25.917225,
            25.84470833,
            25.81586944,
            26.13141667,
            26.08035
           ],
           "legendgroup": "",
           "lon": [
            50.63189722,
            50.64105,
            50.71598889,
            50.86679444,
            50.66624167,
            50.68702778,
            50.63698056,
            50.67534167,
            50.70566944
           ],
           "marker": {
            "color": [
             24.19,
             24.13,
             24.11,
             24.15,
             24.05,
             23.58,
             23.41,
             25.65,
             24.22
            ],
            "coloraxis": "coloraxis",
            "size": [
             24.19,
             24.13,
             24.11,
             24.15,
             24.05,
             23.58,
             23.41,
             25.65,
             24.22
            ],
            "sizemode": "area",
            "sizeref": 0.1591111111111111
           },
           "mode": "markers",
           "name": "",
           "showlegend": false,
           "subplot": "mapbox",
           "type": "scattermapbox"
          }
         ],
         "name": "2012-04-15"
        },
        {
         "data": [
          {
           "customdata": [
            [
             29.35,
             "2012-07-09T00:00:00"
            ],
            [
             30.35,
             "2012-07-09T00:00:00"
            ],
            [
             30,
             "2012-07-09T00:00:00"
            ],
            [
             30.13,
             "2012-07-09T00:00:00"
            ],
            [
             30.23,
             "2012-07-09T00:00:00"
            ],
            [
             30.49,
             "2012-07-09T00:00:00"
            ],
            [
             30.02,
             "2012-07-09T00:00:00"
            ],
            [
             30.52,
             "2012-07-09T00:00:00"
            ],
            [
             30.34,
             "2012-07-09T00:00:00"
            ]
           ],
           "hovertemplate": "<b>%{hovertext}</b><br><br>animation_frame=2012-07-09<br>Temperature oC=%{marker.color}<br>Latitude_dd=%{lat}<br>Longitude_dd=%{lon}<br>Date=%{customdata[1]}<extra></extra>",
           "hovertext": [
            "askar",
            "bapco",
            "fasht tighalib",
            "ghumais",
            "jabbari",
            "mashtan",
            "qassar noon",
            "al gaha",
            "msoor"
           ],
           "lat": [
            26.05994444,
            26.108525,
            25.95768056,
            26.03835,
            25.917225,
            25.84470833,
            25.81586944,
            26.13141667,
            26.08035
           ],
           "legendgroup": "",
           "lon": [
            50.63189722,
            50.64105,
            50.71598889,
            50.86679444,
            50.66624167,
            50.68702778,
            50.63698056,
            50.67534167,
            50.70566944
           ],
           "marker": {
            "color": [
             29.35,
             30.35,
             30,
             30.13,
             30.23,
             30.49,
             30.02,
             30.52,
             30.34
            ],
            "coloraxis": "coloraxis",
            "size": [
             29.35,
             30.35,
             30,
             30.13,
             30.23,
             30.49,
             30.02,
             30.52,
             30.34
            ],
            "sizemode": "area",
            "sizeref": 0.1591111111111111
           },
           "mode": "markers",
           "name": "",
           "showlegend": false,
           "subplot": "mapbox",
           "type": "scattermapbox"
          }
         ],
         "name": "2012-07-09"
        },
        {
         "data": [
          {
           "customdata": [
            [
             31.75,
             "2012-10-08T00:00:00"
            ],
            [
             31.97,
             "2012-10-08T00:00:00"
            ],
            [
             31.51,
             "2012-10-08T00:00:00"
            ],
            [
             31.72,
             "2012-10-08T00:00:00"
            ],
            [
             31.64,
             "2012-10-08T00:00:00"
            ],
            [
             31.63,
             "2012-10-08T00:00:00"
            ],
            [
             31.51,
             "2012-10-08T00:00:00"
            ],
            [
             31.68,
             "2012-10-08T00:00:00"
            ]
           ],
           "hovertemplate": "<b>%{hovertext}</b><br><br>animation_frame=2012-10-08<br>Temperature oC=%{marker.color}<br>Latitude_dd=%{lat}<br>Longitude_dd=%{lon}<br>Date=%{customdata[1]}<extra></extra>",
           "hovertext": [
            "askar",
            "bapco",
            "fasht tighalib",
            "ghumais",
            "jabbari",
            "mashtan",
            "qassar noon",
            "msoor"
           ],
           "lat": [
            26.05994444,
            26.108525,
            25.95768056,
            26.03835,
            25.917225,
            25.84470833,
            25.81586944,
            26.08035
           ],
           "legendgroup": "",
           "lon": [
            50.63189722,
            50.64105,
            50.71598889,
            50.86679444,
            50.66624167,
            50.68702778,
            50.63698056,
            50.70566944
           ],
           "marker": {
            "color": [
             31.75,
             31.97,
             31.51,
             31.72,
             31.64,
             31.63,
             31.51,
             31.68
            ],
            "coloraxis": "coloraxis",
            "size": [
             31.75,
             31.97,
             31.51,
             31.72,
             31.64,
             31.63,
             31.51,
             31.68
            ],
            "sizemode": "area",
            "sizeref": 0.1591111111111111
           },
           "mode": "markers",
           "name": "",
           "showlegend": false,
           "subplot": "mapbox",
           "type": "scattermapbox"
          }
         ],
         "name": "2012-10-08"
        },
        {
         "data": [
          {
           "customdata": [
            [
             16.59,
             "2013-01-20T00:00:00"
            ],
            [
             17.19,
             "2013-01-20T00:00:00"
            ],
            [
             16.63,
             "2013-01-20T00:00:00"
            ],
            [
             16.08,
             "2013-01-20T00:00:00"
            ],
            [
             16.36,
             "2013-01-20T00:00:00"
            ],
            [
             16.35,
             "2013-01-20T00:00:00"
            ],
            [
             16.1,
             "2013-01-20T00:00:00"
            ],
            [
             17.45,
             "2013-01-20T00:00:00"
            ],
            [
             17.15,
             "2013-01-20T00:00:00"
            ]
           ],
           "hovertemplate": "<b>%{hovertext}</b><br><br>animation_frame=2013-01-20<br>Temperature oC=%{marker.color}<br>Latitude_dd=%{lat}<br>Longitude_dd=%{lon}<br>Date=%{customdata[1]}<extra></extra>",
           "hovertext": [
            "askar",
            "bapco",
            "fasht tighalib",
            "ghumais",
            "jabbari",
            "mashtan",
            "qassar noon",
            "al gaha",
            "msoor"
           ],
           "lat": [
            26.05994444,
            26.108525,
            25.95768056,
            26.03835,
            25.917225,
            25.84470833,
            25.81586944,
            26.13141667,
            26.08035
           ],
           "legendgroup": "",
           "lon": [
            50.63189722,
            50.64105,
            50.71598889,
            50.86679444,
            50.66624167,
            50.68702778,
            50.63698056,
            50.67534167,
            50.70566944
           ],
           "marker": {
            "color": [
             16.59,
             17.19,
             16.63,
             16.08,
             16.36,
             16.35,
             16.1,
             17.45,
             17.15
            ],
            "coloraxis": "coloraxis",
            "size": [
             16.59,
             17.19,
             16.63,
             16.08,
             16.36,
             16.35,
             16.1,
             17.45,
             17.15
            ],
            "sizemode": "area",
            "sizeref": 0.1591111111111111
           },
           "mode": "markers",
           "name": "",
           "showlegend": false,
           "subplot": "mapbox",
           "type": "scattermapbox"
          }
         ],
         "name": "2013-01-20"
        },
        {
         "data": [
          {
           "customdata": [
            [
             25.96,
             "2013-04-14T00:00:00"
            ],
            [
             25.35,
             "2013-04-14T00:00:00"
            ],
            [
             24.96,
             "2013-04-14T00:00:00"
            ]
           ],
           "hovertemplate": "<b>%{hovertext}</b><br><br>animation_frame=2013-04-14<br>Temperature oC=%{marker.color}<br>Latitude_dd=%{lat}<br>Longitude_dd=%{lon}<br>Date=%{customdata[1]}<extra></extra>",
           "hovertext": [
            "askar",
            "bapco",
            "jabbari"
           ],
           "lat": [
            26.05994444,
            26.108525,
            25.917225
           ],
           "legendgroup": "",
           "lon": [
            50.63189722,
            50.64105,
            50.66624167
           ],
           "marker": {
            "color": [
             25.96,
             25.35,
             24.96
            ],
            "coloraxis": "coloraxis",
            "size": [
             25.96,
             25.35,
             24.96
            ],
            "sizemode": "area",
            "sizeref": 0.1591111111111111
           },
           "mode": "markers",
           "name": "",
           "showlegend": false,
           "subplot": "mapbox",
           "type": "scattermapbox"
          }
         ],
         "name": "2013-04-14"
        },
        {
         "data": [
          {
           "customdata": [
            [
             33.49,
             "2013-08-25T00:00:00"
            ],
            [
             33.92,
             "2013-08-25T00:00:00"
            ],
            [
             34.26,
             "2013-08-25T00:00:00"
            ],
            [
             34.21,
             "2013-08-25T00:00:00"
            ],
            [
             34.19,
             "2013-08-25T00:00:00"
            ],
            [
             33.93,
             "2013-08-25T00:00:00"
            ],
            [
             34.16,
             "2013-08-25T00:00:00"
            ],
            [
             34.66,
             "2013-08-25T00:00:00"
            ],
            [
             35.72,
             "2013-08-25T00:00:00"
            ]
           ],
           "hovertemplate": "<b>%{hovertext}</b><br><br>animation_frame=2013-08-25<br>Temperature oC=%{marker.color}<br>Latitude_dd=%{lat}<br>Longitude_dd=%{lon}<br>Date=%{customdata[1]}<extra></extra>",
           "hovertext": [
            "askar",
            "bapco",
            "fasht tighalib",
            "ghumais",
            "jabbari",
            "mashtan",
            "qassar noon",
            "al gaha",
            "msoor"
           ],
           "lat": [
            26.05994444,
            26.108525,
            25.95768056,
            26.03835,
            25.917225,
            25.84470833,
            25.81586944,
            26.13141667,
            26.08035
           ],
           "legendgroup": "",
           "lon": [
            50.63189722,
            50.64105,
            50.71598889,
            50.86679444,
            50.66624167,
            50.68702778,
            50.63698056,
            50.67534167,
            50.70566944
           ],
           "marker": {
            "color": [
             33.49,
             33.92,
             34.26,
             34.21,
             34.19,
             33.93,
             34.16,
             34.66,
             35.72
            ],
            "coloraxis": "coloraxis",
            "size": [
             33.49,
             33.92,
             34.26,
             34.21,
             34.19,
             33.93,
             34.16,
             34.66,
             35.72
            ],
            "sizemode": "area",
            "sizeref": 0.1591111111111111
           },
           "mode": "markers",
           "name": "",
           "showlegend": false,
           "subplot": "mapbox",
           "type": "scattermapbox"
          }
         ],
         "name": "2013-08-25"
        },
        {
         "data": [
          {
           "customdata": [
            [
             27.37,
             "2013-11-03T00:00:00"
            ],
            [
             27.52,
             "2013-11-03T00:00:00"
            ],
            [
             27,
             "2013-11-03T00:00:00"
            ],
            [
             26.78,
             "2013-11-03T00:00:00"
            ],
            [
             26.79,
             "2013-11-03T00:00:00"
            ],
            [
             27.03,
             "2013-11-03T00:00:00"
            ],
            [
             27.01,
             "2013-11-03T00:00:00"
            ],
            [
             27.08,
             "2013-11-03T00:00:00"
            ],
            [
             27.2,
             "2013-11-03T00:00:00"
            ]
           ],
           "hovertemplate": "<b>%{hovertext}</b><br><br>animation_frame=2013-11-03<br>Temperature oC=%{marker.color}<br>Latitude_dd=%{lat}<br>Longitude_dd=%{lon}<br>Date=%{customdata[1]}<extra></extra>",
           "hovertext": [
            "askar",
            "bapco",
            "fasht tighalib",
            "ghumais",
            "jabbari",
            "mashtan",
            "qassar noon",
            "al gaha",
            "msoor"
           ],
           "lat": [
            26.05994444,
            26.108525,
            25.95768056,
            26.03835,
            25.917225,
            25.84470833,
            25.81586944,
            26.13141667,
            26.08035
           ],
           "legendgroup": "",
           "lon": [
            50.63189722,
            50.64105,
            50.71598889,
            50.86679444,
            50.66624167,
            50.68702778,
            50.63698056,
            50.67534167,
            50.70566944
           ],
           "marker": {
            "color": [
             27.37,
             27.52,
             27,
             26.78,
             26.79,
             27.03,
             27.01,
             27.08,
             27.2
            ],
            "coloraxis": "coloraxis",
            "size": [
             27.37,
             27.52,
             27,
             26.78,
             26.79,
             27.03,
             27.01,
             27.08,
             27.2
            ],
            "sizemode": "area",
            "sizeref": 0.1591111111111111
           },
           "mode": "markers",
           "name": "",
           "showlegend": false,
           "subplot": "mapbox",
           "type": "scattermapbox"
          }
         ],
         "name": "2013-11-03"
        },
        {
         "data": [
          {
           "customdata": [
            [
             16.84,
             "2014-01-19T00:00:00"
            ],
            [
             16.75,
             "2014-01-19T00:00:00"
            ],
            [
             16.34,
             "2014-01-19T00:00:00"
            ],
            [
             16.35,
             "2014-01-19T00:00:00"
            ],
            [
             16.19,
             "2014-01-19T00:00:00"
            ],
            [
             16.13,
             "2014-01-19T00:00:00"
            ],
            [
             16.3,
             "2014-01-19T00:00:00"
            ],
            [
             16.55,
             "2014-01-19T00:00:00"
            ],
            [
             16.04,
             "2014-01-19T00:00:00"
            ]
           ],
           "hovertemplate": "<b>%{hovertext}</b><br><br>animation_frame=2014-01-19<br>Temperature oC=%{marker.color}<br>Latitude_dd=%{lat}<br>Longitude_dd=%{lon}<br>Date=%{customdata[1]}<extra></extra>",
           "hovertext": [
            "askar",
            "bapco",
            "fasht tighalib",
            "ghumais",
            "jabbari",
            "mashtan",
            "qassar noon",
            "al gaha",
            "msoor"
           ],
           "lat": [
            26.05994444,
            26.108525,
            25.95768056,
            26.03835,
            25.917225,
            25.84470833,
            25.81586944,
            26.13141667,
            26.08035
           ],
           "legendgroup": "",
           "lon": [
            50.63189722,
            50.64105,
            50.71598889,
            50.86679444,
            50.66624167,
            50.68702778,
            50.63698056,
            50.67534167,
            50.70566944
           ],
           "marker": {
            "color": [
             16.84,
             16.75,
             16.34,
             16.35,
             16.19,
             16.13,
             16.3,
             16.55,
             16.04
            ],
            "coloraxis": "coloraxis",
            "size": [
             16.84,
             16.75,
             16.34,
             16.35,
             16.19,
             16.13,
             16.3,
             16.55,
             16.04
            ],
            "sizemode": "area",
            "sizeref": 0.1591111111111111
           },
           "mode": "markers",
           "name": "",
           "showlegend": false,
           "subplot": "mapbox",
           "type": "scattermapbox"
          }
         ],
         "name": "2014-01-19"
        },
        {
         "data": [
          {
           "customdata": [
            [
             26.7,
             "2014-05-05T00:00:00"
            ],
            [
             28.12,
             "2014-05-05T00:00:00"
            ],
            [
             27.73,
             "2014-05-05T00:00:00"
            ],
            [
             27.64,
             "2014-05-05T00:00:00"
            ],
            [
             27.75,
             "2014-05-05T00:00:00"
            ],
            [
             27.46,
             "2014-05-05T00:00:00"
            ],
            [
             26.68,
             "2014-05-05T00:00:00"
            ],
            [
             26.83,
             "2014-05-05T00:00:00"
            ],
            [
             26.57,
             "2014-05-05T00:00:00"
            ]
           ],
           "hovertemplate": "<b>%{hovertext}</b><br><br>animation_frame=2014-05-05<br>Temperature oC=%{marker.color}<br>Latitude_dd=%{lat}<br>Longitude_dd=%{lon}<br>Date=%{customdata[1]}<extra></extra>",
           "hovertext": [
            "askar",
            "bapco",
            "fasht tighalib",
            "ghumais",
            "jabbari",
            "mashtan",
            "qassar noon",
            "al gaha",
            "msoor"
           ],
           "lat": [
            26.05994444,
            26.108525,
            25.95768056,
            26.03835,
            25.917225,
            25.84470833,
            25.81586944,
            26.13141667,
            26.08035
           ],
           "legendgroup": "",
           "lon": [
            50.63189722,
            50.64105,
            50.71598889,
            50.86679444,
            50.66624167,
            50.68702778,
            50.63698056,
            50.67534167,
            50.70566944
           ],
           "marker": {
            "color": [
             26.7,
             28.12,
             27.73,
             27.64,
             27.75,
             27.46,
             26.68,
             26.83,
             26.57
            ],
            "coloraxis": "coloraxis",
            "size": [
             26.7,
             28.12,
             27.73,
             27.64,
             27.75,
             27.46,
             26.68,
             26.83,
             26.57
            ],
            "sizemode": "area",
            "sizeref": 0.1591111111111111
           },
           "mode": "markers",
           "name": "",
           "showlegend": false,
           "subplot": "mapbox",
           "type": "scattermapbox"
          }
         ],
         "name": "2014-05-05"
        },
        {
         "data": [
          {
           "customdata": [
            [
             34.04,
             "2014-08-25T00:00:00"
            ],
            [
             34.48,
             "2014-08-25T00:00:00"
            ],
            [
             34.2,
             "2014-08-25T00:00:00"
            ],
            [
             34.02,
             "2014-08-25T00:00:00"
            ],
            [
             34.24,
             "2014-08-25T00:00:00"
            ],
            [
             34.04,
             "2014-08-25T00:00:00"
            ],
            [
             34.21,
             "2014-08-25T00:00:00"
            ],
            [
             33.64,
             "2014-08-25T00:00:00"
            ],
            [
             34.02,
             "2014-08-25T00:00:00"
            ]
           ],
           "hovertemplate": "<b>%{hovertext}</b><br><br>animation_frame=2014-08-25<br>Temperature oC=%{marker.color}<br>Latitude_dd=%{lat}<br>Longitude_dd=%{lon}<br>Date=%{customdata[1]}<extra></extra>",
           "hovertext": [
            "askar",
            "bapco",
            "fasht tighalib",
            "ghumais",
            "jabbari",
            "mashtan",
            "qassar noon",
            "al gaha",
            "msoor"
           ],
           "lat": [
            26.05994444,
            26.108525,
            25.95768056,
            26.03835,
            25.917225,
            25.84470833,
            25.81586944,
            26.13141667,
            26.08035
           ],
           "legendgroup": "",
           "lon": [
            50.63189722,
            50.64105,
            50.71598889,
            50.86679444,
            50.66624167,
            50.68702778,
            50.63698056,
            50.67534167,
            50.70566944
           ],
           "marker": {
            "color": [
             34.04,
             34.48,
             34.2,
             34.02,
             34.24,
             34.04,
             34.21,
             33.64,
             34.02
            ],
            "coloraxis": "coloraxis",
            "size": [
             34.04,
             34.48,
             34.2,
             34.02,
             34.24,
             34.04,
             34.21,
             33.64,
             34.02
            ],
            "sizemode": "area",
            "sizeref": 0.1591111111111111
           },
           "mode": "markers",
           "name": "",
           "showlegend": false,
           "subplot": "mapbox",
           "type": "scattermapbox"
          }
         ],
         "name": "2014-08-25"
        },
        {
         "data": [
          {
           "customdata": [
            [
             29.87,
             "2014-10-19T00:00:00"
            ],
            [
             30.29,
             "2014-10-19T00:00:00"
            ],
            [
             30.06,
             "2014-10-19T00:00:00"
            ],
            [
             30.57,
             "2014-10-19T00:00:00"
            ],
            [
             30.18,
             "2014-10-19T00:00:00"
            ]
           ],
           "hovertemplate": "<b>%{hovertext}</b><br><br>animation_frame=2014-10-19<br>Temperature oC=%{marker.color}<br>Latitude_dd=%{lat}<br>Longitude_dd=%{lon}<br>Date=%{customdata[1]}<extra></extra>",
           "hovertext": [
            "askar",
            "bapco",
            "al gaha",
            "dam",
            "marina club"
           ],
           "lat": [
            26.05994444,
            26.108525,
            26.13141667,
            26.18792778,
            26.23741389
           ],
           "legendgroup": "",
           "lon": [
            50.63189722,
            50.64105,
            50.67534167,
            50.83459722,
            50.60260278
           ],
           "marker": {
            "color": [
             29.87,
             30.29,
             30.06,
             30.57,
             30.18
            ],
            "coloraxis": "coloraxis",
            "size": [
             29.87,
             30.29,
             30.06,
             30.57,
             30.18
            ],
            "sizemode": "area",
            "sizeref": 0.1591111111111111
           },
           "mode": "markers",
           "name": "",
           "showlegend": false,
           "subplot": "mapbox",
           "type": "scattermapbox"
          }
         ],
         "name": "2014-10-19"
        },
        {
         "data": [
          {
           "customdata": [
            [
             18.11,
             "2015-01-27T00:00:00"
            ],
            [
             18.25,
             "2015-01-27T00:00:00"
            ],
            [
             17.03,
             "2015-01-27T00:00:00"
            ],
            [
             17.41,
             "2015-01-27T00:00:00"
            ],
            [
             17.05,
             "2015-01-27T00:00:00"
            ],
            [
             17.19,
             "2015-01-27T00:00:00"
            ],
            [
             16.95,
             "2015-01-27T00:00:00"
            ],
            [
             17.26,
             "2015-01-27T00:00:00"
            ],
            [
             17.88,
             "2015-01-27T00:00:00"
            ]
           ],
           "hovertemplate": "<b>%{hovertext}</b><br><br>animation_frame=2015-01-27<br>Temperature oC=%{marker.color}<br>Latitude_dd=%{lat}<br>Longitude_dd=%{lon}<br>Date=%{customdata[1]}<extra></extra>",
           "hovertext": [
            "askar",
            "bapco",
            "fasht tighalib",
            "ghumais",
            "jabbari",
            "mashtan",
            "qassar noon",
            "al gaha",
            "msoor"
           ],
           "lat": [
            26.05994444,
            26.108525,
            25.95768056,
            26.03835,
            25.917225,
            25.84470833,
            25.81586944,
            26.13141667,
            26.08035
           ],
           "legendgroup": "",
           "lon": [
            50.63189722,
            50.64105,
            50.71598889,
            50.86679444,
            50.66624167,
            50.68702778,
            50.63698056,
            50.67534167,
            50.70566944
           ],
           "marker": {
            "color": [
             18.11,
             18.25,
             17.03,
             17.41,
             17.05,
             17.19,
             16.95,
             17.26,
             17.88
            ],
            "coloraxis": "coloraxis",
            "size": [
             18.11,
             18.25,
             17.03,
             17.41,
             17.05,
             17.19,
             16.95,
             17.26,
             17.88
            ],
            "sizemode": "area",
            "sizeref": 0.1591111111111111
           },
           "mode": "markers",
           "name": "",
           "showlegend": false,
           "subplot": "mapbox",
           "type": "scattermapbox"
          }
         ],
         "name": "2015-01-27"
        },
        {
         "data": [
          {
           "customdata": [
            [
             21.63,
             "2015-04-15T00:00:00"
            ],
            [
             22.41,
             "2015-04-15T00:00:00"
            ],
            [
             22.9,
             "2015-04-15T00:00:00"
            ],
            [
             22.68,
             "2015-04-15T00:00:00"
            ],
            [
             22.98,
             "2015-04-15T00:00:00"
            ],
            [
             22.72,
             "2015-04-15T00:00:00"
            ],
            [
             22.45,
             "2015-04-15T00:00:00"
            ],
            [
             22.33,
             "2015-04-15T00:00:00"
            ],
            [
             22.05,
             "2015-04-15T00:00:00"
            ]
           ],
           "hovertemplate": "<b>%{hovertext}</b><br><br>animation_frame=2015-04-15<br>Temperature oC=%{marker.color}<br>Latitude_dd=%{lat}<br>Longitude_dd=%{lon}<br>Date=%{customdata[1]}<extra></extra>",
           "hovertext": [
            "askar",
            "bapco",
            "fasht tighalib",
            "ghumais",
            "jabbari",
            "mashtan",
            "qassar noon",
            "al gaha",
            "msoor"
           ],
           "lat": [
            26.05994444,
            26.108525,
            25.95768056,
            26.03835,
            25.917225,
            25.84470833,
            25.81586944,
            26.13141667,
            26.08035
           ],
           "legendgroup": "",
           "lon": [
            50.63189722,
            50.64105,
            50.71598889,
            50.86679444,
            50.66624167,
            50.68702778,
            50.63698056,
            50.67534167,
            50.70566944
           ],
           "marker": {
            "color": [
             21.63,
             22.41,
             22.9,
             22.68,
             22.98,
             22.72,
             22.45,
             22.33,
             22.05
            ],
            "coloraxis": "coloraxis",
            "size": [
             21.63,
             22.41,
             22.9,
             22.68,
             22.98,
             22.72,
             22.45,
             22.33,
             22.05
            ],
            "sizemode": "area",
            "sizeref": 0.1591111111111111
           },
           "mode": "markers",
           "name": "",
           "showlegend": false,
           "subplot": "mapbox",
           "type": "scattermapbox"
          }
         ],
         "name": "2015-04-15"
        },
        {
         "data": [
          {
           "customdata": [
            [
             34.71,
             "2015-08-23T00:00:00"
            ],
            [
             34.93,
             "2015-08-23T00:00:00"
            ],
            [
             34.6,
             "2015-08-23T00:00:00"
            ],
            [
             34.82,
             "2015-08-23T00:00:00"
            ],
            [
             34.59,
             "2015-08-23T00:00:00"
            ],
            [
             34.79,
             "2015-08-23T00:00:00"
            ],
            [
             34.53,
             "2015-08-23T00:00:00"
            ],
            [
             34.81,
             "2015-08-23T00:00:00"
            ],
            [
             34.62,
             "2015-08-23T00:00:00"
            ]
           ],
           "hovertemplate": "<b>%{hovertext}</b><br><br>animation_frame=2015-08-23<br>Temperature oC=%{marker.color}<br>Latitude_dd=%{lat}<br>Longitude_dd=%{lon}<br>Date=%{customdata[1]}<extra></extra>",
           "hovertext": [
            "askar",
            "bapco",
            "fasht tighalib",
            "ghumais",
            "jabbari",
            "mashtan",
            "qassar noon",
            "al gaha",
            "msoor"
           ],
           "lat": [
            26.05994444,
            26.108525,
            25.95768056,
            26.03835,
            25.917225,
            25.84470833,
            25.81586944,
            26.13141667,
            26.08035
           ],
           "legendgroup": "",
           "lon": [
            50.63189722,
            50.64105,
            50.71598889,
            50.86679444,
            50.66624167,
            50.68702778,
            50.63698056,
            50.67534167,
            50.70566944
           ],
           "marker": {
            "color": [
             34.71,
             34.93,
             34.6,
             34.82,
             34.59,
             34.79,
             34.53,
             34.81,
             34.62
            ],
            "coloraxis": "coloraxis",
            "size": [
             34.71,
             34.93,
             34.6,
             34.82,
             34.59,
             34.79,
             34.53,
             34.81,
             34.62
            ],
            "sizemode": "area",
            "sizeref": 0.1591111111111111
           },
           "mode": "markers",
           "name": "",
           "showlegend": false,
           "subplot": "mapbox",
           "type": "scattermapbox"
          }
         ],
         "name": "2015-08-23"
        },
        {
         "data": [
          {
           "customdata": [
            [
             28.76,
             "2015-11-01T00:00:00"
            ],
            [
             28.92,
             "2015-11-01T00:00:00"
            ],
            [
             28.8,
             "2015-11-01T00:00:00"
            ],
            [
             28.99,
             "2015-11-01T00:00:00"
            ],
            [
             28.91,
             "2015-11-01T00:00:00"
            ],
            [
             28.47,
             "2015-11-01T00:00:00"
            ],
            [
             28.91,
             "2015-11-01T00:00:00"
            ],
            [
             29.53,
             "2015-11-01T00:00:00"
            ],
            [
             28.59,
             "2015-11-01T00:00:00"
            ]
           ],
           "hovertemplate": "<b>%{hovertext}</b><br><br>animation_frame=2015-11-01<br>Temperature oC=%{marker.color}<br>Latitude_dd=%{lat}<br>Longitude_dd=%{lon}<br>Date=%{customdata[1]}<extra></extra>",
           "hovertext": [
            "askar",
            "bapco",
            "fasht tighalib",
            "ghumais",
            "jabbari",
            "mashtan",
            "qassar noon",
            "al gaha",
            "msoor"
           ],
           "lat": [
            26.05994444,
            26.108525,
            25.95768056,
            26.03835,
            25.917225,
            25.84470833,
            25.81586944,
            26.13141667,
            26.08035
           ],
           "legendgroup": "",
           "lon": [
            50.63189722,
            50.64105,
            50.71598889,
            50.86679444,
            50.66624167,
            50.68702778,
            50.63698056,
            50.67534167,
            50.70566944
           ],
           "marker": {
            "color": [
             28.76,
             28.92,
             28.8,
             28.99,
             28.91,
             28.47,
             28.91,
             29.53,
             28.59
            ],
            "coloraxis": "coloraxis",
            "size": [
             28.76,
             28.92,
             28.8,
             28.99,
             28.91,
             28.47,
             28.91,
             29.53,
             28.59
            ],
            "sizemode": "area",
            "sizeref": 0.1591111111111111
           },
           "mode": "markers",
           "name": "",
           "showlegend": false,
           "subplot": "mapbox",
           "type": "scattermapbox"
          }
         ],
         "name": "2015-11-01"
        },
        {
         "data": [
          {
           "customdata": [
            [
             18.1,
             "2016-01-17T00:00:00"
            ],
            [
             18.7,
             "2016-01-17T00:00:00"
            ],
            [
             17.8,
             "2016-01-17T00:00:00"
            ],
            [
             17.7,
             "2016-01-17T00:00:00"
            ],
            [
             17.9,
             "2016-01-17T00:00:00"
            ],
            [
             17.8,
             "2016-01-17T00:00:00"
            ],
            [
             18.7,
             "2016-01-17T00:00:00"
            ],
            [
             18.6,
             "2016-01-17T00:00:00"
            ]
           ],
           "hovertemplate": "<b>%{hovertext}</b><br><br>animation_frame=2016-01-17<br>Temperature oC=%{marker.color}<br>Latitude_dd=%{lat}<br>Longitude_dd=%{lon}<br>Date=%{customdata[1]}<extra></extra>",
           "hovertext": [
            "askar",
            "bapco",
            "fasht tighalib",
            "jabbari",
            "mashtan",
            "qassar noon",
            "al gaha",
            "msoor"
           ],
           "lat": [
            26.05994444,
            26.108525,
            25.95768056,
            25.917225,
            25.84470833,
            25.81586944,
            26.13141667,
            26.08035
           ],
           "legendgroup": "",
           "lon": [
            50.63189722,
            50.64105,
            50.71598889,
            50.66624167,
            50.68702778,
            50.63698056,
            50.67534167,
            50.70566944
           ],
           "marker": {
            "color": [
             18.1,
             18.7,
             17.8,
             17.7,
             17.9,
             17.8,
             18.7,
             18.6
            ],
            "coloraxis": "coloraxis",
            "size": [
             18.1,
             18.7,
             17.8,
             17.7,
             17.9,
             17.8,
             18.7,
             18.6
            ],
            "sizemode": "area",
            "sizeref": 0.1591111111111111
           },
           "mode": "markers",
           "name": "",
           "showlegend": false,
           "subplot": "mapbox",
           "type": "scattermapbox"
          }
         ],
         "name": "2016-01-17"
        },
        {
         "data": [
          {
           "customdata": [
            [
             24.3,
             "2016-04-17T00:00:00"
            ],
            [
             24.5,
             "2016-04-17T00:00:00"
            ],
            [
             24.4,
             "2016-04-17T00:00:00"
            ],
            [
             24.8,
             "2016-04-17T00:00:00"
            ],
            [
             24.3,
             "2016-04-17T00:00:00"
            ],
            [
             24.6,
             "2016-04-17T00:00:00"
            ],
            [
             24,
             "2016-04-17T00:00:00"
            ],
            [
             24.1,
             "2016-04-17T00:00:00"
            ],
            [
             24.8,
             "2016-04-17T00:00:00"
            ]
           ],
           "hovertemplate": "<b>%{hovertext}</b><br><br>animation_frame=2016-04-17<br>Temperature oC=%{marker.color}<br>Latitude_dd=%{lat}<br>Longitude_dd=%{lon}<br>Date=%{customdata[1]}<extra></extra>",
           "hovertext": [
            "askar",
            "bapco",
            "fasht tighalib",
            "ghumais",
            "jabbari",
            "mashtan",
            "qassar noon",
            "al gaha",
            "msoor"
           ],
           "lat": [
            26.05994444,
            26.108525,
            25.95768056,
            26.03835,
            25.917225,
            25.84470833,
            25.81586944,
            26.13141667,
            26.08035
           ],
           "legendgroup": "",
           "lon": [
            50.63189722,
            50.64105,
            50.71598889,
            50.86679444,
            50.66624167,
            50.68702778,
            50.63698056,
            50.67534167,
            50.70566944
           ],
           "marker": {
            "color": [
             24.3,
             24.5,
             24.4,
             24.8,
             24.3,
             24.6,
             24,
             24.1,
             24.8
            ],
            "coloraxis": "coloraxis",
            "size": [
             24.3,
             24.5,
             24.4,
             24.8,
             24.3,
             24.6,
             24,
             24.1,
             24.8
            ],
            "sizemode": "area",
            "sizeref": 0.1591111111111111
           },
           "mode": "markers",
           "name": "",
           "showlegend": false,
           "subplot": "mapbox",
           "type": "scattermapbox"
          }
         ],
         "name": "2016-04-17"
        },
        {
         "data": [
          {
           "customdata": [
            [
             35.5,
             "2016-08-09T00:00:00"
            ],
            [
             35.8,
             "2016-08-09T00:00:00"
            ],
            [
             35.1,
             "2016-08-09T00:00:00"
            ],
            [
             35.3,
             "2016-08-09T00:00:00"
            ],
            [
             35.3,
             "2016-08-09T00:00:00"
            ],
            [
             35.2,
             "2016-08-09T00:00:00"
            ],
            [
             35.2,
             "2016-08-09T00:00:00"
            ],
            [
             35.2,
             "2016-08-09T00:00:00"
            ],
            [
             35.5,
             "2016-08-09T00:00:00"
            ]
           ],
           "hovertemplate": "<b>%{hovertext}</b><br><br>animation_frame=2016-08-09<br>Temperature oC=%{marker.color}<br>Latitude_dd=%{lat}<br>Longitude_dd=%{lon}<br>Date=%{customdata[1]}<extra></extra>",
           "hovertext": [
            "askar",
            "bapco",
            "fasht tighalib",
            "ghumais",
            "jabbari",
            "mashtan",
            "qassar noon",
            "al gaha",
            "msoor"
           ],
           "lat": [
            26.05994444,
            26.108525,
            25.95768056,
            26.03835,
            25.917225,
            25.84470833,
            25.81586944,
            26.13141667,
            26.08035
           ],
           "legendgroup": "",
           "lon": [
            50.63189722,
            50.64105,
            50.71598889,
            50.86679444,
            50.66624167,
            50.68702778,
            50.63698056,
            50.67534167,
            50.70566944
           ],
           "marker": {
            "color": [
             35.5,
             35.8,
             35.1,
             35.3,
             35.3,
             35.2,
             35.2,
             35.2,
             35.5
            ],
            "coloraxis": "coloraxis",
            "size": [
             35.5,
             35.8,
             35.1,
             35.3,
             35.3,
             35.2,
             35.2,
             35.2,
             35.5
            ],
            "sizemode": "area",
            "sizeref": 0.1591111111111111
           },
           "mode": "markers",
           "name": "",
           "showlegend": false,
           "subplot": "mapbox",
           "type": "scattermapbox"
          }
         ],
         "name": "2016-08-09"
        },
        {
         "data": [
          {
           "customdata": [
            [
             27.7,
             "2016-10-24T00:00:00"
            ],
            [
             28.5,
             "2016-10-24T00:00:00"
            ],
            [
             28.5,
             "2016-10-24T00:00:00"
            ],
            [
             28.6,
             "2016-10-24T00:00:00"
            ],
            [
             28.6,
             "2016-10-24T00:00:00"
            ],
            [
             28.5,
             "2016-10-24T00:00:00"
            ],
            [
             28.5,
             "2016-10-24T00:00:00"
            ],
            [
             28.7,
             "2016-10-24T00:00:00"
            ],
            [
             28.1,
             "2016-10-24T00:00:00"
            ]
           ],
           "hovertemplate": "<b>%{hovertext}</b><br><br>animation_frame=2016-10-24<br>Temperature oC=%{marker.color}<br>Latitude_dd=%{lat}<br>Longitude_dd=%{lon}<br>Date=%{customdata[1]}<extra></extra>",
           "hovertext": [
            "askar",
            "bapco",
            "fasht tighalib",
            "ghumais",
            "jabbari",
            "mashtan",
            "qassar noon",
            "al gaha",
            "msoor"
           ],
           "lat": [
            26.05994444,
            26.108525,
            25.95768056,
            26.03835,
            25.917225,
            25.84470833,
            25.81586944,
            26.13141667,
            26.08035
           ],
           "legendgroup": "",
           "lon": [
            50.63189722,
            50.64105,
            50.71598889,
            50.86679444,
            50.66624167,
            50.68702778,
            50.63698056,
            50.67534167,
            50.70566944
           ],
           "marker": {
            "color": [
             27.7,
             28.5,
             28.5,
             28.6,
             28.6,
             28.5,
             28.5,
             28.7,
             28.1
            ],
            "coloraxis": "coloraxis",
            "size": [
             27.7,
             28.5,
             28.5,
             28.6,
             28.6,
             28.5,
             28.5,
             28.7,
             28.1
            ],
            "sizemode": "area",
            "sizeref": 0.1591111111111111
           },
           "mode": "markers",
           "name": "",
           "showlegend": false,
           "subplot": "mapbox",
           "type": "scattermapbox"
          }
         ],
         "name": "2016-10-24"
        },
        {
         "data": [
          {
           "customdata": [
            [
             31.15,
             "2007-07-09T00:00:00"
            ],
            [
             31.44,
             "2007-07-09T00:00:00"
            ],
            [
             31.98,
             "2007-07-09T00:00:00"
            ],
            [
             30.95,
             "2007-07-09T00:00:00"
            ]
           ],
           "hovertemplate": "<b>%{hovertext}</b><br><br>animation_frame=2007-07-09<br>Temperature oC=%{marker.color}<br>Latitude_dd=%{lat}<br>Longitude_dd=%{lon}<br>Date=%{customdata[1]}<extra></extra>",
           "hovertext": [
            "bapco",
            "al gaha",
            "dam",
            "msoor"
           ],
           "lat": [
            26.108525,
            26.13141667,
            26.18792778,
            26.08035
           ],
           "legendgroup": "",
           "lon": [
            50.64105,
            50.67534167,
            50.83459722,
            50.70566944
           ],
           "marker": {
            "color": [
             31.15,
             31.44,
             31.98,
             30.95
            ],
            "coloraxis": "coloraxis",
            "size": [
             31.15,
             31.44,
             31.98,
             30.95
            ],
            "sizemode": "area",
            "sizeref": 0.1591111111111111
           },
           "mode": "markers",
           "name": "",
           "showlegend": false,
           "subplot": "mapbox",
           "type": "scattermapbox"
          }
         ],
         "name": "2007-07-09"
        },
        {
         "data": [
          {
           "customdata": [
            [
             24.75,
             "2008-04-20T00:00:00"
            ],
            [
             24.38,
             "2008-04-20T00:00:00"
            ],
            [
             24.51,
             "2008-04-20T00:00:00"
            ],
            [
             25.17,
             "2008-04-20T00:00:00"
            ]
           ],
           "hovertemplate": "<b>%{hovertext}</b><br><br>animation_frame=2008-04-20<br>Temperature oC=%{marker.color}<br>Latitude_dd=%{lat}<br>Longitude_dd=%{lon}<br>Date=%{customdata[1]}<extra></extra>",
           "hovertext": [
            "bapco",
            "al gaha",
            "dam",
            "marina club"
           ],
           "lat": [
            26.108525,
            26.13141667,
            26.18792778,
            26.23741389
           ],
           "legendgroup": "",
           "lon": [
            50.64105,
            50.67534167,
            50.83459722,
            50.60260278
           ],
           "marker": {
            "color": [
             24.75,
             24.38,
             24.51,
             25.17
            ],
            "coloraxis": "coloraxis",
            "size": [
             24.75,
             24.38,
             24.51,
             25.17
            ],
            "sizemode": "area",
            "sizeref": 0.1591111111111111
           },
           "mode": "markers",
           "name": "",
           "showlegend": false,
           "subplot": "mapbox",
           "type": "scattermapbox"
          }
         ],
         "name": "2008-04-20"
        },
        {
         "data": [
          {
           "customdata": [
            [
             29.79,
             "2014-10-20T00:00:00"
            ],
            [
             30.09,
             "2014-10-20T00:00:00"
            ],
            [
             29.87,
             "2014-10-20T00:00:00"
            ],
            [
             29.35,
             "2014-10-20T00:00:00"
            ],
            [
             29.69,
             "2014-10-20T00:00:00"
            ],
            [
             29.47,
             "2014-10-20T00:00:00"
            ]
           ],
           "hovertemplate": "<b>%{hovertext}</b><br><br>animation_frame=2014-10-20<br>Temperature oC=%{marker.color}<br>Latitude_dd=%{lat}<br>Longitude_dd=%{lon}<br>Date=%{customdata[1]}<extra></extra>",
           "hovertext": [
            "fasht tighalib",
            "ghumais",
            "jabbari",
            "mashtan",
            "qassar noon",
            "msoor"
           ],
           "lat": [
            25.95768056,
            26.03835,
            25.917225,
            25.84470833,
            25.81586944,
            26.08035
           ],
           "legendgroup": "",
           "lon": [
            50.71598889,
            50.86679444,
            50.66624167,
            50.68702778,
            50.63698056,
            50.70566944
           ],
           "marker": {
            "color": [
             29.79,
             30.09,
             29.87,
             29.35,
             29.69,
             29.47
            ],
            "coloraxis": "coloraxis",
            "size": [
             29.79,
             30.09,
             29.87,
             29.35,
             29.69,
             29.47
            ],
            "sizemode": "area",
            "sizeref": 0.1591111111111111
           },
           "mode": "markers",
           "name": "",
           "showlegend": false,
           "subplot": "mapbox",
           "type": "scattermapbox"
          }
         ],
         "name": "2014-10-20"
        },
        {
         "data": [
          {
           "customdata": [
            [
             25.44,
             "2007-04-24T00:00:00"
            ],
            [
             24.47,
             "2007-04-24T00:00:00"
            ],
            [
             25.6,
             "2007-04-24T00:00:00"
            ]
           ],
           "hovertemplate": "<b>%{hovertext}</b><br><br>animation_frame=2007-04-24<br>Temperature oC=%{marker.color}<br>Latitude_dd=%{lat}<br>Longitude_dd=%{lon}<br>Date=%{customdata[1]}<extra></extra>",
           "hovertext": [
            "al gaha",
            "dam",
            "msoor"
           ],
           "lat": [
            26.13141667,
            26.18792778,
            26.08035
           ],
           "legendgroup": "",
           "lon": [
            50.67534167,
            50.83459722,
            50.70566944
           ],
           "marker": {
            "color": [
             25.44,
             24.47,
             25.6
            ],
            "coloraxis": "coloraxis",
            "size": [
             25.44,
             24.47,
             25.6
            ],
            "sizemode": "area",
            "sizeref": 0.1591111111111111
           },
           "mode": "markers",
           "name": "",
           "showlegend": false,
           "subplot": "mapbox",
           "type": "scattermapbox"
          }
         ],
         "name": "2007-04-24"
        },
        {
         "data": [
          {
           "customdata": [
            [
             30.03,
             "2007-10-30T00:00:00"
            ],
            [
             30.09,
             "2007-10-30T00:00:00"
            ]
           ],
           "hovertemplate": "<b>%{hovertext}</b><br><br>animation_frame=2007-10-30<br>Temperature oC=%{marker.color}<br>Latitude_dd=%{lat}<br>Longitude_dd=%{lon}<br>Date=%{customdata[1]}<extra></extra>",
           "hovertext": [
            "al gaha",
            "dam"
           ],
           "lat": [
            26.13141667,
            26.18792778
           ],
           "legendgroup": "",
           "lon": [
            50.67534167,
            50.83459722
           ],
           "marker": {
            "color": [
             30.03,
             30.09
            ],
            "coloraxis": "coloraxis",
            "size": [
             30.03,
             30.09
            ],
            "sizemode": "area",
            "sizeref": 0.1591111111111111
           },
           "mode": "markers",
           "name": "",
           "showlegend": false,
           "subplot": "mapbox",
           "type": "scattermapbox"
          }
         ],
         "name": "2007-10-30"
        },
        {
         "data": [
          {
           "customdata": [
            [
             29.61,
             "2008-10-25T00:00:00"
            ],
            [
             29.6,
             "2008-10-25T00:00:00"
            ],
            [
             29.52,
             "2008-10-25T00:00:00"
            ]
           ],
           "hovertemplate": "<b>%{hovertext}</b><br><br>animation_frame=2008-10-25<br>Temperature oC=%{marker.color}<br>Latitude_dd=%{lat}<br>Longitude_dd=%{lon}<br>Date=%{customdata[1]}<extra></extra>",
           "hovertext": [
            "al gaha",
            "dam",
            "marina club"
           ],
           "lat": [
            26.13141667,
            26.18792778,
            26.23741389
           ],
           "legendgroup": "",
           "lon": [
            50.67534167,
            50.83459722,
            50.60260278
           ],
           "marker": {
            "color": [
             29.61,
             29.6,
             29.52
            ],
            "coloraxis": "coloraxis",
            "size": [
             29.61,
             29.6,
             29.52
            ],
            "sizemode": "area",
            "sizeref": 0.1591111111111111
           },
           "mode": "markers",
           "name": "",
           "showlegend": false,
           "subplot": "mapbox",
           "type": "scattermapbox"
          }
         ],
         "name": "2008-10-25"
        },
        {
         "data": [
          {
           "customdata": [
            [
             16.23,
             "2009-01-18T00:00:00"
            ],
            [
             16.44,
             "2009-01-18T00:00:00"
            ],
            [
             15.87,
             "2009-01-18T00:00:00"
            ]
           ],
           "hovertemplate": "<b>%{hovertext}</b><br><br>animation_frame=2009-01-18<br>Temperature oC=%{marker.color}<br>Latitude_dd=%{lat}<br>Longitude_dd=%{lon}<br>Date=%{customdata[1]}<extra></extra>",
           "hovertext": [
            "al gaha",
            "dam",
            "marina club"
           ],
           "lat": [
            26.13141667,
            26.18792778,
            26.23741389
           ],
           "legendgroup": "",
           "lon": [
            50.67534167,
            50.83459722,
            50.60260278
           ],
           "marker": {
            "color": [
             16.23,
             16.44,
             15.87
            ],
            "coloraxis": "coloraxis",
            "size": [
             16.23,
             16.44,
             15.87
            ],
            "sizemode": "area",
            "sizeref": 0.1591111111111111
           },
           "mode": "markers",
           "name": "",
           "showlegend": false,
           "subplot": "mapbox",
           "type": "scattermapbox"
          }
         ],
         "name": "2009-01-18"
        },
        {
         "data": [
          {
           "customdata": [
            [
             25.41,
             "2009-04-20T00:00:00"
            ],
            [
             24.15,
             "2009-04-20T00:00:00"
            ]
           ],
           "hovertemplate": "<b>%{hovertext}</b><br><br>animation_frame=2009-04-20<br>Temperature oC=%{marker.color}<br>Latitude_dd=%{lat}<br>Longitude_dd=%{lon}<br>Date=%{customdata[1]}<extra></extra>",
           "hovertext": [
            "al gaha",
            "dam"
           ],
           "lat": [
            26.13141667,
            26.18792778
           ],
           "legendgroup": "",
           "lon": [
            50.67534167,
            50.83459722
           ],
           "marker": {
            "color": [
             25.41,
             24.15
            ],
            "coloraxis": "coloraxis",
            "size": [
             25.41,
             24.15
            ],
            "sizemode": "area",
            "sizeref": 0.1591111111111111
           },
           "mode": "markers",
           "name": "",
           "showlegend": false,
           "subplot": "mapbox",
           "type": "scattermapbox"
          }
         ],
         "name": "2009-04-20"
        },
        {
         "data": [
          {
           "customdata": [
            [
             30.13,
             "2009-10-11T00:00:00"
            ],
            [
             30.01,
             "2009-10-11T00:00:00"
            ],
            [
             30.21,
             "2009-10-11T00:00:00"
            ]
           ],
           "hovertemplate": "<b>%{hovertext}</b><br><br>animation_frame=2009-10-11<br>Temperature oC=%{marker.color}<br>Latitude_dd=%{lat}<br>Longitude_dd=%{lon}<br>Date=%{customdata[1]}<extra></extra>",
           "hovertext": [
            "al gaha",
            "dam",
            "marina club"
           ],
           "lat": [
            26.13141667,
            26.18792778,
            26.23741389
           ],
           "legendgroup": "",
           "lon": [
            50.67534167,
            50.83459722,
            50.60260278
           ],
           "marker": {
            "color": [
             30.13,
             30.01,
             30.21
            ],
            "coloraxis": "coloraxis",
            "size": [
             30.13,
             30.01,
             30.21
            ],
            "sizemode": "area",
            "sizeref": 0.1591111111111111
           },
           "mode": "markers",
           "name": "",
           "showlegend": false,
           "subplot": "mapbox",
           "type": "scattermapbox"
          }
         ],
         "name": "2009-10-11"
        },
        {
         "data": [
          {
           "customdata": [
            [
             18.9,
             "2010-02-02T00:00:00"
            ],
            [
             18.98,
             "2010-02-02T00:00:00"
            ]
           ],
           "hovertemplate": "<b>%{hovertext}</b><br><br>animation_frame=2010-02-02<br>Temperature oC=%{marker.color}<br>Latitude_dd=%{lat}<br>Longitude_dd=%{lon}<br>Date=%{customdata[1]}<extra></extra>",
           "hovertext": [
            "al gaha",
            "dam"
           ],
           "lat": [
            26.13141667,
            26.18792778
           ],
           "legendgroup": "",
           "lon": [
            50.67534167,
            50.83459722
           ],
           "marker": {
            "color": [
             18.9,
             18.98
            ],
            "coloraxis": "coloraxis",
            "size": [
             18.9,
             18.98
            ],
            "sizemode": "area",
            "sizeref": 0.1591111111111111
           },
           "mode": "markers",
           "name": "",
           "showlegend": false,
           "subplot": "mapbox",
           "type": "scattermapbox"
          }
         ],
         "name": "2010-02-02"
        },
        {
         "data": [
          {
           "customdata": [
            [
             26.29,
             "2010-04-19T00:00:00"
            ],
            [
             25.76,
             "2010-04-19T00:00:00"
            ]
           ],
           "hovertemplate": "<b>%{hovertext}</b><br><br>animation_frame=2010-04-19<br>Temperature oC=%{marker.color}<br>Latitude_dd=%{lat}<br>Longitude_dd=%{lon}<br>Date=%{customdata[1]}<extra></extra>",
           "hovertext": [
            "al gaha",
            "dam"
           ],
           "lat": [
            26.13141667,
            26.18792778
           ],
           "legendgroup": "",
           "lon": [
            50.67534167,
            50.83459722
           ],
           "marker": {
            "color": [
             26.29,
             25.76
            ],
            "coloraxis": "coloraxis",
            "size": [
             26.29,
             25.76
            ],
            "sizemode": "area",
            "sizeref": 0.1591111111111111
           },
           "mode": "markers",
           "name": "",
           "showlegend": false,
           "subplot": "mapbox",
           "type": "scattermapbox"
          }
         ],
         "name": "2010-04-19"
        },
        {
         "data": [
          {
           "customdata": [
            [
             32.64,
             "2010-07-08T00:00:00"
            ],
            [
             32.07,
             "2010-07-08T00:00:00"
            ]
           ],
           "hovertemplate": "<b>%{hovertext}</b><br><br>animation_frame=2010-07-08<br>Temperature oC=%{marker.color}<br>Latitude_dd=%{lat}<br>Longitude_dd=%{lon}<br>Date=%{customdata[1]}<extra></extra>",
           "hovertext": [
            "al gaha",
            "dam"
           ],
           "lat": [
            26.13141667,
            26.18792778
           ],
           "legendgroup": "",
           "lon": [
            50.67534167,
            50.83459722
           ],
           "marker": {
            "color": [
             32.64,
             32.07
            ],
            "coloraxis": "coloraxis",
            "size": [
             32.64,
             32.07
            ],
            "sizemode": "area",
            "sizeref": 0.1591111111111111
           },
           "mode": "markers",
           "name": "",
           "showlegend": false,
           "subplot": "mapbox",
           "type": "scattermapbox"
          }
         ],
         "name": "2010-07-08"
        },
        {
         "data": [
          {
           "customdata": [
            [
             32.34,
             "2010-10-11T00:00:00"
            ],
            [
             32.08,
             "2010-10-11T00:00:00"
            ]
           ],
           "hovertemplate": "<b>%{hovertext}</b><br><br>animation_frame=2010-10-11<br>Temperature oC=%{marker.color}<br>Latitude_dd=%{lat}<br>Longitude_dd=%{lon}<br>Date=%{customdata[1]}<extra></extra>",
           "hovertext": [
            "al gaha",
            "dam"
           ],
           "lat": [
            26.13141667,
            26.18792778
           ],
           "legendgroup": "",
           "lon": [
            50.67534167,
            50.83459722
           ],
           "marker": {
            "color": [
             32.34,
             32.08
            ],
            "coloraxis": "coloraxis",
            "size": [
             32.34,
             32.08
            ],
            "sizemode": "area",
            "sizeref": 0.1591111111111111
           },
           "mode": "markers",
           "name": "",
           "showlegend": false,
           "subplot": "mapbox",
           "type": "scattermapbox"
          }
         ],
         "name": "2010-10-11"
        },
        {
         "data": [
          {
           "customdata": [
            [
             32.26,
             "2012-10-07T00:00:00"
            ]
           ],
           "hovertemplate": "<b>%{hovertext}</b><br><br>animation_frame=2012-10-07<br>Temperature oC=%{marker.color}<br>Latitude_dd=%{lat}<br>Longitude_dd=%{lon}<br>Date=%{customdata[1]}<extra></extra>",
           "hovertext": [
            "al gaha"
           ],
           "lat": [
            26.13141667
           ],
           "legendgroup": "",
           "lon": [
            50.67534167
           ],
           "marker": {
            "color": [
             32.26
            ],
            "coloraxis": "coloraxis",
            "size": [
             32.26
            ],
            "sizemode": "area",
            "sizeref": 0.1591111111111111
           },
           "mode": "markers",
           "name": "",
           "showlegend": false,
           "subplot": "mapbox",
           "type": "scattermapbox"
          }
         ],
         "name": "2012-10-07"
        },
        {
         "data": [
          {
           "customdata": [
            [
             25.26,
             "2013-04-15T00:00:00"
            ],
            [
             25.41,
             "2013-04-15T00:00:00"
            ]
           ],
           "hovertemplate": "<b>%{hovertext}</b><br><br>animation_frame=2013-04-15<br>Temperature oC=%{marker.color}<br>Latitude_dd=%{lat}<br>Longitude_dd=%{lon}<br>Date=%{customdata[1]}<extra></extra>",
           "hovertext": [
            "al gaha",
            "dam"
           ],
           "lat": [
            26.13141667,
            26.18792778
           ],
           "legendgroup": "",
           "lon": [
            50.67534167,
            50.83459722
           ],
           "marker": {
            "color": [
             25.26,
             25.41
            ],
            "coloraxis": "coloraxis",
            "size": [
             25.26,
             25.41
            ],
            "sizemode": "area",
            "sizeref": 0.1591111111111111
           },
           "mode": "markers",
           "name": "",
           "showlegend": false,
           "subplot": "mapbox",
           "type": "scattermapbox"
          }
         ],
         "name": "2013-04-15"
        },
        {
         "data": [
          {
           "customdata": [
            [
             16.95,
             "2008-01-08T00:00:00"
            ],
            [
             15.57,
             "2008-01-08T00:00:00"
            ]
           ],
           "hovertemplate": "<b>%{hovertext}</b><br><br>animation_frame=2008-01-08<br>Temperature oC=%{marker.color}<br>Latitude_dd=%{lat}<br>Longitude_dd=%{lon}<br>Date=%{customdata[1]}<extra></extra>",
           "hovertext": [
            "dam",
            "marina club"
           ],
           "lat": [
            26.18792778,
            26.23741389
           ],
           "legendgroup": "",
           "lon": [
            50.83459722,
            50.60260278
           ],
           "marker": {
            "color": [
             16.95,
             15.57
            ],
            "coloraxis": "coloraxis",
            "size": [
             16.95,
             15.57
            ],
            "sizemode": "area",
            "sizeref": 0.1591111111111111
           },
           "mode": "markers",
           "name": "",
           "showlegend": false,
           "subplot": "mapbox",
           "type": "scattermapbox"
          }
         ],
         "name": "2008-01-08"
        },
        {
         "data": [
          {
           "customdata": [
            [
             31.55,
             "2008-07-06T00:00:00"
            ]
           ],
           "hovertemplate": "<b>%{hovertext}</b><br><br>animation_frame=2008-07-06<br>Temperature oC=%{marker.color}<br>Latitude_dd=%{lat}<br>Longitude_dd=%{lon}<br>Date=%{customdata[1]}<extra></extra>",
           "hovertext": [
            "dam"
           ],
           "lat": [
            26.18792778
           ],
           "legendgroup": "",
           "lon": [
            50.83459722
           ],
           "marker": {
            "color": [
             31.55
            ],
            "coloraxis": "coloraxis",
            "size": [
             31.55
            ],
            "sizemode": "area",
            "sizeref": 0.1591111111111111
           },
           "mode": "markers",
           "name": "",
           "showlegend": false,
           "subplot": "mapbox",
           "type": "scattermapbox"
          }
         ],
         "name": "2008-07-06"
        },
        {
         "data": [
          {
           "customdata": [
            [
             32.44,
             "2009-07-06T00:00:00"
            ]
           ],
           "hovertemplate": "<b>%{hovertext}</b><br><br>animation_frame=2009-07-06<br>Temperature oC=%{marker.color}<br>Latitude_dd=%{lat}<br>Longitude_dd=%{lon}<br>Date=%{customdata[1]}<extra></extra>",
           "hovertext": [
            "dam"
           ],
           "lat": [
            26.18792778
           ],
           "legendgroup": "",
           "lon": [
            50.83459722
           ],
           "marker": {
            "color": [
             32.44
            ],
            "coloraxis": "coloraxis",
            "size": [
             32.44
            ],
            "sizemode": "area",
            "sizeref": 0.1591111111111111
           },
           "mode": "markers",
           "name": "",
           "showlegend": false,
           "subplot": "mapbox",
           "type": "scattermapbox"
          }
         ],
         "name": "2009-07-06"
        },
        {
         "data": [
          {
           "customdata": [
            [
             18.06,
             "2011-01-21T00:00:00"
            ]
           ],
           "hovertemplate": "<b>%{hovertext}</b><br><br>animation_frame=2011-01-21<br>Temperature oC=%{marker.color}<br>Latitude_dd=%{lat}<br>Longitude_dd=%{lon}<br>Date=%{customdata[1]}<extra></extra>",
           "hovertext": [
            "dam"
           ],
           "lat": [
            26.18792778
           ],
           "legendgroup": "",
           "lon": [
            50.83459722
           ],
           "marker": {
            "color": [
             18.06
            ],
            "coloraxis": "coloraxis",
            "size": [
             18.06
            ],
            "sizemode": "area",
            "sizeref": 0.1591111111111111
           },
           "mode": "markers",
           "name": "",
           "showlegend": false,
           "subplot": "mapbox",
           "type": "scattermapbox"
          }
         ],
         "name": "2011-01-21"
        },
        {
         "data": [
          {
           "customdata": [
            [
             24.8,
             "2011-04-25T00:00:00"
            ]
           ],
           "hovertemplate": "<b>%{hovertext}</b><br><br>animation_frame=2011-04-25<br>Temperature oC=%{marker.color}<br>Latitude_dd=%{lat}<br>Longitude_dd=%{lon}<br>Date=%{customdata[1]}<extra></extra>",
           "hovertext": [
            "dam"
           ],
           "lat": [
            26.18792778
           ],
           "legendgroup": "",
           "lon": [
            50.83459722
           ],
           "marker": {
            "color": [
             24.8
            ],
            "coloraxis": "coloraxis",
            "size": [
             24.8
            ],
            "sizemode": "area",
            "sizeref": 0.1591111111111111
           },
           "mode": "markers",
           "name": "",
           "showlegend": false,
           "subplot": "mapbox",
           "type": "scattermapbox"
          }
         ],
         "name": "2011-04-25"
        },
        {
         "data": [
          {
           "customdata": [
            [
             31.93,
             "2011-07-11T00:00:00"
            ],
            [
             32.26,
             "2011-07-11T00:00:00"
            ]
           ],
           "hovertemplate": "<b>%{hovertext}</b><br><br>animation_frame=2011-07-11<br>Temperature oC=%{marker.color}<br>Latitude_dd=%{lat}<br>Longitude_dd=%{lon}<br>Date=%{customdata[1]}<extra></extra>",
           "hovertext": [
            "dam",
            "marina club"
           ],
           "lat": [
            26.18792778,
            26.23741389
           ],
           "legendgroup": "",
           "lon": [
            50.83459722,
            50.60260278
           ],
           "marker": {
            "color": [
             31.93,
             32.26
            ],
            "coloraxis": "coloraxis",
            "size": [
             31.93,
             32.26
            ],
            "sizemode": "area",
            "sizeref": 0.1591111111111111
           },
           "mode": "markers",
           "name": "",
           "showlegend": false,
           "subplot": "mapbox",
           "type": "scattermapbox"
          }
         ],
         "name": "2011-07-11"
        },
        {
         "data": [
          {
           "customdata": [
            [
             30.16,
             "2011-10-10T00:00:00"
            ],
            [
             29.13,
             "2011-10-10T00:00:00"
            ]
           ],
           "hovertemplate": "<b>%{hovertext}</b><br><br>animation_frame=2011-10-10<br>Temperature oC=%{marker.color}<br>Latitude_dd=%{lat}<br>Longitude_dd=%{lon}<br>Date=%{customdata[1]}<extra></extra>",
           "hovertext": [
            "dam",
            "marina club"
           ],
           "lat": [
            26.18792778,
            26.23741389
           ],
           "legendgroup": "",
           "lon": [
            50.83459722,
            50.60260278
           ],
           "marker": {
            "color": [
             30.16,
             29.13
            ],
            "coloraxis": "coloraxis",
            "size": [
             30.16,
             29.13
            ],
            "sizemode": "area",
            "sizeref": 0.1591111111111111
           },
           "mode": "markers",
           "name": "",
           "showlegend": false,
           "subplot": "mapbox",
           "type": "scattermapbox"
          }
         ],
         "name": "2011-10-10"
        },
        {
         "data": [
          {
           "customdata": [
            [
             17.93,
             "2012-01-17T00:00:00"
            ],
            [
             17.33,
             "2012-01-17T00:00:00"
            ]
           ],
           "hovertemplate": "<b>%{hovertext}</b><br><br>animation_frame=2012-01-17<br>Temperature oC=%{marker.color}<br>Latitude_dd=%{lat}<br>Longitude_dd=%{lon}<br>Date=%{customdata[1]}<extra></extra>",
           "hovertext": [
            "dam",
            "marina club"
           ],
           "lat": [
            26.18792778,
            26.23741389
           ],
           "legendgroup": "",
           "lon": [
            50.83459722,
            50.60260278
           ],
           "marker": {
            "color": [
             17.93,
             17.33
            ],
            "coloraxis": "coloraxis",
            "size": [
             17.93,
             17.33
            ],
            "sizemode": "area",
            "sizeref": 0.1591111111111111
           },
           "mode": "markers",
           "name": "",
           "showlegend": false,
           "subplot": "mapbox",
           "type": "scattermapbox"
          }
         ],
         "name": "2012-01-17"
        },
        {
         "data": [
          {
           "customdata": [
            [
             22.96,
             "2012-04-16T00:00:00"
            ],
            [
             24.02,
             "2012-04-16T00:00:00"
            ]
           ],
           "hovertemplate": "<b>%{hovertext}</b><br><br>animation_frame=2012-04-16<br>Temperature oC=%{marker.color}<br>Latitude_dd=%{lat}<br>Longitude_dd=%{lon}<br>Date=%{customdata[1]}<extra></extra>",
           "hovertext": [
            "dam",
            "marina club"
           ],
           "lat": [
            26.18792778,
            26.23741389
           ],
           "legendgroup": "",
           "lon": [
            50.83459722,
            50.60260278
           ],
           "marker": {
            "color": [
             22.96,
             24.02
            ],
            "coloraxis": "coloraxis",
            "size": [
             22.96,
             24.02
            ],
            "sizemode": "area",
            "sizeref": 0.1591111111111111
           },
           "mode": "markers",
           "name": "",
           "showlegend": false,
           "subplot": "mapbox",
           "type": "scattermapbox"
          }
         ],
         "name": "2012-04-16"
        },
        {
         "data": [
          {
           "customdata": [
            [
             31.47,
             "2012-07-08T00:00:00"
            ],
            [
             30.46,
             "2012-07-08T00:00:00"
            ]
           ],
           "hovertemplate": "<b>%{hovertext}</b><br><br>animation_frame=2012-07-08<br>Temperature oC=%{marker.color}<br>Latitude_dd=%{lat}<br>Longitude_dd=%{lon}<br>Date=%{customdata[1]}<extra></extra>",
           "hovertext": [
            "dam",
            "marina club"
           ],
           "lat": [
            26.18792778,
            26.23741389
           ],
           "legendgroup": "",
           "lon": [
            50.83459722,
            50.60260278
           ],
           "marker": {
            "color": [
             31.47,
             30.46
            ],
            "coloraxis": "coloraxis",
            "size": [
             31.47,
             30.46
            ],
            "sizemode": "area",
            "sizeref": 0.1591111111111111
           },
           "mode": "markers",
           "name": "",
           "showlegend": false,
           "subplot": "mapbox",
           "type": "scattermapbox"
          }
         ],
         "name": "2012-07-08"
        },
        {
         "data": [
          {
           "customdata": [
            [
             17.27,
             "2013-01-21T00:00:00"
            ]
           ],
           "hovertemplate": "<b>%{hovertext}</b><br><br>animation_frame=2013-01-21<br>Temperature oC=%{marker.color}<br>Latitude_dd=%{lat}<br>Longitude_dd=%{lon}<br>Date=%{customdata[1]}<extra></extra>",
           "hovertext": [
            "dam"
           ],
           "lat": [
            26.18792778
           ],
           "legendgroup": "",
           "lon": [
            50.83459722
           ],
           "marker": {
            "color": [
             17.27
            ],
            "coloraxis": "coloraxis",
            "size": [
             17.27
            ],
            "sizemode": "area",
            "sizeref": 0.1591111111111111
           },
           "mode": "markers",
           "name": "",
           "showlegend": false,
           "subplot": "mapbox",
           "type": "scattermapbox"
          }
         ],
         "name": "2013-01-21"
        },
        {
         "data": [
          {
           "customdata": [
            [
             33.88,
             "2013-08-26T00:00:00"
            ],
            [
             33.93,
             "2013-08-26T00:00:00"
            ]
           ],
           "hovertemplate": "<b>%{hovertext}</b><br><br>animation_frame=2013-08-26<br>Temperature oC=%{marker.color}<br>Latitude_dd=%{lat}<br>Longitude_dd=%{lon}<br>Date=%{customdata[1]}<extra></extra>",
           "hovertext": [
            "dam",
            "marina club"
           ],
           "lat": [
            26.18792778,
            26.23741389
           ],
           "legendgroup": "",
           "lon": [
            50.83459722,
            50.60260278
           ],
           "marker": {
            "color": [
             33.88,
             33.93
            ],
            "coloraxis": "coloraxis",
            "size": [
             33.88,
             33.93
            ],
            "sizemode": "area",
            "sizeref": 0.1591111111111111
           },
           "mode": "markers",
           "name": "",
           "showlegend": false,
           "subplot": "mapbox",
           "type": "scattermapbox"
          }
         ],
         "name": "2013-08-26"
        },
        {
         "data": [
          {
           "customdata": [
            [
             26.6,
             "2013-11-05T00:00:00"
            ],
            [
             26.95,
             "2013-11-05T00:00:00"
            ]
           ],
           "hovertemplate": "<b>%{hovertext}</b><br><br>animation_frame=2013-11-05<br>Temperature oC=%{marker.color}<br>Latitude_dd=%{lat}<br>Longitude_dd=%{lon}<br>Date=%{customdata[1]}<extra></extra>",
           "hovertext": [
            "dam",
            "marina club"
           ],
           "lat": [
            26.18792778,
            26.23741389
           ],
           "legendgroup": "",
           "lon": [
            50.83459722,
            50.60260278
           ],
           "marker": {
            "color": [
             26.6,
             26.95
            ],
            "coloraxis": "coloraxis",
            "size": [
             26.6,
             26.95
            ],
            "sizemode": "area",
            "sizeref": 0.1591111111111111
           },
           "mode": "markers",
           "name": "",
           "showlegend": false,
           "subplot": "mapbox",
           "type": "scattermapbox"
          }
         ],
         "name": "2013-11-05"
        },
        {
         "data": [
          {
           "customdata": [
            [
             16.82,
             "2014-01-20T00:00:00"
            ],
            [
             16.75,
             "2014-01-20T00:00:00"
            ]
           ],
           "hovertemplate": "<b>%{hovertext}</b><br><br>animation_frame=2014-01-20<br>Temperature oC=%{marker.color}<br>Latitude_dd=%{lat}<br>Longitude_dd=%{lon}<br>Date=%{customdata[1]}<extra></extra>",
           "hovertext": [
            "dam",
            "marina club"
           ],
           "lat": [
            26.18792778,
            26.23741389
           ],
           "legendgroup": "",
           "lon": [
            50.83459722,
            50.60260278
           ],
           "marker": {
            "color": [
             16.82,
             16.75
            ],
            "coloraxis": "coloraxis",
            "size": [
             16.82,
             16.75
            ],
            "sizemode": "area",
            "sizeref": 0.1591111111111111
           },
           "mode": "markers",
           "name": "",
           "showlegend": false,
           "subplot": "mapbox",
           "type": "scattermapbox"
          }
         ],
         "name": "2014-01-20"
        },
        {
         "data": [
          {
           "customdata": [
            [
             27.43,
             "2014-05-04T00:00:00"
            ],
            [
             27.88,
             "2014-05-04T00:00:00"
            ]
           ],
           "hovertemplate": "<b>%{hovertext}</b><br><br>animation_frame=2014-05-04<br>Temperature oC=%{marker.color}<br>Latitude_dd=%{lat}<br>Longitude_dd=%{lon}<br>Date=%{customdata[1]}<extra></extra>",
           "hovertext": [
            "dam",
            "marina club"
           ],
           "lat": [
            26.18792778,
            26.23741389
           ],
           "legendgroup": "",
           "lon": [
            50.83459722,
            50.60260278
           ],
           "marker": {
            "color": [
             27.43,
             27.88
            ],
            "coloraxis": "coloraxis",
            "size": [
             27.43,
             27.88
            ],
            "sizemode": "area",
            "sizeref": 0.1591111111111111
           },
           "mode": "markers",
           "name": "",
           "showlegend": false,
           "subplot": "mapbox",
           "type": "scattermapbox"
          }
         ],
         "name": "2014-05-04"
        },
        {
         "data": [
          {
           "customdata": [
            [
             34.15,
             "2014-08-24T00:00:00"
            ]
           ],
           "hovertemplate": "<b>%{hovertext}</b><br><br>animation_frame=2014-08-24<br>Temperature oC=%{marker.color}<br>Latitude_dd=%{lat}<br>Longitude_dd=%{lon}<br>Date=%{customdata[1]}<extra></extra>",
           "hovertext": [
            "dam"
           ],
           "lat": [
            26.18792778
           ],
           "legendgroup": "",
           "lon": [
            50.83459722
           ],
           "marker": {
            "color": [
             34.15
            ],
            "coloraxis": "coloraxis",
            "size": [
             34.15
            ],
            "sizemode": "area",
            "sizeref": 0.1591111111111111
           },
           "mode": "markers",
           "name": "",
           "showlegend": false,
           "subplot": "mapbox",
           "type": "scattermapbox"
          }
         ],
         "name": "2014-08-24"
        },
        {
         "data": [
          {
           "customdata": [
            [
             18.15,
             "2015-02-01T00:00:00"
            ]
           ],
           "hovertemplate": "<b>%{hovertext}</b><br><br>animation_frame=2015-02-01<br>Temperature oC=%{marker.color}<br>Latitude_dd=%{lat}<br>Longitude_dd=%{lon}<br>Date=%{customdata[1]}<extra></extra>",
           "hovertext": [
            "dam"
           ],
           "lat": [
            26.18792778
           ],
           "legendgroup": "",
           "lon": [
            50.83459722
           ],
           "marker": {
            "color": [
             18.15
            ],
            "coloraxis": "coloraxis",
            "size": [
             18.15
            ],
            "sizemode": "area",
            "sizeref": 0.1591111111111111
           },
           "mode": "markers",
           "name": "",
           "showlegend": false,
           "subplot": "mapbox",
           "type": "scattermapbox"
          }
         ],
         "name": "2015-02-01"
        },
        {
         "data": [
          {
           "customdata": [
            [
             23.6,
             "2015-04-12T00:00:00"
            ]
           ],
           "hovertemplate": "<b>%{hovertext}</b><br><br>animation_frame=2015-04-12<br>Temperature oC=%{marker.color}<br>Latitude_dd=%{lat}<br>Longitude_dd=%{lon}<br>Date=%{customdata[1]}<extra></extra>",
           "hovertext": [
            "dam"
           ],
           "lat": [
            26.18792778
           ],
           "legendgroup": "",
           "lon": [
            50.83459722
           ],
           "marker": {
            "color": [
             23.6
            ],
            "coloraxis": "coloraxis",
            "size": [
             23.6
            ],
            "sizemode": "area",
            "sizeref": 0.1591111111111111
           },
           "mode": "markers",
           "name": "",
           "showlegend": false,
           "subplot": "mapbox",
           "type": "scattermapbox"
          }
         ],
         "name": "2015-04-12"
        },
        {
         "data": [
          {
           "customdata": [
            [
             34.63,
             "2015-08-24T00:00:00"
            ]
           ],
           "hovertemplate": "<b>%{hovertext}</b><br><br>animation_frame=2015-08-24<br>Temperature oC=%{marker.color}<br>Latitude_dd=%{lat}<br>Longitude_dd=%{lon}<br>Date=%{customdata[1]}<extra></extra>",
           "hovertext": [
            "dam"
           ],
           "lat": [
            26.18792778
           ],
           "legendgroup": "",
           "lon": [
            50.83459722
           ],
           "marker": {
            "color": [
             34.63
            ],
            "coloraxis": "coloraxis",
            "size": [
             34.63
            ],
            "sizemode": "area",
            "sizeref": 0.1591111111111111
           },
           "mode": "markers",
           "name": "",
           "showlegend": false,
           "subplot": "mapbox",
           "type": "scattermapbox"
          }
         ],
         "name": "2015-08-24"
        },
        {
         "data": [
          {
           "customdata": [
            [
             28.78,
             "2015-11-02T00:00:00"
            ]
           ],
           "hovertemplate": "<b>%{hovertext}</b><br><br>animation_frame=2015-11-02<br>Temperature oC=%{marker.color}<br>Latitude_dd=%{lat}<br>Longitude_dd=%{lon}<br>Date=%{customdata[1]}<extra></extra>",
           "hovertext": [
            "dam"
           ],
           "lat": [
            26.18792778
           ],
           "legendgroup": "",
           "lon": [
            50.83459722
           ],
           "marker": {
            "color": [
             28.78
            ],
            "coloraxis": "coloraxis",
            "size": [
             28.78
            ],
            "sizemode": "area",
            "sizeref": 0.1591111111111111
           },
           "mode": "markers",
           "name": "",
           "showlegend": false,
           "subplot": "mapbox",
           "type": "scattermapbox"
          }
         ],
         "name": "2015-11-02"
        },
        {
         "data": [
          {
           "customdata": [
            [
             18.2,
             "2016-01-18T00:00:00"
            ]
           ],
           "hovertemplate": "<b>%{hovertext}</b><br><br>animation_frame=2016-01-18<br>Temperature oC=%{marker.color}<br>Latitude_dd=%{lat}<br>Longitude_dd=%{lon}<br>Date=%{customdata[1]}<extra></extra>",
           "hovertext": [
            "dam"
           ],
           "lat": [
            26.18792778
           ],
           "legendgroup": "",
           "lon": [
            50.83459722
           ],
           "marker": {
            "color": [
             18.2
            ],
            "coloraxis": "coloraxis",
            "size": [
             18.2
            ],
            "sizemode": "area",
            "sizeref": 0.1591111111111111
           },
           "mode": "markers",
           "name": "",
           "showlegend": false,
           "subplot": "mapbox",
           "type": "scattermapbox"
          }
         ],
         "name": "2016-01-18"
        },
        {
         "data": [
          {
           "customdata": [
            [
             23.7,
             "2016-04-18T00:00:00"
            ]
           ],
           "hovertemplate": "<b>%{hovertext}</b><br><br>animation_frame=2016-04-18<br>Temperature oC=%{marker.color}<br>Latitude_dd=%{lat}<br>Longitude_dd=%{lon}<br>Date=%{customdata[1]}<extra></extra>",
           "hovertext": [
            "dam"
           ],
           "lat": [
            26.18792778
           ],
           "legendgroup": "",
           "lon": [
            50.83459722
           ],
           "marker": {
            "color": [
             23.7
            ],
            "coloraxis": "coloraxis",
            "size": [
             23.7
            ],
            "sizemode": "area",
            "sizeref": 0.1591111111111111
           },
           "mode": "markers",
           "name": "",
           "showlegend": false,
           "subplot": "mapbox",
           "type": "scattermapbox"
          }
         ],
         "name": "2016-04-18"
        },
        {
         "data": [
          {
           "customdata": [
            [
             35,
             "2016-08-10T00:00:00"
            ],
            [
             34.9,
             "2016-08-10T00:00:00"
            ],
            [
             34.7,
             "2016-08-10T00:00:00"
            ]
           ],
           "hovertemplate": "<b>%{hovertext}</b><br><br>animation_frame=2016-08-10<br>Temperature oC=%{marker.color}<br>Latitude_dd=%{lat}<br>Longitude_dd=%{lon}<br>Date=%{customdata[1]}<extra></extra>",
           "hovertext": [
            "dam",
            "marwada",
            "sura"
           ],
           "lat": [
            26.18792778,
            26.31694722,
            26.48800278
           ],
           "legendgroup": "",
           "lon": [
            50.83459722,
            50.45246667,
            50.42891944
           ],
           "marker": {
            "color": [
             35,
             34.9,
             34.7
            ],
            "coloraxis": "coloraxis",
            "size": [
             35,
             34.9,
             34.7
            ],
            "sizemode": "area",
            "sizeref": 0.1591111111111111
           },
           "mode": "markers",
           "name": "",
           "showlegend": false,
           "subplot": "mapbox",
           "type": "scattermapbox"
          }
         ],
         "name": "2016-08-10"
        },
        {
         "data": [
          {
           "customdata": [
            [
             29,
             "2016-10-25T00:00:00"
            ]
           ],
           "hovertemplate": "<b>%{hovertext}</b><br><br>animation_frame=2016-10-25<br>Temperature oC=%{marker.color}<br>Latitude_dd=%{lat}<br>Longitude_dd=%{lon}<br>Date=%{customdata[1]}<extra></extra>",
           "hovertext": [
            "dam"
           ],
           "lat": [
            26.18792778
           ],
           "legendgroup": "",
           "lon": [
            50.83459722
           ],
           "marker": {
            "color": [
             29
            ],
            "coloraxis": "coloraxis",
            "size": [
             29
            ],
            "sizemode": "area",
            "sizeref": 0.1591111111111111
           },
           "mode": "markers",
           "name": "",
           "showlegend": false,
           "subplot": "mapbox",
           "type": "scattermapbox"
          }
         ],
         "name": "2016-10-25"
        },
        {
         "data": [
          {
           "customdata": [
            [
             25.44,
             "2007-04-25T00:00:00"
            ],
            [
             24.41,
             "2007-04-25T00:00:00"
            ],
            [
             25.12,
             "2007-04-25T00:00:00"
            ]
           ],
           "hovertemplate": "<b>%{hovertext}</b><br><br>animation_frame=2007-04-25<br>Temperature oC=%{marker.color}<br>Latitude_dd=%{lat}<br>Longitude_dd=%{lon}<br>Date=%{customdata[1]}<extra></extra>",
           "hovertext": [
            "bartafi",
            "marina club",
            "marwada"
           ],
           "lat": [
            26.26796944,
            26.23741389,
            26.31694722
           ],
           "legendgroup": "",
           "lon": [
            50.44042778,
            50.60260278,
            50.45246667
           ],
           "marker": {
            "color": [
             25.44,
             24.41,
             25.12
            ],
            "coloraxis": "coloraxis",
            "size": [
             25.44,
             24.41,
             25.12
            ],
            "sizemode": "area",
            "sizeref": 0.1591111111111111
           },
           "mode": "markers",
           "name": "",
           "showlegend": false,
           "subplot": "mapbox",
           "type": "scattermapbox"
          }
         ],
         "name": "2007-04-25"
        },
        {
         "data": [
          {
           "customdata": [
            [
             31.87,
             "2007-07-10T00:00:00"
            ],
            [
             30.62,
             "2007-07-10T00:00:00"
            ],
            [
             31.89,
             "2007-07-10T00:00:00"
            ]
           ],
           "hovertemplate": "<b>%{hovertext}</b><br><br>animation_frame=2007-07-10<br>Temperature oC=%{marker.color}<br>Latitude_dd=%{lat}<br>Longitude_dd=%{lon}<br>Date=%{customdata[1]}<extra></extra>",
           "hovertext": [
            "bartafi",
            "marina club",
            "marwada"
           ],
           "lat": [
            26.26796944,
            26.23741389,
            26.31694722
           ],
           "legendgroup": "",
           "lon": [
            50.44042778,
            50.60260278,
            50.45246667
           ],
           "marker": {
            "color": [
             31.87,
             30.62,
             31.89
            ],
            "coloraxis": "coloraxis",
            "size": [
             31.87,
             30.62,
             31.89
            ],
            "sizemode": "area",
            "sizeref": 0.1591111111111111
           },
           "mode": "markers",
           "name": "",
           "showlegend": false,
           "subplot": "mapbox",
           "type": "scattermapbox"
          }
         ],
         "name": "2007-07-10"
        },
        {
         "data": [
          {
           "customdata": [
            [
             29,
             "2007-10-31T00:00:00"
            ],
            [
             29.02,
             "2007-10-31T00:00:00"
            ]
           ],
           "hovertemplate": "<b>%{hovertext}</b><br><br>animation_frame=2007-10-31<br>Temperature oC=%{marker.color}<br>Latitude_dd=%{lat}<br>Longitude_dd=%{lon}<br>Date=%{customdata[1]}<extra></extra>",
           "hovertext": [
            "bartafi",
            "marwada"
           ],
           "lat": [
            26.26796944,
            26.31694722
           ],
           "legendgroup": "",
           "lon": [
            50.44042778,
            50.45246667
           ],
           "marker": {
            "color": [
             29,
             29.02
            ],
            "coloraxis": "coloraxis",
            "size": [
             29,
             29.02
            ],
            "sizemode": "area",
            "sizeref": 0.1591111111111111
           },
           "mode": "markers",
           "name": "",
           "showlegend": false,
           "subplot": "mapbox",
           "type": "scattermapbox"
          }
         ],
         "name": "2007-10-31"
        },
        {
         "data": [
          {
           "customdata": [
            [
             15.37,
             "2008-01-09T00:00:00"
            ],
            [
             15.71,
             "2008-01-09T00:00:00"
            ]
           ],
           "hovertemplate": "<b>%{hovertext}</b><br><br>animation_frame=2008-01-09<br>Temperature oC=%{marker.color}<br>Latitude_dd=%{lat}<br>Longitude_dd=%{lon}<br>Date=%{customdata[1]}<extra></extra>",
           "hovertext": [
            "bartafi",
            "marwada"
           ],
           "lat": [
            26.26796944,
            26.31694722
           ],
           "legendgroup": "",
           "lon": [
            50.44042778,
            50.45246667
           ],
           "marker": {
            "color": [
             15.37,
             15.71
            ],
            "coloraxis": "coloraxis",
            "size": [
             15.37,
             15.71
            ],
            "sizemode": "area",
            "sizeref": 0.1591111111111111
           },
           "mode": "markers",
           "name": "",
           "showlegend": false,
           "subplot": "mapbox",
           "type": "scattermapbox"
          }
         ],
         "name": "2008-01-09"
        },
        {
         "data": [
          {
           "customdata": [
            [
             24.63,
             "2008-04-22T00:00:00"
            ],
            [
             24.9,
             "2008-04-22T00:00:00"
            ]
           ],
           "hovertemplate": "<b>%{hovertext}</b><br><br>animation_frame=2008-04-22<br>Temperature oC=%{marker.color}<br>Latitude_dd=%{lat}<br>Longitude_dd=%{lon}<br>Date=%{customdata[1]}<extra></extra>",
           "hovertext": [
            "bartafi",
            "marwada"
           ],
           "lat": [
            26.26796944,
            26.31694722
           ],
           "legendgroup": "",
           "lon": [
            50.44042778,
            50.45246667
           ],
           "marker": {
            "color": [
             24.63,
             24.9
            ],
            "coloraxis": "coloraxis",
            "size": [
             24.63,
             24.9
            ],
            "sizemode": "area",
            "sizeref": 0.1591111111111111
           },
           "mode": "markers",
           "name": "",
           "showlegend": false,
           "subplot": "mapbox",
           "type": "scattermapbox"
          }
         ],
         "name": "2008-04-22"
        },
        {
         "data": [
          {
           "customdata": [
            [
             32.05,
             "2008-07-08T00:00:00"
            ],
            [
             31.8,
             "2008-07-08T00:00:00"
            ],
            [
             32.09,
             "2008-07-08T00:00:00"
            ]
           ],
           "hovertemplate": "<b>%{hovertext}</b><br><br>animation_frame=2008-07-08<br>Temperature oC=%{marker.color}<br>Latitude_dd=%{lat}<br>Longitude_dd=%{lon}<br>Date=%{customdata[1]}<extra></extra>",
           "hovertext": [
            "bartafi",
            "marina club",
            "marwada"
           ],
           "lat": [
            26.26796944,
            26.23741389,
            26.31694722
           ],
           "legendgroup": "",
           "lon": [
            50.44042778,
            50.60260278,
            50.45246667
           ],
           "marker": {
            "color": [
             32.05,
             31.8,
             32.09
            ],
            "coloraxis": "coloraxis",
            "size": [
             32.05,
             31.8,
             32.09
            ],
            "sizemode": "area",
            "sizeref": 0.1591111111111111
           },
           "mode": "markers",
           "name": "",
           "showlegend": false,
           "subplot": "mapbox",
           "type": "scattermapbox"
          }
         ],
         "name": "2008-07-08"
        },
        {
         "data": [
          {
           "customdata": [
            [
             29.22,
             "2008-10-28T00:00:00"
            ],
            [
             29.32,
             "2008-10-28T00:00:00"
            ]
           ],
           "hovertemplate": "<b>%{hovertext}</b><br><br>animation_frame=2008-10-28<br>Temperature oC=%{marker.color}<br>Latitude_dd=%{lat}<br>Longitude_dd=%{lon}<br>Date=%{customdata[1]}<extra></extra>",
           "hovertext": [
            "bartafi",
            "marwada"
           ],
           "lat": [
            26.26796944,
            26.31694722
           ],
           "legendgroup": "",
           "lon": [
            50.44042778,
            50.45246667
           ],
           "marker": {
            "color": [
             29.22,
             29.32
            ],
            "coloraxis": "coloraxis",
            "size": [
             29.22,
             29.32
            ],
            "sizemode": "area",
            "sizeref": 0.1591111111111111
           },
           "mode": "markers",
           "name": "",
           "showlegend": false,
           "subplot": "mapbox",
           "type": "scattermapbox"
          }
         ],
         "name": "2008-10-28"
        },
        {
         "data": [
          {
           "customdata": [
            [
             15.13,
             "2009-01-20T00:00:00"
            ],
            [
             15.31,
             "2009-01-20T00:00:00"
            ]
           ],
           "hovertemplate": "<b>%{hovertext}</b><br><br>animation_frame=2009-01-20<br>Temperature oC=%{marker.color}<br>Latitude_dd=%{lat}<br>Longitude_dd=%{lon}<br>Date=%{customdata[1]}<extra></extra>",
           "hovertext": [
            "bartafi",
            "marwada"
           ],
           "lat": [
            26.26796944,
            26.31694722
           ],
           "legendgroup": "",
           "lon": [
            50.44042778,
            50.45246667
           ],
           "marker": {
            "color": [
             15.13,
             15.31
            ],
            "coloraxis": "coloraxis",
            "size": [
             15.13,
             15.31
            ],
            "sizemode": "area",
            "sizeref": 0.1591111111111111
           },
           "mode": "markers",
           "name": "",
           "showlegend": false,
           "subplot": "mapbox",
           "type": "scattermapbox"
          }
         ],
         "name": "2009-01-20"
        },
        {
         "data": [
          {
           "customdata": [
            [
             24,
             "2009-04-19T00:00:00"
            ],
            [
             24.25,
             "2009-04-19T00:00:00"
            ],
            [
             23.81,
             "2009-04-19T00:00:00"
            ]
           ],
           "hovertemplate": "<b>%{hovertext}</b><br><br>animation_frame=2009-04-19<br>Temperature oC=%{marker.color}<br>Latitude_dd=%{lat}<br>Longitude_dd=%{lon}<br>Date=%{customdata[1]}<extra></extra>",
           "hovertext": [
            "bartafi",
            "marina club",
            "marwada"
           ],
           "lat": [
            26.26796944,
            26.23741389,
            26.31694722
           ],
           "legendgroup": "",
           "lon": [
            50.44042778,
            50.60260278,
            50.45246667
           ],
           "marker": {
            "color": [
             24,
             24.25,
             23.81
            ],
            "coloraxis": "coloraxis",
            "size": [
             24,
             24.25,
             23.81
            ],
            "sizemode": "area",
            "sizeref": 0.1591111111111111
           },
           "mode": "markers",
           "name": "",
           "showlegend": false,
           "subplot": "mapbox",
           "type": "scattermapbox"
          }
         ],
         "name": "2009-04-19"
        },
        {
         "data": [
          {
           "customdata": [
            [
             32.32,
             "2009-07-07T00:00:00"
            ],
            [
             31.83,
             "2009-07-07T00:00:00"
            ],
            [
             32.13,
             "2009-07-07T00:00:00"
            ]
           ],
           "hovertemplate": "<b>%{hovertext}</b><br><br>animation_frame=2009-07-07<br>Temperature oC=%{marker.color}<br>Latitude_dd=%{lat}<br>Longitude_dd=%{lon}<br>Date=%{customdata[1]}<extra></extra>",
           "hovertext": [
            "bartafi",
            "marina club",
            "marwada"
           ],
           "lat": [
            26.26796944,
            26.23741389,
            26.31694722
           ],
           "legendgroup": "",
           "lon": [
            50.44042778,
            50.60260278,
            50.45246667
           ],
           "marker": {
            "color": [
             32.32,
             31.83,
             32.13
            ],
            "coloraxis": "coloraxis",
            "size": [
             32.32,
             31.83,
             32.13
            ],
            "sizemode": "area",
            "sizeref": 0.1591111111111111
           },
           "mode": "markers",
           "name": "",
           "showlegend": false,
           "subplot": "mapbox",
           "type": "scattermapbox"
          }
         ],
         "name": "2009-07-07"
        },
        {
         "data": [
          {
           "customdata": [
            [
             29.66,
             "2009-10-12T00:00:00"
            ],
            [
             29.78,
             "2009-10-12T00:00:00"
            ]
           ],
           "hovertemplate": "<b>%{hovertext}</b><br><br>animation_frame=2009-10-12<br>Temperature oC=%{marker.color}<br>Latitude_dd=%{lat}<br>Longitude_dd=%{lon}<br>Date=%{customdata[1]}<extra></extra>",
           "hovertext": [
            "bartafi",
            "marwada"
           ],
           "lat": [
            26.26796944,
            26.31694722
           ],
           "legendgroup": "",
           "lon": [
            50.44042778,
            50.45246667
           ],
           "marker": {
            "color": [
             29.66,
             29.78
            ],
            "coloraxis": "coloraxis",
            "size": [
             29.66,
             29.78
            ],
            "sizemode": "area",
            "sizeref": 0.1591111111111111
           },
           "mode": "markers",
           "name": "",
           "showlegend": false,
           "subplot": "mapbox",
           "type": "scattermapbox"
          }
         ],
         "name": "2009-10-12"
        },
        {
         "data": [
          {
           "customdata": [
            [
             18.85,
             "2010-02-03T00:00:00"
            ],
            [
             19.03,
             "2010-02-03T00:00:00"
            ],
            [
             18.87,
             "2010-02-03T00:00:00"
            ]
           ],
           "hovertemplate": "<b>%{hovertext}</b><br><br>animation_frame=2010-02-03<br>Temperature oC=%{marker.color}<br>Latitude_dd=%{lat}<br>Longitude_dd=%{lon}<br>Date=%{customdata[1]}<extra></extra>",
           "hovertext": [
            "bartafi",
            "marina club",
            "marwada"
           ],
           "lat": [
            26.26796944,
            26.23741389,
            26.31694722
           ],
           "legendgroup": "",
           "lon": [
            50.44042778,
            50.60260278,
            50.45246667
           ],
           "marker": {
            "color": [
             18.85,
             19.03,
             18.87
            ],
            "coloraxis": "coloraxis",
            "size": [
             18.85,
             19.03,
             18.87
            ],
            "sizemode": "area",
            "sizeref": 0.1591111111111111
           },
           "mode": "markers",
           "name": "",
           "showlegend": false,
           "subplot": "mapbox",
           "type": "scattermapbox"
          }
         ],
         "name": "2010-02-03"
        },
        {
         "data": [
          {
           "customdata": [
            [
             26.3,
             "2010-04-21T00:00:00"
            ],
            [
             25.55,
             "2010-04-21T00:00:00"
            ]
           ],
           "hovertemplate": "<b>%{hovertext}</b><br><br>animation_frame=2010-04-21<br>Temperature oC=%{marker.color}<br>Latitude_dd=%{lat}<br>Longitude_dd=%{lon}<br>Date=%{customdata[1]}<extra></extra>",
           "hovertext": [
            "bartafi",
            "qassar"
           ],
           "lat": [
            26.26796944,
            26.02503611
           ],
           "legendgroup": "",
           "lon": [
            50.44042778,
            50.43051667
           ],
           "marker": {
            "color": [
             26.3,
             25.55
            ],
            "coloraxis": "coloraxis",
            "size": [
             26.3,
             25.55
            ],
            "sizemode": "area",
            "sizeref": 0.1591111111111111
           },
           "mode": "markers",
           "name": "",
           "showlegend": false,
           "subplot": "mapbox",
           "type": "scattermapbox"
          }
         ],
         "name": "2010-04-21"
        },
        {
         "data": [
          {
           "customdata": [
            [
             31.53,
             "2010-07-06T00:00:00"
            ],
            [
             31.57,
             "2010-07-06T00:00:00"
            ],
            [
             31.54,
             "2010-07-06T00:00:00"
            ]
           ],
           "hovertemplate": "<b>%{hovertext}</b><br><br>animation_frame=2010-07-06<br>Temperature oC=%{marker.color}<br>Latitude_dd=%{lat}<br>Longitude_dd=%{lon}<br>Date=%{customdata[1]}<extra></extra>",
           "hovertext": [
            "bartafi",
            "marina club",
            "qassar"
           ],
           "lat": [
            26.26796944,
            26.23741389,
            26.02503611
           ],
           "legendgroup": "",
           "lon": [
            50.44042778,
            50.60260278,
            50.43051667
           ],
           "marker": {
            "color": [
             31.53,
             31.57,
             31.54
            ],
            "coloraxis": "coloraxis",
            "size": [
             31.53,
             31.57,
             31.54
            ],
            "sizemode": "area",
            "sizeref": 0.1591111111111111
           },
           "mode": "markers",
           "name": "",
           "showlegend": false,
           "subplot": "mapbox",
           "type": "scattermapbox"
          }
         ],
         "name": "2010-07-06"
        },
        {
         "data": [
          {
           "customdata": [
            [
             29,
             "2010-10-17T00:00:00"
            ],
            [
             30.45,
             "2010-10-17T00:00:00"
            ]
           ],
           "hovertemplate": "<b>%{hovertext}</b><br><br>animation_frame=2010-10-17<br>Temperature oC=%{marker.color}<br>Latitude_dd=%{lat}<br>Longitude_dd=%{lon}<br>Date=%{customdata[1]}<extra></extra>",
           "hovertext": [
            "bartafi",
            "qassar"
           ],
           "lat": [
            26.26796944,
            26.02503611
           ],
           "legendgroup": "",
           "lon": [
            50.44042778,
            50.43051667
           ],
           "marker": {
            "color": [
             29,
             30.45
            ],
            "coloraxis": "coloraxis",
            "size": [
             29,
             30.45
            ],
            "sizemode": "area",
            "sizeref": 0.1591111111111111
           },
           "mode": "markers",
           "name": "",
           "showlegend": false,
           "subplot": "mapbox",
           "type": "scattermapbox"
          }
         ],
         "name": "2010-10-17"
        },
        {
         "data": [
          {
           "customdata": [
            [
             16.93,
             "2011-01-18T00:00:00"
            ],
            [
             17.32,
             "2011-01-18T00:00:00"
            ],
            [
             17.3,
             "2011-01-18T00:00:00"
            ]
           ],
           "hovertemplate": "<b>%{hovertext}</b><br><br>animation_frame=2011-01-18<br>Temperature oC=%{marker.color}<br>Latitude_dd=%{lat}<br>Longitude_dd=%{lon}<br>Date=%{customdata[1]}<extra></extra>",
           "hovertext": [
            "bartafi",
            "marina club",
            "marwada"
           ],
           "lat": [
            26.26796944,
            26.23741389,
            26.31694722
           ],
           "legendgroup": "",
           "lon": [
            50.44042778,
            50.60260278,
            50.45246667
           ],
           "marker": {
            "color": [
             16.93,
             17.32,
             17.3
            ],
            "coloraxis": "coloraxis",
            "size": [
             16.93,
             17.32,
             17.3
            ],
            "sizemode": "area",
            "sizeref": 0.1591111111111111
           },
           "mode": "markers",
           "name": "",
           "showlegend": false,
           "subplot": "mapbox",
           "type": "scattermapbox"
          }
         ],
         "name": "2011-01-18"
        },
        {
         "data": [
          {
           "customdata": [
            [
             25.85,
             "2011-04-26T00:00:00"
            ],
            [
             26.21,
             "2011-04-26T00:00:00"
            ],
            [
             25.44,
             "2011-04-26T00:00:00"
            ]
           ],
           "hovertemplate": "<b>%{hovertext}</b><br><br>animation_frame=2011-04-26<br>Temperature oC=%{marker.color}<br>Latitude_dd=%{lat}<br>Longitude_dd=%{lon}<br>Date=%{customdata[1]}<extra></extra>",
           "hovertext": [
            "bartafi",
            "marina club",
            "marwada"
           ],
           "lat": [
            26.26796944,
            26.23741389,
            26.31694722
           ],
           "legendgroup": "",
           "lon": [
            50.44042778,
            50.60260278,
            50.45246667
           ],
           "marker": {
            "color": [
             25.85,
             26.21,
             25.44
            ],
            "coloraxis": "coloraxis",
            "size": [
             25.85,
             26.21,
             25.44
            ],
            "sizemode": "area",
            "sizeref": 0.1591111111111111
           },
           "mode": "markers",
           "name": "",
           "showlegend": false,
           "subplot": "mapbox",
           "type": "scattermapbox"
          }
         ],
         "name": "2011-04-26"
        },
        {
         "data": [
          {
           "customdata": [
            [
             33.1,
             "2011-07-13T00:00:00"
            ],
            [
             32.92,
             "2011-07-13T00:00:00"
            ]
           ],
           "hovertemplate": "<b>%{hovertext}</b><br><br>animation_frame=2011-07-13<br>Temperature oC=%{marker.color}<br>Latitude_dd=%{lat}<br>Longitude_dd=%{lon}<br>Date=%{customdata[1]}<extra></extra>",
           "hovertext": [
            "bartafi",
            "qassar"
           ],
           "lat": [
            26.26796944,
            26.02503611
           ],
           "legendgroup": "",
           "lon": [
            50.44042778,
            50.43051667
           ],
           "marker": {
            "color": [
             33.1,
             32.92
            ],
            "coloraxis": "coloraxis",
            "size": [
             33.1,
             32.92
            ],
            "sizemode": "area",
            "sizeref": 0.1591111111111111
           },
           "mode": "markers",
           "name": "",
           "showlegend": false,
           "subplot": "mapbox",
           "type": "scattermapbox"
          }
         ],
         "name": "2011-07-13"
        },
        {
         "data": [
          {
           "customdata": [
            [
             28.97,
             "2011-10-11T00:00:00"
            ],
            [
             29.09,
             "2011-10-11T00:00:00"
            ]
           ],
           "hovertemplate": "<b>%{hovertext}</b><br><br>animation_frame=2011-10-11<br>Temperature oC=%{marker.color}<br>Latitude_dd=%{lat}<br>Longitude_dd=%{lon}<br>Date=%{customdata[1]}<extra></extra>",
           "hovertext": [
            "bartafi",
            "marwada"
           ],
           "lat": [
            26.26796944,
            26.31694722
           ],
           "legendgroup": "",
           "lon": [
            50.44042778,
            50.45246667
           ],
           "marker": {
            "color": [
             28.97,
             29.09
            ],
            "coloraxis": "coloraxis",
            "size": [
             28.97,
             29.09
            ],
            "sizemode": "area",
            "sizeref": 0.1591111111111111
           },
           "mode": "markers",
           "name": "",
           "showlegend": false,
           "subplot": "mapbox",
           "type": "scattermapbox"
          }
         ],
         "name": "2011-10-11"
        },
        {
         "data": [
          {
           "customdata": [
            [
             16.73,
             "2012-01-18T00:00:00"
            ],
            [
             16.82,
             "2012-01-18T00:00:00"
            ]
           ],
           "hovertemplate": "<b>%{hovertext}</b><br><br>animation_frame=2012-01-18<br>Temperature oC=%{marker.color}<br>Latitude_dd=%{lat}<br>Longitude_dd=%{lon}<br>Date=%{customdata[1]}<extra></extra>",
           "hovertext": [
            "bartafi",
            "qassar"
           ],
           "lat": [
            26.26796944,
            26.02503611
           ],
           "legendgroup": "",
           "lon": [
            50.44042778,
            50.43051667
           ],
           "marker": {
            "color": [
             16.73,
             16.82
            ],
            "coloraxis": "coloraxis",
            "size": [
             16.73,
             16.82
            ],
            "sizemode": "area",
            "sizeref": 0.1591111111111111
           },
           "mode": "markers",
           "name": "",
           "showlegend": false,
           "subplot": "mapbox",
           "type": "scattermapbox"
          }
         ],
         "name": "2012-01-18"
        },
        {
         "data": [
          {
           "customdata": [
            [
             24.08,
             "2012-04-17T00:00:00"
            ],
            [
             24.1,
             "2012-04-17T00:00:00"
            ]
           ],
           "hovertemplate": "<b>%{hovertext}</b><br><br>animation_frame=2012-04-17<br>Temperature oC=%{marker.color}<br>Latitude_dd=%{lat}<br>Longitude_dd=%{lon}<br>Date=%{customdata[1]}<extra></extra>",
           "hovertext": [
            "bartafi",
            "marwada"
           ],
           "lat": [
            26.26796944,
            26.31694722
           ],
           "legendgroup": "",
           "lon": [
            50.44042778,
            50.45246667
           ],
           "marker": {
            "color": [
             24.08,
             24.1
            ],
            "coloraxis": "coloraxis",
            "size": [
             24.08,
             24.1
            ],
            "sizemode": "area",
            "sizeref": 0.1591111111111111
           },
           "mode": "markers",
           "name": "",
           "showlegend": false,
           "subplot": "mapbox",
           "type": "scattermapbox"
          }
         ],
         "name": "2012-04-17"
        },
        {
         "data": [
          {
           "customdata": [
            [
             30.92,
             "2012-07-11T00:00:00"
            ],
            [
             31.1,
             "2012-07-11T00:00:00"
            ]
           ],
           "hovertemplate": "<b>%{hovertext}</b><br><br>animation_frame=2012-07-11<br>Temperature oC=%{marker.color}<br>Latitude_dd=%{lat}<br>Longitude_dd=%{lon}<br>Date=%{customdata[1]}<extra></extra>",
           "hovertext": [
            "bartafi",
            "qassar"
           ],
           "lat": [
            26.26796944,
            26.02503611
           ],
           "legendgroup": "",
           "lon": [
            50.44042778,
            50.43051667
           ],
           "marker": {
            "color": [
             30.92,
             31.1
            ],
            "coloraxis": "coloraxis",
            "size": [
             30.92,
             31.1
            ],
            "sizemode": "area",
            "sizeref": 0.1591111111111111
           },
           "mode": "markers",
           "name": "",
           "showlegend": false,
           "subplot": "mapbox",
           "type": "scattermapbox"
          }
         ],
         "name": "2012-07-11"
        },
        {
         "data": [
          {
           "customdata": [
            [
             31.24,
             "2012-10-10T00:00:00"
            ],
            [
             31.28,
             "2012-10-10T00:00:00"
            ]
           ],
           "hovertemplate": "<b>%{hovertext}</b><br><br>animation_frame=2012-10-10<br>Temperature oC=%{marker.color}<br>Latitude_dd=%{lat}<br>Longitude_dd=%{lon}<br>Date=%{customdata[1]}<extra></extra>",
           "hovertext": [
            "bartafi",
            "qassar"
           ],
           "lat": [
            26.26796944,
            26.02503611
           ],
           "legendgroup": "",
           "lon": [
            50.44042778,
            50.43051667
           ],
           "marker": {
            "color": [
             31.24,
             31.28
            ],
            "coloraxis": "coloraxis",
            "size": [
             31.24,
             31.28
            ],
            "sizemode": "area",
            "sizeref": 0.1591111111111111
           },
           "mode": "markers",
           "name": "",
           "showlegend": false,
           "subplot": "mapbox",
           "type": "scattermapbox"
          }
         ],
         "name": "2012-10-10"
        },
        {
         "data": [
          {
           "customdata": [
            [
             16.95,
             "2013-01-23T00:00:00"
            ],
            [
             17.09,
             "2013-01-23T00:00:00"
            ]
           ],
           "hovertemplate": "<b>%{hovertext}</b><br><br>animation_frame=2013-01-23<br>Temperature oC=%{marker.color}<br>Latitude_dd=%{lat}<br>Longitude_dd=%{lon}<br>Date=%{customdata[1]}<extra></extra>",
           "hovertext": [
            "bartafi",
            "qassar"
           ],
           "lat": [
            26.26796944,
            26.02503611
           ],
           "legendgroup": "",
           "lon": [
            50.44042778,
            50.43051667
           ],
           "marker": {
            "color": [
             16.95,
             17.09
            ],
            "coloraxis": "coloraxis",
            "size": [
             16.95,
             17.09
            ],
            "sizemode": "area",
            "sizeref": 0.1591111111111111
           },
           "mode": "markers",
           "name": "",
           "showlegend": false,
           "subplot": "mapbox",
           "type": "scattermapbox"
          }
         ],
         "name": "2013-01-23"
        },
        {
         "data": [
          {
           "customdata": [
            [
             25.39,
             "2013-04-17T00:00:00"
            ],
            [
             25.42,
             "2013-04-17T00:00:00"
            ],
            [
             25.56,
             "2013-04-17T00:00:00"
            ]
           ],
           "hovertemplate": "<b>%{hovertext}</b><br><br>animation_frame=2013-04-17<br>Temperature oC=%{marker.color}<br>Latitude_dd=%{lat}<br>Longitude_dd=%{lon}<br>Date=%{customdata[1]}<extra></extra>",
           "hovertext": [
            "bartafi",
            "marwada",
            "qassar"
           ],
           "lat": [
            26.26796944,
            26.31694722,
            26.02503611
           ],
           "legendgroup": "",
           "lon": [
            50.44042778,
            50.45246667,
            50.43051667
           ],
           "marker": {
            "color": [
             25.39,
             25.42,
             25.56
            ],
            "coloraxis": "coloraxis",
            "size": [
             25.39,
             25.42,
             25.56
            ],
            "sizemode": "area",
            "sizeref": 0.1591111111111111
           },
           "mode": "markers",
           "name": "",
           "showlegend": false,
           "subplot": "mapbox",
           "type": "scattermapbox"
          }
         ],
         "name": "2013-04-17"
        },
        {
         "data": [
          {
           "customdata": [
            [
             32.65,
             "2013-08-28T00:00:00"
            ],
            [
             33.15,
             "2013-08-28T00:00:00"
            ]
           ],
           "hovertemplate": "<b>%{hovertext}</b><br><br>animation_frame=2013-08-28<br>Temperature oC=%{marker.color}<br>Latitude_dd=%{lat}<br>Longitude_dd=%{lon}<br>Date=%{customdata[1]}<extra></extra>",
           "hovertext": [
            "bartafi",
            "qassar"
           ],
           "lat": [
            26.26796944,
            26.02503611
           ],
           "legendgroup": "",
           "lon": [
            50.44042778,
            50.43051667
           ],
           "marker": {
            "color": [
             32.65,
             33.15
            ],
            "coloraxis": "coloraxis",
            "size": [
             32.65,
             33.15
            ],
            "sizemode": "area",
            "sizeref": 0.1591111111111111
           },
           "mode": "markers",
           "name": "",
           "showlegend": false,
           "subplot": "mapbox",
           "type": "scattermapbox"
          }
         ],
         "name": "2013-08-28"
        },
        {
         "data": [
          {
           "customdata": [
            [
             25.9,
             "2013-11-07T00:00:00"
            ],
            [
             25.69,
             "2013-11-07T00:00:00"
            ]
           ],
           "hovertemplate": "<b>%{hovertext}</b><br><br>animation_frame=2013-11-07<br>Temperature oC=%{marker.color}<br>Latitude_dd=%{lat}<br>Longitude_dd=%{lon}<br>Date=%{customdata[1]}<extra></extra>",
           "hovertext": [
            "bartafi",
            "marwada"
           ],
           "lat": [
            26.26796944,
            26.31694722
           ],
           "legendgroup": "",
           "lon": [
            50.44042778,
            50.45246667
           ],
           "marker": {
            "color": [
             25.9,
             25.69
            ],
            "coloraxis": "coloraxis",
            "size": [
             25.9,
             25.69
            ],
            "sizemode": "area",
            "sizeref": 0.1591111111111111
           },
           "mode": "markers",
           "name": "",
           "showlegend": false,
           "subplot": "mapbox",
           "type": "scattermapbox"
          }
         ],
         "name": "2013-11-07"
        },
        {
         "data": [
          {
           "customdata": [
            [
             16.23,
             "2014-01-21T00:00:00"
            ]
           ],
           "hovertemplate": "<b>%{hovertext}</b><br><br>animation_frame=2014-01-21<br>Temperature oC=%{marker.color}<br>Latitude_dd=%{lat}<br>Longitude_dd=%{lon}<br>Date=%{customdata[1]}<extra></extra>",
           "hovertext": [
            "bartafi"
           ],
           "lat": [
            26.26796944
           ],
           "legendgroup": "",
           "lon": [
            50.44042778
           ],
           "marker": {
            "color": [
             16.23
            ],
            "coloraxis": "coloraxis",
            "size": [
             16.23
            ],
            "sizemode": "area",
            "sizeref": 0.1591111111111111
           },
           "mode": "markers",
           "name": "",
           "showlegend": false,
           "subplot": "mapbox",
           "type": "scattermapbox"
          }
         ],
         "name": "2014-01-21"
        },
        {
         "data": [
          {
           "customdata": [
            [
             27.6,
             "2014-05-07T00:00:00"
            ],
            [
             27.7,
             "2014-05-07T00:00:00"
            ]
           ],
           "hovertemplate": "<b>%{hovertext}</b><br><br>animation_frame=2014-05-07<br>Temperature oC=%{marker.color}<br>Latitude_dd=%{lat}<br>Longitude_dd=%{lon}<br>Date=%{customdata[1]}<extra></extra>",
           "hovertext": [
            "bartafi",
            "marwada"
           ],
           "lat": [
            26.26796944,
            26.31694722
           ],
           "legendgroup": "",
           "lon": [
            50.44042778,
            50.45246667
           ],
           "marker": {
            "color": [
             27.6,
             27.7
            ],
            "coloraxis": "coloraxis",
            "size": [
             27.6,
             27.7
            ],
            "sizemode": "area",
            "sizeref": 0.1591111111111111
           },
           "mode": "markers",
           "name": "",
           "showlegend": false,
           "subplot": "mapbox",
           "type": "scattermapbox"
          }
         ],
         "name": "2014-05-07"
        },
        {
         "data": [
          {
           "customdata": [
            [
             34.46,
             "2014-08-27T00:00:00"
            ],
            [
             34.41,
             "2014-08-27T00:00:00"
            ]
           ],
           "hovertemplate": "<b>%{hovertext}</b><br><br>animation_frame=2014-08-27<br>Temperature oC=%{marker.color}<br>Latitude_dd=%{lat}<br>Longitude_dd=%{lon}<br>Date=%{customdata[1]}<extra></extra>",
           "hovertext": [
            "bartafi",
            "marina club"
           ],
           "lat": [
            26.26796944,
            26.23741389
           ],
           "legendgroup": "",
           "lon": [
            50.44042778,
            50.60260278
           ],
           "marker": {
            "color": [
             34.46,
             34.41
            ],
            "coloraxis": "coloraxis",
            "size": [
             34.46,
             34.41
            ],
            "sizemode": "area",
            "sizeref": 0.1591111111111111
           },
           "mode": "markers",
           "name": "",
           "showlegend": false,
           "subplot": "mapbox",
           "type": "scattermapbox"
          }
         ],
         "name": "2014-08-27"
        },
        {
         "data": [
          {
           "customdata": [
            [
             29.68,
             "2014-10-21T00:00:00"
            ],
            [
             29.76,
             "2014-10-21T00:00:00"
            ]
           ],
           "hovertemplate": "<b>%{hovertext}</b><br><br>animation_frame=2014-10-21<br>Temperature oC=%{marker.color}<br>Latitude_dd=%{lat}<br>Longitude_dd=%{lon}<br>Date=%{customdata[1]}<extra></extra>",
           "hovertext": [
            "bartafi",
            "marwada"
           ],
           "lat": [
            26.26796944,
            26.31694722
           ],
           "legendgroup": "",
           "lon": [
            50.44042778,
            50.45246667
           ],
           "marker": {
            "color": [
             29.68,
             29.76
            ],
            "coloraxis": "coloraxis",
            "size": [
             29.68,
             29.76
            ],
            "sizemode": "area",
            "sizeref": 0.1591111111111111
           },
           "mode": "markers",
           "name": "",
           "showlegend": false,
           "subplot": "mapbox",
           "type": "scattermapbox"
          }
         ],
         "name": "2014-10-21"
        },
        {
         "data": [
          {
           "customdata": [
            [
             17.13,
             "2015-01-28T00:00:00"
            ],
            [
             16.93,
             "2015-01-28T00:00:00"
            ]
           ],
           "hovertemplate": "<b>%{hovertext}</b><br><br>animation_frame=2015-01-28<br>Temperature oC=%{marker.color}<br>Latitude_dd=%{lat}<br>Longitude_dd=%{lon}<br>Date=%{customdata[1]}<extra></extra>",
           "hovertext": [
            "bartafi",
            "marwada"
           ],
           "lat": [
            26.26796944,
            26.31694722
           ],
           "legendgroup": "",
           "lon": [
            50.44042778,
            50.45246667
           ],
           "marker": {
            "color": [
             17.13,
             16.93
            ],
            "coloraxis": "coloraxis",
            "size": [
             17.13,
             16.93
            ],
            "sizemode": "area",
            "sizeref": 0.1591111111111111
           },
           "mode": "markers",
           "name": "",
           "showlegend": false,
           "subplot": "mapbox",
           "type": "scattermapbox"
          }
         ],
         "name": "2015-01-28"
        },
        {
         "data": [
          {
           "customdata": [
            [
             23.42,
             "2015-04-19T00:00:00"
            ],
            [
             23.53,
             "2015-04-19T00:00:00"
            ]
           ],
           "hovertemplate": "<b>%{hovertext}</b><br><br>animation_frame=2015-04-19<br>Temperature oC=%{marker.color}<br>Latitude_dd=%{lat}<br>Longitude_dd=%{lon}<br>Date=%{customdata[1]}<extra></extra>",
           "hovertext": [
            "bartafi",
            "marwada"
           ],
           "lat": [
            26.26796944,
            26.31694722
           ],
           "legendgroup": "",
           "lon": [
            50.44042778,
            50.45246667
           ],
           "marker": {
            "color": [
             23.42,
             23.53
            ],
            "coloraxis": "coloraxis",
            "size": [
             23.42,
             23.53
            ],
            "sizemode": "area",
            "sizeref": 0.1591111111111111
           },
           "mode": "markers",
           "name": "",
           "showlegend": false,
           "subplot": "mapbox",
           "type": "scattermapbox"
          }
         ],
         "name": "2015-04-19"
        },
        {
         "data": [
          {
           "customdata": [
            [
             34.57,
             "2015-08-30T00:00:00"
            ]
           ],
           "hovertemplate": "<b>%{hovertext}</b><br><br>animation_frame=2015-08-30<br>Temperature oC=%{marker.color}<br>Latitude_dd=%{lat}<br>Longitude_dd=%{lon}<br>Date=%{customdata[1]}<extra></extra>",
           "hovertext": [
            "bartafi"
           ],
           "lat": [
            26.26796944
           ],
           "legendgroup": "",
           "lon": [
            50.44042778
           ],
           "marker": {
            "color": [
             34.57
            ],
            "coloraxis": "coloraxis",
            "size": [
             34.57
            ],
            "sizemode": "area",
            "sizeref": 0.1591111111111111
           },
           "mode": "markers",
           "name": "",
           "showlegend": false,
           "subplot": "mapbox",
           "type": "scattermapbox"
          }
         ],
         "name": "2015-08-30"
        },
        {
         "data": [
          {
           "customdata": [
            [
             23.3,
             "2015-11-30T00:00:00"
            ],
            [
             23.2,
             "2015-11-30T00:00:00"
            ]
           ],
           "hovertemplate": "<b>%{hovertext}</b><br><br>animation_frame=2015-11-30<br>Temperature oC=%{marker.color}<br>Latitude_dd=%{lat}<br>Longitude_dd=%{lon}<br>Date=%{customdata[1]}<extra></extra>",
           "hovertext": [
            "bartafi",
            "marwada"
           ],
           "lat": [
            26.26796944,
            26.31694722
           ],
           "legendgroup": "",
           "lon": [
            50.44042778,
            50.45246667
           ],
           "marker": {
            "color": [
             23.3,
             23.2
            ],
            "coloraxis": "coloraxis",
            "size": [
             23.3,
             23.2
            ],
            "sizemode": "area",
            "sizeref": 0.1591111111111111
           },
           "mode": "markers",
           "name": "",
           "showlegend": false,
           "subplot": "mapbox",
           "type": "scattermapbox"
          }
         ],
         "name": "2015-11-30"
        },
        {
         "data": [
          {
           "customdata": [
            [
             24.5,
             "2016-11-14T00:00:00"
            ],
            [
             25.6,
             "2016-11-14T00:00:00"
            ]
           ],
           "hovertemplate": "<b>%{hovertext}</b><br><br>animation_frame=2016-11-14<br>Temperature oC=%{marker.color}<br>Latitude_dd=%{lat}<br>Longitude_dd=%{lon}<br>Date=%{customdata[1]}<extra></extra>",
           "hovertext": [
            "bartafi",
            "qassar"
           ],
           "lat": [
            26.26796944,
            26.02503611
           ],
           "legendgroup": "",
           "lon": [
            50.44042778,
            50.43051667
           ],
           "marker": {
            "color": [
             24.5,
             25.6
            ],
            "coloraxis": "coloraxis",
            "size": [
             24.5,
             25.6
            ],
            "sizemode": "area",
            "sizeref": 0.1591111111111111
           },
           "mode": "markers",
           "name": "",
           "showlegend": false,
           "subplot": "mapbox",
           "type": "scattermapbox"
          }
         ],
         "name": "2016-11-14"
        },
        {
         "data": [
          {
           "customdata": [
            [
             25.82,
             "2010-04-20T00:00:00"
            ],
            [
             26.09,
             "2010-04-20T00:00:00"
            ]
           ],
           "hovertemplate": "<b>%{hovertext}</b><br><br>animation_frame=2010-04-20<br>Temperature oC=%{marker.color}<br>Latitude_dd=%{lat}<br>Longitude_dd=%{lon}<br>Date=%{customdata[1]}<extra></extra>",
           "hovertext": [
            "marina club",
            "marwada"
           ],
           "lat": [
            26.23741389,
            26.31694722
           ],
           "legendgroup": "",
           "lon": [
            50.60260278,
            50.45246667
           ],
           "marker": {
            "color": [
             25.82,
             26.09
            ],
            "coloraxis": "coloraxis",
            "size": [
             25.82,
             26.09
            ],
            "sizemode": "area",
            "sizeref": 0.1591111111111111
           },
           "mode": "markers",
           "name": "",
           "showlegend": false,
           "subplot": "mapbox",
           "type": "scattermapbox"
          }
         ],
         "name": "2010-04-20"
        },
        {
         "data": [
          {
           "customdata": [
            [
             31.85,
             "2010-10-12T00:00:00"
            ],
            [
             31.89,
             "2010-10-12T00:00:00"
            ]
           ],
           "hovertemplate": "<b>%{hovertext}</b><br><br>animation_frame=2010-10-12<br>Temperature oC=%{marker.color}<br>Latitude_dd=%{lat}<br>Longitude_dd=%{lon}<br>Date=%{customdata[1]}<extra></extra>",
           "hovertext": [
            "marina club",
            "marwada"
           ],
           "lat": [
            26.23741389,
            26.31694722
           ],
           "legendgroup": "",
           "lon": [
            50.60260278,
            50.45246667
           ],
           "marker": {
            "color": [
             31.85,
             31.89
            ],
            "coloraxis": "coloraxis",
            "size": [
             31.85,
             31.89
            ],
            "sizemode": "area",
            "sizeref": 0.1591111111111111
           },
           "mode": "markers",
           "name": "",
           "showlegend": false,
           "subplot": "mapbox",
           "type": "scattermapbox"
          }
         ],
         "name": "2010-10-12"
        },
        {
         "data": [
          {
           "customdata": [
            [
             32.01,
             "2012-10-09T00:00:00"
            ],
            [
             31.14,
             "2012-10-09T00:00:00"
            ]
           ],
           "hovertemplate": "<b>%{hovertext}</b><br><br>animation_frame=2012-10-09<br>Temperature oC=%{marker.color}<br>Latitude_dd=%{lat}<br>Longitude_dd=%{lon}<br>Date=%{customdata[1]}<extra></extra>",
           "hovertext": [
            "marina club",
            "marwada"
           ],
           "lat": [
            26.23741389,
            26.31694722
           ],
           "legendgroup": "",
           "lon": [
            50.60260278,
            50.45246667
           ],
           "marker": {
            "color": [
             32.01,
             31.14
            ],
            "coloraxis": "coloraxis",
            "size": [
             32.01,
             31.14
            ],
            "sizemode": "area",
            "sizeref": 0.1591111111111111
           },
           "mode": "markers",
           "name": "",
           "showlegend": false,
           "subplot": "mapbox",
           "type": "scattermapbox"
          }
         ],
         "name": "2012-10-09"
        },
        {
         "data": [
          {
           "customdata": [
            [
             17.2,
             "2013-01-22T00:00:00"
            ],
            [
             16.88,
             "2013-01-22T00:00:00"
            ]
           ],
           "hovertemplate": "<b>%{hovertext}</b><br><br>animation_frame=2013-01-22<br>Temperature oC=%{marker.color}<br>Latitude_dd=%{lat}<br>Longitude_dd=%{lon}<br>Date=%{customdata[1]}<extra></extra>",
           "hovertext": [
            "marina club",
            "marwada"
           ],
           "lat": [
            26.23741389,
            26.31694722
           ],
           "legendgroup": "",
           "lon": [
            50.60260278,
            50.45246667
           ],
           "marker": {
            "color": [
             17.2,
             16.88
            ],
            "coloraxis": "coloraxis",
            "size": [
             17.2,
             16.88
            ],
            "sizemode": "area",
            "sizeref": 0.1591111111111111
           },
           "mode": "markers",
           "name": "",
           "showlegend": false,
           "subplot": "mapbox",
           "type": "scattermapbox"
          }
         ],
         "name": "2013-01-22"
        },
        {
         "data": [
          {
           "customdata": [
            [
             25.44,
             "2013-04-16T00:00:00"
            ]
           ],
           "hovertemplate": "<b>%{hovertext}</b><br><br>animation_frame=2013-04-16<br>Temperature oC=%{marker.color}<br>Latitude_dd=%{lat}<br>Longitude_dd=%{lon}<br>Date=%{customdata[1]}<extra></extra>",
           "hovertext": [
            "marina club"
           ],
           "lat": [
            26.23741389
           ],
           "legendgroup": "",
           "lon": [
            50.60260278
           ],
           "marker": {
            "color": [
             25.44
            ],
            "coloraxis": "coloraxis",
            "size": [
             25.44
            ],
            "sizemode": "area",
            "sizeref": 0.1591111111111111
           },
           "mode": "markers",
           "name": "",
           "showlegend": false,
           "subplot": "mapbox",
           "type": "scattermapbox"
          }
         ],
         "name": "2013-04-16"
        },
        {
         "data": [
          {
           "customdata": [
            [
             31.4,
             "2010-07-05T00:00:00"
            ]
           ],
           "hovertemplate": "<b>%{hovertext}</b><br><br>animation_frame=2010-07-05<br>Temperature oC=%{marker.color}<br>Latitude_dd=%{lat}<br>Longitude_dd=%{lon}<br>Date=%{customdata[1]}<extra></extra>",
           "hovertext": [
            "marwada"
           ],
           "lat": [
            26.31694722
           ],
           "legendgroup": "",
           "lon": [
            50.45246667
           ],
           "marker": {
            "color": [
             31.4
            ],
            "coloraxis": "coloraxis",
            "size": [
             31.4
            ],
            "sizemode": "area",
            "sizeref": 0.1591111111111111
           },
           "mode": "markers",
           "name": "",
           "showlegend": false,
           "subplot": "mapbox",
           "type": "scattermapbox"
          }
         ],
         "name": "2010-07-05"
        },
        {
         "data": [
          {
           "customdata": [
            [
             32.49,
             "2011-07-12T00:00:00"
            ]
           ],
           "hovertemplate": "<b>%{hovertext}</b><br><br>animation_frame=2011-07-12<br>Temperature oC=%{marker.color}<br>Latitude_dd=%{lat}<br>Longitude_dd=%{lon}<br>Date=%{customdata[1]}<extra></extra>",
           "hovertext": [
            "marwada"
           ],
           "lat": [
            26.31694722
           ],
           "legendgroup": "",
           "lon": [
            50.45246667
           ],
           "marker": {
            "color": [
             32.49
            ],
            "coloraxis": "coloraxis",
            "size": [
             32.49
            ],
            "sizemode": "area",
            "sizeref": 0.1591111111111111
           },
           "mode": "markers",
           "name": "",
           "showlegend": false,
           "subplot": "mapbox",
           "type": "scattermapbox"
          }
         ],
         "name": "2011-07-12"
        },
        {
         "data": [
          {
           "customdata": [
            [
             17.56,
             "2012-01-19T00:00:00"
            ]
           ],
           "hovertemplate": "<b>%{hovertext}</b><br><br>animation_frame=2012-01-19<br>Temperature oC=%{marker.color}<br>Latitude_dd=%{lat}<br>Longitude_dd=%{lon}<br>Date=%{customdata[1]}<extra></extra>",
           "hovertext": [
            "marwada"
           ],
           "lat": [
            26.31694722
           ],
           "legendgroup": "",
           "lon": [
            50.45246667
           ],
           "marker": {
            "color": [
             17.56
            ],
            "coloraxis": "coloraxis",
            "size": [
             17.56
            ],
            "sizemode": "area",
            "sizeref": 0.1591111111111111
           },
           "mode": "markers",
           "name": "",
           "showlegend": false,
           "subplot": "mapbox",
           "type": "scattermapbox"
          }
         ],
         "name": "2012-01-19"
        },
        {
         "data": [
          {
           "customdata": [
            [
             31.03,
             "2012-07-10T00:00:00"
            ]
           ],
           "hovertemplate": "<b>%{hovertext}</b><br><br>animation_frame=2012-07-10<br>Temperature oC=%{marker.color}<br>Latitude_dd=%{lat}<br>Longitude_dd=%{lon}<br>Date=%{customdata[1]}<extra></extra>",
           "hovertext": [
            "marwada"
           ],
           "lat": [
            26.31694722
           ],
           "legendgroup": "",
           "lon": [
            50.45246667
           ],
           "marker": {
            "color": [
             31.03
            ],
            "coloraxis": "coloraxis",
            "size": [
             31.03
            ],
            "sizemode": "area",
            "sizeref": 0.1591111111111111
           },
           "mode": "markers",
           "name": "",
           "showlegend": false,
           "subplot": "mapbox",
           "type": "scattermapbox"
          }
         ],
         "name": "2012-07-10"
        },
        {
         "data": [
          {
           "customdata": [
            [
             33.55,
             "2013-08-27T00:00:00"
            ]
           ],
           "hovertemplate": "<b>%{hovertext}</b><br><br>animation_frame=2013-08-27<br>Temperature oC=%{marker.color}<br>Latitude_dd=%{lat}<br>Longitude_dd=%{lon}<br>Date=%{customdata[1]}<extra></extra>",
           "hovertext": [
            "marwada"
           ],
           "lat": [
            26.31694722
           ],
           "legendgroup": "",
           "lon": [
            50.45246667
           ],
           "marker": {
            "color": [
             33.55
            ],
            "coloraxis": "coloraxis",
            "size": [
             33.55
            ],
            "sizemode": "area",
            "sizeref": 0.1591111111111111
           },
           "mode": "markers",
           "name": "",
           "showlegend": false,
           "subplot": "mapbox",
           "type": "scattermapbox"
          }
         ],
         "name": "2013-08-27"
        },
        {
         "data": [
          {
           "customdata": [
            [
             16.33,
             "2014-01-22T00:00:00"
            ]
           ],
           "hovertemplate": "<b>%{hovertext}</b><br><br>animation_frame=2014-01-22<br>Temperature oC=%{marker.color}<br>Latitude_dd=%{lat}<br>Longitude_dd=%{lon}<br>Date=%{customdata[1]}<extra></extra>",
           "hovertext": [
            "marwada"
           ],
           "lat": [
            26.31694722
           ],
           "legendgroup": "",
           "lon": [
            50.45246667
           ],
           "marker": {
            "color": [
             16.33
            ],
            "coloraxis": "coloraxis",
            "size": [
             16.33
            ],
            "sizemode": "area",
            "sizeref": 0.1591111111111111
           },
           "mode": "markers",
           "name": "",
           "showlegend": false,
           "subplot": "mapbox",
           "type": "scattermapbox"
          }
         ],
         "name": "2014-01-22"
        },
        {
         "data": [
          {
           "customdata": [
            [
             34.09,
             "2014-08-31T00:00:00"
            ],
            [
             34.04,
             "2014-08-31T00:00:00"
            ]
           ],
           "hovertemplate": "<b>%{hovertext}</b><br><br>animation_frame=2014-08-31<br>Temperature oC=%{marker.color}<br>Latitude_dd=%{lat}<br>Longitude_dd=%{lon}<br>Date=%{customdata[1]}<extra></extra>",
           "hovertext": [
            "marwada",
            "sura"
           ],
           "lat": [
            26.31694722,
            26.48800278
           ],
           "legendgroup": "",
           "lon": [
            50.45246667,
            50.42891944
           ],
           "marker": {
            "color": [
             34.09,
             34.04
            ],
            "coloraxis": "coloraxis",
            "size": [
             34.09,
             34.04
            ],
            "sizemode": "area",
            "sizeref": 0.1591111111111111
           },
           "mode": "markers",
           "name": "",
           "showlegend": false,
           "subplot": "mapbox",
           "type": "scattermapbox"
          }
         ],
         "name": "2014-08-31"
        },
        {
         "data": [
          {
           "customdata": [
            [
             34.51,
             "2015-08-26T00:00:00"
            ],
            [
             35.07,
             "2015-08-26T00:00:00"
            ]
           ],
           "hovertemplate": "<b>%{hovertext}</b><br><br>animation_frame=2015-08-26<br>Temperature oC=%{marker.color}<br>Latitude_dd=%{lat}<br>Longitude_dd=%{lon}<br>Date=%{customdata[1]}<extra></extra>",
           "hovertext": [
            "marwada",
            "sura"
           ],
           "lat": [
            26.31694722,
            26.48800278
           ],
           "legendgroup": "",
           "lon": [
            50.45246667,
            50.42891944
           ],
           "marker": {
            "color": [
             34.51,
             35.07
            ],
            "coloraxis": "coloraxis",
            "size": [
             34.51,
             35.07
            ],
            "sizemode": "area",
            "sizeref": 0.1591111111111111
           },
           "mode": "markers",
           "name": "",
           "showlegend": false,
           "subplot": "mapbox",
           "type": "scattermapbox"
          }
         ],
         "name": "2015-08-26"
        },
        {
         "data": [
          {
           "customdata": [
            [
             14.6,
             "2016-02-01T00:00:00"
            ]
           ],
           "hovertemplate": "<b>%{hovertext}</b><br><br>animation_frame=2016-02-01<br>Temperature oC=%{marker.color}<br>Latitude_dd=%{lat}<br>Longitude_dd=%{lon}<br>Date=%{customdata[1]}<extra></extra>",
           "hovertext": [
            "marwada"
           ],
           "lat": [
            26.31694722
           ],
           "legendgroup": "",
           "lon": [
            50.45246667
           ],
           "marker": {
            "color": [
             14.6
            ],
            "coloraxis": "coloraxis",
            "size": [
             14.6
            ],
            "sizemode": "area",
            "sizeref": 0.1591111111111111
           },
           "mode": "markers",
           "name": "",
           "showlegend": false,
           "subplot": "mapbox",
           "type": "scattermapbox"
          }
         ],
         "name": "2016-02-01"
        },
        {
         "data": [
          {
           "customdata": [
            [
             24.2,
             "2016-04-19T00:00:00"
            ]
           ],
           "hovertemplate": "<b>%{hovertext}</b><br><br>animation_frame=2016-04-19<br>Temperature oC=%{marker.color}<br>Latitude_dd=%{lat}<br>Longitude_dd=%{lon}<br>Date=%{customdata[1]}<extra></extra>",
           "hovertext": [
            "marwada"
           ],
           "lat": [
            26.31694722
           ],
           "legendgroup": "",
           "lon": [
            50.45246667
           ],
           "marker": {
            "color": [
             24.2
            ],
            "coloraxis": "coloraxis",
            "size": [
             24.2
            ],
            "sizemode": "area",
            "sizeref": 0.1591111111111111
           },
           "mode": "markers",
           "name": "",
           "showlegend": false,
           "subplot": "mapbox",
           "type": "scattermapbox"
          }
         ],
         "name": "2016-04-19"
        },
        {
         "data": [
          {
           "customdata": [
            [
             28.6,
             "2016-10-26T00:00:00"
            ]
           ],
           "hovertemplate": "<b>%{hovertext}</b><br><br>animation_frame=2016-10-26<br>Temperature oC=%{marker.color}<br>Latitude_dd=%{lat}<br>Longitude_dd=%{lon}<br>Date=%{customdata[1]}<extra></extra>",
           "hovertext": [
            "marwada"
           ],
           "lat": [
            26.31694722
           ],
           "legendgroup": "",
           "lon": [
            50.45246667
           ],
           "marker": {
            "color": [
             28.6
            ],
            "coloraxis": "coloraxis",
            "size": [
             28.6
            ],
            "sizemode": "area",
            "sizeref": 0.1591111111111111
           },
           "mode": "markers",
           "name": "",
           "showlegend": false,
           "subplot": "mapbox",
           "type": "scattermapbox"
          }
         ],
         "name": "2016-10-26"
        },
        {
         "data": [
          {
           "customdata": [
            [
             25.35,
             "2007-04-26T00:00:00"
            ]
           ],
           "hovertemplate": "<b>%{hovertext}</b><br><br>animation_frame=2007-04-26<br>Temperature oC=%{marker.color}<br>Latitude_dd=%{lat}<br>Longitude_dd=%{lon}<br>Date=%{customdata[1]}<extra></extra>",
           "hovertext": [
            "qassar"
           ],
           "lat": [
            26.02503611
           ],
           "legendgroup": "",
           "lon": [
            50.43051667
           ],
           "marker": {
            "color": [
             25.35
            ],
            "coloraxis": "coloraxis",
            "size": [
             25.35
            ],
            "sizemode": "area",
            "sizeref": 0.1591111111111111
           },
           "mode": "markers",
           "name": "",
           "showlegend": false,
           "subplot": "mapbox",
           "type": "scattermapbox"
          }
         ],
         "name": "2007-04-26"
        },
        {
         "data": [
          {
           "customdata": [
            [
             32.06,
             "2007-07-11T00:00:00"
            ]
           ],
           "hovertemplate": "<b>%{hovertext}</b><br><br>animation_frame=2007-07-11<br>Temperature oC=%{marker.color}<br>Latitude_dd=%{lat}<br>Longitude_dd=%{lon}<br>Date=%{customdata[1]}<extra></extra>",
           "hovertext": [
            "qassar"
           ],
           "lat": [
            26.02503611
           ],
           "legendgroup": "",
           "lon": [
            50.43051667
           ],
           "marker": {
            "color": [
             32.06
            ],
            "coloraxis": "coloraxis",
            "size": [
             32.06
            ],
            "sizemode": "area",
            "sizeref": 0.1591111111111111
           },
           "mode": "markers",
           "name": "",
           "showlegend": false,
           "subplot": "mapbox",
           "type": "scattermapbox"
          }
         ],
         "name": "2007-07-11"
        },
        {
         "data": [
          {
           "customdata": [
            [
             29.29,
             "2007-11-01T00:00:00"
            ]
           ],
           "hovertemplate": "<b>%{hovertext}</b><br><br>animation_frame=2007-11-01<br>Temperature oC=%{marker.color}<br>Latitude_dd=%{lat}<br>Longitude_dd=%{lon}<br>Date=%{customdata[1]}<extra></extra>",
           "hovertext": [
            "qassar"
           ],
           "lat": [
            26.02503611
           ],
           "legendgroup": "",
           "lon": [
            50.43051667
           ],
           "marker": {
            "color": [
             29.29
            ],
            "coloraxis": "coloraxis",
            "size": [
             29.29
            ],
            "sizemode": "area",
            "sizeref": 0.1591111111111111
           },
           "mode": "markers",
           "name": "",
           "showlegend": false,
           "subplot": "mapbox",
           "type": "scattermapbox"
          }
         ],
         "name": "2007-11-01"
        },
        {
         "data": [
          {
           "customdata": [
            [
             24.49,
             "2008-04-23T00:00:00"
            ]
           ],
           "hovertemplate": "<b>%{hovertext}</b><br><br>animation_frame=2008-04-23<br>Temperature oC=%{marker.color}<br>Latitude_dd=%{lat}<br>Longitude_dd=%{lon}<br>Date=%{customdata[1]}<extra></extra>",
           "hovertext": [
            "qassar"
           ],
           "lat": [
            26.02503611
           ],
           "legendgroup": "",
           "lon": [
            50.43051667
           ],
           "marker": {
            "color": [
             24.49
            ],
            "coloraxis": "coloraxis",
            "size": [
             24.49
            ],
            "sizemode": "area",
            "sizeref": 0.1591111111111111
           },
           "mode": "markers",
           "name": "",
           "showlegend": false,
           "subplot": "mapbox",
           "type": "scattermapbox"
          }
         ],
         "name": "2008-04-23"
        },
        {
         "data": [
          {
           "customdata": [
            [
             31.9,
             "2008-07-09T00:00:00"
            ]
           ],
           "hovertemplate": "<b>%{hovertext}</b><br><br>animation_frame=2008-07-09<br>Temperature oC=%{marker.color}<br>Latitude_dd=%{lat}<br>Longitude_dd=%{lon}<br>Date=%{customdata[1]}<extra></extra>",
           "hovertext": [
            "qassar"
           ],
           "lat": [
            26.02503611
           ],
           "legendgroup": "",
           "lon": [
            50.43051667
           ],
           "marker": {
            "color": [
             31.9
            ],
            "coloraxis": "coloraxis",
            "size": [
             31.9
            ],
            "sizemode": "area",
            "sizeref": 0.1591111111111111
           },
           "mode": "markers",
           "name": "",
           "showlegend": false,
           "subplot": "mapbox",
           "type": "scattermapbox"
          }
         ],
         "name": "2008-07-09"
        },
        {
         "data": [
          {
           "customdata": [
            [
             29.27,
             "2008-10-29T00:00:00"
            ]
           ],
           "hovertemplate": "<b>%{hovertext}</b><br><br>animation_frame=2008-10-29<br>Temperature oC=%{marker.color}<br>Latitude_dd=%{lat}<br>Longitude_dd=%{lon}<br>Date=%{customdata[1]}<extra></extra>",
           "hovertext": [
            "qassar"
           ],
           "lat": [
            26.02503611
           ],
           "legendgroup": "",
           "lon": [
            50.43051667
           ],
           "marker": {
            "color": [
             29.27
            ],
            "coloraxis": "coloraxis",
            "size": [
             29.27
            ],
            "sizemode": "area",
            "sizeref": 0.1591111111111111
           },
           "mode": "markers",
           "name": "",
           "showlegend": false,
           "subplot": "mapbox",
           "type": "scattermapbox"
          }
         ],
         "name": "2008-10-29"
        },
        {
         "data": [
          {
           "customdata": [
            [
             16.4,
             "2009-01-28T00:00:00"
            ]
           ],
           "hovertemplate": "<b>%{hovertext}</b><br><br>animation_frame=2009-01-28<br>Temperature oC=%{marker.color}<br>Latitude_dd=%{lat}<br>Longitude_dd=%{lon}<br>Date=%{customdata[1]}<extra></extra>",
           "hovertext": [
            "qassar"
           ],
           "lat": [
            26.02503611
           ],
           "legendgroup": "",
           "lon": [
            50.43051667
           ],
           "marker": {
            "color": [
             16.4
            ],
            "coloraxis": "coloraxis",
            "size": [
             16.4
            ],
            "sizemode": "area",
            "sizeref": 0.1591111111111111
           },
           "mode": "markers",
           "name": "",
           "showlegend": false,
           "subplot": "mapbox",
           "type": "scattermapbox"
          }
         ],
         "name": "2009-01-28"
        },
        {
         "data": [
          {
           "customdata": [
            [
             23.7,
             "2009-04-21T00:00:00"
            ]
           ],
           "hovertemplate": "<b>%{hovertext}</b><br><br>animation_frame=2009-04-21<br>Temperature oC=%{marker.color}<br>Latitude_dd=%{lat}<br>Longitude_dd=%{lon}<br>Date=%{customdata[1]}<extra></extra>",
           "hovertext": [
            "qassar"
           ],
           "lat": [
            26.02503611
           ],
           "legendgroup": "",
           "lon": [
            50.43051667
           ],
           "marker": {
            "color": [
             23.7
            ],
            "coloraxis": "coloraxis",
            "size": [
             23.7
            ],
            "sizemode": "area",
            "sizeref": 0.1591111111111111
           },
           "mode": "markers",
           "name": "",
           "showlegend": false,
           "subplot": "mapbox",
           "type": "scattermapbox"
          }
         ],
         "name": "2009-04-21"
        },
        {
         "data": [
          {
           "customdata": [
            [
             32.05,
             "2009-07-08T00:00:00"
            ]
           ],
           "hovertemplate": "<b>%{hovertext}</b><br><br>animation_frame=2009-07-08<br>Temperature oC=%{marker.color}<br>Latitude_dd=%{lat}<br>Longitude_dd=%{lon}<br>Date=%{customdata[1]}<extra></extra>",
           "hovertext": [
            "qassar"
           ],
           "lat": [
            26.02503611
           ],
           "legendgroup": "",
           "lon": [
            50.43051667
           ],
           "marker": {
            "color": [
             32.05
            ],
            "coloraxis": "coloraxis",
            "size": [
             32.05
            ],
            "sizemode": "area",
            "sizeref": 0.1591111111111111
           },
           "mode": "markers",
           "name": "",
           "showlegend": false,
           "subplot": "mapbox",
           "type": "scattermapbox"
          }
         ],
         "name": "2009-07-08"
        },
        {
         "data": [
          {
           "customdata": [
            [
             29.7,
             "2009-10-13T00:00:00"
            ]
           ],
           "hovertemplate": "<b>%{hovertext}</b><br><br>animation_frame=2009-10-13<br>Temperature oC=%{marker.color}<br>Latitude_dd=%{lat}<br>Longitude_dd=%{lon}<br>Date=%{customdata[1]}<extra></extra>",
           "hovertext": [
            "qassar"
           ],
           "lat": [
            26.02503611
           ],
           "legendgroup": "",
           "lon": [
            50.43051667
           ],
           "marker": {
            "color": [
             29.7
            ],
            "coloraxis": "coloraxis",
            "size": [
             29.7
            ],
            "sizemode": "area",
            "sizeref": 0.1591111111111111
           },
           "mode": "markers",
           "name": "",
           "showlegend": false,
           "subplot": "mapbox",
           "type": "scattermapbox"
          }
         ],
         "name": "2009-10-13"
        },
        {
         "data": [
          {
           "customdata": [
            [
             17.77,
             "2011-01-19T00:00:00"
            ]
           ],
           "hovertemplate": "<b>%{hovertext}</b><br><br>animation_frame=2011-01-19<br>Temperature oC=%{marker.color}<br>Latitude_dd=%{lat}<br>Longitude_dd=%{lon}<br>Date=%{customdata[1]}<extra></extra>",
           "hovertext": [
            "qassar"
           ],
           "lat": [
            26.02503611
           ],
           "legendgroup": "",
           "lon": [
            50.43051667
           ],
           "marker": {
            "color": [
             17.77
            ],
            "coloraxis": "coloraxis",
            "size": [
             17.77
            ],
            "sizemode": "area",
            "sizeref": 0.1591111111111111
           },
           "mode": "markers",
           "name": "",
           "showlegend": false,
           "subplot": "mapbox",
           "type": "scattermapbox"
          }
         ],
         "name": "2011-01-19"
        },
        {
         "data": [
          {
           "customdata": [
            [
             25.48,
             "2011-04-27T00:00:00"
            ]
           ],
           "hovertemplate": "<b>%{hovertext}</b><br><br>animation_frame=2011-04-27<br>Temperature oC=%{marker.color}<br>Latitude_dd=%{lat}<br>Longitude_dd=%{lon}<br>Date=%{customdata[1]}<extra></extra>",
           "hovertext": [
            "qassar"
           ],
           "lat": [
            26.02503611
           ],
           "legendgroup": "",
           "lon": [
            50.43051667
           ],
           "marker": {
            "color": [
             25.48
            ],
            "coloraxis": "coloraxis",
            "size": [
             25.48
            ],
            "sizemode": "area",
            "sizeref": 0.1591111111111111
           },
           "mode": "markers",
           "name": "",
           "showlegend": false,
           "subplot": "mapbox",
           "type": "scattermapbox"
          }
         ],
         "name": "2011-04-27"
        },
        {
         "data": [
          {
           "customdata": [
            [
             29.85,
             "2011-10-12T00:00:00"
            ]
           ],
           "hovertemplate": "<b>%{hovertext}</b><br><br>animation_frame=2011-10-12<br>Temperature oC=%{marker.color}<br>Latitude_dd=%{lat}<br>Longitude_dd=%{lon}<br>Date=%{customdata[1]}<extra></extra>",
           "hovertext": [
            "qassar"
           ],
           "lat": [
            26.02503611
           ],
           "legendgroup": "",
           "lon": [
            50.43051667
           ],
           "marker": {
            "color": [
             29.85
            ],
            "coloraxis": "coloraxis",
            "size": [
             29.85
            ],
            "sizemode": "area",
            "sizeref": 0.1591111111111111
           },
           "mode": "markers",
           "name": "",
           "showlegend": false,
           "subplot": "mapbox",
           "type": "scattermapbox"
          }
         ],
         "name": "2011-10-12"
        },
        {
         "data": [
          {
           "customdata": [
            [
             23.6,
             "2012-04-18T00:00:00"
            ]
           ],
           "hovertemplate": "<b>%{hovertext}</b><br><br>animation_frame=2012-04-18<br>Temperature oC=%{marker.color}<br>Latitude_dd=%{lat}<br>Longitude_dd=%{lon}<br>Date=%{customdata[1]}<extra></extra>",
           "hovertext": [
            "qassar"
           ],
           "lat": [
            26.02503611
           ],
           "legendgroup": "",
           "lon": [
            50.43051667
           ],
           "marker": {
            "color": [
             23.6
            ],
            "coloraxis": "coloraxis",
            "size": [
             23.6
            ],
            "sizemode": "area",
            "sizeref": 0.1591111111111111
           },
           "mode": "markers",
           "name": "",
           "showlegend": false,
           "subplot": "mapbox",
           "type": "scattermapbox"
          }
         ],
         "name": "2012-04-18"
        },
        {
         "data": [
          {
           "customdata": [
            [
             26.07,
             "2013-11-06T00:00:00"
            ]
           ],
           "hovertemplate": "<b>%{hovertext}</b><br><br>animation_frame=2013-11-06<br>Temperature oC=%{marker.color}<br>Latitude_dd=%{lat}<br>Longitude_dd=%{lon}<br>Date=%{customdata[1]}<extra></extra>",
           "hovertext": [
            "qassar"
           ],
           "lat": [
            26.02503611
           ],
           "legendgroup": "",
           "lon": [
            50.43051667
           ],
           "marker": {
            "color": [
             26.07
            ],
            "coloraxis": "coloraxis",
            "size": [
             26.07
            ],
            "sizemode": "area",
            "sizeref": 0.1591111111111111
           },
           "mode": "markers",
           "name": "",
           "showlegend": false,
           "subplot": "mapbox",
           "type": "scattermapbox"
          }
         ],
         "name": "2013-11-06"
        },
        {
         "data": [
          {
           "customdata": [
            [
             25.75,
             "2014-05-06T00:00:00"
            ],
            [
             25.9,
             "2014-05-06T00:00:00"
            ],
            [
             26.72,
             "2014-05-06T00:00:00"
            ],
            [
             27.66,
             "2014-05-06T00:00:00"
            ]
           ],
           "hovertemplate": "<b>%{hovertext}</b><br><br>animation_frame=2014-05-06<br>Temperature oC=%{marker.color}<br>Latitude_dd=%{lat}<br>Longitude_dd=%{lon}<br>Date=%{customdata[1]}<extra></extra>",
           "hovertext": [
            "abu lthama",
            "najwat abu lthama",
            "shtaya",
            "sura"
           ],
           "lat": [
            26.78361667,
            26.848575,
            26.58504167,
            26.48800278
           ],
           "legendgroup": "",
           "lon": [
            50.8636,
            50.84965556,
            50.73033333,
            50.42891944
           ],
           "marker": {
            "color": [
             25.75,
             25.9,
             26.72,
             27.66
            ],
            "coloraxis": "coloraxis",
            "size": [
             25.75,
             25.9,
             26.72,
             27.66
            ],
            "sizemode": "area",
            "sizeref": 0.1591111111111111
           },
           "mode": "markers",
           "name": "",
           "showlegend": false,
           "subplot": "mapbox",
           "type": "scattermapbox"
          }
         ],
         "name": "2014-05-06"
        },
        {
         "data": [
          {
           "customdata": [
            [
             33.42,
             "2014-08-26T00:00:00"
            ],
            [
             33.26,
             "2014-08-26T00:00:00"
            ],
            [
             33.71,
             "2014-08-26T00:00:00"
            ]
           ],
           "hovertemplate": "<b>%{hovertext}</b><br><br>animation_frame=2014-08-26<br>Temperature oC=%{marker.color}<br>Latitude_dd=%{lat}<br>Longitude_dd=%{lon}<br>Date=%{customdata[1]}<extra></extra>",
           "hovertext": [
            "abu lthama",
            "najwat abu lthama",
            "shtaya"
           ],
           "lat": [
            26.78361667,
            26.848575,
            26.58504167
           ],
           "legendgroup": "",
           "lon": [
            50.8636,
            50.84965556,
            50.73033333
           ],
           "marker": {
            "color": [
             33.42,
             33.26,
             33.71
            ],
            "coloraxis": "coloraxis",
            "size": [
             33.42,
             33.26,
             33.71
            ],
            "sizemode": "area",
            "sizeref": 0.1591111111111111
           },
           "mode": "markers",
           "name": "",
           "showlegend": false,
           "subplot": "mapbox",
           "type": "scattermapbox"
          }
         ],
         "name": "2014-08-26"
        },
        {
         "data": [
          {
           "customdata": [
            [
             29.64,
             "2014-10-29T00:00:00"
            ],
            [
             29.8,
             "2014-10-29T00:00:00"
            ],
            [
             28.93,
             "2014-10-29T00:00:00"
            ],
            [
             27.64,
             "2014-10-29T00:00:00"
            ]
           ],
           "hovertemplate": "<b>%{hovertext}</b><br><br>animation_frame=2014-10-29<br>Temperature oC=%{marker.color}<br>Latitude_dd=%{lat}<br>Longitude_dd=%{lon}<br>Date=%{customdata[1]}<extra></extra>",
           "hovertext": [
            "abu lthama",
            "najwat abu lthama",
            "shtaya",
            "sura"
           ],
           "lat": [
            26.78361667,
            26.848575,
            26.58504167,
            26.48800278
           ],
           "legendgroup": "",
           "lon": [
            50.8636,
            50.84965556,
            50.73033333,
            50.42891944
           ],
           "marker": {
            "color": [
             29.64,
             29.8,
             28.93,
             27.64
            ],
            "coloraxis": "coloraxis",
            "size": [
             29.64,
             29.8,
             28.93,
             27.64
            ],
            "sizemode": "area",
            "sizeref": 0.1591111111111111
           },
           "mode": "markers",
           "name": "",
           "showlegend": false,
           "subplot": "mapbox",
           "type": "scattermapbox"
          }
         ],
         "name": "2014-10-29"
        },
        {
         "data": [
          {
           "customdata": [
            [
             20.72,
             "2015-01-26T00:00:00"
            ],
            [
             20.99,
             "2015-01-26T00:00:00"
            ],
            [
             19.44,
             "2015-01-26T00:00:00"
            ],
            [
             17.22,
             "2015-01-26T00:00:00"
            ]
           ],
           "hovertemplate": "<b>%{hovertext}</b><br><br>animation_frame=2015-01-26<br>Temperature oC=%{marker.color}<br>Latitude_dd=%{lat}<br>Longitude_dd=%{lon}<br>Date=%{customdata[1]}<extra></extra>",
           "hovertext": [
            "abu lthama",
            "najwat abu lthama",
            "shtaya",
            "sura"
           ],
           "lat": [
            26.78361667,
            26.848575,
            26.58504167,
            26.48800278
           ],
           "legendgroup": "",
           "lon": [
            50.8636,
            50.84965556,
            50.73033333,
            50.42891944
           ],
           "marker": {
            "color": [
             20.72,
             20.99,
             19.44,
             17.22
            ],
            "coloraxis": "coloraxis",
            "size": [
             20.72,
             20.99,
             19.44,
             17.22
            ],
            "sizemode": "area",
            "sizeref": 0.1591111111111111
           },
           "mode": "markers",
           "name": "",
           "showlegend": false,
           "subplot": "mapbox",
           "type": "scattermapbox"
          }
         ],
         "name": "2015-01-26"
        },
        {
         "data": [
          {
           "customdata": [
            [
             21.72,
             "2015-04-16T00:00:00"
            ],
            [
             22,
             "2015-04-16T00:00:00"
            ],
            [
             22.07,
             "2015-04-16T00:00:00"
            ],
            [
             22.67,
             "2015-04-16T00:00:00"
            ]
           ],
           "hovertemplate": "<b>%{hovertext}</b><br><br>animation_frame=2015-04-16<br>Temperature oC=%{marker.color}<br>Latitude_dd=%{lat}<br>Longitude_dd=%{lon}<br>Date=%{customdata[1]}<extra></extra>",
           "hovertext": [
            "abu lthama",
            "najwat abu lthama",
            "shtaya",
            "sura"
           ],
           "lat": [
            26.78361667,
            26.848575,
            26.58504167,
            26.48800278
           ],
           "legendgroup": "",
           "lon": [
            50.8636,
            50.84965556,
            50.73033333,
            50.42891944
           ],
           "marker": {
            "color": [
             21.72,
             22,
             22.07,
             22.67
            ],
            "coloraxis": "coloraxis",
            "size": [
             21.72,
             22,
             22.07,
             22.67
            ],
            "sizemode": "area",
            "sizeref": 0.1591111111111111
           },
           "mode": "markers",
           "name": "",
           "showlegend": false,
           "subplot": "mapbox",
           "type": "scattermapbox"
          }
         ],
         "name": "2015-04-16"
        },
        {
         "data": [
          {
           "customdata": [
            [
             34.18,
             "2015-08-25T00:00:00"
            ],
            [
             34.43,
             "2015-08-25T00:00:00"
            ],
            [
             34.9,
             "2015-08-25T00:00:00"
            ]
           ],
           "hovertemplate": "<b>%{hovertext}</b><br><br>animation_frame=2015-08-25<br>Temperature oC=%{marker.color}<br>Latitude_dd=%{lat}<br>Longitude_dd=%{lon}<br>Date=%{customdata[1]}<extra></extra>",
           "hovertext": [
            "abu lthama",
            "najwat abu lthama",
            "shtaya"
           ],
           "lat": [
            26.78361667,
            26.848575,
            26.58504167
           ],
           "legendgroup": "",
           "lon": [
            50.8636,
            50.84965556,
            50.73033333
           ],
           "marker": {
            "color": [
             34.18,
             34.43,
             34.9
            ],
            "coloraxis": "coloraxis",
            "size": [
             34.18,
             34.43,
             34.9
            ],
            "sizemode": "area",
            "sizeref": 0.1591111111111111
           },
           "mode": "markers",
           "name": "",
           "showlegend": false,
           "subplot": "mapbox",
           "type": "scattermapbox"
          }
         ],
         "name": "2015-08-25"
        },
        {
         "data": [
          {
           "customdata": [
            [
             25.8,
             "2015-12-01T00:00:00"
            ],
            [
             25.9,
             "2015-12-01T00:00:00"
            ],
            [
             24.7,
             "2015-12-01T00:00:00"
            ],
            [
             22.8,
             "2015-12-01T00:00:00"
            ]
           ],
           "hovertemplate": "<b>%{hovertext}</b><br><br>animation_frame=2015-12-01<br>Temperature oC=%{marker.color}<br>Latitude_dd=%{lat}<br>Longitude_dd=%{lon}<br>Date=%{customdata[1]}<extra></extra>",
           "hovertext": [
            "abu lthama",
            "najwat abu lthama",
            "shtaya",
            "sura"
           ],
           "lat": [
            26.78361667,
            26.848575,
            26.58504167,
            26.48800278
           ],
           "legendgroup": "",
           "lon": [
            50.8636,
            50.84965556,
            50.73033333,
            50.42891944
           ],
           "marker": {
            "color": [
             25.8,
             25.9,
             24.7,
             22.8
            ],
            "coloraxis": "coloraxis",
            "size": [
             25.8,
             25.9,
             24.7,
             22.8
            ],
            "sizemode": "area",
            "sizeref": 0.1591111111111111
           },
           "mode": "markers",
           "name": "",
           "showlegend": false,
           "subplot": "mapbox",
           "type": "scattermapbox"
          }
         ],
         "name": "2015-12-01"
        },
        {
         "data": [
          {
           "customdata": [
            [
             19.6,
             "2016-02-02T00:00:00"
            ],
            [
             20.1,
             "2016-02-02T00:00:00"
            ],
            [
             17.7,
             "2016-02-02T00:00:00"
            ],
            [
             15.2,
             "2016-02-02T00:00:00"
            ]
           ],
           "hovertemplate": "<b>%{hovertext}</b><br><br>animation_frame=2016-02-02<br>Temperature oC=%{marker.color}<br>Latitude_dd=%{lat}<br>Longitude_dd=%{lon}<br>Date=%{customdata[1]}<extra></extra>",
           "hovertext": [
            "abu lthama",
            "najwat abu lthama",
            "shtaya",
            "sura"
           ],
           "lat": [
            26.78361667,
            26.848575,
            26.58504167,
            26.48800278
           ],
           "legendgroup": "",
           "lon": [
            50.8636,
            50.84965556,
            50.73033333,
            50.42891944
           ],
           "marker": {
            "color": [
             19.6,
             20.1,
             17.7,
             15.2
            ],
            "coloraxis": "coloraxis",
            "size": [
             19.6,
             20.1,
             17.7,
             15.2
            ],
            "sizemode": "area",
            "sizeref": 0.1591111111111111
           },
           "mode": "markers",
           "name": "",
           "showlegend": false,
           "subplot": "mapbox",
           "type": "scattermapbox"
          }
         ],
         "name": "2016-02-02"
        },
        {
         "data": [
          {
           "customdata": [
            [
             23.1,
             "2016-04-20T00:00:00"
            ],
            [
             23.3,
             "2016-04-20T00:00:00"
            ],
            [
             23.7,
             "2016-04-20T00:00:00"
            ],
            [
             25.5,
             "2016-04-20T00:00:00"
            ]
           ],
           "hovertemplate": "<b>%{hovertext}</b><br><br>animation_frame=2016-04-20<br>Temperature oC=%{marker.color}<br>Latitude_dd=%{lat}<br>Longitude_dd=%{lon}<br>Date=%{customdata[1]}<extra></extra>",
           "hovertext": [
            "abu lthama",
            "najwat abu lthama",
            "shtaya",
            "sura"
           ],
           "lat": [
            26.78361667,
            26.848575,
            26.58504167,
            26.48800278
           ],
           "legendgroup": "",
           "lon": [
            50.8636,
            50.84965556,
            50.73033333,
            50.42891944
           ],
           "marker": {
            "color": [
             23.1,
             23.3,
             23.7,
             25.5
            ],
            "coloraxis": "coloraxis",
            "size": [
             23.1,
             23.3,
             23.7,
             25.5
            ],
            "sizemode": "area",
            "sizeref": 0.1591111111111111
           },
           "mode": "markers",
           "name": "",
           "showlegend": false,
           "subplot": "mapbox",
           "type": "scattermapbox"
          }
         ],
         "name": "2016-04-20"
        },
        {
         "data": [
          {
           "customdata": [
            [
             34.1,
             "2016-08-08T00:00:00"
            ],
            [
             34.1,
             "2016-08-08T00:00:00"
            ],
            [
             35.4,
             "2016-08-08T00:00:00"
            ]
           ],
           "hovertemplate": "<b>%{hovertext}</b><br><br>animation_frame=2016-08-08<br>Temperature oC=%{marker.color}<br>Latitude_dd=%{lat}<br>Longitude_dd=%{lon}<br>Date=%{customdata[1]}<extra></extra>",
           "hovertext": [
            "abu lthama",
            "najwat abu lthama",
            "shtaya"
           ],
           "lat": [
            26.78361667,
            26.848575,
            26.58504167
           ],
           "legendgroup": "",
           "lon": [
            50.8636,
            50.84965556,
            50.73033333
           ],
           "marker": {
            "color": [
             34.1,
             34.1,
             35.4
            ],
            "coloraxis": "coloraxis",
            "size": [
             34.1,
             34.1,
             35.4
            ],
            "sizemode": "area",
            "sizeref": 0.1591111111111111
           },
           "mode": "markers",
           "name": "",
           "showlegend": false,
           "subplot": "mapbox",
           "type": "scattermapbox"
          }
         ],
         "name": "2016-08-08"
        },
        {
         "data": [
          {
           "customdata": [
            [
             27.7,
             "2016-11-13T00:00:00"
            ],
            [
             27.9,
             "2016-11-13T00:00:00"
            ],
            [
             26.5,
             "2016-11-13T00:00:00"
            ],
            [
             24.2,
             "2016-11-13T00:00:00"
            ]
           ],
           "hovertemplate": "<b>%{hovertext}</b><br><br>animation_frame=2016-11-13<br>Temperature oC=%{marker.color}<br>Latitude_dd=%{lat}<br>Longitude_dd=%{lon}<br>Date=%{customdata[1]}<extra></extra>",
           "hovertext": [
            "abu lthama",
            "najwat abu lthama",
            "shtaya",
            "sura"
           ],
           "lat": [
            26.78361667,
            26.848575,
            26.58504167,
            26.48800278
           ],
           "legendgroup": "",
           "lon": [
            50.8636,
            50.84965556,
            50.73033333,
            50.42891944
           ],
           "marker": {
            "color": [
             27.7,
             27.9,
             26.5,
             24.2
            ],
            "coloraxis": "coloraxis",
            "size": [
             27.7,
             27.9,
             26.5,
             24.2
            ],
            "sizemode": "area",
            "sizeref": 0.1591111111111111
           },
           "mode": "markers",
           "name": "",
           "showlegend": false,
           "subplot": "mapbox",
           "type": "scattermapbox"
          }
         ],
         "name": "2016-11-13"
        }
       ],
       "layout": {
        "coloraxis": {
         "colorbar": {
          "title": {
           "text": "Temperature oC"
          }
         },
         "colorscale": [
          [
           0,
           "#000000"
          ],
          [
           0.0625,
           "#001f4d"
          ],
          [
           0.125,
           "#003786"
          ],
          [
           0.1875,
           "#0e58a8"
          ],
          [
           0.25,
           "#217eb8"
          ],
          [
           0.3125,
           "#30a4ca"
          ],
          [
           0.375,
           "#54c8df"
          ],
          [
           0.4375,
           "#9be4ef"
          ],
          [
           0.5,
           "#e1e9d1"
          ],
          [
           0.5625,
           "#f3d573"
          ],
          [
           0.625,
           "#e7b000"
          ],
          [
           0.6875,
           "#da8200"
          ],
          [
           0.75,
           "#c65400"
          ],
          [
           0.8125,
           "#ac2301"
          ],
          [
           0.875,
           "#820000"
          ],
          [
           0.9375,
           "#4c0000"
          ],
          [
           1,
           "#000000"
          ]
         ]
        },
        "legend": {
         "itemsizing": "constant",
         "tracegroupgap": 0
        },
        "mapbox": {
         "center": {
          "lat": 26.11736936922801,
          "lon": 50.652960603105925
         },
         "domain": {
          "x": [
           0,
           1
          ],
          "y": [
           0,
           1
          ]
         },
         "style": "carto-positron",
         "zoom": 10
        },
        "margin": {
         "t": 60
        },
        "sliders": [
         {
          "active": 0,
          "currentvalue": {
           "prefix": "animation_frame="
          },
          "len": 0.9,
          "pad": {
           "b": 10,
           "t": 60
          },
          "steps": [
           {
            "args": [
             [
              "2007-04-23"
             ],
             {
              "frame": {
               "duration": 0,
               "redraw": true
              },
              "fromcurrent": true,
              "mode": "immediate",
              "transition": {
               "duration": 0,
               "easing": "linear"
              }
             }
            ],
            "label": "2007-04-23",
            "method": "animate"
           },
           {
            "args": [
             [
              "2007-07-08"
             ],
             {
              "frame": {
               "duration": 0,
               "redraw": true
              },
              "fromcurrent": true,
              "mode": "immediate",
              "transition": {
               "duration": 0,
               "easing": "linear"
              }
             }
            ],
            "label": "2007-07-08",
            "method": "animate"
           },
           {
            "args": [
             [
              "2007-10-29"
             ],
             {
              "frame": {
               "duration": 0,
               "redraw": true
              },
              "fromcurrent": true,
              "mode": "immediate",
              "transition": {
               "duration": 0,
               "easing": "linear"
              }
             }
            ],
            "label": "2007-10-29",
            "method": "animate"
           },
           {
            "args": [
             [
              "2008-01-06"
             ],
             {
              "frame": {
               "duration": 0,
               "redraw": true
              },
              "fromcurrent": true,
              "mode": "immediate",
              "transition": {
               "duration": 0,
               "easing": "linear"
              }
             }
            ],
            "label": "2008-01-06",
            "method": "animate"
           },
           {
            "args": [
             [
              "2008-04-21"
             ],
             {
              "frame": {
               "duration": 0,
               "redraw": true
              },
              "fromcurrent": true,
              "mode": "immediate",
              "transition": {
               "duration": 0,
               "easing": "linear"
              }
             }
            ],
            "label": "2008-04-21",
            "method": "animate"
           },
           {
            "args": [
             [
              "2008-07-07"
             ],
             {
              "frame": {
               "duration": 0,
               "redraw": true
              },
              "fromcurrent": true,
              "mode": "immediate",
              "transition": {
               "duration": 0,
               "easing": "linear"
              }
             }
            ],
            "label": "2008-07-07",
            "method": "animate"
           },
           {
            "args": [
             [
              "2008-10-27"
             ],
             {
              "frame": {
               "duration": 0,
               "redraw": true
              },
              "fromcurrent": true,
              "mode": "immediate",
              "transition": {
               "duration": 0,
               "easing": "linear"
              }
             }
            ],
            "label": "2008-10-27",
            "method": "animate"
           },
           {
            "args": [
             [
              "2009-01-19"
             ],
             {
              "frame": {
               "duration": 0,
               "redraw": true
              },
              "fromcurrent": true,
              "mode": "immediate",
              "transition": {
               "duration": 0,
               "easing": "linear"
              }
             }
            ],
            "label": "2009-01-19",
            "method": "animate"
           },
           {
            "args": [
             [
              "2009-04-22"
             ],
             {
              "frame": {
               "duration": 0,
               "redraw": true
              },
              "fromcurrent": true,
              "mode": "immediate",
              "transition": {
               "duration": 0,
               "easing": "linear"
              }
             }
            ],
            "label": "2009-04-22",
            "method": "animate"
           },
           {
            "args": [
             [
              "2009-07-05"
             ],
             {
              "frame": {
               "duration": 0,
               "redraw": true
              },
              "fromcurrent": true,
              "mode": "immediate",
              "transition": {
               "duration": 0,
               "easing": "linear"
              }
             }
            ],
            "label": "2009-07-05",
            "method": "animate"
           },
           {
            "args": [
             [
              "2009-10-14"
             ],
             {
              "frame": {
               "duration": 0,
               "redraw": true
              },
              "fromcurrent": true,
              "mode": "immediate",
              "transition": {
               "duration": 0,
               "easing": "linear"
              }
             }
            ],
            "label": "2009-10-14",
            "method": "animate"
           },
           {
            "args": [
             [
              "2010-02-01"
             ],
             {
              "frame": {
               "duration": 0,
               "redraw": true
              },
              "fromcurrent": true,
              "mode": "immediate",
              "transition": {
               "duration": 0,
               "easing": "linear"
              }
             }
            ],
            "label": "2010-02-01",
            "method": "animate"
           },
           {
            "args": [
             [
              "2010-04-18"
             ],
             {
              "frame": {
               "duration": 0,
               "redraw": true
              },
              "fromcurrent": true,
              "mode": "immediate",
              "transition": {
               "duration": 0,
               "easing": "linear"
              }
             }
            ],
            "label": "2010-04-18",
            "method": "animate"
           },
           {
            "args": [
             [
              "2010-07-07"
             ],
             {
              "frame": {
               "duration": 0,
               "redraw": true
              },
              "fromcurrent": true,
              "mode": "immediate",
              "transition": {
               "duration": 0,
               "easing": "linear"
              }
             }
            ],
            "label": "2010-07-07",
            "method": "animate"
           },
           {
            "args": [
             [
              "2010-10-10"
             ],
             {
              "frame": {
               "duration": 0,
               "redraw": true
              },
              "fromcurrent": true,
              "mode": "immediate",
              "transition": {
               "duration": 0,
               "easing": "linear"
              }
             }
            ],
            "label": "2010-10-10",
            "method": "animate"
           },
           {
            "args": [
             [
              "2011-01-20"
             ],
             {
              "frame": {
               "duration": 0,
               "redraw": true
              },
              "fromcurrent": true,
              "mode": "immediate",
              "transition": {
               "duration": 0,
               "easing": "linear"
              }
             }
            ],
            "label": "2011-01-20",
            "method": "animate"
           },
           {
            "args": [
             [
              "2011-04-24"
             ],
             {
              "frame": {
               "duration": 0,
               "redraw": true
              },
              "fromcurrent": true,
              "mode": "immediate",
              "transition": {
               "duration": 0,
               "easing": "linear"
              }
             }
            ],
            "label": "2011-04-24",
            "method": "animate"
           },
           {
            "args": [
             [
              "2011-07-10"
             ],
             {
              "frame": {
               "duration": 0,
               "redraw": true
              },
              "fromcurrent": true,
              "mode": "immediate",
              "transition": {
               "duration": 0,
               "easing": "linear"
              }
             }
            ],
            "label": "2011-07-10",
            "method": "animate"
           },
           {
            "args": [
             [
              "2011-10-09"
             ],
             {
              "frame": {
               "duration": 0,
               "redraw": true
              },
              "fromcurrent": true,
              "mode": "immediate",
              "transition": {
               "duration": 0,
               "easing": "linear"
              }
             }
            ],
            "label": "2011-10-09",
            "method": "animate"
           },
           {
            "args": [
             [
              "2012-01-16"
             ],
             {
              "frame": {
               "duration": 0,
               "redraw": true
              },
              "fromcurrent": true,
              "mode": "immediate",
              "transition": {
               "duration": 0,
               "easing": "linear"
              }
             }
            ],
            "label": "2012-01-16",
            "method": "animate"
           },
           {
            "args": [
             [
              "2012-04-15"
             ],
             {
              "frame": {
               "duration": 0,
               "redraw": true
              },
              "fromcurrent": true,
              "mode": "immediate",
              "transition": {
               "duration": 0,
               "easing": "linear"
              }
             }
            ],
            "label": "2012-04-15",
            "method": "animate"
           },
           {
            "args": [
             [
              "2012-07-09"
             ],
             {
              "frame": {
               "duration": 0,
               "redraw": true
              },
              "fromcurrent": true,
              "mode": "immediate",
              "transition": {
               "duration": 0,
               "easing": "linear"
              }
             }
            ],
            "label": "2012-07-09",
            "method": "animate"
           },
           {
            "args": [
             [
              "2012-10-08"
             ],
             {
              "frame": {
               "duration": 0,
               "redraw": true
              },
              "fromcurrent": true,
              "mode": "immediate",
              "transition": {
               "duration": 0,
               "easing": "linear"
              }
             }
            ],
            "label": "2012-10-08",
            "method": "animate"
           },
           {
            "args": [
             [
              "2013-01-20"
             ],
             {
              "frame": {
               "duration": 0,
               "redraw": true
              },
              "fromcurrent": true,
              "mode": "immediate",
              "transition": {
               "duration": 0,
               "easing": "linear"
              }
             }
            ],
            "label": "2013-01-20",
            "method": "animate"
           },
           {
            "args": [
             [
              "2013-04-14"
             ],
             {
              "frame": {
               "duration": 0,
               "redraw": true
              },
              "fromcurrent": true,
              "mode": "immediate",
              "transition": {
               "duration": 0,
               "easing": "linear"
              }
             }
            ],
            "label": "2013-04-14",
            "method": "animate"
           },
           {
            "args": [
             [
              "2013-08-25"
             ],
             {
              "frame": {
               "duration": 0,
               "redraw": true
              },
              "fromcurrent": true,
              "mode": "immediate",
              "transition": {
               "duration": 0,
               "easing": "linear"
              }
             }
            ],
            "label": "2013-08-25",
            "method": "animate"
           },
           {
            "args": [
             [
              "2013-11-03"
             ],
             {
              "frame": {
               "duration": 0,
               "redraw": true
              },
              "fromcurrent": true,
              "mode": "immediate",
              "transition": {
               "duration": 0,
               "easing": "linear"
              }
             }
            ],
            "label": "2013-11-03",
            "method": "animate"
           },
           {
            "args": [
             [
              "2014-01-19"
             ],
             {
              "frame": {
               "duration": 0,
               "redraw": true
              },
              "fromcurrent": true,
              "mode": "immediate",
              "transition": {
               "duration": 0,
               "easing": "linear"
              }
             }
            ],
            "label": "2014-01-19",
            "method": "animate"
           },
           {
            "args": [
             [
              "2014-05-05"
             ],
             {
              "frame": {
               "duration": 0,
               "redraw": true
              },
              "fromcurrent": true,
              "mode": "immediate",
              "transition": {
               "duration": 0,
               "easing": "linear"
              }
             }
            ],
            "label": "2014-05-05",
            "method": "animate"
           },
           {
            "args": [
             [
              "2014-08-25"
             ],
             {
              "frame": {
               "duration": 0,
               "redraw": true
              },
              "fromcurrent": true,
              "mode": "immediate",
              "transition": {
               "duration": 0,
               "easing": "linear"
              }
             }
            ],
            "label": "2014-08-25",
            "method": "animate"
           },
           {
            "args": [
             [
              "2014-10-19"
             ],
             {
              "frame": {
               "duration": 0,
               "redraw": true
              },
              "fromcurrent": true,
              "mode": "immediate",
              "transition": {
               "duration": 0,
               "easing": "linear"
              }
             }
            ],
            "label": "2014-10-19",
            "method": "animate"
           },
           {
            "args": [
             [
              "2015-01-27"
             ],
             {
              "frame": {
               "duration": 0,
               "redraw": true
              },
              "fromcurrent": true,
              "mode": "immediate",
              "transition": {
               "duration": 0,
               "easing": "linear"
              }
             }
            ],
            "label": "2015-01-27",
            "method": "animate"
           },
           {
            "args": [
             [
              "2015-04-15"
             ],
             {
              "frame": {
               "duration": 0,
               "redraw": true
              },
              "fromcurrent": true,
              "mode": "immediate",
              "transition": {
               "duration": 0,
               "easing": "linear"
              }
             }
            ],
            "label": "2015-04-15",
            "method": "animate"
           },
           {
            "args": [
             [
              "2015-08-23"
             ],
             {
              "frame": {
               "duration": 0,
               "redraw": true
              },
              "fromcurrent": true,
              "mode": "immediate",
              "transition": {
               "duration": 0,
               "easing": "linear"
              }
             }
            ],
            "label": "2015-08-23",
            "method": "animate"
           },
           {
            "args": [
             [
              "2015-11-01"
             ],
             {
              "frame": {
               "duration": 0,
               "redraw": true
              },
              "fromcurrent": true,
              "mode": "immediate",
              "transition": {
               "duration": 0,
               "easing": "linear"
              }
             }
            ],
            "label": "2015-11-01",
            "method": "animate"
           },
           {
            "args": [
             [
              "2016-01-17"
             ],
             {
              "frame": {
               "duration": 0,
               "redraw": true
              },
              "fromcurrent": true,
              "mode": "immediate",
              "transition": {
               "duration": 0,
               "easing": "linear"
              }
             }
            ],
            "label": "2016-01-17",
            "method": "animate"
           },
           {
            "args": [
             [
              "2016-04-17"
             ],
             {
              "frame": {
               "duration": 0,
               "redraw": true
              },
              "fromcurrent": true,
              "mode": "immediate",
              "transition": {
               "duration": 0,
               "easing": "linear"
              }
             }
            ],
            "label": "2016-04-17",
            "method": "animate"
           },
           {
            "args": [
             [
              "2016-08-09"
             ],
             {
              "frame": {
               "duration": 0,
               "redraw": true
              },
              "fromcurrent": true,
              "mode": "immediate",
              "transition": {
               "duration": 0,
               "easing": "linear"
              }
             }
            ],
            "label": "2016-08-09",
            "method": "animate"
           },
           {
            "args": [
             [
              "2016-10-24"
             ],
             {
              "frame": {
               "duration": 0,
               "redraw": true
              },
              "fromcurrent": true,
              "mode": "immediate",
              "transition": {
               "duration": 0,
               "easing": "linear"
              }
             }
            ],
            "label": "2016-10-24",
            "method": "animate"
           },
           {
            "args": [
             [
              "2007-07-09"
             ],
             {
              "frame": {
               "duration": 0,
               "redraw": true
              },
              "fromcurrent": true,
              "mode": "immediate",
              "transition": {
               "duration": 0,
               "easing": "linear"
              }
             }
            ],
            "label": "2007-07-09",
            "method": "animate"
           },
           {
            "args": [
             [
              "2008-04-20"
             ],
             {
              "frame": {
               "duration": 0,
               "redraw": true
              },
              "fromcurrent": true,
              "mode": "immediate",
              "transition": {
               "duration": 0,
               "easing": "linear"
              }
             }
            ],
            "label": "2008-04-20",
            "method": "animate"
           },
           {
            "args": [
             [
              "2014-10-20"
             ],
             {
              "frame": {
               "duration": 0,
               "redraw": true
              },
              "fromcurrent": true,
              "mode": "immediate",
              "transition": {
               "duration": 0,
               "easing": "linear"
              }
             }
            ],
            "label": "2014-10-20",
            "method": "animate"
           },
           {
            "args": [
             [
              "2007-04-24"
             ],
             {
              "frame": {
               "duration": 0,
               "redraw": true
              },
              "fromcurrent": true,
              "mode": "immediate",
              "transition": {
               "duration": 0,
               "easing": "linear"
              }
             }
            ],
            "label": "2007-04-24",
            "method": "animate"
           },
           {
            "args": [
             [
              "2007-10-30"
             ],
             {
              "frame": {
               "duration": 0,
               "redraw": true
              },
              "fromcurrent": true,
              "mode": "immediate",
              "transition": {
               "duration": 0,
               "easing": "linear"
              }
             }
            ],
            "label": "2007-10-30",
            "method": "animate"
           },
           {
            "args": [
             [
              "2008-10-25"
             ],
             {
              "frame": {
               "duration": 0,
               "redraw": true
              },
              "fromcurrent": true,
              "mode": "immediate",
              "transition": {
               "duration": 0,
               "easing": "linear"
              }
             }
            ],
            "label": "2008-10-25",
            "method": "animate"
           },
           {
            "args": [
             [
              "2009-01-18"
             ],
             {
              "frame": {
               "duration": 0,
               "redraw": true
              },
              "fromcurrent": true,
              "mode": "immediate",
              "transition": {
               "duration": 0,
               "easing": "linear"
              }
             }
            ],
            "label": "2009-01-18",
            "method": "animate"
           },
           {
            "args": [
             [
              "2009-04-20"
             ],
             {
              "frame": {
               "duration": 0,
               "redraw": true
              },
              "fromcurrent": true,
              "mode": "immediate",
              "transition": {
               "duration": 0,
               "easing": "linear"
              }
             }
            ],
            "label": "2009-04-20",
            "method": "animate"
           },
           {
            "args": [
             [
              "2009-10-11"
             ],
             {
              "frame": {
               "duration": 0,
               "redraw": true
              },
              "fromcurrent": true,
              "mode": "immediate",
              "transition": {
               "duration": 0,
               "easing": "linear"
              }
             }
            ],
            "label": "2009-10-11",
            "method": "animate"
           },
           {
            "args": [
             [
              "2010-02-02"
             ],
             {
              "frame": {
               "duration": 0,
               "redraw": true
              },
              "fromcurrent": true,
              "mode": "immediate",
              "transition": {
               "duration": 0,
               "easing": "linear"
              }
             }
            ],
            "label": "2010-02-02",
            "method": "animate"
           },
           {
            "args": [
             [
              "2010-04-19"
             ],
             {
              "frame": {
               "duration": 0,
               "redraw": true
              },
              "fromcurrent": true,
              "mode": "immediate",
              "transition": {
               "duration": 0,
               "easing": "linear"
              }
             }
            ],
            "label": "2010-04-19",
            "method": "animate"
           },
           {
            "args": [
             [
              "2010-07-08"
             ],
             {
              "frame": {
               "duration": 0,
               "redraw": true
              },
              "fromcurrent": true,
              "mode": "immediate",
              "transition": {
               "duration": 0,
               "easing": "linear"
              }
             }
            ],
            "label": "2010-07-08",
            "method": "animate"
           },
           {
            "args": [
             [
              "2010-10-11"
             ],
             {
              "frame": {
               "duration": 0,
               "redraw": true
              },
              "fromcurrent": true,
              "mode": "immediate",
              "transition": {
               "duration": 0,
               "easing": "linear"
              }
             }
            ],
            "label": "2010-10-11",
            "method": "animate"
           },
           {
            "args": [
             [
              "2012-10-07"
             ],
             {
              "frame": {
               "duration": 0,
               "redraw": true
              },
              "fromcurrent": true,
              "mode": "immediate",
              "transition": {
               "duration": 0,
               "easing": "linear"
              }
             }
            ],
            "label": "2012-10-07",
            "method": "animate"
           },
           {
            "args": [
             [
              "2013-04-15"
             ],
             {
              "frame": {
               "duration": 0,
               "redraw": true
              },
              "fromcurrent": true,
              "mode": "immediate",
              "transition": {
               "duration": 0,
               "easing": "linear"
              }
             }
            ],
            "label": "2013-04-15",
            "method": "animate"
           },
           {
            "args": [
             [
              "2008-01-08"
             ],
             {
              "frame": {
               "duration": 0,
               "redraw": true
              },
              "fromcurrent": true,
              "mode": "immediate",
              "transition": {
               "duration": 0,
               "easing": "linear"
              }
             }
            ],
            "label": "2008-01-08",
            "method": "animate"
           },
           {
            "args": [
             [
              "2008-07-06"
             ],
             {
              "frame": {
               "duration": 0,
               "redraw": true
              },
              "fromcurrent": true,
              "mode": "immediate",
              "transition": {
               "duration": 0,
               "easing": "linear"
              }
             }
            ],
            "label": "2008-07-06",
            "method": "animate"
           },
           {
            "args": [
             [
              "2009-07-06"
             ],
             {
              "frame": {
               "duration": 0,
               "redraw": true
              },
              "fromcurrent": true,
              "mode": "immediate",
              "transition": {
               "duration": 0,
               "easing": "linear"
              }
             }
            ],
            "label": "2009-07-06",
            "method": "animate"
           },
           {
            "args": [
             [
              "2011-01-21"
             ],
             {
              "frame": {
               "duration": 0,
               "redraw": true
              },
              "fromcurrent": true,
              "mode": "immediate",
              "transition": {
               "duration": 0,
               "easing": "linear"
              }
             }
            ],
            "label": "2011-01-21",
            "method": "animate"
           },
           {
            "args": [
             [
              "2011-04-25"
             ],
             {
              "frame": {
               "duration": 0,
               "redraw": true
              },
              "fromcurrent": true,
              "mode": "immediate",
              "transition": {
               "duration": 0,
               "easing": "linear"
              }
             }
            ],
            "label": "2011-04-25",
            "method": "animate"
           },
           {
            "args": [
             [
              "2011-07-11"
             ],
             {
              "frame": {
               "duration": 0,
               "redraw": true
              },
              "fromcurrent": true,
              "mode": "immediate",
              "transition": {
               "duration": 0,
               "easing": "linear"
              }
             }
            ],
            "label": "2011-07-11",
            "method": "animate"
           },
           {
            "args": [
             [
              "2011-10-10"
             ],
             {
              "frame": {
               "duration": 0,
               "redraw": true
              },
              "fromcurrent": true,
              "mode": "immediate",
              "transition": {
               "duration": 0,
               "easing": "linear"
              }
             }
            ],
            "label": "2011-10-10",
            "method": "animate"
           },
           {
            "args": [
             [
              "2012-01-17"
             ],
             {
              "frame": {
               "duration": 0,
               "redraw": true
              },
              "fromcurrent": true,
              "mode": "immediate",
              "transition": {
               "duration": 0,
               "easing": "linear"
              }
             }
            ],
            "label": "2012-01-17",
            "method": "animate"
           },
           {
            "args": [
             [
              "2012-04-16"
             ],
             {
              "frame": {
               "duration": 0,
               "redraw": true
              },
              "fromcurrent": true,
              "mode": "immediate",
              "transition": {
               "duration": 0,
               "easing": "linear"
              }
             }
            ],
            "label": "2012-04-16",
            "method": "animate"
           },
           {
            "args": [
             [
              "2012-07-08"
             ],
             {
              "frame": {
               "duration": 0,
               "redraw": true
              },
              "fromcurrent": true,
              "mode": "immediate",
              "transition": {
               "duration": 0,
               "easing": "linear"
              }
             }
            ],
            "label": "2012-07-08",
            "method": "animate"
           },
           {
            "args": [
             [
              "2013-01-21"
             ],
             {
              "frame": {
               "duration": 0,
               "redraw": true
              },
              "fromcurrent": true,
              "mode": "immediate",
              "transition": {
               "duration": 0,
               "easing": "linear"
              }
             }
            ],
            "label": "2013-01-21",
            "method": "animate"
           },
           {
            "args": [
             [
              "2013-08-26"
             ],
             {
              "frame": {
               "duration": 0,
               "redraw": true
              },
              "fromcurrent": true,
              "mode": "immediate",
              "transition": {
               "duration": 0,
               "easing": "linear"
              }
             }
            ],
            "label": "2013-08-26",
            "method": "animate"
           },
           {
            "args": [
             [
              "2013-11-05"
             ],
             {
              "frame": {
               "duration": 0,
               "redraw": true
              },
              "fromcurrent": true,
              "mode": "immediate",
              "transition": {
               "duration": 0,
               "easing": "linear"
              }
             }
            ],
            "label": "2013-11-05",
            "method": "animate"
           },
           {
            "args": [
             [
              "2014-01-20"
             ],
             {
              "frame": {
               "duration": 0,
               "redraw": true
              },
              "fromcurrent": true,
              "mode": "immediate",
              "transition": {
               "duration": 0,
               "easing": "linear"
              }
             }
            ],
            "label": "2014-01-20",
            "method": "animate"
           },
           {
            "args": [
             [
              "2014-05-04"
             ],
             {
              "frame": {
               "duration": 0,
               "redraw": true
              },
              "fromcurrent": true,
              "mode": "immediate",
              "transition": {
               "duration": 0,
               "easing": "linear"
              }
             }
            ],
            "label": "2014-05-04",
            "method": "animate"
           },
           {
            "args": [
             [
              "2014-08-24"
             ],
             {
              "frame": {
               "duration": 0,
               "redraw": true
              },
              "fromcurrent": true,
              "mode": "immediate",
              "transition": {
               "duration": 0,
               "easing": "linear"
              }
             }
            ],
            "label": "2014-08-24",
            "method": "animate"
           },
           {
            "args": [
             [
              "2015-02-01"
             ],
             {
              "frame": {
               "duration": 0,
               "redraw": true
              },
              "fromcurrent": true,
              "mode": "immediate",
              "transition": {
               "duration": 0,
               "easing": "linear"
              }
             }
            ],
            "label": "2015-02-01",
            "method": "animate"
           },
           {
            "args": [
             [
              "2015-04-12"
             ],
             {
              "frame": {
               "duration": 0,
               "redraw": true
              },
              "fromcurrent": true,
              "mode": "immediate",
              "transition": {
               "duration": 0,
               "easing": "linear"
              }
             }
            ],
            "label": "2015-04-12",
            "method": "animate"
           },
           {
            "args": [
             [
              "2015-08-24"
             ],
             {
              "frame": {
               "duration": 0,
               "redraw": true
              },
              "fromcurrent": true,
              "mode": "immediate",
              "transition": {
               "duration": 0,
               "easing": "linear"
              }
             }
            ],
            "label": "2015-08-24",
            "method": "animate"
           },
           {
            "args": [
             [
              "2015-11-02"
             ],
             {
              "frame": {
               "duration": 0,
               "redraw": true
              },
              "fromcurrent": true,
              "mode": "immediate",
              "transition": {
               "duration": 0,
               "easing": "linear"
              }
             }
            ],
            "label": "2015-11-02",
            "method": "animate"
           },
           {
            "args": [
             [
              "2016-01-18"
             ],
             {
              "frame": {
               "duration": 0,
               "redraw": true
              },
              "fromcurrent": true,
              "mode": "immediate",
              "transition": {
               "duration": 0,
               "easing": "linear"
              }
             }
            ],
            "label": "2016-01-18",
            "method": "animate"
           },
           {
            "args": [
             [
              "2016-04-18"
             ],
             {
              "frame": {
               "duration": 0,
               "redraw": true
              },
              "fromcurrent": true,
              "mode": "immediate",
              "transition": {
               "duration": 0,
               "easing": "linear"
              }
             }
            ],
            "label": "2016-04-18",
            "method": "animate"
           },
           {
            "args": [
             [
              "2016-08-10"
             ],
             {
              "frame": {
               "duration": 0,
               "redraw": true
              },
              "fromcurrent": true,
              "mode": "immediate",
              "transition": {
               "duration": 0,
               "easing": "linear"
              }
             }
            ],
            "label": "2016-08-10",
            "method": "animate"
           },
           {
            "args": [
             [
              "2016-10-25"
             ],
             {
              "frame": {
               "duration": 0,
               "redraw": true
              },
              "fromcurrent": true,
              "mode": "immediate",
              "transition": {
               "duration": 0,
               "easing": "linear"
              }
             }
            ],
            "label": "2016-10-25",
            "method": "animate"
           },
           {
            "args": [
             [
              "2007-04-25"
             ],
             {
              "frame": {
               "duration": 0,
               "redraw": true
              },
              "fromcurrent": true,
              "mode": "immediate",
              "transition": {
               "duration": 0,
               "easing": "linear"
              }
             }
            ],
            "label": "2007-04-25",
            "method": "animate"
           },
           {
            "args": [
             [
              "2007-07-10"
             ],
             {
              "frame": {
               "duration": 0,
               "redraw": true
              },
              "fromcurrent": true,
              "mode": "immediate",
              "transition": {
               "duration": 0,
               "easing": "linear"
              }
             }
            ],
            "label": "2007-07-10",
            "method": "animate"
           },
           {
            "args": [
             [
              "2007-10-31"
             ],
             {
              "frame": {
               "duration": 0,
               "redraw": true
              },
              "fromcurrent": true,
              "mode": "immediate",
              "transition": {
               "duration": 0,
               "easing": "linear"
              }
             }
            ],
            "label": "2007-10-31",
            "method": "animate"
           },
           {
            "args": [
             [
              "2008-01-09"
             ],
             {
              "frame": {
               "duration": 0,
               "redraw": true
              },
              "fromcurrent": true,
              "mode": "immediate",
              "transition": {
               "duration": 0,
               "easing": "linear"
              }
             }
            ],
            "label": "2008-01-09",
            "method": "animate"
           },
           {
            "args": [
             [
              "2008-04-22"
             ],
             {
              "frame": {
               "duration": 0,
               "redraw": true
              },
              "fromcurrent": true,
              "mode": "immediate",
              "transition": {
               "duration": 0,
               "easing": "linear"
              }
             }
            ],
            "label": "2008-04-22",
            "method": "animate"
           },
           {
            "args": [
             [
              "2008-07-08"
             ],
             {
              "frame": {
               "duration": 0,
               "redraw": true
              },
              "fromcurrent": true,
              "mode": "immediate",
              "transition": {
               "duration": 0,
               "easing": "linear"
              }
             }
            ],
            "label": "2008-07-08",
            "method": "animate"
           },
           {
            "args": [
             [
              "2008-10-28"
             ],
             {
              "frame": {
               "duration": 0,
               "redraw": true
              },
              "fromcurrent": true,
              "mode": "immediate",
              "transition": {
               "duration": 0,
               "easing": "linear"
              }
             }
            ],
            "label": "2008-10-28",
            "method": "animate"
           },
           {
            "args": [
             [
              "2009-01-20"
             ],
             {
              "frame": {
               "duration": 0,
               "redraw": true
              },
              "fromcurrent": true,
              "mode": "immediate",
              "transition": {
               "duration": 0,
               "easing": "linear"
              }
             }
            ],
            "label": "2009-01-20",
            "method": "animate"
           },
           {
            "args": [
             [
              "2009-04-19"
             ],
             {
              "frame": {
               "duration": 0,
               "redraw": true
              },
              "fromcurrent": true,
              "mode": "immediate",
              "transition": {
               "duration": 0,
               "easing": "linear"
              }
             }
            ],
            "label": "2009-04-19",
            "method": "animate"
           },
           {
            "args": [
             [
              "2009-07-07"
             ],
             {
              "frame": {
               "duration": 0,
               "redraw": true
              },
              "fromcurrent": true,
              "mode": "immediate",
              "transition": {
               "duration": 0,
               "easing": "linear"
              }
             }
            ],
            "label": "2009-07-07",
            "method": "animate"
           },
           {
            "args": [
             [
              "2009-10-12"
             ],
             {
              "frame": {
               "duration": 0,
               "redraw": true
              },
              "fromcurrent": true,
              "mode": "immediate",
              "transition": {
               "duration": 0,
               "easing": "linear"
              }
             }
            ],
            "label": "2009-10-12",
            "method": "animate"
           },
           {
            "args": [
             [
              "2010-02-03"
             ],
             {
              "frame": {
               "duration": 0,
               "redraw": true
              },
              "fromcurrent": true,
              "mode": "immediate",
              "transition": {
               "duration": 0,
               "easing": "linear"
              }
             }
            ],
            "label": "2010-02-03",
            "method": "animate"
           },
           {
            "args": [
             [
              "2010-04-21"
             ],
             {
              "frame": {
               "duration": 0,
               "redraw": true
              },
              "fromcurrent": true,
              "mode": "immediate",
              "transition": {
               "duration": 0,
               "easing": "linear"
              }
             }
            ],
            "label": "2010-04-21",
            "method": "animate"
           },
           {
            "args": [
             [
              "2010-07-06"
             ],
             {
              "frame": {
               "duration": 0,
               "redraw": true
              },
              "fromcurrent": true,
              "mode": "immediate",
              "transition": {
               "duration": 0,
               "easing": "linear"
              }
             }
            ],
            "label": "2010-07-06",
            "method": "animate"
           },
           {
            "args": [
             [
              "2010-10-17"
             ],
             {
              "frame": {
               "duration": 0,
               "redraw": true
              },
              "fromcurrent": true,
              "mode": "immediate",
              "transition": {
               "duration": 0,
               "easing": "linear"
              }
             }
            ],
            "label": "2010-10-17",
            "method": "animate"
           },
           {
            "args": [
             [
              "2011-01-18"
             ],
             {
              "frame": {
               "duration": 0,
               "redraw": true
              },
              "fromcurrent": true,
              "mode": "immediate",
              "transition": {
               "duration": 0,
               "easing": "linear"
              }
             }
            ],
            "label": "2011-01-18",
            "method": "animate"
           },
           {
            "args": [
             [
              "2011-04-26"
             ],
             {
              "frame": {
               "duration": 0,
               "redraw": true
              },
              "fromcurrent": true,
              "mode": "immediate",
              "transition": {
               "duration": 0,
               "easing": "linear"
              }
             }
            ],
            "label": "2011-04-26",
            "method": "animate"
           },
           {
            "args": [
             [
              "2011-07-13"
             ],
             {
              "frame": {
               "duration": 0,
               "redraw": true
              },
              "fromcurrent": true,
              "mode": "immediate",
              "transition": {
               "duration": 0,
               "easing": "linear"
              }
             }
            ],
            "label": "2011-07-13",
            "method": "animate"
           },
           {
            "args": [
             [
              "2011-10-11"
             ],
             {
              "frame": {
               "duration": 0,
               "redraw": true
              },
              "fromcurrent": true,
              "mode": "immediate",
              "transition": {
               "duration": 0,
               "easing": "linear"
              }
             }
            ],
            "label": "2011-10-11",
            "method": "animate"
           },
           {
            "args": [
             [
              "2012-01-18"
             ],
             {
              "frame": {
               "duration": 0,
               "redraw": true
              },
              "fromcurrent": true,
              "mode": "immediate",
              "transition": {
               "duration": 0,
               "easing": "linear"
              }
             }
            ],
            "label": "2012-01-18",
            "method": "animate"
           },
           {
            "args": [
             [
              "2012-04-17"
             ],
             {
              "frame": {
               "duration": 0,
               "redraw": true
              },
              "fromcurrent": true,
              "mode": "immediate",
              "transition": {
               "duration": 0,
               "easing": "linear"
              }
             }
            ],
            "label": "2012-04-17",
            "method": "animate"
           },
           {
            "args": [
             [
              "2012-07-11"
             ],
             {
              "frame": {
               "duration": 0,
               "redraw": true
              },
              "fromcurrent": true,
              "mode": "immediate",
              "transition": {
               "duration": 0,
               "easing": "linear"
              }
             }
            ],
            "label": "2012-07-11",
            "method": "animate"
           },
           {
            "args": [
             [
              "2012-10-10"
             ],
             {
              "frame": {
               "duration": 0,
               "redraw": true
              },
              "fromcurrent": true,
              "mode": "immediate",
              "transition": {
               "duration": 0,
               "easing": "linear"
              }
             }
            ],
            "label": "2012-10-10",
            "method": "animate"
           },
           {
            "args": [
             [
              "2013-01-23"
             ],
             {
              "frame": {
               "duration": 0,
               "redraw": true
              },
              "fromcurrent": true,
              "mode": "immediate",
              "transition": {
               "duration": 0,
               "easing": "linear"
              }
             }
            ],
            "label": "2013-01-23",
            "method": "animate"
           },
           {
            "args": [
             [
              "2013-04-17"
             ],
             {
              "frame": {
               "duration": 0,
               "redraw": true
              },
              "fromcurrent": true,
              "mode": "immediate",
              "transition": {
               "duration": 0,
               "easing": "linear"
              }
             }
            ],
            "label": "2013-04-17",
            "method": "animate"
           },
           {
            "args": [
             [
              "2013-08-28"
             ],
             {
              "frame": {
               "duration": 0,
               "redraw": true
              },
              "fromcurrent": true,
              "mode": "immediate",
              "transition": {
               "duration": 0,
               "easing": "linear"
              }
             }
            ],
            "label": "2013-08-28",
            "method": "animate"
           },
           {
            "args": [
             [
              "2013-11-07"
             ],
             {
              "frame": {
               "duration": 0,
               "redraw": true
              },
              "fromcurrent": true,
              "mode": "immediate",
              "transition": {
               "duration": 0,
               "easing": "linear"
              }
             }
            ],
            "label": "2013-11-07",
            "method": "animate"
           },
           {
            "args": [
             [
              "2014-01-21"
             ],
             {
              "frame": {
               "duration": 0,
               "redraw": true
              },
              "fromcurrent": true,
              "mode": "immediate",
              "transition": {
               "duration": 0,
               "easing": "linear"
              }
             }
            ],
            "label": "2014-01-21",
            "method": "animate"
           },
           {
            "args": [
             [
              "2014-05-07"
             ],
             {
              "frame": {
               "duration": 0,
               "redraw": true
              },
              "fromcurrent": true,
              "mode": "immediate",
              "transition": {
               "duration": 0,
               "easing": "linear"
              }
             }
            ],
            "label": "2014-05-07",
            "method": "animate"
           },
           {
            "args": [
             [
              "2014-08-27"
             ],
             {
              "frame": {
               "duration": 0,
               "redraw": true
              },
              "fromcurrent": true,
              "mode": "immediate",
              "transition": {
               "duration": 0,
               "easing": "linear"
              }
             }
            ],
            "label": "2014-08-27",
            "method": "animate"
           },
           {
            "args": [
             [
              "2014-10-21"
             ],
             {
              "frame": {
               "duration": 0,
               "redraw": true
              },
              "fromcurrent": true,
              "mode": "immediate",
              "transition": {
               "duration": 0,
               "easing": "linear"
              }
             }
            ],
            "label": "2014-10-21",
            "method": "animate"
           },
           {
            "args": [
             [
              "2015-01-28"
             ],
             {
              "frame": {
               "duration": 0,
               "redraw": true
              },
              "fromcurrent": true,
              "mode": "immediate",
              "transition": {
               "duration": 0,
               "easing": "linear"
              }
             }
            ],
            "label": "2015-01-28",
            "method": "animate"
           },
           {
            "args": [
             [
              "2015-04-19"
             ],
             {
              "frame": {
               "duration": 0,
               "redraw": true
              },
              "fromcurrent": true,
              "mode": "immediate",
              "transition": {
               "duration": 0,
               "easing": "linear"
              }
             }
            ],
            "label": "2015-04-19",
            "method": "animate"
           },
           {
            "args": [
             [
              "2015-08-30"
             ],
             {
              "frame": {
               "duration": 0,
               "redraw": true
              },
              "fromcurrent": true,
              "mode": "immediate",
              "transition": {
               "duration": 0,
               "easing": "linear"
              }
             }
            ],
            "label": "2015-08-30",
            "method": "animate"
           },
           {
            "args": [
             [
              "2015-11-30"
             ],
             {
              "frame": {
               "duration": 0,
               "redraw": true
              },
              "fromcurrent": true,
              "mode": "immediate",
              "transition": {
               "duration": 0,
               "easing": "linear"
              }
             }
            ],
            "label": "2015-11-30",
            "method": "animate"
           },
           {
            "args": [
             [
              "2016-11-14"
             ],
             {
              "frame": {
               "duration": 0,
               "redraw": true
              },
              "fromcurrent": true,
              "mode": "immediate",
              "transition": {
               "duration": 0,
               "easing": "linear"
              }
             }
            ],
            "label": "2016-11-14",
            "method": "animate"
           },
           {
            "args": [
             [
              "2010-04-20"
             ],
             {
              "frame": {
               "duration": 0,
               "redraw": true
              },
              "fromcurrent": true,
              "mode": "immediate",
              "transition": {
               "duration": 0,
               "easing": "linear"
              }
             }
            ],
            "label": "2010-04-20",
            "method": "animate"
           },
           {
            "args": [
             [
              "2010-10-12"
             ],
             {
              "frame": {
               "duration": 0,
               "redraw": true
              },
              "fromcurrent": true,
              "mode": "immediate",
              "transition": {
               "duration": 0,
               "easing": "linear"
              }
             }
            ],
            "label": "2010-10-12",
            "method": "animate"
           },
           {
            "args": [
             [
              "2012-10-09"
             ],
             {
              "frame": {
               "duration": 0,
               "redraw": true
              },
              "fromcurrent": true,
              "mode": "immediate",
              "transition": {
               "duration": 0,
               "easing": "linear"
              }
             }
            ],
            "label": "2012-10-09",
            "method": "animate"
           },
           {
            "args": [
             [
              "2013-01-22"
             ],
             {
              "frame": {
               "duration": 0,
               "redraw": true
              },
              "fromcurrent": true,
              "mode": "immediate",
              "transition": {
               "duration": 0,
               "easing": "linear"
              }
             }
            ],
            "label": "2013-01-22",
            "method": "animate"
           },
           {
            "args": [
             [
              "2013-04-16"
             ],
             {
              "frame": {
               "duration": 0,
               "redraw": true
              },
              "fromcurrent": true,
              "mode": "immediate",
              "transition": {
               "duration": 0,
               "easing": "linear"
              }
             }
            ],
            "label": "2013-04-16",
            "method": "animate"
           },
           {
            "args": [
             [
              "2010-07-05"
             ],
             {
              "frame": {
               "duration": 0,
               "redraw": true
              },
              "fromcurrent": true,
              "mode": "immediate",
              "transition": {
               "duration": 0,
               "easing": "linear"
              }
             }
            ],
            "label": "2010-07-05",
            "method": "animate"
           },
           {
            "args": [
             [
              "2011-07-12"
             ],
             {
              "frame": {
               "duration": 0,
               "redraw": true
              },
              "fromcurrent": true,
              "mode": "immediate",
              "transition": {
               "duration": 0,
               "easing": "linear"
              }
             }
            ],
            "label": "2011-07-12",
            "method": "animate"
           },
           {
            "args": [
             [
              "2012-01-19"
             ],
             {
              "frame": {
               "duration": 0,
               "redraw": true
              },
              "fromcurrent": true,
              "mode": "immediate",
              "transition": {
               "duration": 0,
               "easing": "linear"
              }
             }
            ],
            "label": "2012-01-19",
            "method": "animate"
           },
           {
            "args": [
             [
              "2012-07-10"
             ],
             {
              "frame": {
               "duration": 0,
               "redraw": true
              },
              "fromcurrent": true,
              "mode": "immediate",
              "transition": {
               "duration": 0,
               "easing": "linear"
              }
             }
            ],
            "label": "2012-07-10",
            "method": "animate"
           },
           {
            "args": [
             [
              "2013-08-27"
             ],
             {
              "frame": {
               "duration": 0,
               "redraw": true
              },
              "fromcurrent": true,
              "mode": "immediate",
              "transition": {
               "duration": 0,
               "easing": "linear"
              }
             }
            ],
            "label": "2013-08-27",
            "method": "animate"
           },
           {
            "args": [
             [
              "2014-01-22"
             ],
             {
              "frame": {
               "duration": 0,
               "redraw": true
              },
              "fromcurrent": true,
              "mode": "immediate",
              "transition": {
               "duration": 0,
               "easing": "linear"
              }
             }
            ],
            "label": "2014-01-22",
            "method": "animate"
           },
           {
            "args": [
             [
              "2014-08-31"
             ],
             {
              "frame": {
               "duration": 0,
               "redraw": true
              },
              "fromcurrent": true,
              "mode": "immediate",
              "transition": {
               "duration": 0,
               "easing": "linear"
              }
             }
            ],
            "label": "2014-08-31",
            "method": "animate"
           },
           {
            "args": [
             [
              "2015-08-26"
             ],
             {
              "frame": {
               "duration": 0,
               "redraw": true
              },
              "fromcurrent": true,
              "mode": "immediate",
              "transition": {
               "duration": 0,
               "easing": "linear"
              }
             }
            ],
            "label": "2015-08-26",
            "method": "animate"
           },
           {
            "args": [
             [
              "2016-02-01"
             ],
             {
              "frame": {
               "duration": 0,
               "redraw": true
              },
              "fromcurrent": true,
              "mode": "immediate",
              "transition": {
               "duration": 0,
               "easing": "linear"
              }
             }
            ],
            "label": "2016-02-01",
            "method": "animate"
           },
           {
            "args": [
             [
              "2016-04-19"
             ],
             {
              "frame": {
               "duration": 0,
               "redraw": true
              },
              "fromcurrent": true,
              "mode": "immediate",
              "transition": {
               "duration": 0,
               "easing": "linear"
              }
             }
            ],
            "label": "2016-04-19",
            "method": "animate"
           },
           {
            "args": [
             [
              "2016-10-26"
             ],
             {
              "frame": {
               "duration": 0,
               "redraw": true
              },
              "fromcurrent": true,
              "mode": "immediate",
              "transition": {
               "duration": 0,
               "easing": "linear"
              }
             }
            ],
            "label": "2016-10-26",
            "method": "animate"
           },
           {
            "args": [
             [
              "2007-04-26"
             ],
             {
              "frame": {
               "duration": 0,
               "redraw": true
              },
              "fromcurrent": true,
              "mode": "immediate",
              "transition": {
               "duration": 0,
               "easing": "linear"
              }
             }
            ],
            "label": "2007-04-26",
            "method": "animate"
           },
           {
            "args": [
             [
              "2007-07-11"
             ],
             {
              "frame": {
               "duration": 0,
               "redraw": true
              },
              "fromcurrent": true,
              "mode": "immediate",
              "transition": {
               "duration": 0,
               "easing": "linear"
              }
             }
            ],
            "label": "2007-07-11",
            "method": "animate"
           },
           {
            "args": [
             [
              "2007-11-01"
             ],
             {
              "frame": {
               "duration": 0,
               "redraw": true
              },
              "fromcurrent": true,
              "mode": "immediate",
              "transition": {
               "duration": 0,
               "easing": "linear"
              }
             }
            ],
            "label": "2007-11-01",
            "method": "animate"
           },
           {
            "args": [
             [
              "2008-04-23"
             ],
             {
              "frame": {
               "duration": 0,
               "redraw": true
              },
              "fromcurrent": true,
              "mode": "immediate",
              "transition": {
               "duration": 0,
               "easing": "linear"
              }
             }
            ],
            "label": "2008-04-23",
            "method": "animate"
           },
           {
            "args": [
             [
              "2008-07-09"
             ],
             {
              "frame": {
               "duration": 0,
               "redraw": true
              },
              "fromcurrent": true,
              "mode": "immediate",
              "transition": {
               "duration": 0,
               "easing": "linear"
              }
             }
            ],
            "label": "2008-07-09",
            "method": "animate"
           },
           {
            "args": [
             [
              "2008-10-29"
             ],
             {
              "frame": {
               "duration": 0,
               "redraw": true
              },
              "fromcurrent": true,
              "mode": "immediate",
              "transition": {
               "duration": 0,
               "easing": "linear"
              }
             }
            ],
            "label": "2008-10-29",
            "method": "animate"
           },
           {
            "args": [
             [
              "2009-01-28"
             ],
             {
              "frame": {
               "duration": 0,
               "redraw": true
              },
              "fromcurrent": true,
              "mode": "immediate",
              "transition": {
               "duration": 0,
               "easing": "linear"
              }
             }
            ],
            "label": "2009-01-28",
            "method": "animate"
           },
           {
            "args": [
             [
              "2009-04-21"
             ],
             {
              "frame": {
               "duration": 0,
               "redraw": true
              },
              "fromcurrent": true,
              "mode": "immediate",
              "transition": {
               "duration": 0,
               "easing": "linear"
              }
             }
            ],
            "label": "2009-04-21",
            "method": "animate"
           },
           {
            "args": [
             [
              "2009-07-08"
             ],
             {
              "frame": {
               "duration": 0,
               "redraw": true
              },
              "fromcurrent": true,
              "mode": "immediate",
              "transition": {
               "duration": 0,
               "easing": "linear"
              }
             }
            ],
            "label": "2009-07-08",
            "method": "animate"
           },
           {
            "args": [
             [
              "2009-10-13"
             ],
             {
              "frame": {
               "duration": 0,
               "redraw": true
              },
              "fromcurrent": true,
              "mode": "immediate",
              "transition": {
               "duration": 0,
               "easing": "linear"
              }
             }
            ],
            "label": "2009-10-13",
            "method": "animate"
           },
           {
            "args": [
             [
              "2011-01-19"
             ],
             {
              "frame": {
               "duration": 0,
               "redraw": true
              },
              "fromcurrent": true,
              "mode": "immediate",
              "transition": {
               "duration": 0,
               "easing": "linear"
              }
             }
            ],
            "label": "2011-01-19",
            "method": "animate"
           },
           {
            "args": [
             [
              "2011-04-27"
             ],
             {
              "frame": {
               "duration": 0,
               "redraw": true
              },
              "fromcurrent": true,
              "mode": "immediate",
              "transition": {
               "duration": 0,
               "easing": "linear"
              }
             }
            ],
            "label": "2011-04-27",
            "method": "animate"
           },
           {
            "args": [
             [
              "2011-10-12"
             ],
             {
              "frame": {
               "duration": 0,
               "redraw": true
              },
              "fromcurrent": true,
              "mode": "immediate",
              "transition": {
               "duration": 0,
               "easing": "linear"
              }
             }
            ],
            "label": "2011-10-12",
            "method": "animate"
           },
           {
            "args": [
             [
              "2012-04-18"
             ],
             {
              "frame": {
               "duration": 0,
               "redraw": true
              },
              "fromcurrent": true,
              "mode": "immediate",
              "transition": {
               "duration": 0,
               "easing": "linear"
              }
             }
            ],
            "label": "2012-04-18",
            "method": "animate"
           },
           {
            "args": [
             [
              "2013-11-06"
             ],
             {
              "frame": {
               "duration": 0,
               "redraw": true
              },
              "fromcurrent": true,
              "mode": "immediate",
              "transition": {
               "duration": 0,
               "easing": "linear"
              }
             }
            ],
            "label": "2013-11-06",
            "method": "animate"
           },
           {
            "args": [
             [
              "2014-05-06"
             ],
             {
              "frame": {
               "duration": 0,
               "redraw": true
              },
              "fromcurrent": true,
              "mode": "immediate",
              "transition": {
               "duration": 0,
               "easing": "linear"
              }
             }
            ],
            "label": "2014-05-06",
            "method": "animate"
           },
           {
            "args": [
             [
              "2014-08-26"
             ],
             {
              "frame": {
               "duration": 0,
               "redraw": true
              },
              "fromcurrent": true,
              "mode": "immediate",
              "transition": {
               "duration": 0,
               "easing": "linear"
              }
             }
            ],
            "label": "2014-08-26",
            "method": "animate"
           },
           {
            "args": [
             [
              "2014-10-29"
             ],
             {
              "frame": {
               "duration": 0,
               "redraw": true
              },
              "fromcurrent": true,
              "mode": "immediate",
              "transition": {
               "duration": 0,
               "easing": "linear"
              }
             }
            ],
            "label": "2014-10-29",
            "method": "animate"
           },
           {
            "args": [
             [
              "2015-01-26"
             ],
             {
              "frame": {
               "duration": 0,
               "redraw": true
              },
              "fromcurrent": true,
              "mode": "immediate",
              "transition": {
               "duration": 0,
               "easing": "linear"
              }
             }
            ],
            "label": "2015-01-26",
            "method": "animate"
           },
           {
            "args": [
             [
              "2015-04-16"
             ],
             {
              "frame": {
               "duration": 0,
               "redraw": true
              },
              "fromcurrent": true,
              "mode": "immediate",
              "transition": {
               "duration": 0,
               "easing": "linear"
              }
             }
            ],
            "label": "2015-04-16",
            "method": "animate"
           },
           {
            "args": [
             [
              "2015-08-25"
             ],
             {
              "frame": {
               "duration": 0,
               "redraw": true
              },
              "fromcurrent": true,
              "mode": "immediate",
              "transition": {
               "duration": 0,
               "easing": "linear"
              }
             }
            ],
            "label": "2015-08-25",
            "method": "animate"
           },
           {
            "args": [
             [
              "2015-12-01"
             ],
             {
              "frame": {
               "duration": 0,
               "redraw": true
              },
              "fromcurrent": true,
              "mode": "immediate",
              "transition": {
               "duration": 0,
               "easing": "linear"
              }
             }
            ],
            "label": "2015-12-01",
            "method": "animate"
           },
           {
            "args": [
             [
              "2016-02-02"
             ],
             {
              "frame": {
               "duration": 0,
               "redraw": true
              },
              "fromcurrent": true,
              "mode": "immediate",
              "transition": {
               "duration": 0,
               "easing": "linear"
              }
             }
            ],
            "label": "2016-02-02",
            "method": "animate"
           },
           {
            "args": [
             [
              "2016-04-20"
             ],
             {
              "frame": {
               "duration": 0,
               "redraw": true
              },
              "fromcurrent": true,
              "mode": "immediate",
              "transition": {
               "duration": 0,
               "easing": "linear"
              }
             }
            ],
            "label": "2016-04-20",
            "method": "animate"
           },
           {
            "args": [
             [
              "2016-08-08"
             ],
             {
              "frame": {
               "duration": 0,
               "redraw": true
              },
              "fromcurrent": true,
              "mode": "immediate",
              "transition": {
               "duration": 0,
               "easing": "linear"
              }
             }
            ],
            "label": "2016-08-08",
            "method": "animate"
           },
           {
            "args": [
             [
              "2016-11-13"
             ],
             {
              "frame": {
               "duration": 0,
               "redraw": true
              },
              "fromcurrent": true,
              "mode": "immediate",
              "transition": {
               "duration": 0,
               "easing": "linear"
              }
             }
            ],
            "label": "2016-11-13",
            "method": "animate"
           }
          ],
          "x": 0.1,
          "xanchor": "left",
          "y": 0,
          "yanchor": "top"
         }
        ],
        "template": {
         "data": {
          "bar": [
           {
            "error_x": {
             "color": "#2a3f5f"
            },
            "error_y": {
             "color": "#2a3f5f"
            },
            "marker": {
             "line": {
              "color": "#E5ECF6",
              "width": 0.5
             },
             "pattern": {
              "fillmode": "overlay",
              "size": 10,
              "solidity": 0.2
             }
            },
            "type": "bar"
           }
          ],
          "barpolar": [
           {
            "marker": {
             "line": {
              "color": "#E5ECF6",
              "width": 0.5
             },
             "pattern": {
              "fillmode": "overlay",
              "size": 10,
              "solidity": 0.2
             }
            },
            "type": "barpolar"
           }
          ],
          "carpet": [
           {
            "aaxis": {
             "endlinecolor": "#2a3f5f",
             "gridcolor": "white",
             "linecolor": "white",
             "minorgridcolor": "white",
             "startlinecolor": "#2a3f5f"
            },
            "baxis": {
             "endlinecolor": "#2a3f5f",
             "gridcolor": "white",
             "linecolor": "white",
             "minorgridcolor": "white",
             "startlinecolor": "#2a3f5f"
            },
            "type": "carpet"
           }
          ],
          "choropleth": [
           {
            "colorbar": {
             "outlinewidth": 0,
             "ticks": ""
            },
            "type": "choropleth"
           }
          ],
          "contour": [
           {
            "colorbar": {
             "outlinewidth": 0,
             "ticks": ""
            },
            "colorscale": [
             [
              0,
              "#0d0887"
             ],
             [
              0.1111111111111111,
              "#46039f"
             ],
             [
              0.2222222222222222,
              "#7201a8"
             ],
             [
              0.3333333333333333,
              "#9c179e"
             ],
             [
              0.4444444444444444,
              "#bd3786"
             ],
             [
              0.5555555555555556,
              "#d8576b"
             ],
             [
              0.6666666666666666,
              "#ed7953"
             ],
             [
              0.7777777777777778,
              "#fb9f3a"
             ],
             [
              0.8888888888888888,
              "#fdca26"
             ],
             [
              1,
              "#f0f921"
             ]
            ],
            "type": "contour"
           }
          ],
          "contourcarpet": [
           {
            "colorbar": {
             "outlinewidth": 0,
             "ticks": ""
            },
            "type": "contourcarpet"
           }
          ],
          "heatmap": [
           {
            "colorbar": {
             "outlinewidth": 0,
             "ticks": ""
            },
            "colorscale": [
             [
              0,
              "#0d0887"
             ],
             [
              0.1111111111111111,
              "#46039f"
             ],
             [
              0.2222222222222222,
              "#7201a8"
             ],
             [
              0.3333333333333333,
              "#9c179e"
             ],
             [
              0.4444444444444444,
              "#bd3786"
             ],
             [
              0.5555555555555556,
              "#d8576b"
             ],
             [
              0.6666666666666666,
              "#ed7953"
             ],
             [
              0.7777777777777778,
              "#fb9f3a"
             ],
             [
              0.8888888888888888,
              "#fdca26"
             ],
             [
              1,
              "#f0f921"
             ]
            ],
            "type": "heatmap"
           }
          ],
          "heatmapgl": [
           {
            "colorbar": {
             "outlinewidth": 0,
             "ticks": ""
            },
            "colorscale": [
             [
              0,
              "#0d0887"
             ],
             [
              0.1111111111111111,
              "#46039f"
             ],
             [
              0.2222222222222222,
              "#7201a8"
             ],
             [
              0.3333333333333333,
              "#9c179e"
             ],
             [
              0.4444444444444444,
              "#bd3786"
             ],
             [
              0.5555555555555556,
              "#d8576b"
             ],
             [
              0.6666666666666666,
              "#ed7953"
             ],
             [
              0.7777777777777778,
              "#fb9f3a"
             ],
             [
              0.8888888888888888,
              "#fdca26"
             ],
             [
              1,
              "#f0f921"
             ]
            ],
            "type": "heatmapgl"
           }
          ],
          "histogram": [
           {
            "marker": {
             "pattern": {
              "fillmode": "overlay",
              "size": 10,
              "solidity": 0.2
             }
            },
            "type": "histogram"
           }
          ],
          "histogram2d": [
           {
            "colorbar": {
             "outlinewidth": 0,
             "ticks": ""
            },
            "colorscale": [
             [
              0,
              "#0d0887"
             ],
             [
              0.1111111111111111,
              "#46039f"
             ],
             [
              0.2222222222222222,
              "#7201a8"
             ],
             [
              0.3333333333333333,
              "#9c179e"
             ],
             [
              0.4444444444444444,
              "#bd3786"
             ],
             [
              0.5555555555555556,
              "#d8576b"
             ],
             [
              0.6666666666666666,
              "#ed7953"
             ],
             [
              0.7777777777777778,
              "#fb9f3a"
             ],
             [
              0.8888888888888888,
              "#fdca26"
             ],
             [
              1,
              "#f0f921"
             ]
            ],
            "type": "histogram2d"
           }
          ],
          "histogram2dcontour": [
           {
            "colorbar": {
             "outlinewidth": 0,
             "ticks": ""
            },
            "colorscale": [
             [
              0,
              "#0d0887"
             ],
             [
              0.1111111111111111,
              "#46039f"
             ],
             [
              0.2222222222222222,
              "#7201a8"
             ],
             [
              0.3333333333333333,
              "#9c179e"
             ],
             [
              0.4444444444444444,
              "#bd3786"
             ],
             [
              0.5555555555555556,
              "#d8576b"
             ],
             [
              0.6666666666666666,
              "#ed7953"
             ],
             [
              0.7777777777777778,
              "#fb9f3a"
             ],
             [
              0.8888888888888888,
              "#fdca26"
             ],
             [
              1,
              "#f0f921"
             ]
            ],
            "type": "histogram2dcontour"
           }
          ],
          "mesh3d": [
           {
            "colorbar": {
             "outlinewidth": 0,
             "ticks": ""
            },
            "type": "mesh3d"
           }
          ],
          "parcoords": [
           {
            "line": {
             "colorbar": {
              "outlinewidth": 0,
              "ticks": ""
             }
            },
            "type": "parcoords"
           }
          ],
          "pie": [
           {
            "automargin": true,
            "type": "pie"
           }
          ],
          "scatter": [
           {
            "fillpattern": {
             "fillmode": "overlay",
             "size": 10,
             "solidity": 0.2
            },
            "type": "scatter"
           }
          ],
          "scatter3d": [
           {
            "line": {
             "colorbar": {
              "outlinewidth": 0,
              "ticks": ""
             }
            },
            "marker": {
             "colorbar": {
              "outlinewidth": 0,
              "ticks": ""
             }
            },
            "type": "scatter3d"
           }
          ],
          "scattercarpet": [
           {
            "marker": {
             "colorbar": {
              "outlinewidth": 0,
              "ticks": ""
             }
            },
            "type": "scattercarpet"
           }
          ],
          "scattergeo": [
           {
            "marker": {
             "colorbar": {
              "outlinewidth": 0,
              "ticks": ""
             }
            },
            "type": "scattergeo"
           }
          ],
          "scattergl": [
           {
            "marker": {
             "colorbar": {
              "outlinewidth": 0,
              "ticks": ""
             }
            },
            "type": "scattergl"
           }
          ],
          "scattermapbox": [
           {
            "marker": {
             "colorbar": {
              "outlinewidth": 0,
              "ticks": ""
             }
            },
            "type": "scattermapbox"
           }
          ],
          "scatterpolar": [
           {
            "marker": {
             "colorbar": {
              "outlinewidth": 0,
              "ticks": ""
             }
            },
            "type": "scatterpolar"
           }
          ],
          "scatterpolargl": [
           {
            "marker": {
             "colorbar": {
              "outlinewidth": 0,
              "ticks": ""
             }
            },
            "type": "scatterpolargl"
           }
          ],
          "scatterternary": [
           {
            "marker": {
             "colorbar": {
              "outlinewidth": 0,
              "ticks": ""
             }
            },
            "type": "scatterternary"
           }
          ],
          "surface": [
           {
            "colorbar": {
             "outlinewidth": 0,
             "ticks": ""
            },
            "colorscale": [
             [
              0,
              "#0d0887"
             ],
             [
              0.1111111111111111,
              "#46039f"
             ],
             [
              0.2222222222222222,
              "#7201a8"
             ],
             [
              0.3333333333333333,
              "#9c179e"
             ],
             [
              0.4444444444444444,
              "#bd3786"
             ],
             [
              0.5555555555555556,
              "#d8576b"
             ],
             [
              0.6666666666666666,
              "#ed7953"
             ],
             [
              0.7777777777777778,
              "#fb9f3a"
             ],
             [
              0.8888888888888888,
              "#fdca26"
             ],
             [
              1,
              "#f0f921"
             ]
            ],
            "type": "surface"
           }
          ],
          "table": [
           {
            "cells": {
             "fill": {
              "color": "#EBF0F8"
             },
             "line": {
              "color": "white"
             }
            },
            "header": {
             "fill": {
              "color": "#C8D4E3"
             },
             "line": {
              "color": "white"
             }
            },
            "type": "table"
           }
          ]
         },
         "layout": {
          "annotationdefaults": {
           "arrowcolor": "#2a3f5f",
           "arrowhead": 0,
           "arrowwidth": 1
          },
          "autotypenumbers": "strict",
          "coloraxis": {
           "colorbar": {
            "outlinewidth": 0,
            "ticks": ""
           }
          },
          "colorscale": {
           "diverging": [
            [
             0,
             "#8e0152"
            ],
            [
             0.1,
             "#c51b7d"
            ],
            [
             0.2,
             "#de77ae"
            ],
            [
             0.3,
             "#f1b6da"
            ],
            [
             0.4,
             "#fde0ef"
            ],
            [
             0.5,
             "#f7f7f7"
            ],
            [
             0.6,
             "#e6f5d0"
            ],
            [
             0.7,
             "#b8e186"
            ],
            [
             0.8,
             "#7fbc41"
            ],
            [
             0.9,
             "#4d9221"
            ],
            [
             1,
             "#276419"
            ]
           ],
           "sequential": [
            [
             0,
             "#0d0887"
            ],
            [
             0.1111111111111111,
             "#46039f"
            ],
            [
             0.2222222222222222,
             "#7201a8"
            ],
            [
             0.3333333333333333,
             "#9c179e"
            ],
            [
             0.4444444444444444,
             "#bd3786"
            ],
            [
             0.5555555555555556,
             "#d8576b"
            ],
            [
             0.6666666666666666,
             "#ed7953"
            ],
            [
             0.7777777777777778,
             "#fb9f3a"
            ],
            [
             0.8888888888888888,
             "#fdca26"
            ],
            [
             1,
             "#f0f921"
            ]
           ],
           "sequentialminus": [
            [
             0,
             "#0d0887"
            ],
            [
             0.1111111111111111,
             "#46039f"
            ],
            [
             0.2222222222222222,
             "#7201a8"
            ],
            [
             0.3333333333333333,
             "#9c179e"
            ],
            [
             0.4444444444444444,
             "#bd3786"
            ],
            [
             0.5555555555555556,
             "#d8576b"
            ],
            [
             0.6666666666666666,
             "#ed7953"
            ],
            [
             0.7777777777777778,
             "#fb9f3a"
            ],
            [
             0.8888888888888888,
             "#fdca26"
            ],
            [
             1,
             "#f0f921"
            ]
           ]
          },
          "colorway": [
           "#636efa",
           "#EF553B",
           "#00cc96",
           "#ab63fa",
           "#FFA15A",
           "#19d3f3",
           "#FF6692",
           "#B6E880",
           "#FF97FF",
           "#FECB52"
          ],
          "font": {
           "color": "#2a3f5f"
          },
          "geo": {
           "bgcolor": "white",
           "lakecolor": "white",
           "landcolor": "#E5ECF6",
           "showlakes": true,
           "showland": true,
           "subunitcolor": "white"
          },
          "hoverlabel": {
           "align": "left"
          },
          "hovermode": "closest",
          "mapbox": {
           "style": "light"
          },
          "paper_bgcolor": "white",
          "plot_bgcolor": "#E5ECF6",
          "polar": {
           "angularaxis": {
            "gridcolor": "white",
            "linecolor": "white",
            "ticks": ""
           },
           "bgcolor": "#E5ECF6",
           "radialaxis": {
            "gridcolor": "white",
            "linecolor": "white",
            "ticks": ""
           }
          },
          "scene": {
           "xaxis": {
            "backgroundcolor": "#E5ECF6",
            "gridcolor": "white",
            "gridwidth": 2,
            "linecolor": "white",
            "showbackground": true,
            "ticks": "",
            "zerolinecolor": "white"
           },
           "yaxis": {
            "backgroundcolor": "#E5ECF6",
            "gridcolor": "white",
            "gridwidth": 2,
            "linecolor": "white",
            "showbackground": true,
            "ticks": "",
            "zerolinecolor": "white"
           },
           "zaxis": {
            "backgroundcolor": "#E5ECF6",
            "gridcolor": "white",
            "gridwidth": 2,
            "linecolor": "white",
            "showbackground": true,
            "ticks": "",
            "zerolinecolor": "white"
           }
          },
          "shapedefaults": {
           "line": {
            "color": "#2a3f5f"
           }
          },
          "ternary": {
           "aaxis": {
            "gridcolor": "white",
            "linecolor": "white",
            "ticks": ""
           },
           "baxis": {
            "gridcolor": "white",
            "linecolor": "white",
            "ticks": ""
           },
           "bgcolor": "#E5ECF6",
           "caxis": {
            "gridcolor": "white",
            "linecolor": "white",
            "ticks": ""
           }
          },
          "title": {
           "x": 0.05
          },
          "xaxis": {
           "automargin": true,
           "gridcolor": "white",
           "linecolor": "white",
           "ticks": "",
           "title": {
            "standoff": 15
           },
           "zerolinecolor": "white",
           "zerolinewidth": 2
          },
          "yaxis": {
           "automargin": true,
           "gridcolor": "white",
           "linecolor": "white",
           "ticks": "",
           "title": {
            "standoff": 15
           },
           "zerolinecolor": "white",
           "zerolinewidth": 2
          }
         }
        },
        "title": {
         "text": "Sea Surface Temperature Over Time in Bahrain",
         "x": 0.5
        },
        "updatemenus": [
         {
          "buttons": [
           {
            "args": [
             null,
             {
              "frame": {
               "duration": 500,
               "redraw": true
              },
              "fromcurrent": true,
              "mode": "immediate",
              "transition": {
               "duration": 500,
               "easing": "linear"
              }
             }
            ],
            "label": "&#9654;",
            "method": "animate"
           },
           {
            "args": [
             [
              null
             ],
             {
              "frame": {
               "duration": 0,
               "redraw": true
              },
              "fromcurrent": true,
              "mode": "immediate",
              "transition": {
               "duration": 0,
               "easing": "linear"
              }
             }
            ],
            "label": "&#9724;",
            "method": "animate"
           }
          ],
          "direction": "left",
          "pad": {
           "r": 10,
           "t": 70
          },
          "showactive": false,
          "type": "buttons",
          "x": 0.1,
          "xanchor": "right",
          "y": 0,
          "yanchor": "top"
         }
        ]
       }
      }
     },
     "metadata": {},
     "output_type": "display_data"
    }
   ],
   "source": [
    "import pandas as pd\n",
    "import plotly.express as px\n",
    "\n",
    "# Load the SST data\n",
    "sst_file_path = \"marine 2007 - 2016 may 2017.csv\" # Replace with your SST data file path\n",
    "sst_data_df = pd.read_csv(sst_file_path, encoding='ISO-8859-1')\n",
    "\n",
    "# Load the geolocation data\n",
    "geo_location_file_path = \"Bahrain Climate Data - Geo Locations - Sheet2.csv\"  # Replace with your geolocation data file path\n",
    "geo_location_df = pd.read_csv(geo_location_file_path)\n",
    "\n",
    "# Standardize the location names in both datasets for accurate merging\n",
    "sst_data_df['locations'] = sst_data_df['locations'].str.strip().str.lower()\n",
    "geo_location_df['Location'] = geo_location_df['Location'].str.strip().str.lower()\n",
    "\n",
    "# Merge the datasets on the location field\n",
    "merged_data_df = pd.merge(sst_data_df, geo_location_df, left_on='locations', right_on='Location')\n",
    "\n",
    "# Convert the 'Date' column to a datetime object and 'Temperature oC' to numeric\n",
    "merged_data_df['Date'] = pd.to_datetime(merged_data_df['Date'], errors='coerce')\n",
    "merged_data_df['Temperature oC'] = pd.to_numeric(merged_data_df['Temperature oC'], errors='coerce')\n",
    "\n",
    "# Remove rows with missing temperature data\n",
    "cleaned_data_df = merged_data_df.dropna(subset=['Temperature oC'])\n",
    "\n",
    "# Create the scatter mapbox plot\n",
    "fig = px.scatter_mapbox(\n",
    "    cleaned_data_df,\n",
    "    lat=\"Latitude_dd\",\n",
    "    lon=\"Longitude_dd\",\n",
    "    color=\"Temperature oC\",\n",
    "    size=\"Temperature oC\",\n",
    "    hover_name=\"locations\",\n",
    "    hover_data=[\"Temperature oC\", \"Date\"],\n",
    "    animation_frame=cleaned_data_df['Date'].dt.strftime('%Y-%m-%d'),\n",
    "    color_continuous_scale=px.colors.cyclical.IceFire,\n",
    "    size_max=15,\n",
    "    zoom=10,\n",
    "    mapbox_style=\"carto-positron\"\n",
    ")\n",
    "\n",
    "# Update layout for the slider\n",
    "fig.update_layout(\n",
    "    title_text=\"Sea Surface Temperature Over Time in Bahrain\",\n",
    "    title_x=0.5\n",
    ")\n",
    "\n",
    "# Show the figure\n",
    "fig.show()\n"
   ]
  },
  {
   "cell_type": "code",
   "execution_count": 4,
   "metadata": {},
   "outputs": [
    {
     "data": {
      "application/vnd.plotly.v1+json": {
       "config": {
        "plotlyServerURL": "https://plot.ly"
       },
       "data": [
        {
         "customdata": [
          [
           44.58,
           "2007-04-23T00:00:00"
          ],
          [
           45.09,
           "2007-04-23T00:00:00"
          ],
          [
           45.67,
           "2007-04-23T00:00:00"
          ],
          [
           45.7,
           "2007-04-23T00:00:00"
          ],
          [
           46.2,
           "2007-04-23T00:00:00"
          ],
          [
           47.1,
           "2007-04-23T00:00:00"
          ],
          [
           51.39,
           "2007-04-23T00:00:00"
          ]
         ],
         "hovertemplate": "<b>%{hovertext}</b><br><br>animation_frame=2007-04-23<br>Salinity %0=%{marker.color}<br>Latitude_dd=%{lat}<br>Longitude_dd=%{lon}<br>Date=%{customdata[1]}<extra></extra>",
         "hovertext": [
          "askar",
          "bapco",
          "fasht tighalib",
          "ghumais",
          "jabbari",
          "mashtan",
          "qassar noon"
         ],
         "lat": [
          26.05994444,
          26.108525,
          25.95768056,
          26.03835,
          25.917225,
          25.84470833,
          25.81586944
         ],
         "legendgroup": "",
         "lon": [
          50.63189722,
          50.64105,
          50.71598889,
          50.86679444,
          50.66624167,
          50.68702778,
          50.63698056
         ],
         "marker": {
          "color": [
           44.58,
           45.09,
           45.67,
           45.7,
           46.2,
           47.1,
           51.39
          ],
          "coloraxis": "coloraxis",
          "size": [
           44.58,
           45.09,
           45.67,
           45.7,
           46.2,
           47.1,
           51.39
          ],
          "sizemode": "area",
          "sizeref": 0.2528888888888889
         },
         "mode": "markers",
         "name": "",
         "showlegend": false,
         "subplot": "mapbox",
         "type": "scattermapbox"
        }
       ],
       "frames": [
        {
         "data": [
          {
           "customdata": [
            [
             44.58,
             "2007-04-23T00:00:00"
            ],
            [
             45.09,
             "2007-04-23T00:00:00"
            ],
            [
             45.67,
             "2007-04-23T00:00:00"
            ],
            [
             45.7,
             "2007-04-23T00:00:00"
            ],
            [
             46.2,
             "2007-04-23T00:00:00"
            ],
            [
             47.1,
             "2007-04-23T00:00:00"
            ],
            [
             51.39,
             "2007-04-23T00:00:00"
            ]
           ],
           "hovertemplate": "<b>%{hovertext}</b><br><br>animation_frame=2007-04-23<br>Salinity %0=%{marker.color}<br>Latitude_dd=%{lat}<br>Longitude_dd=%{lon}<br>Date=%{customdata[1]}<extra></extra>",
           "hovertext": [
            "askar",
            "bapco",
            "fasht tighalib",
            "ghumais",
            "jabbari",
            "mashtan",
            "qassar noon"
           ],
           "lat": [
            26.05994444,
            26.108525,
            25.95768056,
            26.03835,
            25.917225,
            25.84470833,
            25.81586944
           ],
           "legendgroup": "",
           "lon": [
            50.63189722,
            50.64105,
            50.71598889,
            50.86679444,
            50.66624167,
            50.68702778,
            50.63698056
           ],
           "marker": {
            "color": [
             44.58,
             45.09,
             45.67,
             45.7,
             46.2,
             47.1,
             51.39
            ],
            "coloraxis": "coloraxis",
            "size": [
             44.58,
             45.09,
             45.67,
             45.7,
             46.2,
             47.1,
             51.39
            ],
            "sizemode": "area",
            "sizeref": 0.2528888888888889
           },
           "mode": "markers",
           "name": "",
           "showlegend": false,
           "subplot": "mapbox",
           "type": "scattermapbox"
          }
         ],
         "name": "2007-04-23"
        },
        {
         "data": [
          {
           "customdata": [
            [
             44.82,
             "2007-07-08T00:00:00"
            ],
            [
             46.23,
             "2007-07-08T00:00:00"
            ],
            [
             46.01,
             "2007-07-08T00:00:00"
            ],
            [
             46.78,
             "2007-07-08T00:00:00"
            ],
            [
             47.9,
             "2007-07-08T00:00:00"
            ],
            [
             51.58,
             "2007-07-08T00:00:00"
            ]
           ],
           "hovertemplate": "<b>%{hovertext}</b><br><br>animation_frame=2007-07-08<br>Salinity %0=%{marker.color}<br>Latitude_dd=%{lat}<br>Longitude_dd=%{lon}<br>Date=%{customdata[1]}<extra></extra>",
           "hovertext": [
            "askar",
            "fasht tighalib",
            "ghumais",
            "jabbari",
            "mashtan",
            "qassar noon"
           ],
           "lat": [
            26.05994444,
            25.95768056,
            26.03835,
            25.917225,
            25.84470833,
            25.81586944
           ],
           "legendgroup": "",
           "lon": [
            50.63189722,
            50.71598889,
            50.86679444,
            50.66624167,
            50.68702778,
            50.63698056
           ],
           "marker": {
            "color": [
             44.82,
             46.23,
             46.01,
             46.78,
             47.9,
             51.58
            ],
            "coloraxis": "coloraxis",
            "size": [
             44.82,
             46.23,
             46.01,
             46.78,
             47.9,
             51.58
            ],
            "sizemode": "area",
            "sizeref": 0.2528888888888889
           },
           "mode": "markers",
           "name": "",
           "showlegend": false,
           "subplot": "mapbox",
           "type": "scattermapbox"
          }
         ],
         "name": "2007-07-08"
        },
        {
         "data": [
          {
           "customdata": [
            [
             44.55,
             "2007-10-29T00:00:00"
            ],
            [
             44.45,
             "2007-10-29T00:00:00"
            ],
            [
             45.25,
             "2007-10-29T00:00:00"
            ],
            [
             45.16,
             "2007-10-29T00:00:00"
            ],
            [
             45.69,
             "2007-10-29T00:00:00"
            ],
            [
             46.84,
             "2007-10-29T00:00:00"
            ],
            [
             44.26,
             "2007-10-29T00:00:00"
            ],
            [
             44.89,
             "2007-10-29T00:00:00"
            ]
           ],
           "hovertemplate": "<b>%{hovertext}</b><br><br>animation_frame=2007-10-29<br>Salinity %0=%{marker.color}<br>Latitude_dd=%{lat}<br>Longitude_dd=%{lon}<br>Date=%{customdata[1]}<extra></extra>",
           "hovertext": [
            "askar",
            "bapco",
            "fasht tighalib",
            "ghumais",
            "jabbari",
            "qassar noon",
            "msoor",
            "marina club"
           ],
           "lat": [
            26.05994444,
            26.108525,
            25.95768056,
            26.03835,
            25.917225,
            25.81586944,
            26.08035,
            26.23741389
           ],
           "legendgroup": "",
           "lon": [
            50.63189722,
            50.64105,
            50.71598889,
            50.86679444,
            50.66624167,
            50.63698056,
            50.70566944,
            50.60260278
           ],
           "marker": {
            "color": [
             44.55,
             44.45,
             45.25,
             45.16,
             45.69,
             46.84,
             44.26,
             44.89
            ],
            "coloraxis": "coloraxis",
            "size": [
             44.55,
             44.45,
             45.25,
             45.16,
             45.69,
             46.84,
             44.26,
             44.89
            ],
            "sizemode": "area",
            "sizeref": 0.2528888888888889
           },
           "mode": "markers",
           "name": "",
           "showlegend": false,
           "subplot": "mapbox",
           "type": "scattermapbox"
          }
         ],
         "name": "2007-10-29"
        },
        {
         "data": [
          {
           "customdata": [
            [
             44.75,
             "2008-01-06T00:00:00"
            ],
            [
             44.4,
             "2008-01-06T00:00:00"
            ],
            [
             45.15,
             "2008-01-06T00:00:00"
            ],
            [
             45.07,
             "2008-01-06T00:00:00"
            ],
            [
             45.41,
             "2008-01-06T00:00:00"
            ],
            [
             47,
             "2008-01-06T00:00:00"
            ],
            [
             47.52,
             "2008-01-06T00:00:00"
            ],
            [
             44.27,
             "2008-01-06T00:00:00"
            ],
            [
             44.91,
             "2008-01-06T00:00:00"
            ]
           ],
           "hovertemplate": "<b>%{hovertext}</b><br><br>animation_frame=2008-01-06<br>Salinity %0=%{marker.color}<br>Latitude_dd=%{lat}<br>Longitude_dd=%{lon}<br>Date=%{customdata[1]}<extra></extra>",
           "hovertext": [
            "askar",
            "bapco",
            "fasht tighalib",
            "ghumais",
            "jabbari",
            "mashtan",
            "qassar noon",
            "al gaha",
            "msoor"
           ],
           "lat": [
            26.05994444,
            26.108525,
            25.95768056,
            26.03835,
            25.917225,
            25.84470833,
            25.81586944,
            26.13141667,
            26.08035
           ],
           "legendgroup": "",
           "lon": [
            50.63189722,
            50.64105,
            50.71598889,
            50.86679444,
            50.66624167,
            50.68702778,
            50.63698056,
            50.67534167,
            50.70566944
           ],
           "marker": {
            "color": [
             44.75,
             44.4,
             45.15,
             45.07,
             45.41,
             47,
             47.52,
             44.27,
             44.91
            ],
            "coloraxis": "coloraxis",
            "size": [
             44.75,
             44.4,
             45.15,
             45.07,
             45.41,
             47,
             47.52,
             44.27,
             44.91
            ],
            "sizemode": "area",
            "sizeref": 0.2528888888888889
           },
           "mode": "markers",
           "name": "",
           "showlegend": false,
           "subplot": "mapbox",
           "type": "scattermapbox"
          }
         ],
         "name": "2008-01-06"
        },
        {
         "data": [
          {
           "customdata": [
            [
             44.87,
             "2008-04-21T00:00:00"
            ],
            [
             45.5,
             "2008-04-21T00:00:00"
            ],
            [
             45.09,
             "2008-04-21T00:00:00"
            ],
            [
             46.11,
             "2008-04-21T00:00:00"
            ],
            [
             46.15,
             "2008-04-21T00:00:00"
            ],
            [
             48.08,
             "2008-04-21T00:00:00"
            ],
            [
             44.56,
             "2008-04-21T00:00:00"
            ]
           ],
           "hovertemplate": "<b>%{hovertext}</b><br><br>animation_frame=2008-04-21<br>Salinity %0=%{marker.color}<br>Latitude_dd=%{lat}<br>Longitude_dd=%{lon}<br>Date=%{customdata[1]}<extra></extra>",
           "hovertext": [
            "askar",
            "fasht tighalib",
            "ghumais",
            "jabbari",
            "mashtan",
            "qassar noon",
            "msoor"
           ],
           "lat": [
            26.05994444,
            25.95768056,
            26.03835,
            25.917225,
            25.84470833,
            25.81586944,
            26.08035
           ],
           "legendgroup": "",
           "lon": [
            50.63189722,
            50.71598889,
            50.86679444,
            50.66624167,
            50.68702778,
            50.63698056,
            50.70566944
           ],
           "marker": {
            "color": [
             44.87,
             45.5,
             45.09,
             46.11,
             46.15,
             48.08,
             44.56
            ],
            "coloraxis": "coloraxis",
            "size": [
             44.87,
             45.5,
             45.09,
             46.11,
             46.15,
             48.08,
             44.56
            ],
            "sizemode": "area",
            "sizeref": 0.2528888888888889
           },
           "mode": "markers",
           "name": "",
           "showlegend": false,
           "subplot": "mapbox",
           "type": "scattermapbox"
          }
         ],
         "name": "2008-04-21"
        },
        {
         "data": [
          {
           "customdata": [
            [
             44.19,
             "2008-07-07T00:00:00"
            ],
            [
             44.27,
             "2008-07-07T00:00:00"
            ],
            [
             45.55,
             "2008-07-07T00:00:00"
            ],
            [
             45.34,
             "2008-07-07T00:00:00"
            ],
            [
             48.74,
             "2008-07-07T00:00:00"
            ],
            [
             46.37,
             "2008-07-07T00:00:00"
            ],
            [
             48.4,
             "2008-07-07T00:00:00"
            ],
            [
             43.78,
             "2008-07-07T00:00:00"
            ],
            [
             43.94,
             "2008-07-07T00:00:00"
            ]
           ],
           "hovertemplate": "<b>%{hovertext}</b><br><br>animation_frame=2008-07-07<br>Salinity %0=%{marker.color}<br>Latitude_dd=%{lat}<br>Longitude_dd=%{lon}<br>Date=%{customdata[1]}<extra></extra>",
           "hovertext": [
            "askar",
            "bapco",
            "fasht tighalib",
            "ghumais",
            "jabbari",
            "mashtan",
            "qassar noon",
            "al gaha",
            "msoor"
           ],
           "lat": [
            26.05994444,
            26.108525,
            25.95768056,
            26.03835,
            25.917225,
            25.84470833,
            25.81586944,
            26.13141667,
            26.08035
           ],
           "legendgroup": "",
           "lon": [
            50.63189722,
            50.64105,
            50.71598889,
            50.86679444,
            50.66624167,
            50.68702778,
            50.63698056,
            50.67534167,
            50.70566944
           ],
           "marker": {
            "color": [
             44.19,
             44.27,
             45.55,
             45.34,
             48.74,
             46.37,
             48.4,
             43.78,
             43.94
            ],
            "coloraxis": "coloraxis",
            "size": [
             44.19,
             44.27,
             45.55,
             45.34,
             48.74,
             46.37,
             48.4,
             43.78,
             43.94
            ],
            "sizemode": "area",
            "sizeref": 0.2528888888888889
           },
           "mode": "markers",
           "name": "",
           "showlegend": false,
           "subplot": "mapbox",
           "type": "scattermapbox"
          }
         ],
         "name": "2008-07-07"
        },
        {
         "data": [
          {
           "customdata": [
            [
             44.5,
             "2008-10-27T00:00:00"
            ],
            [
             44.48,
             "2008-10-27T00:00:00"
            ],
            [
             45.92,
             "2008-10-27T00:00:00"
            ],
            [
             45.65,
             "2008-10-27T00:00:00"
            ],
            [
             45.53,
             "2008-10-27T00:00:00"
            ],
            [
             46.35,
             "2008-10-27T00:00:00"
            ],
            [
             47.75,
             "2008-10-27T00:00:00"
            ],
            [
             44.24,
             "2008-10-27T00:00:00"
            ]
           ],
           "hovertemplate": "<b>%{hovertext}</b><br><br>animation_frame=2008-10-27<br>Salinity %0=%{marker.color}<br>Latitude_dd=%{lat}<br>Longitude_dd=%{lon}<br>Date=%{customdata[1]}<extra></extra>",
           "hovertext": [
            "askar",
            "bapco",
            "fasht tighalib",
            "ghumais",
            "jabbari",
            "mashtan",
            "qassar noon",
            "msoor"
           ],
           "lat": [
            26.05994444,
            26.108525,
            25.95768056,
            26.03835,
            25.917225,
            25.84470833,
            25.81586944,
            26.08035
           ],
           "legendgroup": "",
           "lon": [
            50.63189722,
            50.64105,
            50.71598889,
            50.86679444,
            50.66624167,
            50.68702778,
            50.63698056,
            50.70566944
           ],
           "marker": {
            "color": [
             44.5,
             44.48,
             45.92,
             45.65,
             45.53,
             46.35,
             47.75,
             44.24
            ],
            "coloraxis": "coloraxis",
            "size": [
             44.5,
             44.48,
             45.92,
             45.65,
             45.53,
             46.35,
             47.75,
             44.24
            ],
            "sizemode": "area",
            "sizeref": 0.2528888888888889
           },
           "mode": "markers",
           "name": "",
           "showlegend": false,
           "subplot": "mapbox",
           "type": "scattermapbox"
          }
         ],
         "name": "2008-10-27"
        },
        {
         "data": [
          {
           "customdata": [
            [
             41.6,
             "2009-01-19T00:00:00"
            ],
            [
             41.1,
             "2009-01-19T00:00:00"
            ],
            [
             43,
             "2009-01-19T00:00:00"
            ],
            [
             42,
             "2009-01-19T00:00:00"
            ],
            [
             45.3,
             "2009-01-19T00:00:00"
            ],
            [
             44.5,
             "2009-01-19T00:00:00"
            ],
            [
             47.8,
             "2009-01-19T00:00:00"
            ],
            [
             41.1,
             "2009-01-19T00:00:00"
            ]
           ],
           "hovertemplate": "<b>%{hovertext}</b><br><br>animation_frame=2009-01-19<br>Salinity %0=%{marker.color}<br>Latitude_dd=%{lat}<br>Longitude_dd=%{lon}<br>Date=%{customdata[1]}<extra></extra>",
           "hovertext": [
            "askar",
            "bapco",
            "fasht tighalib",
            "ghumais",
            "jabbari",
            "mashtan",
            "qassar noon",
            "msoor"
           ],
           "lat": [
            26.05994444,
            26.108525,
            25.95768056,
            26.03835,
            25.917225,
            25.84470833,
            25.81586944,
            26.08035
           ],
           "legendgroup": "",
           "lon": [
            50.63189722,
            50.64105,
            50.71598889,
            50.86679444,
            50.66624167,
            50.68702778,
            50.63698056,
            50.70566944
           ],
           "marker": {
            "color": [
             41.6,
             41.1,
             43,
             42,
             45.3,
             44.5,
             47.8,
             41.1
            ],
            "coloraxis": "coloraxis",
            "size": [
             41.6,
             41.1,
             43,
             42,
             45.3,
             44.5,
             47.8,
             41.1
            ],
            "sizemode": "area",
            "sizeref": 0.2528888888888889
           },
           "mode": "markers",
           "name": "",
           "showlegend": false,
           "subplot": "mapbox",
           "type": "scattermapbox"
          }
         ],
         "name": "2009-01-19"
        },
        {
         "data": [
          {
           "customdata": [
            [
             43.5,
             "2009-04-22T00:00:00"
            ],
            [
             43.4,
             "2009-04-22T00:00:00"
            ],
            [
             44.3,
             "2009-04-22T00:00:00"
            ],
            [
             44.3,
             "2009-04-22T00:00:00"
            ],
            [
             45.2,
             "2009-04-22T00:00:00"
            ],
            [
             45.9,
             "2009-04-22T00:00:00"
            ],
            [
             48,
             "2009-04-22T00:00:00"
            ],
            [
             43.5,
             "2009-04-22T00:00:00"
            ]
           ],
           "hovertemplate": "<b>%{hovertext}</b><br><br>animation_frame=2009-04-22<br>Salinity %0=%{marker.color}<br>Latitude_dd=%{lat}<br>Longitude_dd=%{lon}<br>Date=%{customdata[1]}<extra></extra>",
           "hovertext": [
            "askar",
            "bapco",
            "fasht tighalib",
            "ghumais",
            "jabbari",
            "mashtan",
            "qassar noon",
            "msoor"
           ],
           "lat": [
            26.05994444,
            26.108525,
            25.95768056,
            26.03835,
            25.917225,
            25.84470833,
            25.81586944,
            26.08035
           ],
           "legendgroup": "",
           "lon": [
            50.63189722,
            50.64105,
            50.71598889,
            50.86679444,
            50.66624167,
            50.68702778,
            50.63698056,
            50.70566944
           ],
           "marker": {
            "color": [
             43.5,
             43.4,
             44.3,
             44.3,
             45.2,
             45.9,
             48,
             43.5
            ],
            "coloraxis": "coloraxis",
            "size": [
             43.5,
             43.4,
             44.3,
             44.3,
             45.2,
             45.9,
             48,
             43.5
            ],
            "sizemode": "area",
            "sizeref": 0.2528888888888889
           },
           "mode": "markers",
           "name": "",
           "showlegend": false,
           "subplot": "mapbox",
           "type": "scattermapbox"
          }
         ],
         "name": "2009-04-22"
        },
        {
         "data": [
          {
           "customdata": [
            [
             43.35,
             "2009-07-05T00:00:00"
            ],
            [
             43.19,
             "2009-07-05T00:00:00"
            ],
            [
             44.59,
             "2009-07-05T00:00:00"
            ],
            [
             43.44,
             "2009-07-05T00:00:00"
            ],
            [
             44.87,
             "2009-07-05T00:00:00"
            ],
            [
             45.96,
             "2009-07-05T00:00:00"
            ],
            [
             42.21,
             "2009-07-05T00:00:00"
            ],
            [
             43.06,
             "2009-07-05T00:00:00"
            ]
           ],
           "hovertemplate": "<b>%{hovertext}</b><br><br>animation_frame=2009-07-05<br>Salinity %0=%{marker.color}<br>Latitude_dd=%{lat}<br>Longitude_dd=%{lon}<br>Date=%{customdata[1]}<extra></extra>",
           "hovertext": [
            "askar",
            "bapco",
            "fasht tighalib",
            "ghumais",
            "jabbari",
            "mashtan",
            "qassar noon",
            "msoor"
           ],
           "lat": [
            26.05994444,
            26.108525,
            25.95768056,
            26.03835,
            25.917225,
            25.84470833,
            25.81586944,
            26.08035
           ],
           "legendgroup": "",
           "lon": [
            50.63189722,
            50.64105,
            50.71598889,
            50.86679444,
            50.66624167,
            50.68702778,
            50.63698056,
            50.70566944
           ],
           "marker": {
            "color": [
             43.35,
             43.19,
             44.59,
             43.44,
             44.87,
             45.96,
             42.21,
             43.06
            ],
            "coloraxis": "coloraxis",
            "size": [
             43.35,
             43.19,
             44.59,
             43.44,
             44.87,
             45.96,
             42.21,
             43.06
            ],
            "sizemode": "area",
            "sizeref": 0.2528888888888889
           },
           "mode": "markers",
           "name": "",
           "showlegend": false,
           "subplot": "mapbox",
           "type": "scattermapbox"
          }
         ],
         "name": "2009-07-05"
        },
        {
         "data": [
          {
           "customdata": [
            [
             44.45,
             "2009-10-14T00:00:00"
            ],
            [
             44.22,
             "2009-10-14T00:00:00"
            ],
            [
             46.07,
             "2009-10-14T00:00:00"
            ],
            [
             45.09,
             "2009-10-14T00:00:00"
            ],
            [
             46.55,
             "2009-10-14T00:00:00"
            ],
            [
             47.74,
             "2009-10-14T00:00:00"
            ],
            [
             56.54,
             "2009-10-14T00:00:00"
            ],
            [
             44.37,
             "2009-10-14T00:00:00"
            ]
           ],
           "hovertemplate": "<b>%{hovertext}</b><br><br>animation_frame=2009-10-14<br>Salinity %0=%{marker.color}<br>Latitude_dd=%{lat}<br>Longitude_dd=%{lon}<br>Date=%{customdata[1]}<extra></extra>",
           "hovertext": [
            "askar",
            "bapco",
            "fasht tighalib",
            "ghumais",
            "jabbari",
            "mashtan",
            "qassar noon",
            "msoor"
           ],
           "lat": [
            26.05994444,
            26.108525,
            25.95768056,
            26.03835,
            25.917225,
            25.84470833,
            25.81586944,
            26.08035
           ],
           "legendgroup": "",
           "lon": [
            50.63189722,
            50.64105,
            50.71598889,
            50.86679444,
            50.66624167,
            50.68702778,
            50.63698056,
            50.70566944
           ],
           "marker": {
            "color": [
             44.45,
             44.22,
             46.07,
             45.09,
             46.55,
             47.74,
             56.54,
             44.37
            ],
            "coloraxis": "coloraxis",
            "size": [
             44.45,
             44.22,
             46.07,
             45.09,
             46.55,
             47.74,
             56.54,
             44.37
            ],
            "sizemode": "area",
            "sizeref": 0.2528888888888889
           },
           "mode": "markers",
           "name": "",
           "showlegend": false,
           "subplot": "mapbox",
           "type": "scattermapbox"
          }
         ],
         "name": "2009-10-14"
        },
        {
         "data": [
          {
           "customdata": [
            [
             42.78,
             "2010-02-01T00:00:00"
            ],
            [
             42.82,
             "2010-02-01T00:00:00"
            ],
            [
             44.12,
             "2010-02-01T00:00:00"
            ],
            [
             43.34,
             "2010-02-01T00:00:00"
            ],
            [
             44.45,
             "2010-02-01T00:00:00"
            ],
            [
             44.12,
             "2010-02-01T00:00:00"
            ],
            [
             46.02,
             "2010-02-01T00:00:00"
            ],
            [
             42.78,
             "2010-02-01T00:00:00"
            ]
           ],
           "hovertemplate": "<b>%{hovertext}</b><br><br>animation_frame=2010-02-01<br>Salinity %0=%{marker.color}<br>Latitude_dd=%{lat}<br>Longitude_dd=%{lon}<br>Date=%{customdata[1]}<extra></extra>",
           "hovertext": [
            "askar",
            "bapco",
            "fasht tighalib",
            "ghumais",
            "jabbari",
            "mashtan",
            "qassar noon",
            "msoor"
           ],
           "lat": [
            26.05994444,
            26.108525,
            25.95768056,
            26.03835,
            25.917225,
            25.84470833,
            25.81586944,
            26.08035
           ],
           "legendgroup": "",
           "lon": [
            50.63189722,
            50.64105,
            50.71598889,
            50.86679444,
            50.66624167,
            50.68702778,
            50.63698056,
            50.70566944
           ],
           "marker": {
            "color": [
             42.78,
             42.82,
             44.12,
             43.34,
             44.45,
             44.12,
             46.02,
             42.78
            ],
            "coloraxis": "coloraxis",
            "size": [
             42.78,
             42.82,
             44.12,
             43.34,
             44.45,
             44.12,
             46.02,
             42.78
            ],
            "sizemode": "area",
            "sizeref": 0.2528888888888889
           },
           "mode": "markers",
           "name": "",
           "showlegend": false,
           "subplot": "mapbox",
           "type": "scattermapbox"
          }
         ],
         "name": "2010-02-01"
        },
        {
         "data": [
          {
           "customdata": [
            [
             42.4,
             "2010-04-18T00:00:00"
            ],
            [
             42.69,
             "2010-04-18T00:00:00"
            ],
            [
             44.99,
             "2010-04-18T00:00:00"
            ],
            [
             43.16,
             "2010-04-18T00:00:00"
            ],
            [
             44.36,
             "2010-04-18T00:00:00"
            ],
            [
             44.49,
             "2010-04-18T00:00:00"
            ],
            [
             45.75,
             "2010-04-18T00:00:00"
            ],
            [
             42.5,
             "2010-04-18T00:00:00"
            ]
           ],
           "hovertemplate": "<b>%{hovertext}</b><br><br>animation_frame=2010-04-18<br>Salinity %0=%{marker.color}<br>Latitude_dd=%{lat}<br>Longitude_dd=%{lon}<br>Date=%{customdata[1]}<extra></extra>",
           "hovertext": [
            "askar",
            "bapco",
            "fasht tighalib",
            "ghumais",
            "jabbari",
            "mashtan",
            "qassar noon",
            "msoor"
           ],
           "lat": [
            26.05994444,
            26.108525,
            25.95768056,
            26.03835,
            25.917225,
            25.84470833,
            25.81586944,
            26.08035
           ],
           "legendgroup": "",
           "lon": [
            50.63189722,
            50.64105,
            50.71598889,
            50.86679444,
            50.66624167,
            50.68702778,
            50.63698056,
            50.70566944
           ],
           "marker": {
            "color": [
             42.4,
             42.69,
             44.99,
             43.16,
             44.36,
             44.49,
             45.75,
             42.5
            ],
            "coloraxis": "coloraxis",
            "size": [
             42.4,
             42.69,
             44.99,
             43.16,
             44.36,
             44.49,
             45.75,
             42.5
            ],
            "sizemode": "area",
            "sizeref": 0.2528888888888889
           },
           "mode": "markers",
           "name": "",
           "showlegend": false,
           "subplot": "mapbox",
           "type": "scattermapbox"
          }
         ],
         "name": "2010-04-18"
        },
        {
         "data": [
          {
           "customdata": [
            [
             44.2,
             "2010-07-07T00:00:00"
            ],
            [
             44.03,
             "2010-07-07T00:00:00"
            ],
            [
             44.88,
             "2010-07-07T00:00:00"
            ],
            [
             44.45,
             "2010-07-07T00:00:00"
            ],
            [
             45.48,
             "2010-07-07T00:00:00"
            ],
            [
             46.35,
             "2010-07-07T00:00:00"
            ],
            [
             49.15,
             "2010-07-07T00:00:00"
            ],
            [
             44.1,
             "2010-07-07T00:00:00"
            ]
           ],
           "hovertemplate": "<b>%{hovertext}</b><br><br>animation_frame=2010-07-07<br>Salinity %0=%{marker.color}<br>Latitude_dd=%{lat}<br>Longitude_dd=%{lon}<br>Date=%{customdata[1]}<extra></extra>",
           "hovertext": [
            "askar",
            "bapco",
            "fasht tighalib",
            "ghumais",
            "jabbari",
            "mashtan",
            "qassar noon",
            "msoor"
           ],
           "lat": [
            26.05994444,
            26.108525,
            25.95768056,
            26.03835,
            25.917225,
            25.84470833,
            25.81586944,
            26.08035
           ],
           "legendgroup": "",
           "lon": [
            50.63189722,
            50.64105,
            50.71598889,
            50.86679444,
            50.66624167,
            50.68702778,
            50.63698056,
            50.70566944
           ],
           "marker": {
            "color": [
             44.2,
             44.03,
             44.88,
             44.45,
             45.48,
             46.35,
             49.15,
             44.1
            ],
            "coloraxis": "coloraxis",
            "size": [
             44.2,
             44.03,
             44.88,
             44.45,
             45.48,
             46.35,
             49.15,
             44.1
            ],
            "sizemode": "area",
            "sizeref": 0.2528888888888889
           },
           "mode": "markers",
           "name": "",
           "showlegend": false,
           "subplot": "mapbox",
           "type": "scattermapbox"
          }
         ],
         "name": "2010-07-07"
        },
        {
         "data": [
          {
           "customdata": [
            [
             43.74,
             "2010-10-10T00:00:00"
            ],
            [
             43.58,
             "2010-10-10T00:00:00"
            ],
            [
             44.11,
             "2010-10-10T00:00:00"
            ],
            [
             44.01,
             "2010-10-10T00:00:00"
            ],
            [
             44.5,
             "2010-10-10T00:00:00"
            ],
            [
             44.47,
             "2010-10-10T00:00:00"
            ],
            [
             45.08,
             "2010-10-10T00:00:00"
            ],
            [
             43.23,
             "2010-10-10T00:00:00"
            ]
           ],
           "hovertemplate": "<b>%{hovertext}</b><br><br>animation_frame=2010-10-10<br>Salinity %0=%{marker.color}<br>Latitude_dd=%{lat}<br>Longitude_dd=%{lon}<br>Date=%{customdata[1]}<extra></extra>",
           "hovertext": [
            "askar",
            "bapco",
            "fasht tighalib",
            "ghumais",
            "jabbari",
            "mashtan",
            "qassar noon",
            "msoor"
           ],
           "lat": [
            26.05994444,
            26.108525,
            25.95768056,
            26.03835,
            25.917225,
            25.84470833,
            25.81586944,
            26.08035
           ],
           "legendgroup": "",
           "lon": [
            50.63189722,
            50.64105,
            50.71598889,
            50.86679444,
            50.66624167,
            50.68702778,
            50.63698056,
            50.70566944
           ],
           "marker": {
            "color": [
             43.74,
             43.58,
             44.11,
             44.01,
             44.5,
             44.47,
             45.08,
             43.23
            ],
            "coloraxis": "coloraxis",
            "size": [
             43.74,
             43.58,
             44.11,
             44.01,
             44.5,
             44.47,
             45.08,
             43.23
            ],
            "sizemode": "area",
            "sizeref": 0.2528888888888889
           },
           "mode": "markers",
           "name": "",
           "showlegend": false,
           "subplot": "mapbox",
           "type": "scattermapbox"
          }
         ],
         "name": "2010-10-10"
        },
        {
         "data": [
          {
           "customdata": [
            [
             44.86,
             "2011-01-20T00:00:00"
            ],
            [
             43.59,
             "2011-01-20T00:00:00"
            ],
            [
             45.48,
             "2011-01-20T00:00:00"
            ],
            [
             44.61,
             "2011-01-20T00:00:00"
            ],
            [
             45.27,
             "2011-01-20T00:00:00"
            ],
            [
             45.82,
             "2011-01-20T00:00:00"
            ],
            [
             47.58,
             "2011-01-20T00:00:00"
            ],
            [
             43.75,
             "2011-01-20T00:00:00"
            ],
            [
             44.52,
             "2011-01-20T00:00:00"
            ]
           ],
           "hovertemplate": "<b>%{hovertext}</b><br><br>animation_frame=2011-01-20<br>Salinity %0=%{marker.color}<br>Latitude_dd=%{lat}<br>Longitude_dd=%{lon}<br>Date=%{customdata[1]}<extra></extra>",
           "hovertext": [
            "askar",
            "bapco",
            "fasht tighalib",
            "ghumais",
            "jabbari",
            "mashtan",
            "qassar noon",
            "al gaha",
            "msoor"
           ],
           "lat": [
            26.05994444,
            26.108525,
            25.95768056,
            26.03835,
            25.917225,
            25.84470833,
            25.81586944,
            26.13141667,
            26.08035
           ],
           "legendgroup": "",
           "lon": [
            50.63189722,
            50.64105,
            50.71598889,
            50.86679444,
            50.66624167,
            50.68702778,
            50.63698056,
            50.67534167,
            50.70566944
           ],
           "marker": {
            "color": [
             44.86,
             43.59,
             45.48,
             44.61,
             45.27,
             45.82,
             47.58,
             43.75,
             44.52
            ],
            "coloraxis": "coloraxis",
            "size": [
             44.86,
             43.59,
             45.48,
             44.61,
             45.27,
             45.82,
             47.58,
             43.75,
             44.52
            ],
            "sizemode": "area",
            "sizeref": 0.2528888888888889
           },
           "mode": "markers",
           "name": "",
           "showlegend": false,
           "subplot": "mapbox",
           "type": "scattermapbox"
          }
         ],
         "name": "2011-01-20"
        },
        {
         "data": [
          {
           "customdata": [
            [
             43.67,
             "2011-04-24T00:00:00"
            ],
            [
             43.62,
             "2011-04-24T00:00:00"
            ],
            [
             44.3,
             "2011-04-24T00:00:00"
            ],
            [
             44.01,
             "2011-04-24T00:00:00"
            ],
            [
             44.14,
             "2011-04-24T00:00:00"
            ],
            [
             46.04,
             "2011-04-24T00:00:00"
            ],
            [
             49.27,
             "2011-04-24T00:00:00"
            ],
            [
             43.49,
             "2011-04-24T00:00:00"
            ],
            [
             43.58,
             "2011-04-24T00:00:00"
            ]
           ],
           "hovertemplate": "<b>%{hovertext}</b><br><br>animation_frame=2011-04-24<br>Salinity %0=%{marker.color}<br>Latitude_dd=%{lat}<br>Longitude_dd=%{lon}<br>Date=%{customdata[1]}<extra></extra>",
           "hovertext": [
            "askar",
            "bapco",
            "fasht tighalib",
            "ghumais",
            "jabbari",
            "mashtan",
            "qassar noon",
            "al gaha",
            "msoor"
           ],
           "lat": [
            26.05994444,
            26.108525,
            25.95768056,
            26.03835,
            25.917225,
            25.84470833,
            25.81586944,
            26.13141667,
            26.08035
           ],
           "legendgroup": "",
           "lon": [
            50.63189722,
            50.64105,
            50.71598889,
            50.86679444,
            50.66624167,
            50.68702778,
            50.63698056,
            50.67534167,
            50.70566944
           ],
           "marker": {
            "color": [
             43.67,
             43.62,
             44.3,
             44.01,
             44.14,
             46.04,
             49.27,
             43.49,
             43.58
            ],
            "coloraxis": "coloraxis",
            "size": [
             43.67,
             43.62,
             44.3,
             44.01,
             44.14,
             46.04,
             49.27,
             43.49,
             43.58
            ],
            "sizemode": "area",
            "sizeref": 0.2528888888888889
           },
           "mode": "markers",
           "name": "",
           "showlegend": false,
           "subplot": "mapbox",
           "type": "scattermapbox"
          }
         ],
         "name": "2011-04-24"
        },
        {
         "data": [
          {
           "customdata": [
            [
             43.63,
             "2011-07-10T00:00:00"
            ],
            [
             43.42,
             "2011-07-10T00:00:00"
            ],
            [
             45.29,
             "2011-07-10T00:00:00"
            ],
            [
             44.84,
             "2011-07-10T00:00:00"
            ],
            [
             45.22,
             "2011-07-10T00:00:00"
            ],
            [
             46.05,
             "2011-07-10T00:00:00"
            ],
            [
             49.35,
             "2011-07-10T00:00:00"
            ],
            [
             42.84,
             "2011-07-10T00:00:00"
            ],
            [
             43.32,
             "2011-07-10T00:00:00"
            ]
           ],
           "hovertemplate": "<b>%{hovertext}</b><br><br>animation_frame=2011-07-10<br>Salinity %0=%{marker.color}<br>Latitude_dd=%{lat}<br>Longitude_dd=%{lon}<br>Date=%{customdata[1]}<extra></extra>",
           "hovertext": [
            "askar",
            "bapco",
            "fasht tighalib",
            "ghumais",
            "jabbari",
            "mashtan",
            "qassar noon",
            "al gaha",
            "msoor"
           ],
           "lat": [
            26.05994444,
            26.108525,
            25.95768056,
            26.03835,
            25.917225,
            25.84470833,
            25.81586944,
            26.13141667,
            26.08035
           ],
           "legendgroup": "",
           "lon": [
            50.63189722,
            50.64105,
            50.71598889,
            50.86679444,
            50.66624167,
            50.68702778,
            50.63698056,
            50.67534167,
            50.70566944
           ],
           "marker": {
            "color": [
             43.63,
             43.42,
             45.29,
             44.84,
             45.22,
             46.05,
             49.35,
             42.84,
             43.32
            ],
            "coloraxis": "coloraxis",
            "size": [
             43.63,
             43.42,
             45.29,
             44.84,
             45.22,
             46.05,
             49.35,
             42.84,
             43.32
            ],
            "sizemode": "area",
            "sizeref": 0.2528888888888889
           },
           "mode": "markers",
           "name": "",
           "showlegend": false,
           "subplot": "mapbox",
           "type": "scattermapbox"
          }
         ],
         "name": "2011-07-10"
        },
        {
         "data": [
          {
           "customdata": [
            [
             43.25,
             "2011-10-09T00:00:00"
            ],
            [
             43.19,
             "2011-10-09T00:00:00"
            ],
            [
             43.79,
             "2011-10-09T00:00:00"
            ],
            [
             43.37,
             "2011-10-09T00:00:00"
            ],
            [
             43.75,
             "2011-10-09T00:00:00"
            ],
            [
             44.56,
             "2011-10-09T00:00:00"
            ],
            [
             45.63,
             "2011-10-09T00:00:00"
            ],
            [
             42.95,
             "2011-10-09T00:00:00"
            ],
            [
             43,
             "2011-10-09T00:00:00"
            ]
           ],
           "hovertemplate": "<b>%{hovertext}</b><br><br>animation_frame=2011-10-09<br>Salinity %0=%{marker.color}<br>Latitude_dd=%{lat}<br>Longitude_dd=%{lon}<br>Date=%{customdata[1]}<extra></extra>",
           "hovertext": [
            "askar",
            "bapco",
            "fasht tighalib",
            "ghumais",
            "jabbari",
            "mashtan",
            "qassar noon",
            "al gaha",
            "msoor"
           ],
           "lat": [
            26.05994444,
            26.108525,
            25.95768056,
            26.03835,
            25.917225,
            25.84470833,
            25.81586944,
            26.13141667,
            26.08035
           ],
           "legendgroup": "",
           "lon": [
            50.63189722,
            50.64105,
            50.71598889,
            50.86679444,
            50.66624167,
            50.68702778,
            50.63698056,
            50.67534167,
            50.70566944
           ],
           "marker": {
            "color": [
             43.25,
             43.19,
             43.79,
             43.37,
             43.75,
             44.56,
             45.63,
             42.95,
             43
            ],
            "coloraxis": "coloraxis",
            "size": [
             43.25,
             43.19,
             43.79,
             43.37,
             43.75,
             44.56,
             45.63,
             42.95,
             43
            ],
            "sizemode": "area",
            "sizeref": 0.2528888888888889
           },
           "mode": "markers",
           "name": "",
           "showlegend": false,
           "subplot": "mapbox",
           "type": "scattermapbox"
          }
         ],
         "name": "2011-10-09"
        },
        {
         "data": [
          {
           "customdata": [
            [
             43.99,
             "2012-01-16T00:00:00"
            ],
            [
             42.64,
             "2012-01-16T00:00:00"
            ],
            [
             44.15,
             "2012-01-16T00:00:00"
            ],
            [
             43.92,
             "2012-01-16T00:00:00"
            ],
            [
             44.56,
             "2012-01-16T00:00:00"
            ],
            [
             47.45,
             "2012-01-16T00:00:00"
            ],
            [
             52.3,
             "2012-01-16T00:00:00"
            ],
            [
             43.27,
             "2012-01-16T00:00:00"
            ],
            [
             43.93,
             "2012-01-16T00:00:00"
            ]
           ],
           "hovertemplate": "<b>%{hovertext}</b><br><br>animation_frame=2012-01-16<br>Salinity %0=%{marker.color}<br>Latitude_dd=%{lat}<br>Longitude_dd=%{lon}<br>Date=%{customdata[1]}<extra></extra>",
           "hovertext": [
            "askar",
            "bapco",
            "fasht tighalib",
            "ghumais",
            "jabbari",
            "mashtan",
            "qassar noon",
            "al gaha",
            "msoor"
           ],
           "lat": [
            26.05994444,
            26.108525,
            25.95768056,
            26.03835,
            25.917225,
            25.84470833,
            25.81586944,
            26.13141667,
            26.08035
           ],
           "legendgroup": "",
           "lon": [
            50.63189722,
            50.64105,
            50.71598889,
            50.86679444,
            50.66624167,
            50.68702778,
            50.63698056,
            50.67534167,
            50.70566944
           ],
           "marker": {
            "color": [
             43.99,
             42.64,
             44.15,
             43.92,
             44.56,
             47.45,
             52.3,
             43.27,
             43.93
            ],
            "coloraxis": "coloraxis",
            "size": [
             43.99,
             42.64,
             44.15,
             43.92,
             44.56,
             47.45,
             52.3,
             43.27,
             43.93
            ],
            "sizemode": "area",
            "sizeref": 0.2528888888888889
           },
           "mode": "markers",
           "name": "",
           "showlegend": false,
           "subplot": "mapbox",
           "type": "scattermapbox"
          }
         ],
         "name": "2012-01-16"
        },
        {
         "data": [
          {
           "customdata": [
            [
             43.79,
             "2012-04-15T00:00:00"
            ],
            [
             43.01,
             "2012-04-15T00:00:00"
            ],
            [
             45.51,
             "2012-04-15T00:00:00"
            ],
            [
             44.37,
             "2012-04-15T00:00:00"
            ],
            [
             45.84,
             "2012-04-15T00:00:00"
            ],
            [
             48.41,
             "2012-04-15T00:00:00"
            ],
            [
             48,
             "2012-04-15T00:00:00"
            ],
            [
             43.83,
             "2012-04-15T00:00:00"
            ],
            [
             43.92,
             "2012-04-15T00:00:00"
            ]
           ],
           "hovertemplate": "<b>%{hovertext}</b><br><br>animation_frame=2012-04-15<br>Salinity %0=%{marker.color}<br>Latitude_dd=%{lat}<br>Longitude_dd=%{lon}<br>Date=%{customdata[1]}<extra></extra>",
           "hovertext": [
            "askar",
            "bapco",
            "fasht tighalib",
            "ghumais",
            "jabbari",
            "mashtan",
            "qassar noon",
            "al gaha",
            "msoor"
           ],
           "lat": [
            26.05994444,
            26.108525,
            25.95768056,
            26.03835,
            25.917225,
            25.84470833,
            25.81586944,
            26.13141667,
            26.08035
           ],
           "legendgroup": "",
           "lon": [
            50.63189722,
            50.64105,
            50.71598889,
            50.86679444,
            50.66624167,
            50.68702778,
            50.63698056,
            50.67534167,
            50.70566944
           ],
           "marker": {
            "color": [
             43.79,
             43.01,
             45.51,
             44.37,
             45.84,
             48.41,
             48,
             43.83,
             43.92
            ],
            "coloraxis": "coloraxis",
            "size": [
             43.79,
             43.01,
             45.51,
             44.37,
             45.84,
             48.41,
             48,
             43.83,
             43.92
            ],
            "sizemode": "area",
            "sizeref": 0.2528888888888889
           },
           "mode": "markers",
           "name": "",
           "showlegend": false,
           "subplot": "mapbox",
           "type": "scattermapbox"
          }
         ],
         "name": "2012-04-15"
        },
        {
         "data": [
          {
           "customdata": [
            [
             43.17,
             "2012-07-09T00:00:00"
            ],
            [
             43.2,
             "2012-07-09T00:00:00"
            ],
            [
             43.35,
             "2012-07-09T00:00:00"
            ],
            [
             43.47,
             "2012-07-09T00:00:00"
            ],
            [
             43.77,
             "2012-07-09T00:00:00"
            ],
            [
             44,
             "2012-07-09T00:00:00"
            ],
            [
             47.8,
             "2012-07-09T00:00:00"
            ],
            [
             42.75,
             "2012-07-09T00:00:00"
            ],
            [
             43.06,
             "2012-07-09T00:00:00"
            ]
           ],
           "hovertemplate": "<b>%{hovertext}</b><br><br>animation_frame=2012-07-09<br>Salinity %0=%{marker.color}<br>Latitude_dd=%{lat}<br>Longitude_dd=%{lon}<br>Date=%{customdata[1]}<extra></extra>",
           "hovertext": [
            "askar",
            "bapco",
            "fasht tighalib",
            "ghumais",
            "jabbari",
            "mashtan",
            "qassar noon",
            "al gaha",
            "msoor"
           ],
           "lat": [
            26.05994444,
            26.108525,
            25.95768056,
            26.03835,
            25.917225,
            25.84470833,
            25.81586944,
            26.13141667,
            26.08035
           ],
           "legendgroup": "",
           "lon": [
            50.63189722,
            50.64105,
            50.71598889,
            50.86679444,
            50.66624167,
            50.68702778,
            50.63698056,
            50.67534167,
            50.70566944
           ],
           "marker": {
            "color": [
             43.17,
             43.2,
             43.35,
             43.47,
             43.77,
             44,
             47.8,
             42.75,
             43.06
            ],
            "coloraxis": "coloraxis",
            "size": [
             43.17,
             43.2,
             43.35,
             43.47,
             43.77,
             44,
             47.8,
             42.75,
             43.06
            ],
            "sizemode": "area",
            "sizeref": 0.2528888888888889
           },
           "mode": "markers",
           "name": "",
           "showlegend": false,
           "subplot": "mapbox",
           "type": "scattermapbox"
          }
         ],
         "name": "2012-07-09"
        },
        {
         "data": [
          {
           "customdata": [
            [
             43.44,
             "2012-10-08T00:00:00"
            ],
            [
             42.88,
             "2012-10-08T00:00:00"
            ],
            [
             44.17,
             "2012-10-08T00:00:00"
            ],
            [
             44.07,
             "2012-10-08T00:00:00"
            ],
            [
             44.8,
             "2012-10-08T00:00:00"
            ],
            [
             45.05,
             "2012-10-08T00:00:00"
            ],
            [
             48.41,
             "2012-10-08T00:00:00"
            ],
            [
             43.31,
             "2012-10-08T00:00:00"
            ]
           ],
           "hovertemplate": "<b>%{hovertext}</b><br><br>animation_frame=2012-10-08<br>Salinity %0=%{marker.color}<br>Latitude_dd=%{lat}<br>Longitude_dd=%{lon}<br>Date=%{customdata[1]}<extra></extra>",
           "hovertext": [
            "askar",
            "bapco",
            "fasht tighalib",
            "ghumais",
            "jabbari",
            "mashtan",
            "qassar noon",
            "msoor"
           ],
           "lat": [
            26.05994444,
            26.108525,
            25.95768056,
            26.03835,
            25.917225,
            25.84470833,
            25.81586944,
            26.08035
           ],
           "legendgroup": "",
           "lon": [
            50.63189722,
            50.64105,
            50.71598889,
            50.86679444,
            50.66624167,
            50.68702778,
            50.63698056,
            50.70566944
           ],
           "marker": {
            "color": [
             43.44,
             42.88,
             44.17,
             44.07,
             44.8,
             45.05,
             48.41,
             43.31
            ],
            "coloraxis": "coloraxis",
            "size": [
             43.44,
             42.88,
             44.17,
             44.07,
             44.8,
             45.05,
             48.41,
             43.31
            ],
            "sizemode": "area",
            "sizeref": 0.2528888888888889
           },
           "mode": "markers",
           "name": "",
           "showlegend": false,
           "subplot": "mapbox",
           "type": "scattermapbox"
          }
         ],
         "name": "2012-10-08"
        },
        {
         "data": [
          {
           "customdata": [
            [
             43.24,
             "2013-01-20T00:00:00"
            ],
            [
             42.7,
             "2013-01-20T00:00:00"
            ],
            [
             44.92,
             "2013-01-20T00:00:00"
            ],
            [
             43.51,
             "2013-01-20T00:00:00"
            ],
            [
             45.04,
             "2013-01-20T00:00:00"
            ],
            [
             47.12,
             "2013-01-20T00:00:00"
            ],
            [
             49.19,
             "2013-01-20T00:00:00"
            ],
            [
             42.9,
             "2013-01-20T00:00:00"
            ],
            [
             43.1,
             "2013-01-20T00:00:00"
            ]
           ],
           "hovertemplate": "<b>%{hovertext}</b><br><br>animation_frame=2013-01-20<br>Salinity %0=%{marker.color}<br>Latitude_dd=%{lat}<br>Longitude_dd=%{lon}<br>Date=%{customdata[1]}<extra></extra>",
           "hovertext": [
            "askar",
            "bapco",
            "fasht tighalib",
            "ghumais",
            "jabbari",
            "mashtan",
            "qassar noon",
            "al gaha",
            "msoor"
           ],
           "lat": [
            26.05994444,
            26.108525,
            25.95768056,
            26.03835,
            25.917225,
            25.84470833,
            25.81586944,
            26.13141667,
            26.08035
           ],
           "legendgroup": "",
           "lon": [
            50.63189722,
            50.64105,
            50.71598889,
            50.86679444,
            50.66624167,
            50.68702778,
            50.63698056,
            50.67534167,
            50.70566944
           ],
           "marker": {
            "color": [
             43.24,
             42.7,
             44.92,
             43.51,
             45.04,
             47.12,
             49.19,
             42.9,
             43.1
            ],
            "coloraxis": "coloraxis",
            "size": [
             43.24,
             42.7,
             44.92,
             43.51,
             45.04,
             47.12,
             49.19,
             42.9,
             43.1
            ],
            "sizemode": "area",
            "sizeref": 0.2528888888888889
           },
           "mode": "markers",
           "name": "",
           "showlegend": false,
           "subplot": "mapbox",
           "type": "scattermapbox"
          }
         ],
         "name": "2013-01-20"
        },
        {
         "data": [
          {
           "customdata": [
            [
             43.51,
             "2013-04-14T00:00:00"
            ],
            [
             42.86,
             "2013-04-14T00:00:00"
            ],
            [
             44.64,
             "2013-04-14T00:00:00"
            ]
           ],
           "hovertemplate": "<b>%{hovertext}</b><br><br>animation_frame=2013-04-14<br>Salinity %0=%{marker.color}<br>Latitude_dd=%{lat}<br>Longitude_dd=%{lon}<br>Date=%{customdata[1]}<extra></extra>",
           "hovertext": [
            "askar",
            "bapco",
            "jabbari"
           ],
           "lat": [
            26.05994444,
            26.108525,
            25.917225
           ],
           "legendgroup": "",
           "lon": [
            50.63189722,
            50.64105,
            50.66624167
           ],
           "marker": {
            "color": [
             43.51,
             42.86,
             44.64
            ],
            "coloraxis": "coloraxis",
            "size": [
             43.51,
             42.86,
             44.64
            ],
            "sizemode": "area",
            "sizeref": 0.2528888888888889
           },
           "mode": "markers",
           "name": "",
           "showlegend": false,
           "subplot": "mapbox",
           "type": "scattermapbox"
          }
         ],
         "name": "2013-04-14"
        },
        {
         "data": [
          {
           "customdata": [
            [
             43.84,
             "2013-08-25T00:00:00"
            ],
            [
             43.15,
             "2013-08-25T00:00:00"
            ],
            [
             44.18,
             "2013-08-25T00:00:00"
            ],
            [
             44.31,
             "2013-08-25T00:00:00"
            ],
            [
             44.95,
             "2013-08-25T00:00:00"
            ],
            [
             48.42,
             "2013-08-25T00:00:00"
            ],
            [
             43.66,
             "2013-08-25T00:00:00"
            ],
            [
             43.8,
             "2013-08-25T00:00:00"
            ]
           ],
           "hovertemplate": "<b>%{hovertext}</b><br><br>animation_frame=2013-08-25<br>Salinity %0=%{marker.color}<br>Latitude_dd=%{lat}<br>Longitude_dd=%{lon}<br>Date=%{customdata[1]}<extra></extra>",
           "hovertext": [
            "askar",
            "bapco",
            "fasht tighalib",
            "ghumais",
            "mashtan",
            "qassar noon",
            "al gaha",
            "msoor"
           ],
           "lat": [
            26.05994444,
            26.108525,
            25.95768056,
            26.03835,
            25.84470833,
            25.81586944,
            26.13141667,
            26.08035
           ],
           "legendgroup": "",
           "lon": [
            50.63189722,
            50.64105,
            50.71598889,
            50.86679444,
            50.68702778,
            50.63698056,
            50.67534167,
            50.70566944
           ],
           "marker": {
            "color": [
             43.84,
             43.15,
             44.18,
             44.31,
             44.95,
             48.42,
             43.66,
             43.8
            ],
            "coloraxis": "coloraxis",
            "size": [
             43.84,
             43.15,
             44.18,
             44.31,
             44.95,
             48.42,
             43.66,
             43.8
            ],
            "sizemode": "area",
            "sizeref": 0.2528888888888889
           },
           "mode": "markers",
           "name": "",
           "showlegend": false,
           "subplot": "mapbox",
           "type": "scattermapbox"
          }
         ],
         "name": "2013-08-25"
        },
        {
         "data": [
          {
           "customdata": [
            [
             43.71,
             "2013-11-03T00:00:00"
            ],
            [
             42.66,
             "2013-11-03T00:00:00"
            ],
            [
             44.71,
             "2013-11-03T00:00:00"
            ],
            [
             44.66,
             "2013-11-03T00:00:00"
            ],
            [
             44.9,
             "2013-11-03T00:00:00"
            ],
            [
             46.25,
             "2013-11-03T00:00:00"
            ],
            [
             43.51,
             "2013-11-03T00:00:00"
            ],
            [
             43.63,
             "2013-11-03T00:00:00"
            ]
           ],
           "hovertemplate": "<b>%{hovertext}</b><br><br>animation_frame=2013-11-03<br>Salinity %0=%{marker.color}<br>Latitude_dd=%{lat}<br>Longitude_dd=%{lon}<br>Date=%{customdata[1]}<extra></extra>",
           "hovertext": [
            "askar",
            "bapco",
            "fasht tighalib",
            "ghumais",
            "mashtan",
            "qassar noon",
            "al gaha",
            "msoor"
           ],
           "lat": [
            26.05994444,
            26.108525,
            25.95768056,
            26.03835,
            25.84470833,
            25.81586944,
            26.13141667,
            26.08035
           ],
           "legendgroup": "",
           "lon": [
            50.63189722,
            50.64105,
            50.71598889,
            50.86679444,
            50.68702778,
            50.63698056,
            50.67534167,
            50.70566944
           ],
           "marker": {
            "color": [
             43.71,
             42.66,
             44.71,
             44.66,
             44.9,
             46.25,
             43.51,
             43.63
            ],
            "coloraxis": "coloraxis",
            "size": [
             43.71,
             42.66,
             44.71,
             44.66,
             44.9,
             46.25,
             43.51,
             43.63
            ],
            "sizemode": "area",
            "sizeref": 0.2528888888888889
           },
           "mode": "markers",
           "name": "",
           "showlegend": false,
           "subplot": "mapbox",
           "type": "scattermapbox"
          }
         ],
         "name": "2013-11-03"
        },
        {
         "data": [
          {
           "customdata": [
            [
             43.51,
             "2014-01-19T00:00:00"
            ],
            [
             42.76,
             "2014-01-19T00:00:00"
            ],
            [
             44.8,
             "2014-01-19T00:00:00"
            ],
            [
             44.47,
             "2014-01-19T00:00:00"
            ],
            [
             45.01,
             "2014-01-19T00:00:00"
            ],
            [
             45.27,
             "2014-01-19T00:00:00"
            ],
            [
             47.14,
             "2014-01-19T00:00:00"
            ],
            [
             43.37,
             "2014-01-19T00:00:00"
            ],
            [
             43.58,
             "2014-01-19T00:00:00"
            ]
           ],
           "hovertemplate": "<b>%{hovertext}</b><br><br>animation_frame=2014-01-19<br>Salinity %0=%{marker.color}<br>Latitude_dd=%{lat}<br>Longitude_dd=%{lon}<br>Date=%{customdata[1]}<extra></extra>",
           "hovertext": [
            "askar",
            "bapco",
            "fasht tighalib",
            "ghumais",
            "jabbari",
            "mashtan",
            "qassar noon",
            "al gaha",
            "msoor"
           ],
           "lat": [
            26.05994444,
            26.108525,
            25.95768056,
            26.03835,
            25.917225,
            25.84470833,
            25.81586944,
            26.13141667,
            26.08035
           ],
           "legendgroup": "",
           "lon": [
            50.63189722,
            50.64105,
            50.71598889,
            50.86679444,
            50.66624167,
            50.68702778,
            50.63698056,
            50.67534167,
            50.70566944
           ],
           "marker": {
            "color": [
             43.51,
             42.76,
             44.8,
             44.47,
             45.01,
             45.27,
             47.14,
             43.37,
             43.58
            ],
            "coloraxis": "coloraxis",
            "size": [
             43.51,
             42.76,
             44.8,
             44.47,
             45.01,
             45.27,
             47.14,
             43.37,
             43.58
            ],
            "sizemode": "area",
            "sizeref": 0.2528888888888889
           },
           "mode": "markers",
           "name": "",
           "showlegend": false,
           "subplot": "mapbox",
           "type": "scattermapbox"
          }
         ],
         "name": "2014-01-19"
        },
        {
         "data": [
          {
           "customdata": [
            [
             42.92,
             "2014-05-05T00:00:00"
            ],
            [
             42.84,
             "2014-05-05T00:00:00"
            ],
            [
             42.9,
             "2014-05-05T00:00:00"
            ],
            [
             42.71,
             "2014-05-05T00:00:00"
            ],
            [
             43.62,
             "2014-05-05T00:00:00"
            ],
            [
             44.79,
             "2014-05-05T00:00:00"
            ],
            [
             48.83,
             "2014-05-05T00:00:00"
            ],
            [
             42.61,
             "2014-05-05T00:00:00"
            ],
            [
             42.81,
             "2014-05-05T00:00:00"
            ]
           ],
           "hovertemplate": "<b>%{hovertext}</b><br><br>animation_frame=2014-05-05<br>Salinity %0=%{marker.color}<br>Latitude_dd=%{lat}<br>Longitude_dd=%{lon}<br>Date=%{customdata[1]}<extra></extra>",
           "hovertext": [
            "askar",
            "bapco",
            "fasht tighalib",
            "ghumais",
            "jabbari",
            "mashtan",
            "qassar noon",
            "al gaha",
            "msoor"
           ],
           "lat": [
            26.05994444,
            26.108525,
            25.95768056,
            26.03835,
            25.917225,
            25.84470833,
            25.81586944,
            26.13141667,
            26.08035
           ],
           "legendgroup": "",
           "lon": [
            50.63189722,
            50.64105,
            50.71598889,
            50.86679444,
            50.66624167,
            50.68702778,
            50.63698056,
            50.67534167,
            50.70566944
           ],
           "marker": {
            "color": [
             42.92,
             42.84,
             42.9,
             42.71,
             43.62,
             44.79,
             48.83,
             42.61,
             42.81
            ],
            "coloraxis": "coloraxis",
            "size": [
             42.92,
             42.84,
             42.9,
             42.71,
             43.62,
             44.79,
             48.83,
             42.61,
             42.81
            ],
            "sizemode": "area",
            "sizeref": 0.2528888888888889
           },
           "mode": "markers",
           "name": "",
           "showlegend": false,
           "subplot": "mapbox",
           "type": "scattermapbox"
          }
         ],
         "name": "2014-05-05"
        },
        {
         "data": [
          {
           "customdata": [
            [
             44.19,
             "2014-08-25T00:00:00"
            ],
            [
             44.14,
             "2014-08-25T00:00:00"
            ],
            [
             44.48,
             "2014-08-25T00:00:00"
            ],
            [
             44.46,
             "2014-08-25T00:00:00"
            ],
            [
             45.23,
             "2014-08-25T00:00:00"
            ],
            [
             45.1,
             "2014-08-25T00:00:00"
            ],
            [
             47.48,
             "2014-08-25T00:00:00"
            ],
            [
             43.91,
             "2014-08-25T00:00:00"
            ],
            [
             43.93,
             "2014-08-25T00:00:00"
            ]
           ],
           "hovertemplate": "<b>%{hovertext}</b><br><br>animation_frame=2014-08-25<br>Salinity %0=%{marker.color}<br>Latitude_dd=%{lat}<br>Longitude_dd=%{lon}<br>Date=%{customdata[1]}<extra></extra>",
           "hovertext": [
            "askar",
            "bapco",
            "fasht tighalib",
            "ghumais",
            "jabbari",
            "mashtan",
            "qassar noon",
            "al gaha",
            "msoor"
           ],
           "lat": [
            26.05994444,
            26.108525,
            25.95768056,
            26.03835,
            25.917225,
            25.84470833,
            25.81586944,
            26.13141667,
            26.08035
           ],
           "legendgroup": "",
           "lon": [
            50.63189722,
            50.64105,
            50.71598889,
            50.86679444,
            50.66624167,
            50.68702778,
            50.63698056,
            50.67534167,
            50.70566944
           ],
           "marker": {
            "color": [
             44.19,
             44.14,
             44.48,
             44.46,
             45.23,
             45.1,
             47.48,
             43.91,
             43.93
            ],
            "coloraxis": "coloraxis",
            "size": [
             44.19,
             44.14,
             44.48,
             44.46,
             45.23,
             45.1,
             47.48,
             43.91,
             43.93
            ],
            "sizemode": "area",
            "sizeref": 0.2528888888888889
           },
           "mode": "markers",
           "name": "",
           "showlegend": false,
           "subplot": "mapbox",
           "type": "scattermapbox"
          }
         ],
         "name": "2014-08-25"
        },
        {
         "data": [
          {
           "customdata": [
            [
             43.45,
             "2014-10-19T00:00:00"
            ],
            [
             43.51,
             "2014-10-19T00:00:00"
            ],
            [
             43.46,
             "2014-10-19T00:00:00"
            ],
            [
             43.26,
             "2014-10-19T00:00:00"
            ],
            [
             44.71,
             "2014-10-19T00:00:00"
            ]
           ],
           "hovertemplate": "<b>%{hovertext}</b><br><br>animation_frame=2014-10-19<br>Salinity %0=%{marker.color}<br>Latitude_dd=%{lat}<br>Longitude_dd=%{lon}<br>Date=%{customdata[1]}<extra></extra>",
           "hovertext": [
            "askar",
            "bapco",
            "al gaha",
            "dam",
            "marina club"
           ],
           "lat": [
            26.05994444,
            26.108525,
            26.13141667,
            26.18792778,
            26.23741389
           ],
           "legendgroup": "",
           "lon": [
            50.63189722,
            50.64105,
            50.67534167,
            50.83459722,
            50.60260278
           ],
           "marker": {
            "color": [
             43.45,
             43.51,
             43.46,
             43.26,
             44.71
            ],
            "coloraxis": "coloraxis",
            "size": [
             43.45,
             43.51,
             43.46,
             43.26,
             44.71
            ],
            "sizemode": "area",
            "sizeref": 0.2528888888888889
           },
           "mode": "markers",
           "name": "",
           "showlegend": false,
           "subplot": "mapbox",
           "type": "scattermapbox"
          }
         ],
         "name": "2014-10-19"
        },
        {
         "data": [
          {
           "customdata": [
            [
             42.55,
             "2015-01-27T00:00:00"
            ],
            [
             42.07,
             "2015-01-27T00:00:00"
            ],
            [
             43.44,
             "2015-01-27T00:00:00"
            ],
            [
             42.89,
             "2015-01-27T00:00:00"
            ],
            [
             43.63,
             "2015-01-27T00:00:00"
            ],
            [
             44.03,
             "2015-01-27T00:00:00"
            ],
            [
             46.93,
             "2015-01-27T00:00:00"
            ],
            [
             42.32,
             "2015-01-27T00:00:00"
            ],
            [
             42.36,
             "2015-01-27T00:00:00"
            ]
           ],
           "hovertemplate": "<b>%{hovertext}</b><br><br>animation_frame=2015-01-27<br>Salinity %0=%{marker.color}<br>Latitude_dd=%{lat}<br>Longitude_dd=%{lon}<br>Date=%{customdata[1]}<extra></extra>",
           "hovertext": [
            "askar",
            "bapco",
            "fasht tighalib",
            "ghumais",
            "jabbari",
            "mashtan",
            "qassar noon",
            "al gaha",
            "msoor"
           ],
           "lat": [
            26.05994444,
            26.108525,
            25.95768056,
            26.03835,
            25.917225,
            25.84470833,
            25.81586944,
            26.13141667,
            26.08035
           ],
           "legendgroup": "",
           "lon": [
            50.63189722,
            50.64105,
            50.71598889,
            50.86679444,
            50.66624167,
            50.68702778,
            50.63698056,
            50.67534167,
            50.70566944
           ],
           "marker": {
            "color": [
             42.55,
             42.07,
             43.44,
             42.89,
             43.63,
             44.03,
             46.93,
             42.32,
             42.36
            ],
            "coloraxis": "coloraxis",
            "size": [
             42.55,
             42.07,
             43.44,
             42.89,
             43.63,
             44.03,
             46.93,
             42.32,
             42.36
            ],
            "sizemode": "area",
            "sizeref": 0.2528888888888889
           },
           "mode": "markers",
           "name": "",
           "showlegend": false,
           "subplot": "mapbox",
           "type": "scattermapbox"
          }
         ],
         "name": "2015-01-27"
        },
        {
         "data": [
          {
           "customdata": [
            [
             43.9,
             "2015-04-15T00:00:00"
            ],
            [
             43.75,
             "2015-04-15T00:00:00"
            ],
            [
             44.31,
             "2015-04-15T00:00:00"
            ],
            [
             44.1,
             "2015-04-15T00:00:00"
            ],
            [
             44.27,
             "2015-04-15T00:00:00"
            ],
            [
             47.15,
             "2015-04-15T00:00:00"
            ],
            [
             49.01,
             "2015-04-15T00:00:00"
            ],
            [
             43.98,
             "2015-04-15T00:00:00"
            ],
            [
             44.15,
             "2015-04-15T00:00:00"
            ]
           ],
           "hovertemplate": "<b>%{hovertext}</b><br><br>animation_frame=2015-04-15<br>Salinity %0=%{marker.color}<br>Latitude_dd=%{lat}<br>Longitude_dd=%{lon}<br>Date=%{customdata[1]}<extra></extra>",
           "hovertext": [
            "askar",
            "bapco",
            "fasht tighalib",
            "ghumais",
            "jabbari",
            "mashtan",
            "qassar noon",
            "al gaha",
            "msoor"
           ],
           "lat": [
            26.05994444,
            26.108525,
            25.95768056,
            26.03835,
            25.917225,
            25.84470833,
            25.81586944,
            26.13141667,
            26.08035
           ],
           "legendgroup": "",
           "lon": [
            50.63189722,
            50.64105,
            50.71598889,
            50.86679444,
            50.66624167,
            50.68702778,
            50.63698056,
            50.67534167,
            50.70566944
           ],
           "marker": {
            "color": [
             43.9,
             43.75,
             44.31,
             44.1,
             44.27,
             47.15,
             49.01,
             43.98,
             44.15
            ],
            "coloraxis": "coloraxis",
            "size": [
             43.9,
             43.75,
             44.31,
             44.1,
             44.27,
             47.15,
             49.01,
             43.98,
             44.15
            ],
            "sizemode": "area",
            "sizeref": 0.2528888888888889
           },
           "mode": "markers",
           "name": "",
           "showlegend": false,
           "subplot": "mapbox",
           "type": "scattermapbox"
          }
         ],
         "name": "2015-04-15"
        },
        {
         "data": [
          {
           "customdata": [
            [
             44.57,
             "2015-08-23T00:00:00"
            ],
            [
             44.04,
             "2015-08-23T00:00:00"
            ],
            [
             44.55,
             "2015-08-23T00:00:00"
            ],
            [
             44.37,
             "2015-08-23T00:00:00"
            ],
            [
             45.14,
             "2015-08-23T00:00:00"
            ],
            [
             45.14,
             "2015-08-23T00:00:00"
            ],
            [
             49.38,
             "2015-08-23T00:00:00"
            ],
            [
             43.99,
             "2015-08-23T00:00:00"
            ],
            [
             44.12,
             "2015-08-23T00:00:00"
            ]
           ],
           "hovertemplate": "<b>%{hovertext}</b><br><br>animation_frame=2015-08-23<br>Salinity %0=%{marker.color}<br>Latitude_dd=%{lat}<br>Longitude_dd=%{lon}<br>Date=%{customdata[1]}<extra></extra>",
           "hovertext": [
            "askar",
            "bapco",
            "fasht tighalib",
            "ghumais",
            "jabbari",
            "mashtan",
            "qassar noon",
            "al gaha",
            "msoor"
           ],
           "lat": [
            26.05994444,
            26.108525,
            25.95768056,
            26.03835,
            25.917225,
            25.84470833,
            25.81586944,
            26.13141667,
            26.08035
           ],
           "legendgroup": "",
           "lon": [
            50.63189722,
            50.64105,
            50.71598889,
            50.86679444,
            50.66624167,
            50.68702778,
            50.63698056,
            50.67534167,
            50.70566944
           ],
           "marker": {
            "color": [
             44.57,
             44.04,
             44.55,
             44.37,
             45.14,
             45.14,
             49.38,
             43.99,
             44.12
            ],
            "coloraxis": "coloraxis",
            "size": [
             44.57,
             44.04,
             44.55,
             44.37,
             45.14,
             45.14,
             49.38,
             43.99,
             44.12
            ],
            "sizemode": "area",
            "sizeref": 0.2528888888888889
           },
           "mode": "markers",
           "name": "",
           "showlegend": false,
           "subplot": "mapbox",
           "type": "scattermapbox"
          }
         ],
         "name": "2015-08-23"
        },
        {
         "data": [
          {
           "customdata": [
            [
             44.61,
             "2015-11-01T00:00:00"
            ],
            [
             44.59,
             "2015-11-01T00:00:00"
            ],
            [
             44.89,
             "2015-11-01T00:00:00"
            ],
            [
             45.36,
             "2015-11-01T00:00:00"
            ],
            [
             45.56,
             "2015-11-01T00:00:00"
            ],
            [
             45.6,
             "2015-11-01T00:00:00"
            ],
            [
             46.69,
             "2015-11-01T00:00:00"
            ],
            [
             44.65,
             "2015-11-01T00:00:00"
            ],
            [
             44.67,
             "2015-11-01T00:00:00"
            ]
           ],
           "hovertemplate": "<b>%{hovertext}</b><br><br>animation_frame=2015-11-01<br>Salinity %0=%{marker.color}<br>Latitude_dd=%{lat}<br>Longitude_dd=%{lon}<br>Date=%{customdata[1]}<extra></extra>",
           "hovertext": [
            "askar",
            "bapco",
            "fasht tighalib",
            "ghumais",
            "jabbari",
            "mashtan",
            "qassar noon",
            "al gaha",
            "msoor"
           ],
           "lat": [
            26.05994444,
            26.108525,
            25.95768056,
            26.03835,
            25.917225,
            25.84470833,
            25.81586944,
            26.13141667,
            26.08035
           ],
           "legendgroup": "",
           "lon": [
            50.63189722,
            50.64105,
            50.71598889,
            50.86679444,
            50.66624167,
            50.68702778,
            50.63698056,
            50.67534167,
            50.70566944
           ],
           "marker": {
            "color": [
             44.61,
             44.59,
             44.89,
             45.36,
             45.56,
             45.6,
             46.69,
             44.65,
             44.67
            ],
            "coloraxis": "coloraxis",
            "size": [
             44.61,
             44.59,
             44.89,
             45.36,
             45.56,
             45.6,
             46.69,
             44.65,
             44.67
            ],
            "sizemode": "area",
            "sizeref": 0.2528888888888889
           },
           "mode": "markers",
           "name": "",
           "showlegend": false,
           "subplot": "mapbox",
           "type": "scattermapbox"
          }
         ],
         "name": "2015-11-01"
        },
        {
         "data": [
          {
           "customdata": [
            [
             42.84,
             "2016-01-17T00:00:00"
            ],
            [
             42.69,
             "2016-01-17T00:00:00"
            ],
            [
             43.67,
             "2016-01-17T00:00:00"
            ],
            [
             43.82,
             "2016-01-17T00:00:00"
            ],
            [
             44.25,
             "2016-01-17T00:00:00"
            ],
            [
             48.52,
             "2016-01-17T00:00:00"
            ],
            [
             42.56,
             "2016-01-17T00:00:00"
            ],
            [
             42.68,
             "2016-01-17T00:00:00"
            ]
           ],
           "hovertemplate": "<b>%{hovertext}</b><br><br>animation_frame=2016-01-17<br>Salinity %0=%{marker.color}<br>Latitude_dd=%{lat}<br>Longitude_dd=%{lon}<br>Date=%{customdata[1]}<extra></extra>",
           "hovertext": [
            "askar",
            "bapco",
            "fasht tighalib",
            "jabbari",
            "mashtan",
            "qassar noon",
            "al gaha",
            "msoor"
           ],
           "lat": [
            26.05994444,
            26.108525,
            25.95768056,
            25.917225,
            25.84470833,
            25.81586944,
            26.13141667,
            26.08035
           ],
           "legendgroup": "",
           "lon": [
            50.63189722,
            50.64105,
            50.71598889,
            50.66624167,
            50.68702778,
            50.63698056,
            50.67534167,
            50.70566944
           ],
           "marker": {
            "color": [
             42.84,
             42.69,
             43.67,
             43.82,
             44.25,
             48.52,
             42.56,
             42.68
            ],
            "coloraxis": "coloraxis",
            "size": [
             42.84,
             42.69,
             43.67,
             43.82,
             44.25,
             48.52,
             42.56,
             42.68
            ],
            "sizemode": "area",
            "sizeref": 0.2528888888888889
           },
           "mode": "markers",
           "name": "",
           "showlegend": false,
           "subplot": "mapbox",
           "type": "scattermapbox"
          }
         ],
         "name": "2016-01-17"
        },
        {
         "data": [
          {
           "customdata": [
            [
             43.22,
             "2016-04-17T00:00:00"
            ],
            [
             43.28,
             "2016-04-17T00:00:00"
            ],
            [
             43.72,
             "2016-04-17T00:00:00"
            ],
            [
             43.45,
             "2016-04-17T00:00:00"
            ],
            [
             44.36,
             "2016-04-17T00:00:00"
            ],
            [
             45.47,
             "2016-04-17T00:00:00"
            ],
            [
             48.37,
             "2016-04-17T00:00:00"
            ],
            [
             43.29,
             "2016-04-17T00:00:00"
            ],
            [
             43.21,
             "2016-04-17T00:00:00"
            ]
           ],
           "hovertemplate": "<b>%{hovertext}</b><br><br>animation_frame=2016-04-17<br>Salinity %0=%{marker.color}<br>Latitude_dd=%{lat}<br>Longitude_dd=%{lon}<br>Date=%{customdata[1]}<extra></extra>",
           "hovertext": [
            "askar",
            "bapco",
            "fasht tighalib",
            "ghumais",
            "jabbari",
            "mashtan",
            "qassar noon",
            "al gaha",
            "msoor"
           ],
           "lat": [
            26.05994444,
            26.108525,
            25.95768056,
            26.03835,
            25.917225,
            25.84470833,
            25.81586944,
            26.13141667,
            26.08035
           ],
           "legendgroup": "",
           "lon": [
            50.63189722,
            50.64105,
            50.71598889,
            50.86679444,
            50.66624167,
            50.68702778,
            50.63698056,
            50.67534167,
            50.70566944
           ],
           "marker": {
            "color": [
             43.22,
             43.28,
             43.72,
             43.45,
             44.36,
             45.47,
             48.37,
             43.29,
             43.21
            ],
            "coloraxis": "coloraxis",
            "size": [
             43.22,
             43.28,
             43.72,
             43.45,
             44.36,
             45.47,
             48.37,
             43.29,
             43.21
            ],
            "sizemode": "area",
            "sizeref": 0.2528888888888889
           },
           "mode": "markers",
           "name": "",
           "showlegend": false,
           "subplot": "mapbox",
           "type": "scattermapbox"
          }
         ],
         "name": "2016-04-17"
        },
        {
         "data": [
          {
           "customdata": [
            [
             43.24,
             "2016-08-09T00:00:00"
            ],
            [
             43.27,
             "2016-08-09T00:00:00"
            ],
            [
             43.74,
             "2016-08-09T00:00:00"
            ],
            [
             43.55,
             "2016-08-09T00:00:00"
            ],
            [
             44.23,
             "2016-08-09T00:00:00"
            ],
            [
             44.39,
             "2016-08-09T00:00:00"
            ],
            [
             48.25,
             "2016-08-09T00:00:00"
            ],
            [
             42.98,
             "2016-08-09T00:00:00"
            ],
            [
             43.14,
             "2016-08-09T00:00:00"
            ]
           ],
           "hovertemplate": "<b>%{hovertext}</b><br><br>animation_frame=2016-08-09<br>Salinity %0=%{marker.color}<br>Latitude_dd=%{lat}<br>Longitude_dd=%{lon}<br>Date=%{customdata[1]}<extra></extra>",
           "hovertext": [
            "askar",
            "bapco",
            "fasht tighalib",
            "ghumais",
            "jabbari",
            "mashtan",
            "qassar noon",
            "al gaha",
            "msoor"
           ],
           "lat": [
            26.05994444,
            26.108525,
            25.95768056,
            26.03835,
            25.917225,
            25.84470833,
            25.81586944,
            26.13141667,
            26.08035
           ],
           "legendgroup": "",
           "lon": [
            50.63189722,
            50.64105,
            50.71598889,
            50.86679444,
            50.66624167,
            50.68702778,
            50.63698056,
            50.67534167,
            50.70566944
           ],
           "marker": {
            "color": [
             43.24,
             43.27,
             43.74,
             43.55,
             44.23,
             44.39,
             48.25,
             42.98,
             43.14
            ],
            "coloraxis": "coloraxis",
            "size": [
             43.24,
             43.27,
             43.74,
             43.55,
             44.23,
             44.39,
             48.25,
             42.98,
             43.14
            ],
            "sizemode": "area",
            "sizeref": 0.2528888888888889
           },
           "mode": "markers",
           "name": "",
           "showlegend": false,
           "subplot": "mapbox",
           "type": "scattermapbox"
          }
         ],
         "name": "2016-08-09"
        },
        {
         "data": [
          {
           "customdata": [
            [
             42.29,
             "2016-10-24T00:00:00"
            ],
            [
             42.03,
             "2016-10-24T00:00:00"
            ],
            [
             43.12,
             "2016-10-24T00:00:00"
            ],
            [
             42.76,
             "2016-10-24T00:00:00"
            ],
            [
             43.37,
             "2016-10-24T00:00:00"
            ],
            [
             44.86,
             "2016-10-24T00:00:00"
            ],
            [
             46.34,
             "2016-10-24T00:00:00"
            ],
            [
             42.21,
             "2016-10-24T00:00:00"
            ],
            [
             42.14,
             "2016-10-24T00:00:00"
            ]
           ],
           "hovertemplate": "<b>%{hovertext}</b><br><br>animation_frame=2016-10-24<br>Salinity %0=%{marker.color}<br>Latitude_dd=%{lat}<br>Longitude_dd=%{lon}<br>Date=%{customdata[1]}<extra></extra>",
           "hovertext": [
            "askar",
            "bapco",
            "fasht tighalib",
            "ghumais",
            "jabbari",
            "mashtan",
            "qassar noon",
            "al gaha",
            "msoor"
           ],
           "lat": [
            26.05994444,
            26.108525,
            25.95768056,
            26.03835,
            25.917225,
            25.84470833,
            25.81586944,
            26.13141667,
            26.08035
           ],
           "legendgroup": "",
           "lon": [
            50.63189722,
            50.64105,
            50.71598889,
            50.86679444,
            50.66624167,
            50.68702778,
            50.63698056,
            50.67534167,
            50.70566944
           ],
           "marker": {
            "color": [
             42.29,
             42.03,
             43.12,
             42.76,
             43.37,
             44.86,
             46.34,
             42.21,
             42.14
            ],
            "coloraxis": "coloraxis",
            "size": [
             42.29,
             42.03,
             43.12,
             42.76,
             43.37,
             44.86,
             46.34,
             42.21,
             42.14
            ],
            "sizemode": "area",
            "sizeref": 0.2528888888888889
           },
           "mode": "markers",
           "name": "",
           "showlegend": false,
           "subplot": "mapbox",
           "type": "scattermapbox"
          }
         ],
         "name": "2016-10-24"
        },
        {
         "data": [
          {
           "customdata": [
            [
             44.52,
             "2007-07-09T00:00:00"
            ],
            [
             44.25,
             "2007-07-09T00:00:00"
            ],
            [
             43.7,
             "2007-07-09T00:00:00"
            ],
            [
             44.89,
             "2007-07-09T00:00:00"
            ]
           ],
           "hovertemplate": "<b>%{hovertext}</b><br><br>animation_frame=2007-07-09<br>Salinity %0=%{marker.color}<br>Latitude_dd=%{lat}<br>Longitude_dd=%{lon}<br>Date=%{customdata[1]}<extra></extra>",
           "hovertext": [
            "bapco",
            "al gaha",
            "dam",
            "msoor"
           ],
           "lat": [
            26.108525,
            26.13141667,
            26.18792778,
            26.08035
           ],
           "legendgroup": "",
           "lon": [
            50.64105,
            50.67534167,
            50.83459722,
            50.70566944
           ],
           "marker": {
            "color": [
             44.52,
             44.25,
             43.7,
             44.89
            ],
            "coloraxis": "coloraxis",
            "size": [
             44.52,
             44.25,
             43.7,
             44.89
            ],
            "sizemode": "area",
            "sizeref": 0.2528888888888889
           },
           "mode": "markers",
           "name": "",
           "showlegend": false,
           "subplot": "mapbox",
           "type": "scattermapbox"
          }
         ],
         "name": "2007-07-09"
        },
        {
         "data": [
          {
           "customdata": [
            [
             44.83,
             "2008-04-20T00:00:00"
            ],
            [
             44.51,
             "2008-04-20T00:00:00"
            ],
            [
             44.3,
             "2008-04-20T00:00:00"
            ],
            [
             45.65,
             "2008-04-20T00:00:00"
            ]
           ],
           "hovertemplate": "<b>%{hovertext}</b><br><br>animation_frame=2008-04-20<br>Salinity %0=%{marker.color}<br>Latitude_dd=%{lat}<br>Longitude_dd=%{lon}<br>Date=%{customdata[1]}<extra></extra>",
           "hovertext": [
            "bapco",
            "al gaha",
            "dam",
            "marina club"
           ],
           "lat": [
            26.108525,
            26.13141667,
            26.18792778,
            26.23741389
           ],
           "legendgroup": "",
           "lon": [
            50.64105,
            50.67534167,
            50.83459722,
            50.60260278
           ],
           "marker": {
            "color": [
             44.83,
             44.51,
             44.3,
             45.65
            ],
            "coloraxis": "coloraxis",
            "size": [
             44.83,
             44.51,
             44.3,
             45.65
            ],
            "sizemode": "area",
            "sizeref": 0.2528888888888889
           },
           "mode": "markers",
           "name": "",
           "showlegend": false,
           "subplot": "mapbox",
           "type": "scattermapbox"
          }
         ],
         "name": "2008-04-20"
        },
        {
         "data": [
          {
           "customdata": [
            [
             43.87,
             "2014-10-20T00:00:00"
            ],
            [
             44,
             "2014-10-20T00:00:00"
            ],
            [
             44.61,
             "2014-10-20T00:00:00"
            ],
            [
             44.97,
             "2014-10-20T00:00:00"
            ],
            [
             46.3,
             "2014-10-20T00:00:00"
            ],
            [
             43.57,
             "2014-10-20T00:00:00"
            ]
           ],
           "hovertemplate": "<b>%{hovertext}</b><br><br>animation_frame=2014-10-20<br>Salinity %0=%{marker.color}<br>Latitude_dd=%{lat}<br>Longitude_dd=%{lon}<br>Date=%{customdata[1]}<extra></extra>",
           "hovertext": [
            "fasht tighalib",
            "ghumais",
            "jabbari",
            "mashtan",
            "qassar noon",
            "msoor"
           ],
           "lat": [
            25.95768056,
            26.03835,
            25.917225,
            25.84470833,
            25.81586944,
            26.08035
           ],
           "legendgroup": "",
           "lon": [
            50.71598889,
            50.86679444,
            50.66624167,
            50.68702778,
            50.63698056,
            50.70566944
           ],
           "marker": {
            "color": [
             43.87,
             44,
             44.61,
             44.97,
             46.3,
             43.57
            ],
            "coloraxis": "coloraxis",
            "size": [
             43.87,
             44,
             44.61,
             44.97,
             46.3,
             43.57
            ],
            "sizemode": "area",
            "sizeref": 0.2528888888888889
           },
           "mode": "markers",
           "name": "",
           "showlegend": false,
           "subplot": "mapbox",
           "type": "scattermapbox"
          }
         ],
         "name": "2014-10-20"
        },
        {
         "data": [
          {
           "customdata": [
            [
             44.66,
             "2007-04-24T00:00:00"
            ],
            [
             44.75,
             "2007-04-24T00:00:00"
            ],
            [
             44.84,
             "2007-04-24T00:00:00"
            ]
           ],
           "hovertemplate": "<b>%{hovertext}</b><br><br>animation_frame=2007-04-24<br>Salinity %0=%{marker.color}<br>Latitude_dd=%{lat}<br>Longitude_dd=%{lon}<br>Date=%{customdata[1]}<extra></extra>",
           "hovertext": [
            "al gaha",
            "dam",
            "msoor"
           ],
           "lat": [
            26.13141667,
            26.18792778,
            26.08035
           ],
           "legendgroup": "",
           "lon": [
            50.67534167,
            50.83459722,
            50.70566944
           ],
           "marker": {
            "color": [
             44.66,
             44.75,
             44.84
            ],
            "coloraxis": "coloraxis",
            "size": [
             44.66,
             44.75,
             44.84
            ],
            "sizemode": "area",
            "sizeref": 0.2528888888888889
           },
           "mode": "markers",
           "name": "",
           "showlegend": false,
           "subplot": "mapbox",
           "type": "scattermapbox"
          }
         ],
         "name": "2007-04-24"
        },
        {
         "data": [
          {
           "customdata": [
            [
             44.26,
             "2007-10-30T00:00:00"
            ],
            [
             44.32,
             "2007-10-30T00:00:00"
            ]
           ],
           "hovertemplate": "<b>%{hovertext}</b><br><br>animation_frame=2007-10-30<br>Salinity %0=%{marker.color}<br>Latitude_dd=%{lat}<br>Longitude_dd=%{lon}<br>Date=%{customdata[1]}<extra></extra>",
           "hovertext": [
            "al gaha",
            "dam"
           ],
           "lat": [
            26.13141667,
            26.18792778
           ],
           "legendgroup": "",
           "lon": [
            50.67534167,
            50.83459722
           ],
           "marker": {
            "color": [
             44.26,
             44.32
            ],
            "coloraxis": "coloraxis",
            "size": [
             44.26,
             44.32
            ],
            "sizemode": "area",
            "sizeref": 0.2528888888888889
           },
           "mode": "markers",
           "name": "",
           "showlegend": false,
           "subplot": "mapbox",
           "type": "scattermapbox"
          }
         ],
         "name": "2007-10-30"
        },
        {
         "data": [
          {
           "customdata": [
            [
             45.32,
             "2008-10-25T00:00:00"
            ],
            [
             43.86,
             "2008-10-25T00:00:00"
            ],
            [
             44.96,
             "2008-10-25T00:00:00"
            ]
           ],
           "hovertemplate": "<b>%{hovertext}</b><br><br>animation_frame=2008-10-25<br>Salinity %0=%{marker.color}<br>Latitude_dd=%{lat}<br>Longitude_dd=%{lon}<br>Date=%{customdata[1]}<extra></extra>",
           "hovertext": [
            "al gaha",
            "dam",
            "marina club"
           ],
           "lat": [
            26.13141667,
            26.18792778,
            26.23741389
           ],
           "legendgroup": "",
           "lon": [
            50.67534167,
            50.83459722,
            50.60260278
           ],
           "marker": {
            "color": [
             45.32,
             43.86,
             44.96
            ],
            "coloraxis": "coloraxis",
            "size": [
             45.32,
             43.86,
             44.96
            ],
            "sizemode": "area",
            "sizeref": 0.2528888888888889
           },
           "mode": "markers",
           "name": "",
           "showlegend": false,
           "subplot": "mapbox",
           "type": "scattermapbox"
          }
         ],
         "name": "2008-10-25"
        },
        {
         "data": [
          {
           "customdata": [
            [
             41,
             "2009-01-18T00:00:00"
            ],
            [
             41.9,
             "2009-01-18T00:00:00"
            ],
            [
             41.6,
             "2009-01-18T00:00:00"
            ]
           ],
           "hovertemplate": "<b>%{hovertext}</b><br><br>animation_frame=2009-01-18<br>Salinity %0=%{marker.color}<br>Latitude_dd=%{lat}<br>Longitude_dd=%{lon}<br>Date=%{customdata[1]}<extra></extra>",
           "hovertext": [
            "al gaha",
            "dam",
            "marina club"
           ],
           "lat": [
            26.13141667,
            26.18792778,
            26.23741389
           ],
           "legendgroup": "",
           "lon": [
            50.67534167,
            50.83459722,
            50.60260278
           ],
           "marker": {
            "color": [
             41,
             41.9,
             41.6
            ],
            "coloraxis": "coloraxis",
            "size": [
             41,
             41.9,
             41.6
            ],
            "sizemode": "area",
            "sizeref": 0.2528888888888889
           },
           "mode": "markers",
           "name": "",
           "showlegend": false,
           "subplot": "mapbox",
           "type": "scattermapbox"
          }
         ],
         "name": "2009-01-18"
        },
        {
         "data": [
          {
           "customdata": [
            [
             42.3,
             "2009-04-20T00:00:00"
            ],
            [
             42.9,
             "2009-04-20T00:00:00"
            ]
           ],
           "hovertemplate": "<b>%{hovertext}</b><br><br>animation_frame=2009-04-20<br>Salinity %0=%{marker.color}<br>Latitude_dd=%{lat}<br>Longitude_dd=%{lon}<br>Date=%{customdata[1]}<extra></extra>",
           "hovertext": [
            "al gaha",
            "dam"
           ],
           "lat": [
            26.13141667,
            26.18792778
           ],
           "legendgroup": "",
           "lon": [
            50.67534167,
            50.83459722
           ],
           "marker": {
            "color": [
             42.3,
             42.9
            ],
            "coloraxis": "coloraxis",
            "size": [
             42.3,
             42.9
            ],
            "sizemode": "area",
            "sizeref": 0.2528888888888889
           },
           "mode": "markers",
           "name": "",
           "showlegend": false,
           "subplot": "mapbox",
           "type": "scattermapbox"
          }
         ],
         "name": "2009-04-20"
        },
        {
         "data": [
          {
           "customdata": [
            [
             44.71,
             "2009-10-11T00:00:00"
            ],
            [
             44.8,
             "2009-10-11T00:00:00"
            ],
            [
             45.69,
             "2009-10-11T00:00:00"
            ]
           ],
           "hovertemplate": "<b>%{hovertext}</b><br><br>animation_frame=2009-10-11<br>Salinity %0=%{marker.color}<br>Latitude_dd=%{lat}<br>Longitude_dd=%{lon}<br>Date=%{customdata[1]}<extra></extra>",
           "hovertext": [
            "al gaha",
            "dam",
            "marina club"
           ],
           "lat": [
            26.13141667,
            26.18792778,
            26.23741389
           ],
           "legendgroup": "",
           "lon": [
            50.67534167,
            50.83459722,
            50.60260278
           ],
           "marker": {
            "color": [
             44.71,
             44.8,
             45.69
            ],
            "coloraxis": "coloraxis",
            "size": [
             44.71,
             44.8,
             45.69
            ],
            "sizemode": "area",
            "sizeref": 0.2528888888888889
           },
           "mode": "markers",
           "name": "",
           "showlegend": false,
           "subplot": "mapbox",
           "type": "scattermapbox"
          }
         ],
         "name": "2009-10-11"
        },
        {
         "data": [
          {
           "customdata": [
            [
             42.64,
             "2010-02-02T00:00:00"
            ],
            [
             42.67,
             "2010-02-02T00:00:00"
            ]
           ],
           "hovertemplate": "<b>%{hovertext}</b><br><br>animation_frame=2010-02-02<br>Salinity %0=%{marker.color}<br>Latitude_dd=%{lat}<br>Longitude_dd=%{lon}<br>Date=%{customdata[1]}<extra></extra>",
           "hovertext": [
            "al gaha",
            "dam"
           ],
           "lat": [
            26.13141667,
            26.18792778
           ],
           "legendgroup": "",
           "lon": [
            50.67534167,
            50.83459722
           ],
           "marker": {
            "color": [
             42.64,
             42.67
            ],
            "coloraxis": "coloraxis",
            "size": [
             42.64,
             42.67
            ],
            "sizemode": "area",
            "sizeref": 0.2528888888888889
           },
           "mode": "markers",
           "name": "",
           "showlegend": false,
           "subplot": "mapbox",
           "type": "scattermapbox"
          }
         ],
         "name": "2010-02-02"
        },
        {
         "data": [
          {
           "customdata": [
            [
             42.57,
             "2010-04-19T00:00:00"
            ],
            [
             42.59,
             "2010-04-19T00:00:00"
            ]
           ],
           "hovertemplate": "<b>%{hovertext}</b><br><br>animation_frame=2010-04-19<br>Salinity %0=%{marker.color}<br>Latitude_dd=%{lat}<br>Longitude_dd=%{lon}<br>Date=%{customdata[1]}<extra></extra>",
           "hovertext": [
            "al gaha",
            "dam"
           ],
           "lat": [
            26.13141667,
            26.18792778
           ],
           "legendgroup": "",
           "lon": [
            50.67534167,
            50.83459722
           ],
           "marker": {
            "color": [
             42.57,
             42.59
            ],
            "coloraxis": "coloraxis",
            "size": [
             42.57,
             42.59
            ],
            "sizemode": "area",
            "sizeref": 0.2528888888888889
           },
           "mode": "markers",
           "name": "",
           "showlegend": false,
           "subplot": "mapbox",
           "type": "scattermapbox"
          }
         ],
         "name": "2010-04-19"
        },
        {
         "data": [
          {
           "customdata": [
            [
             43.74,
             "2010-07-08T00:00:00"
            ],
            [
             43.33,
             "2010-07-08T00:00:00"
            ]
           ],
           "hovertemplate": "<b>%{hovertext}</b><br><br>animation_frame=2010-07-08<br>Salinity %0=%{marker.color}<br>Latitude_dd=%{lat}<br>Longitude_dd=%{lon}<br>Date=%{customdata[1]}<extra></extra>",
           "hovertext": [
            "al gaha",
            "dam"
           ],
           "lat": [
            26.13141667,
            26.18792778
           ],
           "legendgroup": "",
           "lon": [
            50.67534167,
            50.83459722
           ],
           "marker": {
            "color": [
             43.74,
             43.33
            ],
            "coloraxis": "coloraxis",
            "size": [
             43.74,
             43.33
            ],
            "sizemode": "area",
            "sizeref": 0.2528888888888889
           },
           "mode": "markers",
           "name": "",
           "showlegend": false,
           "subplot": "mapbox",
           "type": "scattermapbox"
          }
         ],
         "name": "2010-07-08"
        },
        {
         "data": [
          {
           "customdata": [
            [
             42.91,
             "2010-10-11T00:00:00"
            ],
            [
             42.72,
             "2010-10-11T00:00:00"
            ]
           ],
           "hovertemplate": "<b>%{hovertext}</b><br><br>animation_frame=2010-10-11<br>Salinity %0=%{marker.color}<br>Latitude_dd=%{lat}<br>Longitude_dd=%{lon}<br>Date=%{customdata[1]}<extra></extra>",
           "hovertext": [
            "al gaha",
            "dam"
           ],
           "lat": [
            26.13141667,
            26.18792778
           ],
           "legendgroup": "",
           "lon": [
            50.67534167,
            50.83459722
           ],
           "marker": {
            "color": [
             42.91,
             42.72
            ],
            "coloraxis": "coloraxis",
            "size": [
             42.91,
             42.72
            ],
            "sizemode": "area",
            "sizeref": 0.2528888888888889
           },
           "mode": "markers",
           "name": "",
           "showlegend": false,
           "subplot": "mapbox",
           "type": "scattermapbox"
          }
         ],
         "name": "2010-10-11"
        },
        {
         "data": [
          {
           "customdata": [
            [
             43.34,
             "2012-10-07T00:00:00"
            ]
           ],
           "hovertemplate": "<b>%{hovertext}</b><br><br>animation_frame=2012-10-07<br>Salinity %0=%{marker.color}<br>Latitude_dd=%{lat}<br>Longitude_dd=%{lon}<br>Date=%{customdata[1]}<extra></extra>",
           "hovertext": [
            "al gaha"
           ],
           "lat": [
            26.13141667
           ],
           "legendgroup": "",
           "lon": [
            50.67534167
           ],
           "marker": {
            "color": [
             43.34
            ],
            "coloraxis": "coloraxis",
            "size": [
             43.34
            ],
            "sizemode": "area",
            "sizeref": 0.2528888888888889
           },
           "mode": "markers",
           "name": "",
           "showlegend": false,
           "subplot": "mapbox",
           "type": "scattermapbox"
          }
         ],
         "name": "2012-10-07"
        },
        {
         "data": [
          {
           "customdata": [
            [
             43.4,
             "2013-04-15T00:00:00"
            ],
            [
             43.39,
             "2013-04-15T00:00:00"
            ]
           ],
           "hovertemplate": "<b>%{hovertext}</b><br><br>animation_frame=2013-04-15<br>Salinity %0=%{marker.color}<br>Latitude_dd=%{lat}<br>Longitude_dd=%{lon}<br>Date=%{customdata[1]}<extra></extra>",
           "hovertext": [
            "al gaha",
            "dam"
           ],
           "lat": [
            26.13141667,
            26.18792778
           ],
           "legendgroup": "",
           "lon": [
            50.67534167,
            50.83459722
           ],
           "marker": {
            "color": [
             43.4,
             43.39
            ],
            "coloraxis": "coloraxis",
            "size": [
             43.4,
             43.39
            ],
            "sizemode": "area",
            "sizeref": 0.2528888888888889
           },
           "mode": "markers",
           "name": "",
           "showlegend": false,
           "subplot": "mapbox",
           "type": "scattermapbox"
          }
         ],
         "name": "2013-04-15"
        },
        {
         "data": [
          {
           "customdata": [
            [
             44.02,
             "2008-01-08T00:00:00"
            ],
            [
             45.85,
             "2008-01-08T00:00:00"
            ]
           ],
           "hovertemplate": "<b>%{hovertext}</b><br><br>animation_frame=2008-01-08<br>Salinity %0=%{marker.color}<br>Latitude_dd=%{lat}<br>Longitude_dd=%{lon}<br>Date=%{customdata[1]}<extra></extra>",
           "hovertext": [
            "dam",
            "marina club"
           ],
           "lat": [
            26.18792778,
            26.23741389
           ],
           "legendgroup": "",
           "lon": [
            50.83459722,
            50.60260278
           ],
           "marker": {
            "color": [
             44.02,
             45.85
            ],
            "coloraxis": "coloraxis",
            "size": [
             44.02,
             45.85
            ],
            "sizemode": "area",
            "sizeref": 0.2528888888888889
           },
           "mode": "markers",
           "name": "",
           "showlegend": false,
           "subplot": "mapbox",
           "type": "scattermapbox"
          }
         ],
         "name": "2008-01-08"
        },
        {
         "data": [
          {
           "customdata": [
            [
             43.14,
             "2008-07-06T00:00:00"
            ]
           ],
           "hovertemplate": "<b>%{hovertext}</b><br><br>animation_frame=2008-07-06<br>Salinity %0=%{marker.color}<br>Latitude_dd=%{lat}<br>Longitude_dd=%{lon}<br>Date=%{customdata[1]}<extra></extra>",
           "hovertext": [
            "dam"
           ],
           "lat": [
            26.18792778
           ],
           "legendgroup": "",
           "lon": [
            50.83459722
           ],
           "marker": {
            "color": [
             43.14
            ],
            "coloraxis": "coloraxis",
            "size": [
             43.14
            ],
            "sizemode": "area",
            "sizeref": 0.2528888888888889
           },
           "mode": "markers",
           "name": "",
           "showlegend": false,
           "subplot": "mapbox",
           "type": "scattermapbox"
          }
         ],
         "name": "2008-07-06"
        },
        {
         "data": [
          {
           "customdata": [
            [
             42.08,
             "2009-07-06T00:00:00"
            ]
           ],
           "hovertemplate": "<b>%{hovertext}</b><br><br>animation_frame=2009-07-06<br>Salinity %0=%{marker.color}<br>Latitude_dd=%{lat}<br>Longitude_dd=%{lon}<br>Date=%{customdata[1]}<extra></extra>",
           "hovertext": [
            "dam"
           ],
           "lat": [
            26.18792778
           ],
           "legendgroup": "",
           "lon": [
            50.83459722
           ],
           "marker": {
            "color": [
             42.08
            ],
            "coloraxis": "coloraxis",
            "size": [
             42.08
            ],
            "sizemode": "area",
            "sizeref": 0.2528888888888889
           },
           "mode": "markers",
           "name": "",
           "showlegend": false,
           "subplot": "mapbox",
           "type": "scattermapbox"
          }
         ],
         "name": "2009-07-06"
        },
        {
         "data": [
          {
           "customdata": [
            [
             43.78,
             "2011-01-21T00:00:00"
            ]
           ],
           "hovertemplate": "<b>%{hovertext}</b><br><br>animation_frame=2011-01-21<br>Salinity %0=%{marker.color}<br>Latitude_dd=%{lat}<br>Longitude_dd=%{lon}<br>Date=%{customdata[1]}<extra></extra>",
           "hovertext": [
            "dam"
           ],
           "lat": [
            26.18792778
           ],
           "legendgroup": "",
           "lon": [
            50.83459722
           ],
           "marker": {
            "color": [
             43.78
            ],
            "coloraxis": "coloraxis",
            "size": [
             43.78
            ],
            "sizemode": "area",
            "sizeref": 0.2528888888888889
           },
           "mode": "markers",
           "name": "",
           "showlegend": false,
           "subplot": "mapbox",
           "type": "scattermapbox"
          }
         ],
         "name": "2011-01-21"
        },
        {
         "data": [
          {
           "customdata": [
            [
             43.49,
             "2011-04-25T00:00:00"
            ]
           ],
           "hovertemplate": "<b>%{hovertext}</b><br><br>animation_frame=2011-04-25<br>Salinity %0=%{marker.color}<br>Latitude_dd=%{lat}<br>Longitude_dd=%{lon}<br>Date=%{customdata[1]}<extra></extra>",
           "hovertext": [
            "dam"
           ],
           "lat": [
            26.18792778
           ],
           "legendgroup": "",
           "lon": [
            50.83459722
           ],
           "marker": {
            "color": [
             43.49
            ],
            "coloraxis": "coloraxis",
            "size": [
             43.49
            ],
            "sizemode": "area",
            "sizeref": 0.2528888888888889
           },
           "mode": "markers",
           "name": "",
           "showlegend": false,
           "subplot": "mapbox",
           "type": "scattermapbox"
          }
         ],
         "name": "2011-04-25"
        },
        {
         "data": [
          {
           "customdata": [
            [
             43.2,
             "2011-07-11T00:00:00"
            ],
            [
             43.86,
             "2011-07-11T00:00:00"
            ]
           ],
           "hovertemplate": "<b>%{hovertext}</b><br><br>animation_frame=2011-07-11<br>Salinity %0=%{marker.color}<br>Latitude_dd=%{lat}<br>Longitude_dd=%{lon}<br>Date=%{customdata[1]}<extra></extra>",
           "hovertext": [
            "dam",
            "marina club"
           ],
           "lat": [
            26.18792778,
            26.23741389
           ],
           "legendgroup": "",
           "lon": [
            50.83459722,
            50.60260278
           ],
           "marker": {
            "color": [
             43.2,
             43.86
            ],
            "coloraxis": "coloraxis",
            "size": [
             43.2,
             43.86
            ],
            "sizemode": "area",
            "sizeref": 0.2528888888888889
           },
           "mode": "markers",
           "name": "",
           "showlegend": false,
           "subplot": "mapbox",
           "type": "scattermapbox"
          }
         ],
         "name": "2011-07-11"
        },
        {
         "data": [
          {
           "customdata": [
            [
             42.73,
             "2011-10-10T00:00:00"
            ],
            [
             43.64,
             "2011-10-10T00:00:00"
            ]
           ],
           "hovertemplate": "<b>%{hovertext}</b><br><br>animation_frame=2011-10-10<br>Salinity %0=%{marker.color}<br>Latitude_dd=%{lat}<br>Longitude_dd=%{lon}<br>Date=%{customdata[1]}<extra></extra>",
           "hovertext": [
            "dam",
            "marina club"
           ],
           "lat": [
            26.18792778,
            26.23741389
           ],
           "legendgroup": "",
           "lon": [
            50.83459722,
            50.60260278
           ],
           "marker": {
            "color": [
             42.73,
             43.64
            ],
            "coloraxis": "coloraxis",
            "size": [
             42.73,
             43.64
            ],
            "sizemode": "area",
            "sizeref": 0.2528888888888889
           },
           "mode": "markers",
           "name": "",
           "showlegend": false,
           "subplot": "mapbox",
           "type": "scattermapbox"
          }
         ],
         "name": "2011-10-10"
        },
        {
         "data": [
          {
           "customdata": [
            [
             43.09,
             "2012-01-17T00:00:00"
            ],
            [
             44.07,
             "2012-01-17T00:00:00"
            ]
           ],
           "hovertemplate": "<b>%{hovertext}</b><br><br>animation_frame=2012-01-17<br>Salinity %0=%{marker.color}<br>Latitude_dd=%{lat}<br>Longitude_dd=%{lon}<br>Date=%{customdata[1]}<extra></extra>",
           "hovertext": [
            "dam",
            "marina club"
           ],
           "lat": [
            26.18792778,
            26.23741389
           ],
           "legendgroup": "",
           "lon": [
            50.83459722,
            50.60260278
           ],
           "marker": {
            "color": [
             43.09,
             44.07
            ],
            "coloraxis": "coloraxis",
            "size": [
             43.09,
             44.07
            ],
            "sizemode": "area",
            "sizeref": 0.2528888888888889
           },
           "mode": "markers",
           "name": "",
           "showlegend": false,
           "subplot": "mapbox",
           "type": "scattermapbox"
          }
         ],
         "name": "2012-01-17"
        },
        {
         "data": [
          {
           "customdata": [
            [
             43.48,
             "2012-04-16T00:00:00"
            ],
            [
             44.3,
             "2012-04-16T00:00:00"
            ]
           ],
           "hovertemplate": "<b>%{hovertext}</b><br><br>animation_frame=2012-04-16<br>Salinity %0=%{marker.color}<br>Latitude_dd=%{lat}<br>Longitude_dd=%{lon}<br>Date=%{customdata[1]}<extra></extra>",
           "hovertext": [
            "dam",
            "marina club"
           ],
           "lat": [
            26.18792778,
            26.23741389
           ],
           "legendgroup": "",
           "lon": [
            50.83459722,
            50.60260278
           ],
           "marker": {
            "color": [
             43.48,
             44.3
            ],
            "coloraxis": "coloraxis",
            "size": [
             43.48,
             44.3
            ],
            "sizemode": "area",
            "sizeref": 0.2528888888888889
           },
           "mode": "markers",
           "name": "",
           "showlegend": false,
           "subplot": "mapbox",
           "type": "scattermapbox"
          }
         ],
         "name": "2012-04-16"
        },
        {
         "data": [
          {
           "customdata": [
            [
             42.63,
             "2012-07-08T00:00:00"
            ],
            [
             45.15,
             "2012-07-08T00:00:00"
            ]
           ],
           "hovertemplate": "<b>%{hovertext}</b><br><br>animation_frame=2012-07-08<br>Salinity %0=%{marker.color}<br>Latitude_dd=%{lat}<br>Longitude_dd=%{lon}<br>Date=%{customdata[1]}<extra></extra>",
           "hovertext": [
            "dam",
            "marina club"
           ],
           "lat": [
            26.18792778,
            26.23741389
           ],
           "legendgroup": "",
           "lon": [
            50.83459722,
            50.60260278
           ],
           "marker": {
            "color": [
             42.63,
             45.15
            ],
            "coloraxis": "coloraxis",
            "size": [
             42.63,
             45.15
            ],
            "sizemode": "area",
            "sizeref": 0.2528888888888889
           },
           "mode": "markers",
           "name": "",
           "showlegend": false,
           "subplot": "mapbox",
           "type": "scattermapbox"
          }
         ],
         "name": "2012-07-08"
        },
        {
         "data": [
          {
           "customdata": [
            [
             42.75,
             "2013-01-21T00:00:00"
            ]
           ],
           "hovertemplate": "<b>%{hovertext}</b><br><br>animation_frame=2013-01-21<br>Salinity %0=%{marker.color}<br>Latitude_dd=%{lat}<br>Longitude_dd=%{lon}<br>Date=%{customdata[1]}<extra></extra>",
           "hovertext": [
            "dam"
           ],
           "lat": [
            26.18792778
           ],
           "legendgroup": "",
           "lon": [
            50.83459722
           ],
           "marker": {
            "color": [
             42.75
            ],
            "coloraxis": "coloraxis",
            "size": [
             42.75
            ],
            "sizemode": "area",
            "sizeref": 0.2528888888888889
           },
           "mode": "markers",
           "name": "",
           "showlegend": false,
           "subplot": "mapbox",
           "type": "scattermapbox"
          }
         ],
         "name": "2013-01-21"
        },
        {
         "data": [
          {
           "customdata": [
            [
             43.44,
             "2013-08-26T00:00:00"
            ],
            [
             43.87,
             "2013-08-26T00:00:00"
            ]
           ],
           "hovertemplate": "<b>%{hovertext}</b><br><br>animation_frame=2013-08-26<br>Salinity %0=%{marker.color}<br>Latitude_dd=%{lat}<br>Longitude_dd=%{lon}<br>Date=%{customdata[1]}<extra></extra>",
           "hovertext": [
            "dam",
            "marina club"
           ],
           "lat": [
            26.18792778,
            26.23741389
           ],
           "legendgroup": "",
           "lon": [
            50.83459722,
            50.60260278
           ],
           "marker": {
            "color": [
             43.44,
             43.87
            ],
            "coloraxis": "coloraxis",
            "size": [
             43.44,
             43.87
            ],
            "sizemode": "area",
            "sizeref": 0.2528888888888889
           },
           "mode": "markers",
           "name": "",
           "showlegend": false,
           "subplot": "mapbox",
           "type": "scattermapbox"
          }
         ],
         "name": "2013-08-26"
        },
        {
         "data": [
          {
           "customdata": [
            [
             42.84,
             "2013-11-05T00:00:00"
            ],
            [
             45.14,
             "2013-11-05T00:00:00"
            ]
           ],
           "hovertemplate": "<b>%{hovertext}</b><br><br>animation_frame=2013-11-05<br>Salinity %0=%{marker.color}<br>Latitude_dd=%{lat}<br>Longitude_dd=%{lon}<br>Date=%{customdata[1]}<extra></extra>",
           "hovertext": [
            "dam",
            "marina club"
           ],
           "lat": [
            26.18792778,
            26.23741389
           ],
           "legendgroup": "",
           "lon": [
            50.83459722,
            50.60260278
           ],
           "marker": {
            "color": [
             42.84,
             45.14
            ],
            "coloraxis": "coloraxis",
            "size": [
             42.84,
             45.14
            ],
            "sizemode": "area",
            "sizeref": 0.2528888888888889
           },
           "mode": "markers",
           "name": "",
           "showlegend": false,
           "subplot": "mapbox",
           "type": "scattermapbox"
          }
         ],
         "name": "2013-11-05"
        },
        {
         "data": [
          {
           "customdata": [
            [
             43.12,
             "2014-01-20T00:00:00"
            ],
            [
             44.17,
             "2014-01-20T00:00:00"
            ]
           ],
           "hovertemplate": "<b>%{hovertext}</b><br><br>animation_frame=2014-01-20<br>Salinity %0=%{marker.color}<br>Latitude_dd=%{lat}<br>Longitude_dd=%{lon}<br>Date=%{customdata[1]}<extra></extra>",
           "hovertext": [
            "dam",
            "marina club"
           ],
           "lat": [
            26.18792778,
            26.23741389
           ],
           "legendgroup": "",
           "lon": [
            50.83459722,
            50.60260278
           ],
           "marker": {
            "color": [
             43.12,
             44.17
            ],
            "coloraxis": "coloraxis",
            "size": [
             43.12,
             44.17
            ],
            "sizemode": "area",
            "sizeref": 0.2528888888888889
           },
           "mode": "markers",
           "name": "",
           "showlegend": false,
           "subplot": "mapbox",
           "type": "scattermapbox"
          }
         ],
         "name": "2014-01-20"
        },
        {
         "data": [
          {
           "customdata": [
            [
             42.46,
             "2014-05-04T00:00:00"
            ],
            [
             43.58,
             "2014-05-04T00:00:00"
            ]
           ],
           "hovertemplate": "<b>%{hovertext}</b><br><br>animation_frame=2014-05-04<br>Salinity %0=%{marker.color}<br>Latitude_dd=%{lat}<br>Longitude_dd=%{lon}<br>Date=%{customdata[1]}<extra></extra>",
           "hovertext": [
            "dam",
            "marina club"
           ],
           "lat": [
            26.18792778,
            26.23741389
           ],
           "legendgroup": "",
           "lon": [
            50.83459722,
            50.60260278
           ],
           "marker": {
            "color": [
             42.46,
             43.58
            ],
            "coloraxis": "coloraxis",
            "size": [
             42.46,
             43.58
            ],
            "sizemode": "area",
            "sizeref": 0.2528888888888889
           },
           "mode": "markers",
           "name": "",
           "showlegend": false,
           "subplot": "mapbox",
           "type": "scattermapbox"
          }
         ],
         "name": "2014-05-04"
        },
        {
         "data": [
          {
           "customdata": [
            [
             43.71,
             "2014-08-24T00:00:00"
            ]
           ],
           "hovertemplate": "<b>%{hovertext}</b><br><br>animation_frame=2014-08-24<br>Salinity %0=%{marker.color}<br>Latitude_dd=%{lat}<br>Longitude_dd=%{lon}<br>Date=%{customdata[1]}<extra></extra>",
           "hovertext": [
            "dam"
           ],
           "lat": [
            26.18792778
           ],
           "legendgroup": "",
           "lon": [
            50.83459722
           ],
           "marker": {
            "color": [
             43.71
            ],
            "coloraxis": "coloraxis",
            "size": [
             43.71
            ],
            "sizemode": "area",
            "sizeref": 0.2528888888888889
           },
           "mode": "markers",
           "name": "",
           "showlegend": false,
           "subplot": "mapbox",
           "type": "scattermapbox"
          }
         ],
         "name": "2014-08-24"
        },
        {
         "data": [
          {
           "customdata": [
            [
             42.17,
             "2015-02-01T00:00:00"
            ]
           ],
           "hovertemplate": "<b>%{hovertext}</b><br><br>animation_frame=2015-02-01<br>Salinity %0=%{marker.color}<br>Latitude_dd=%{lat}<br>Longitude_dd=%{lon}<br>Date=%{customdata[1]}<extra></extra>",
           "hovertext": [
            "dam"
           ],
           "lat": [
            26.18792778
           ],
           "legendgroup": "",
           "lon": [
            50.83459722
           ],
           "marker": {
            "color": [
             42.17
            ],
            "coloraxis": "coloraxis",
            "size": [
             42.17
            ],
            "sizemode": "area",
            "sizeref": 0.2528888888888889
           },
           "mode": "markers",
           "name": "",
           "showlegend": false,
           "subplot": "mapbox",
           "type": "scattermapbox"
          }
         ],
         "name": "2015-02-01"
        },
        {
         "data": [
          {
           "customdata": [
            [
             43.27,
             "2015-04-12T00:00:00"
            ]
           ],
           "hovertemplate": "<b>%{hovertext}</b><br><br>animation_frame=2015-04-12<br>Salinity %0=%{marker.color}<br>Latitude_dd=%{lat}<br>Longitude_dd=%{lon}<br>Date=%{customdata[1]}<extra></extra>",
           "hovertext": [
            "dam"
           ],
           "lat": [
            26.18792778
           ],
           "legendgroup": "",
           "lon": [
            50.83459722
           ],
           "marker": {
            "color": [
             43.27
            ],
            "coloraxis": "coloraxis",
            "size": [
             43.27
            ],
            "sizemode": "area",
            "sizeref": 0.2528888888888889
           },
           "mode": "markers",
           "name": "",
           "showlegend": false,
           "subplot": "mapbox",
           "type": "scattermapbox"
          }
         ],
         "name": "2015-04-12"
        },
        {
         "data": [
          {
           "customdata": [
            [
             43.78,
             "2015-08-24T00:00:00"
            ]
           ],
           "hovertemplate": "<b>%{hovertext}</b><br><br>animation_frame=2015-08-24<br>Salinity %0=%{marker.color}<br>Latitude_dd=%{lat}<br>Longitude_dd=%{lon}<br>Date=%{customdata[1]}<extra></extra>",
           "hovertext": [
            "dam"
           ],
           "lat": [
            26.18792778
           ],
           "legendgroup": "",
           "lon": [
            50.83459722
           ],
           "marker": {
            "color": [
             43.78
            ],
            "coloraxis": "coloraxis",
            "size": [
             43.78
            ],
            "sizemode": "area",
            "sizeref": 0.2528888888888889
           },
           "mode": "markers",
           "name": "",
           "showlegend": false,
           "subplot": "mapbox",
           "type": "scattermapbox"
          }
         ],
         "name": "2015-08-24"
        },
        {
         "data": [
          {
           "customdata": [
            [
             44.3,
             "2015-11-02T00:00:00"
            ]
           ],
           "hovertemplate": "<b>%{hovertext}</b><br><br>animation_frame=2015-11-02<br>Salinity %0=%{marker.color}<br>Latitude_dd=%{lat}<br>Longitude_dd=%{lon}<br>Date=%{customdata[1]}<extra></extra>",
           "hovertext": [
            "dam"
           ],
           "lat": [
            26.18792778
           ],
           "legendgroup": "",
           "lon": [
            50.83459722
           ],
           "marker": {
            "color": [
             44.3
            ],
            "coloraxis": "coloraxis",
            "size": [
             44.3
            ],
            "sizemode": "area",
            "sizeref": 0.2528888888888889
           },
           "mode": "markers",
           "name": "",
           "showlegend": false,
           "subplot": "mapbox",
           "type": "scattermapbox"
          }
         ],
         "name": "2015-11-02"
        },
        {
         "data": [
          {
           "customdata": [
            [
             42.48,
             "2016-01-18T00:00:00"
            ]
           ],
           "hovertemplate": "<b>%{hovertext}</b><br><br>animation_frame=2016-01-18<br>Salinity %0=%{marker.color}<br>Latitude_dd=%{lat}<br>Longitude_dd=%{lon}<br>Date=%{customdata[1]}<extra></extra>",
           "hovertext": [
            "dam"
           ],
           "lat": [
            26.18792778
           ],
           "legendgroup": "",
           "lon": [
            50.83459722
           ],
           "marker": {
            "color": [
             42.48
            ],
            "coloraxis": "coloraxis",
            "size": [
             42.48
            ],
            "sizemode": "area",
            "sizeref": 0.2528888888888889
           },
           "mode": "markers",
           "name": "",
           "showlegend": false,
           "subplot": "mapbox",
           "type": "scattermapbox"
          }
         ],
         "name": "2016-01-18"
        },
        {
         "data": [
          {
           "customdata": [
            [
             43.2,
             "2016-04-18T00:00:00"
            ]
           ],
           "hovertemplate": "<b>%{hovertext}</b><br><br>animation_frame=2016-04-18<br>Salinity %0=%{marker.color}<br>Latitude_dd=%{lat}<br>Longitude_dd=%{lon}<br>Date=%{customdata[1]}<extra></extra>",
           "hovertext": [
            "dam"
           ],
           "lat": [
            26.18792778
           ],
           "legendgroup": "",
           "lon": [
            50.83459722
           ],
           "marker": {
            "color": [
             43.2
            ],
            "coloraxis": "coloraxis",
            "size": [
             43.2
            ],
            "sizemode": "area",
            "sizeref": 0.2528888888888889
           },
           "mode": "markers",
           "name": "",
           "showlegend": false,
           "subplot": "mapbox",
           "type": "scattermapbox"
          }
         ],
         "name": "2016-04-18"
        },
        {
         "data": [
          {
           "customdata": [
            [
             43.03,
             "2016-08-10T00:00:00"
            ],
            [
             49.18,
             "2016-08-10T00:00:00"
            ],
            [
             44.59,
             "2016-08-10T00:00:00"
            ]
           ],
           "hovertemplate": "<b>%{hovertext}</b><br><br>animation_frame=2016-08-10<br>Salinity %0=%{marker.color}<br>Latitude_dd=%{lat}<br>Longitude_dd=%{lon}<br>Date=%{customdata[1]}<extra></extra>",
           "hovertext": [
            "dam",
            "marwada",
            "sura"
           ],
           "lat": [
            26.18792778,
            26.31694722,
            26.48800278
           ],
           "legendgroup": "",
           "lon": [
            50.83459722,
            50.45246667,
            50.42891944
           ],
           "marker": {
            "color": [
             43.03,
             49.18,
             44.59
            ],
            "coloraxis": "coloraxis",
            "size": [
             43.03,
             49.18,
             44.59
            ],
            "sizemode": "area",
            "sizeref": 0.2528888888888889
           },
           "mode": "markers",
           "name": "",
           "showlegend": false,
           "subplot": "mapbox",
           "type": "scattermapbox"
          }
         ],
         "name": "2016-08-10"
        },
        {
         "data": [
          {
           "customdata": [
            [
             41.4,
             "2016-10-25T00:00:00"
            ]
           ],
           "hovertemplate": "<b>%{hovertext}</b><br><br>animation_frame=2016-10-25<br>Salinity %0=%{marker.color}<br>Latitude_dd=%{lat}<br>Longitude_dd=%{lon}<br>Date=%{customdata[1]}<extra></extra>",
           "hovertext": [
            "dam"
           ],
           "lat": [
            26.18792778
           ],
           "legendgroup": "",
           "lon": [
            50.83459722
           ],
           "marker": {
            "color": [
             41.4
            ],
            "coloraxis": "coloraxis",
            "size": [
             41.4
            ],
            "sizemode": "area",
            "sizeref": 0.2528888888888889
           },
           "mode": "markers",
           "name": "",
           "showlegend": false,
           "subplot": "mapbox",
           "type": "scattermapbox"
          }
         ],
         "name": "2016-10-25"
        },
        {
         "data": [
          {
           "customdata": [
            [
             51.83,
             "2007-04-25T00:00:00"
            ],
            [
             46.59,
             "2007-04-25T00:00:00"
            ],
            [
             48.31,
             "2007-04-25T00:00:00"
            ]
           ],
           "hovertemplate": "<b>%{hovertext}</b><br><br>animation_frame=2007-04-25<br>Salinity %0=%{marker.color}<br>Latitude_dd=%{lat}<br>Longitude_dd=%{lon}<br>Date=%{customdata[1]}<extra></extra>",
           "hovertext": [
            "bartafi",
            "marina club",
            "marwada"
           ],
           "lat": [
            26.26796944,
            26.23741389,
            26.31694722
           ],
           "legendgroup": "",
           "lon": [
            50.44042778,
            50.60260278,
            50.45246667
           ],
           "marker": {
            "color": [
             51.83,
             46.59,
             48.31
            ],
            "coloraxis": "coloraxis",
            "size": [
             51.83,
             46.59,
             48.31
            ],
            "sizemode": "area",
            "sizeref": 0.2528888888888889
           },
           "mode": "markers",
           "name": "",
           "showlegend": false,
           "subplot": "mapbox",
           "type": "scattermapbox"
          }
         ],
         "name": "2007-04-25"
        },
        {
         "data": [
          {
           "customdata": [
            [
             49.86,
             "2007-07-10T00:00:00"
            ],
            [
             45.43,
             "2007-07-10T00:00:00"
            ],
            [
             46.81,
             "2007-07-10T00:00:00"
            ]
           ],
           "hovertemplate": "<b>%{hovertext}</b><br><br>animation_frame=2007-07-10<br>Salinity %0=%{marker.color}<br>Latitude_dd=%{lat}<br>Longitude_dd=%{lon}<br>Date=%{customdata[1]}<extra></extra>",
           "hovertext": [
            "bartafi",
            "marina club",
            "marwada"
           ],
           "lat": [
            26.26796944,
            26.23741389,
            26.31694722
           ],
           "legendgroup": "",
           "lon": [
            50.44042778,
            50.60260278,
            50.45246667
           ],
           "marker": {
            "color": [
             49.86,
             45.43,
             46.81
            ],
            "coloraxis": "coloraxis",
            "size": [
             49.86,
             45.43,
             46.81
            ],
            "sizemode": "area",
            "sizeref": 0.2528888888888889
           },
           "mode": "markers",
           "name": "",
           "showlegend": false,
           "subplot": "mapbox",
           "type": "scattermapbox"
          }
         ],
         "name": "2007-07-10"
        },
        {
         "data": [
          {
           "customdata": [
            [
             48.65,
             "2007-10-31T00:00:00"
            ],
            [
             46.65,
             "2007-10-31T00:00:00"
            ]
           ],
           "hovertemplate": "<b>%{hovertext}</b><br><br>animation_frame=2007-10-31<br>Salinity %0=%{marker.color}<br>Latitude_dd=%{lat}<br>Longitude_dd=%{lon}<br>Date=%{customdata[1]}<extra></extra>",
           "hovertext": [
            "bartafi",
            "marwada"
           ],
           "lat": [
            26.26796944,
            26.31694722
           ],
           "legendgroup": "",
           "lon": [
            50.44042778,
            50.45246667
           ],
           "marker": {
            "color": [
             48.65,
             46.65
            ],
            "coloraxis": "coloraxis",
            "size": [
             48.65,
             46.65
            ],
            "sizemode": "area",
            "sizeref": 0.2528888888888889
           },
           "mode": "markers",
           "name": "",
           "showlegend": false,
           "subplot": "mapbox",
           "type": "scattermapbox"
          }
         ],
         "name": "2007-10-31"
        },
        {
         "data": [
          {
           "customdata": [
            [
             46.4,
             "2008-01-09T00:00:00"
            ],
            [
             44.5,
             "2008-01-09T00:00:00"
            ]
           ],
           "hovertemplate": "<b>%{hovertext}</b><br><br>animation_frame=2008-01-09<br>Salinity %0=%{marker.color}<br>Latitude_dd=%{lat}<br>Longitude_dd=%{lon}<br>Date=%{customdata[1]}<extra></extra>",
           "hovertext": [
            "bartafi",
            "marwada"
           ],
           "lat": [
            26.26796944,
            26.31694722
           ],
           "legendgroup": "",
           "lon": [
            50.44042778,
            50.45246667
           ],
           "marker": {
            "color": [
             46.4,
             44.5
            ],
            "coloraxis": "coloraxis",
            "size": [
             46.4,
             44.5
            ],
            "sizemode": "area",
            "sizeref": 0.2528888888888889
           },
           "mode": "markers",
           "name": "",
           "showlegend": false,
           "subplot": "mapbox",
           "type": "scattermapbox"
          }
         ],
         "name": "2008-01-09"
        },
        {
         "data": [
          {
           "customdata": [
            [
             48.26,
             "2008-04-22T00:00:00"
            ],
            [
             47.02,
             "2008-04-22T00:00:00"
            ]
           ],
           "hovertemplate": "<b>%{hovertext}</b><br><br>animation_frame=2008-04-22<br>Salinity %0=%{marker.color}<br>Latitude_dd=%{lat}<br>Longitude_dd=%{lon}<br>Date=%{customdata[1]}<extra></extra>",
           "hovertext": [
            "bartafi",
            "marwada"
           ],
           "lat": [
            26.26796944,
            26.31694722
           ],
           "legendgroup": "",
           "lon": [
            50.44042778,
            50.45246667
           ],
           "marker": {
            "color": [
             48.26,
             47.02
            ],
            "coloraxis": "coloraxis",
            "size": [
             48.26,
             47.02
            ],
            "sizemode": "area",
            "sizeref": 0.2528888888888889
           },
           "mode": "markers",
           "name": "",
           "showlegend": false,
           "subplot": "mapbox",
           "type": "scattermapbox"
          }
         ],
         "name": "2008-04-22"
        },
        {
         "data": [
          {
           "customdata": [
            [
             48.48,
             "2008-07-08T00:00:00"
            ],
            [
             46.04,
             "2008-07-08T00:00:00"
            ],
            [
             46.49,
             "2008-07-08T00:00:00"
            ]
           ],
           "hovertemplate": "<b>%{hovertext}</b><br><br>animation_frame=2008-07-08<br>Salinity %0=%{marker.color}<br>Latitude_dd=%{lat}<br>Longitude_dd=%{lon}<br>Date=%{customdata[1]}<extra></extra>",
           "hovertext": [
            "bartafi",
            "marina club",
            "marwada"
           ],
           "lat": [
            26.26796944,
            26.23741389,
            26.31694722
           ],
           "legendgroup": "",
           "lon": [
            50.44042778,
            50.60260278,
            50.45246667
           ],
           "marker": {
            "color": [
             48.48,
             46.04,
             46.49
            ],
            "coloraxis": "coloraxis",
            "size": [
             48.48,
             46.04,
             46.49
            ],
            "sizemode": "area",
            "sizeref": 0.2528888888888889
           },
           "mode": "markers",
           "name": "",
           "showlegend": false,
           "subplot": "mapbox",
           "type": "scattermapbox"
          }
         ],
         "name": "2008-07-08"
        },
        {
         "data": [
          {
           "customdata": [
            [
             43.3,
             "2008-10-28T00:00:00"
            ],
            [
             46,
             "2008-10-28T00:00:00"
            ]
           ],
           "hovertemplate": "<b>%{hovertext}</b><br><br>animation_frame=2008-10-28<br>Salinity %0=%{marker.color}<br>Latitude_dd=%{lat}<br>Longitude_dd=%{lon}<br>Date=%{customdata[1]}<extra></extra>",
           "hovertext": [
            "bartafi",
            "marwada"
           ],
           "lat": [
            26.26796944,
            26.31694722
           ],
           "legendgroup": "",
           "lon": [
            50.44042778,
            50.45246667
           ],
           "marker": {
            "color": [
             43.3,
             46
            ],
            "coloraxis": "coloraxis",
            "size": [
             43.3,
             46
            ],
            "sizemode": "area",
            "sizeref": 0.2528888888888889
           },
           "mode": "markers",
           "name": "",
           "showlegend": false,
           "subplot": "mapbox",
           "type": "scattermapbox"
          }
         ],
         "name": "2008-10-28"
        },
        {
         "data": [
          {
           "customdata": [
            [
             49.7,
             "2009-01-20T00:00:00"
            ],
            [
             47.2,
             "2009-01-20T00:00:00"
            ]
           ],
           "hovertemplate": "<b>%{hovertext}</b><br><br>animation_frame=2009-01-20<br>Salinity %0=%{marker.color}<br>Latitude_dd=%{lat}<br>Longitude_dd=%{lon}<br>Date=%{customdata[1]}<extra></extra>",
           "hovertext": [
            "bartafi",
            "marwada"
           ],
           "lat": [
            26.26796944,
            26.31694722
           ],
           "legendgroup": "",
           "lon": [
            50.44042778,
            50.45246667
           ],
           "marker": {
            "color": [
             49.7,
             47.2
            ],
            "coloraxis": "coloraxis",
            "size": [
             49.7,
             47.2
            ],
            "sizemode": "area",
            "sizeref": 0.2528888888888889
           },
           "mode": "markers",
           "name": "",
           "showlegend": false,
           "subplot": "mapbox",
           "type": "scattermapbox"
          }
         ],
         "name": "2009-01-20"
        },
        {
         "data": [
          {
           "customdata": [
            [
             49.2,
             "2009-04-19T00:00:00"
            ],
            [
             43.6,
             "2009-04-19T00:00:00"
            ],
            [
             49.2,
             "2009-04-19T00:00:00"
            ]
           ],
           "hovertemplate": "<b>%{hovertext}</b><br><br>animation_frame=2009-04-19<br>Salinity %0=%{marker.color}<br>Latitude_dd=%{lat}<br>Longitude_dd=%{lon}<br>Date=%{customdata[1]}<extra></extra>",
           "hovertext": [
            "bartafi",
            "marina club",
            "marwada"
           ],
           "lat": [
            26.26796944,
            26.23741389,
            26.31694722
           ],
           "legendgroup": "",
           "lon": [
            50.44042778,
            50.60260278,
            50.45246667
           ],
           "marker": {
            "color": [
             49.2,
             43.6,
             49.2
            ],
            "coloraxis": "coloraxis",
            "size": [
             49.2,
             43.6,
             49.2
            ],
            "sizemode": "area",
            "sizeref": 0.2528888888888889
           },
           "mode": "markers",
           "name": "",
           "showlegend": false,
           "subplot": "mapbox",
           "type": "scattermapbox"
          }
         ],
         "name": "2009-04-19"
        },
        {
         "data": [
          {
           "customdata": [
            [
             47.2,
             "2009-07-07T00:00:00"
            ],
            [
             45.38,
             "2009-07-07T00:00:00"
            ],
            [
             45.06,
             "2009-07-07T00:00:00"
            ]
           ],
           "hovertemplate": "<b>%{hovertext}</b><br><br>animation_frame=2009-07-07<br>Salinity %0=%{marker.color}<br>Latitude_dd=%{lat}<br>Longitude_dd=%{lon}<br>Date=%{customdata[1]}<extra></extra>",
           "hovertext": [
            "bartafi",
            "marina club",
            "marwada"
           ],
           "lat": [
            26.26796944,
            26.23741389,
            26.31694722
           ],
           "legendgroup": "",
           "lon": [
            50.44042778,
            50.60260278,
            50.45246667
           ],
           "marker": {
            "color": [
             47.2,
             45.38,
             45.06
            ],
            "coloraxis": "coloraxis",
            "size": [
             47.2,
             45.38,
             45.06
            ],
            "sizemode": "area",
            "sizeref": 0.2528888888888889
           },
           "mode": "markers",
           "name": "",
           "showlegend": false,
           "subplot": "mapbox",
           "type": "scattermapbox"
          }
         ],
         "name": "2009-07-07"
        },
        {
         "data": [
          {
           "customdata": [
            [
             51.15,
             "2009-10-12T00:00:00"
            ],
            [
             49.1,
             "2009-10-12T00:00:00"
            ]
           ],
           "hovertemplate": "<b>%{hovertext}</b><br><br>animation_frame=2009-10-12<br>Salinity %0=%{marker.color}<br>Latitude_dd=%{lat}<br>Longitude_dd=%{lon}<br>Date=%{customdata[1]}<extra></extra>",
           "hovertext": [
            "bartafi",
            "marwada"
           ],
           "lat": [
            26.26796944,
            26.31694722
           ],
           "legendgroup": "",
           "lon": [
            50.44042778,
            50.45246667
           ],
           "marker": {
            "color": [
             51.15,
             49.1
            ],
            "coloraxis": "coloraxis",
            "size": [
             51.15,
             49.1
            ],
            "sizemode": "area",
            "sizeref": 0.2528888888888889
           },
           "mode": "markers",
           "name": "",
           "showlegend": false,
           "subplot": "mapbox",
           "type": "scattermapbox"
          }
         ],
         "name": "2009-10-12"
        },
        {
         "data": [
          {
           "customdata": [
            [
             45.73,
             "2010-02-03T00:00:00"
            ],
            [
             43.08,
             "2010-02-03T00:00:00"
            ],
            [
             44.77,
             "2010-02-03T00:00:00"
            ]
           ],
           "hovertemplate": "<b>%{hovertext}</b><br><br>animation_frame=2010-02-03<br>Salinity %0=%{marker.color}<br>Latitude_dd=%{lat}<br>Longitude_dd=%{lon}<br>Date=%{customdata[1]}<extra></extra>",
           "hovertext": [
            "bartafi",
            "marina club",
            "marwada"
           ],
           "lat": [
            26.26796944,
            26.23741389,
            26.31694722
           ],
           "legendgroup": "",
           "lon": [
            50.44042778,
            50.60260278,
            50.45246667
           ],
           "marker": {
            "color": [
             45.73,
             43.08,
             44.77
            ],
            "coloraxis": "coloraxis",
            "size": [
             45.73,
             43.08,
             44.77
            ],
            "sizemode": "area",
            "sizeref": 0.2528888888888889
           },
           "mode": "markers",
           "name": "",
           "showlegend": false,
           "subplot": "mapbox",
           "type": "scattermapbox"
          }
         ],
         "name": "2010-02-03"
        },
        {
         "data": [
          {
           "customdata": [
            [
             51.57,
             "2010-04-21T00:00:00"
            ],
            [
             53.15,
             "2010-04-21T00:00:00"
            ]
           ],
           "hovertemplate": "<b>%{hovertext}</b><br><br>animation_frame=2010-04-21<br>Salinity %0=%{marker.color}<br>Latitude_dd=%{lat}<br>Longitude_dd=%{lon}<br>Date=%{customdata[1]}<extra></extra>",
           "hovertext": [
            "bartafi",
            "qassar"
           ],
           "lat": [
            26.26796944,
            26.02503611
           ],
           "legendgroup": "",
           "lon": [
            50.44042778,
            50.43051667
           ],
           "marker": {
            "color": [
             51.57,
             53.15
            ],
            "coloraxis": "coloraxis",
            "size": [
             51.57,
             53.15
            ],
            "sizemode": "area",
            "sizeref": 0.2528888888888889
           },
           "mode": "markers",
           "name": "",
           "showlegend": false,
           "subplot": "mapbox",
           "type": "scattermapbox"
          }
         ],
         "name": "2010-04-21"
        },
        {
         "data": [
          {
           "customdata": [
            [
             50.31,
             "2010-07-06T00:00:00"
            ],
            [
             45.36,
             "2010-07-06T00:00:00"
            ],
            [
             54.3,
             "2010-07-06T00:00:00"
            ]
           ],
           "hovertemplate": "<b>%{hovertext}</b><br><br>animation_frame=2010-07-06<br>Salinity %0=%{marker.color}<br>Latitude_dd=%{lat}<br>Longitude_dd=%{lon}<br>Date=%{customdata[1]}<extra></extra>",
           "hovertext": [
            "bartafi",
            "marina club",
            "qassar"
           ],
           "lat": [
            26.26796944,
            26.23741389,
            26.02503611
           ],
           "legendgroup": "",
           "lon": [
            50.44042778,
            50.60260278,
            50.43051667
           ],
           "marker": {
            "color": [
             50.31,
             45.36,
             54.3
            ],
            "coloraxis": "coloraxis",
            "size": [
             50.31,
             45.36,
             54.3
            ],
            "sizemode": "area",
            "sizeref": 0.2528888888888889
           },
           "mode": "markers",
           "name": "",
           "showlegend": false,
           "subplot": "mapbox",
           "type": "scattermapbox"
          }
         ],
         "name": "2010-07-06"
        },
        {
         "data": [
          {
           "customdata": [
            [
             48.54,
             "2010-10-17T00:00:00"
            ],
            [
             53.81,
             "2010-10-17T00:00:00"
            ]
           ],
           "hovertemplate": "<b>%{hovertext}</b><br><br>animation_frame=2010-10-17<br>Salinity %0=%{marker.color}<br>Latitude_dd=%{lat}<br>Longitude_dd=%{lon}<br>Date=%{customdata[1]}<extra></extra>",
           "hovertext": [
            "bartafi",
            "qassar"
           ],
           "lat": [
            26.26796944,
            26.02503611
           ],
           "legendgroup": "",
           "lon": [
            50.44042778,
            50.43051667
           ],
           "marker": {
            "color": [
             48.54,
             53.81
            ],
            "coloraxis": "coloraxis",
            "size": [
             48.54,
             53.81
            ],
            "sizemode": "area",
            "sizeref": 0.2528888888888889
           },
           "mode": "markers",
           "name": "",
           "showlegend": false,
           "subplot": "mapbox",
           "type": "scattermapbox"
          }
         ],
         "name": "2010-10-17"
        },
        {
         "data": [
          {
           "customdata": [
            [
             49.88,
             "2011-01-18T00:00:00"
            ],
            [
             45.17,
             "2011-01-18T00:00:00"
            ],
            [
             47.25,
             "2011-01-18T00:00:00"
            ]
           ],
           "hovertemplate": "<b>%{hovertext}</b><br><br>animation_frame=2011-01-18<br>Salinity %0=%{marker.color}<br>Latitude_dd=%{lat}<br>Longitude_dd=%{lon}<br>Date=%{customdata[1]}<extra></extra>",
           "hovertext": [
            "bartafi",
            "marina club",
            "marwada"
           ],
           "lat": [
            26.26796944,
            26.23741389,
            26.31694722
           ],
           "legendgroup": "",
           "lon": [
            50.44042778,
            50.60260278,
            50.45246667
           ],
           "marker": {
            "color": [
             49.88,
             45.17,
             47.25
            ],
            "coloraxis": "coloraxis",
            "size": [
             49.88,
             45.17,
             47.25
            ],
            "sizemode": "area",
            "sizeref": 0.2528888888888889
           },
           "mode": "markers",
           "name": "",
           "showlegend": false,
           "subplot": "mapbox",
           "type": "scattermapbox"
          }
         ],
         "name": "2011-01-18"
        },
        {
         "data": [
          {
           "customdata": [
            [
             49.18,
             "2011-04-26T00:00:00"
            ],
            [
             44.1,
             "2011-04-26T00:00:00"
            ],
            [
             47.66,
             "2011-04-26T00:00:00"
            ]
           ],
           "hovertemplate": "<b>%{hovertext}</b><br><br>animation_frame=2011-04-26<br>Salinity %0=%{marker.color}<br>Latitude_dd=%{lat}<br>Longitude_dd=%{lon}<br>Date=%{customdata[1]}<extra></extra>",
           "hovertext": [
            "bartafi",
            "marina club",
            "marwada"
           ],
           "lat": [
            26.26796944,
            26.23741389,
            26.31694722
           ],
           "legendgroup": "",
           "lon": [
            50.44042778,
            50.60260278,
            50.45246667
           ],
           "marker": {
            "color": [
             49.18,
             44.1,
             47.66
            ],
            "coloraxis": "coloraxis",
            "size": [
             49.18,
             44.1,
             47.66
            ],
            "sizemode": "area",
            "sizeref": 0.2528888888888889
           },
           "mode": "markers",
           "name": "",
           "showlegend": false,
           "subplot": "mapbox",
           "type": "scattermapbox"
          }
         ],
         "name": "2011-04-26"
        },
        {
         "data": [
          {
           "customdata": [
            [
             46.94,
             "2011-07-13T00:00:00"
            ],
            [
             52.65,
             "2011-07-13T00:00:00"
            ]
           ],
           "hovertemplate": "<b>%{hovertext}</b><br><br>animation_frame=2011-07-13<br>Salinity %0=%{marker.color}<br>Latitude_dd=%{lat}<br>Longitude_dd=%{lon}<br>Date=%{customdata[1]}<extra></extra>",
           "hovertext": [
            "bartafi",
            "qassar"
           ],
           "lat": [
            26.26796944,
            26.02503611
           ],
           "legendgroup": "",
           "lon": [
            50.44042778,
            50.43051667
           ],
           "marker": {
            "color": [
             46.94,
             52.65
            ],
            "coloraxis": "coloraxis",
            "size": [
             46.94,
             52.65
            ],
            "sizemode": "area",
            "sizeref": 0.2528888888888889
           },
           "mode": "markers",
           "name": "",
           "showlegend": false,
           "subplot": "mapbox",
           "type": "scattermapbox"
          }
         ],
         "name": "2011-07-13"
        },
        {
         "data": [
          {
           "customdata": [
            [
             49.41,
             "2011-10-11T00:00:00"
            ],
            [
             46.85,
             "2011-10-11T00:00:00"
            ]
           ],
           "hovertemplate": "<b>%{hovertext}</b><br><br>animation_frame=2011-10-11<br>Salinity %0=%{marker.color}<br>Latitude_dd=%{lat}<br>Longitude_dd=%{lon}<br>Date=%{customdata[1]}<extra></extra>",
           "hovertext": [
            "bartafi",
            "marwada"
           ],
           "lat": [
            26.26796944,
            26.31694722
           ],
           "legendgroup": "",
           "lon": [
            50.44042778,
            50.45246667
           ],
           "marker": {
            "color": [
             49.41,
             46.85
            ],
            "coloraxis": "coloraxis",
            "size": [
             49.41,
             46.85
            ],
            "sizemode": "area",
            "sizeref": 0.2528888888888889
           },
           "mode": "markers",
           "name": "",
           "showlegend": false,
           "subplot": "mapbox",
           "type": "scattermapbox"
          }
         ],
         "name": "2011-10-11"
        },
        {
         "data": [
          {
           "customdata": [
            [
             50.22,
             "2012-01-18T00:00:00"
            ],
            [
             55.15,
             "2012-01-18T00:00:00"
            ]
           ],
           "hovertemplate": "<b>%{hovertext}</b><br><br>animation_frame=2012-01-18<br>Salinity %0=%{marker.color}<br>Latitude_dd=%{lat}<br>Longitude_dd=%{lon}<br>Date=%{customdata[1]}<extra></extra>",
           "hovertext": [
            "bartafi",
            "qassar"
           ],
           "lat": [
            26.26796944,
            26.02503611
           ],
           "legendgroup": "",
           "lon": [
            50.44042778,
            50.43051667
           ],
           "marker": {
            "color": [
             50.22,
             55.15
            ],
            "coloraxis": "coloraxis",
            "size": [
             50.22,
             55.15
            ],
            "sizemode": "area",
            "sizeref": 0.2528888888888889
           },
           "mode": "markers",
           "name": "",
           "showlegend": false,
           "subplot": "mapbox",
           "type": "scattermapbox"
          }
         ],
         "name": "2012-01-18"
        },
        {
         "data": [
          {
           "customdata": [
            [
             51.23,
             "2012-04-17T00:00:00"
            ],
            [
             48.74,
             "2012-04-17T00:00:00"
            ]
           ],
           "hovertemplate": "<b>%{hovertext}</b><br><br>animation_frame=2012-04-17<br>Salinity %0=%{marker.color}<br>Latitude_dd=%{lat}<br>Longitude_dd=%{lon}<br>Date=%{customdata[1]}<extra></extra>",
           "hovertext": [
            "bartafi",
            "marwada"
           ],
           "lat": [
            26.26796944,
            26.31694722
           ],
           "legendgroup": "",
           "lon": [
            50.44042778,
            50.45246667
           ],
           "marker": {
            "color": [
             51.23,
             48.74
            ],
            "coloraxis": "coloraxis",
            "size": [
             51.23,
             48.74
            ],
            "sizemode": "area",
            "sizeref": 0.2528888888888889
           },
           "mode": "markers",
           "name": "",
           "showlegend": false,
           "subplot": "mapbox",
           "type": "scattermapbox"
          }
         ],
         "name": "2012-04-17"
        },
        {
         "data": [
          {
           "customdata": [
            [
             49.78,
             "2012-07-11T00:00:00"
            ],
            [
             52.84,
             "2012-07-11T00:00:00"
            ]
           ],
           "hovertemplate": "<b>%{hovertext}</b><br><br>animation_frame=2012-07-11<br>Salinity %0=%{marker.color}<br>Latitude_dd=%{lat}<br>Longitude_dd=%{lon}<br>Date=%{customdata[1]}<extra></extra>",
           "hovertext": [
            "bartafi",
            "qassar"
           ],
           "lat": [
            26.26796944,
            26.02503611
           ],
           "legendgroup": "",
           "lon": [
            50.44042778,
            50.43051667
           ],
           "marker": {
            "color": [
             49.78,
             52.84
            ],
            "coloraxis": "coloraxis",
            "size": [
             49.78,
             52.84
            ],
            "sizemode": "area",
            "sizeref": 0.2528888888888889
           },
           "mode": "markers",
           "name": "",
           "showlegend": false,
           "subplot": "mapbox",
           "type": "scattermapbox"
          }
         ],
         "name": "2012-07-11"
        },
        {
         "data": [
          {
           "customdata": [
            [
             50.47,
             "2012-10-10T00:00:00"
            ],
            [
             54.02,
             "2012-10-10T00:00:00"
            ]
           ],
           "hovertemplate": "<b>%{hovertext}</b><br><br>animation_frame=2012-10-10<br>Salinity %0=%{marker.color}<br>Latitude_dd=%{lat}<br>Longitude_dd=%{lon}<br>Date=%{customdata[1]}<extra></extra>",
           "hovertext": [
            "bartafi",
            "qassar"
           ],
           "lat": [
            26.26796944,
            26.02503611
           ],
           "legendgroup": "",
           "lon": [
            50.44042778,
            50.43051667
           ],
           "marker": {
            "color": [
             50.47,
             54.02
            ],
            "coloraxis": "coloraxis",
            "size": [
             50.47,
             54.02
            ],
            "sizemode": "area",
            "sizeref": 0.2528888888888889
           },
           "mode": "markers",
           "name": "",
           "showlegend": false,
           "subplot": "mapbox",
           "type": "scattermapbox"
          }
         ],
         "name": "2012-10-10"
        },
        {
         "data": [
          {
           "customdata": [
            [
             47.94,
             "2013-01-23T00:00:00"
            ],
            [
             53.44,
             "2013-01-23T00:00:00"
            ]
           ],
           "hovertemplate": "<b>%{hovertext}</b><br><br>animation_frame=2013-01-23<br>Salinity %0=%{marker.color}<br>Latitude_dd=%{lat}<br>Longitude_dd=%{lon}<br>Date=%{customdata[1]}<extra></extra>",
           "hovertext": [
            "bartafi",
            "qassar"
           ],
           "lat": [
            26.26796944,
            26.02503611
           ],
           "legendgroup": "",
           "lon": [
            50.44042778,
            50.43051667
           ],
           "marker": {
            "color": [
             47.94,
             53.44
            ],
            "coloraxis": "coloraxis",
            "size": [
             47.94,
             53.44
            ],
            "sizemode": "area",
            "sizeref": 0.2528888888888889
           },
           "mode": "markers",
           "name": "",
           "showlegend": false,
           "subplot": "mapbox",
           "type": "scattermapbox"
          }
         ],
         "name": "2013-01-23"
        },
        {
         "data": [
          {
           "customdata": [
            [
             50.83,
             "2013-04-17T00:00:00"
            ],
            [
             47.29,
             "2013-04-17T00:00:00"
            ],
            [
             53.79,
             "2013-04-17T00:00:00"
            ]
           ],
           "hovertemplate": "<b>%{hovertext}</b><br><br>animation_frame=2013-04-17<br>Salinity %0=%{marker.color}<br>Latitude_dd=%{lat}<br>Longitude_dd=%{lon}<br>Date=%{customdata[1]}<extra></extra>",
           "hovertext": [
            "bartafi",
            "marwada",
            "qassar"
           ],
           "lat": [
            26.26796944,
            26.31694722,
            26.02503611
           ],
           "legendgroup": "",
           "lon": [
            50.44042778,
            50.45246667,
            50.43051667
           ],
           "marker": {
            "color": [
             50.83,
             47.29,
             53.79
            ],
            "coloraxis": "coloraxis",
            "size": [
             50.83,
             47.29,
             53.79
            ],
            "sizemode": "area",
            "sizeref": 0.2528888888888889
           },
           "mode": "markers",
           "name": "",
           "showlegend": false,
           "subplot": "mapbox",
           "type": "scattermapbox"
          }
         ],
         "name": "2013-04-17"
        },
        {
         "data": [
          {
           "customdata": [
            [
             50.94,
             "2013-08-28T00:00:00"
            ],
            [
             54.53,
             "2013-08-28T00:00:00"
            ]
           ],
           "hovertemplate": "<b>%{hovertext}</b><br><br>animation_frame=2013-08-28<br>Salinity %0=%{marker.color}<br>Latitude_dd=%{lat}<br>Longitude_dd=%{lon}<br>Date=%{customdata[1]}<extra></extra>",
           "hovertext": [
            "bartafi",
            "qassar"
           ],
           "lat": [
            26.26796944,
            26.02503611
           ],
           "legendgroup": "",
           "lon": [
            50.44042778,
            50.43051667
           ],
           "marker": {
            "color": [
             50.94,
             54.53
            ],
            "coloraxis": "coloraxis",
            "size": [
             50.94,
             54.53
            ],
            "sizemode": "area",
            "sizeref": 0.2528888888888889
           },
           "mode": "markers",
           "name": "",
           "showlegend": false,
           "subplot": "mapbox",
           "type": "scattermapbox"
          }
         ],
         "name": "2013-08-28"
        },
        {
         "data": [
          {
           "customdata": [
            [
             47.54,
             "2013-11-07T00:00:00"
            ],
            [
             46.34,
             "2013-11-07T00:00:00"
            ]
           ],
           "hovertemplate": "<b>%{hovertext}</b><br><br>animation_frame=2013-11-07<br>Salinity %0=%{marker.color}<br>Latitude_dd=%{lat}<br>Longitude_dd=%{lon}<br>Date=%{customdata[1]}<extra></extra>",
           "hovertext": [
            "bartafi",
            "marwada"
           ],
           "lat": [
            26.26796944,
            26.31694722
           ],
           "legendgroup": "",
           "lon": [
            50.44042778,
            50.45246667
           ],
           "marker": {
            "color": [
             47.54,
             46.34
            ],
            "coloraxis": "coloraxis",
            "size": [
             47.54,
             46.34
            ],
            "sizemode": "area",
            "sizeref": 0.2528888888888889
           },
           "mode": "markers",
           "name": "",
           "showlegend": false,
           "subplot": "mapbox",
           "type": "scattermapbox"
          }
         ],
         "name": "2013-11-07"
        },
        {
         "data": [
          {
           "customdata": [
            [
             47.96,
             "2014-01-21T00:00:00"
            ]
           ],
           "hovertemplate": "<b>%{hovertext}</b><br><br>animation_frame=2014-01-21<br>Salinity %0=%{marker.color}<br>Latitude_dd=%{lat}<br>Longitude_dd=%{lon}<br>Date=%{customdata[1]}<extra></extra>",
           "hovertext": [
            "bartafi"
           ],
           "lat": [
            26.26796944
           ],
           "legendgroup": "",
           "lon": [
            50.44042778
           ],
           "marker": {
            "color": [
             47.96
            ],
            "coloraxis": "coloraxis",
            "size": [
             47.96
            ],
            "sizemode": "area",
            "sizeref": 0.2528888888888889
           },
           "mode": "markers",
           "name": "",
           "showlegend": false,
           "subplot": "mapbox",
           "type": "scattermapbox"
          }
         ],
         "name": "2014-01-21"
        },
        {
         "data": [
          {
           "customdata": [
            [
             50.29,
             "2014-05-07T00:00:00"
            ],
            [
             49.17,
             "2014-05-07T00:00:00"
            ]
           ],
           "hovertemplate": "<b>%{hovertext}</b><br><br>animation_frame=2014-05-07<br>Salinity %0=%{marker.color}<br>Latitude_dd=%{lat}<br>Longitude_dd=%{lon}<br>Date=%{customdata[1]}<extra></extra>",
           "hovertext": [
            "bartafi",
            "marwada"
           ],
           "lat": [
            26.26796944,
            26.31694722
           ],
           "legendgroup": "",
           "lon": [
            50.44042778,
            50.45246667
           ],
           "marker": {
            "color": [
             50.29,
             49.17
            ],
            "coloraxis": "coloraxis",
            "size": [
             50.29,
             49.17
            ],
            "sizemode": "area",
            "sizeref": 0.2528888888888889
           },
           "mode": "markers",
           "name": "",
           "showlegend": false,
           "subplot": "mapbox",
           "type": "scattermapbox"
          }
         ],
         "name": "2014-05-07"
        },
        {
         "data": [
          {
           "customdata": [
            [
             51.19,
             "2014-08-27T00:00:00"
            ],
            [
             44.84,
             "2014-08-27T00:00:00"
            ]
           ],
           "hovertemplate": "<b>%{hovertext}</b><br><br>animation_frame=2014-08-27<br>Salinity %0=%{marker.color}<br>Latitude_dd=%{lat}<br>Longitude_dd=%{lon}<br>Date=%{customdata[1]}<extra></extra>",
           "hovertext": [
            "bartafi",
            "marina club"
           ],
           "lat": [
            26.26796944,
            26.23741389
           ],
           "legendgroup": "",
           "lon": [
            50.44042778,
            50.60260278
           ],
           "marker": {
            "color": [
             51.19,
             44.84
            ],
            "coloraxis": "coloraxis",
            "size": [
             51.19,
             44.84
            ],
            "sizemode": "area",
            "sizeref": 0.2528888888888889
           },
           "mode": "markers",
           "name": "",
           "showlegend": false,
           "subplot": "mapbox",
           "type": "scattermapbox"
          }
         ],
         "name": "2014-08-27"
        },
        {
         "data": [
          {
           "customdata": [
            [
             49.02,
             "2014-10-21T00:00:00"
            ],
            [
             46.07,
             "2014-10-21T00:00:00"
            ]
           ],
           "hovertemplate": "<b>%{hovertext}</b><br><br>animation_frame=2014-10-21<br>Salinity %0=%{marker.color}<br>Latitude_dd=%{lat}<br>Longitude_dd=%{lon}<br>Date=%{customdata[1]}<extra></extra>",
           "hovertext": [
            "bartafi",
            "marwada"
           ],
           "lat": [
            26.26796944,
            26.31694722
           ],
           "legendgroup": "",
           "lon": [
            50.44042778,
            50.45246667
           ],
           "marker": {
            "color": [
             49.02,
             46.07
            ],
            "coloraxis": "coloraxis",
            "size": [
             49.02,
             46.07
            ],
            "sizemode": "area",
            "sizeref": 0.2528888888888889
           },
           "mode": "markers",
           "name": "",
           "showlegend": false,
           "subplot": "mapbox",
           "type": "scattermapbox"
          }
         ],
         "name": "2014-10-21"
        },
        {
         "data": [
          {
           "customdata": [
            [
             50.82,
             "2015-01-28T00:00:00"
            ],
            [
             47.56,
             "2015-01-28T00:00:00"
            ]
           ],
           "hovertemplate": "<b>%{hovertext}</b><br><br>animation_frame=2015-01-28<br>Salinity %0=%{marker.color}<br>Latitude_dd=%{lat}<br>Longitude_dd=%{lon}<br>Date=%{customdata[1]}<extra></extra>",
           "hovertext": [
            "bartafi",
            "marwada"
           ],
           "lat": [
            26.26796944,
            26.31694722
           ],
           "legendgroup": "",
           "lon": [
            50.44042778,
            50.45246667
           ],
           "marker": {
            "color": [
             50.82,
             47.56
            ],
            "coloraxis": "coloraxis",
            "size": [
             50.82,
             47.56
            ],
            "sizemode": "area",
            "sizeref": 0.2528888888888889
           },
           "mode": "markers",
           "name": "",
           "showlegend": false,
           "subplot": "mapbox",
           "type": "scattermapbox"
          }
         ],
         "name": "2015-01-28"
        },
        {
         "data": [
          {
           "customdata": [
            [
             48.15,
             "2015-04-19T00:00:00"
            ],
            [
             46.8,
             "2015-04-19T00:00:00"
            ]
           ],
           "hovertemplate": "<b>%{hovertext}</b><br><br>animation_frame=2015-04-19<br>Salinity %0=%{marker.color}<br>Latitude_dd=%{lat}<br>Longitude_dd=%{lon}<br>Date=%{customdata[1]}<extra></extra>",
           "hovertext": [
            "bartafi",
            "marwada"
           ],
           "lat": [
            26.26796944,
            26.31694722
           ],
           "legendgroup": "",
           "lon": [
            50.44042778,
            50.45246667
           ],
           "marker": {
            "color": [
             48.15,
             46.8
            ],
            "coloraxis": "coloraxis",
            "size": [
             48.15,
             46.8
            ],
            "sizemode": "area",
            "sizeref": 0.2528888888888889
           },
           "mode": "markers",
           "name": "",
           "showlegend": false,
           "subplot": "mapbox",
           "type": "scattermapbox"
          }
         ],
         "name": "2015-04-19"
        },
        {
         "data": [
          {
           "customdata": [
            [
             48.24,
             "2015-08-30T00:00:00"
            ]
           ],
           "hovertemplate": "<b>%{hovertext}</b><br><br>animation_frame=2015-08-30<br>Salinity %0=%{marker.color}<br>Latitude_dd=%{lat}<br>Longitude_dd=%{lon}<br>Date=%{customdata[1]}<extra></extra>",
           "hovertext": [
            "bartafi"
           ],
           "lat": [
            26.26796944
           ],
           "legendgroup": "",
           "lon": [
            50.44042778
           ],
           "marker": {
            "color": [
             48.24
            ],
            "coloraxis": "coloraxis",
            "size": [
             48.24
            ],
            "sizemode": "area",
            "sizeref": 0.2528888888888889
           },
           "mode": "markers",
           "name": "",
           "showlegend": false,
           "subplot": "mapbox",
           "type": "scattermapbox"
          }
         ],
         "name": "2015-08-30"
        },
        {
         "data": [
          {
           "customdata": [
            [
             48.94,
             "2015-11-30T00:00:00"
            ],
            [
             46.09,
             "2015-11-30T00:00:00"
            ]
           ],
           "hovertemplate": "<b>%{hovertext}</b><br><br>animation_frame=2015-11-30<br>Salinity %0=%{marker.color}<br>Latitude_dd=%{lat}<br>Longitude_dd=%{lon}<br>Date=%{customdata[1]}<extra></extra>",
           "hovertext": [
            "bartafi",
            "marwada"
           ],
           "lat": [
            26.26796944,
            26.31694722
           ],
           "legendgroup": "",
           "lon": [
            50.44042778,
            50.45246667
           ],
           "marker": {
            "color": [
             48.94,
             46.09
            ],
            "coloraxis": "coloraxis",
            "size": [
             48.94,
             46.09
            ],
            "sizemode": "area",
            "sizeref": 0.2528888888888889
           },
           "mode": "markers",
           "name": "",
           "showlegend": false,
           "subplot": "mapbox",
           "type": "scattermapbox"
          }
         ],
         "name": "2015-11-30"
        },
        {
         "data": [
          {
           "customdata": [
            [
             46.86,
             "2016-11-14T00:00:00"
            ],
            [
             53.53,
             "2016-11-14T00:00:00"
            ]
           ],
           "hovertemplate": "<b>%{hovertext}</b><br><br>animation_frame=2016-11-14<br>Salinity %0=%{marker.color}<br>Latitude_dd=%{lat}<br>Longitude_dd=%{lon}<br>Date=%{customdata[1]}<extra></extra>",
           "hovertext": [
            "bartafi",
            "qassar"
           ],
           "lat": [
            26.26796944,
            26.02503611
           ],
           "legendgroup": "",
           "lon": [
            50.44042778,
            50.43051667
           ],
           "marker": {
            "color": [
             46.86,
             53.53
            ],
            "coloraxis": "coloraxis",
            "size": [
             46.86,
             53.53
            ],
            "sizemode": "area",
            "sizeref": 0.2528888888888889
           },
           "mode": "markers",
           "name": "",
           "showlegend": false,
           "subplot": "mapbox",
           "type": "scattermapbox"
          }
         ],
         "name": "2016-11-14"
        },
        {
         "data": [
          {
           "customdata": [
            [
             43.94,
             "2010-04-20T00:00:00"
            ],
            [
             46.03,
             "2010-04-20T00:00:00"
            ]
           ],
           "hovertemplate": "<b>%{hovertext}</b><br><br>animation_frame=2010-04-20<br>Salinity %0=%{marker.color}<br>Latitude_dd=%{lat}<br>Longitude_dd=%{lon}<br>Date=%{customdata[1]}<extra></extra>",
           "hovertext": [
            "marina club",
            "marwada"
           ],
           "lat": [
            26.23741389,
            26.31694722
           ],
           "legendgroup": "",
           "lon": [
            50.60260278,
            50.45246667
           ],
           "marker": {
            "color": [
             43.94,
             46.03
            ],
            "coloraxis": "coloraxis",
            "size": [
             43.94,
             46.03
            ],
            "sizemode": "area",
            "sizeref": 0.2528888888888889
           },
           "mode": "markers",
           "name": "",
           "showlegend": false,
           "subplot": "mapbox",
           "type": "scattermapbox"
          }
         ],
         "name": "2010-04-20"
        },
        {
         "data": [
          {
           "customdata": [
            [
             44.3,
             "2010-10-12T00:00:00"
            ],
            [
             45.14,
             "2010-10-12T00:00:00"
            ]
           ],
           "hovertemplate": "<b>%{hovertext}</b><br><br>animation_frame=2010-10-12<br>Salinity %0=%{marker.color}<br>Latitude_dd=%{lat}<br>Longitude_dd=%{lon}<br>Date=%{customdata[1]}<extra></extra>",
           "hovertext": [
            "marina club",
            "marwada"
           ],
           "lat": [
            26.23741389,
            26.31694722
           ],
           "legendgroup": "",
           "lon": [
            50.60260278,
            50.45246667
           ],
           "marker": {
            "color": [
             44.3,
             45.14
            ],
            "coloraxis": "coloraxis",
            "size": [
             44.3,
             45.14
            ],
            "sizemode": "area",
            "sizeref": 0.2528888888888889
           },
           "mode": "markers",
           "name": "",
           "showlegend": false,
           "subplot": "mapbox",
           "type": "scattermapbox"
          }
         ],
         "name": "2010-10-12"
        },
        {
         "data": [
          {
           "customdata": [
            [
             44.53,
             "2012-10-09T00:00:00"
            ],
            [
             47.14,
             "2012-10-09T00:00:00"
            ]
           ],
           "hovertemplate": "<b>%{hovertext}</b><br><br>animation_frame=2012-10-09<br>Salinity %0=%{marker.color}<br>Latitude_dd=%{lat}<br>Longitude_dd=%{lon}<br>Date=%{customdata[1]}<extra></extra>",
           "hovertext": [
            "marina club",
            "marwada"
           ],
           "lat": [
            26.23741389,
            26.31694722
           ],
           "legendgroup": "",
           "lon": [
            50.60260278,
            50.45246667
           ],
           "marker": {
            "color": [
             44.53,
             47.14
            ],
            "coloraxis": "coloraxis",
            "size": [
             44.53,
             47.14
            ],
            "sizemode": "area",
            "sizeref": 0.2528888888888889
           },
           "mode": "markers",
           "name": "",
           "showlegend": false,
           "subplot": "mapbox",
           "type": "scattermapbox"
          }
         ],
         "name": "2012-10-09"
        },
        {
         "data": [
          {
           "customdata": [
            [
             43.3,
             "2013-01-22T00:00:00"
            ],
            [
             46.88,
             "2013-01-22T00:00:00"
            ]
           ],
           "hovertemplate": "<b>%{hovertext}</b><br><br>animation_frame=2013-01-22<br>Salinity %0=%{marker.color}<br>Latitude_dd=%{lat}<br>Longitude_dd=%{lon}<br>Date=%{customdata[1]}<extra></extra>",
           "hovertext": [
            "marina club",
            "marwada"
           ],
           "lat": [
            26.23741389,
            26.31694722
           ],
           "legendgroup": "",
           "lon": [
            50.60260278,
            50.45246667
           ],
           "marker": {
            "color": [
             43.3,
             46.88
            ],
            "coloraxis": "coloraxis",
            "size": [
             43.3,
             46.88
            ],
            "sizemode": "area",
            "sizeref": 0.2528888888888889
           },
           "mode": "markers",
           "name": "",
           "showlegend": false,
           "subplot": "mapbox",
           "type": "scattermapbox"
          }
         ],
         "name": "2013-01-22"
        },
        {
         "data": [
          {
           "customdata": [
            [
             43.92,
             "2013-04-16T00:00:00"
            ]
           ],
           "hovertemplate": "<b>%{hovertext}</b><br><br>animation_frame=2013-04-16<br>Salinity %0=%{marker.color}<br>Latitude_dd=%{lat}<br>Longitude_dd=%{lon}<br>Date=%{customdata[1]}<extra></extra>",
           "hovertext": [
            "marina club"
           ],
           "lat": [
            26.23741389
           ],
           "legendgroup": "",
           "lon": [
            50.60260278
           ],
           "marker": {
            "color": [
             43.92
            ],
            "coloraxis": "coloraxis",
            "size": [
             43.92
            ],
            "sizemode": "area",
            "sizeref": 0.2528888888888889
           },
           "mode": "markers",
           "name": "",
           "showlegend": false,
           "subplot": "mapbox",
           "type": "scattermapbox"
          }
         ],
         "name": "2013-04-16"
        },
        {
         "data": [
          {
           "customdata": [
            [
             46.77,
             "2010-07-05T00:00:00"
            ]
           ],
           "hovertemplate": "<b>%{hovertext}</b><br><br>animation_frame=2010-07-05<br>Salinity %0=%{marker.color}<br>Latitude_dd=%{lat}<br>Longitude_dd=%{lon}<br>Date=%{customdata[1]}<extra></extra>",
           "hovertext": [
            "marwada"
           ],
           "lat": [
            26.31694722
           ],
           "legendgroup": "",
           "lon": [
            50.45246667
           ],
           "marker": {
            "color": [
             46.77
            ],
            "coloraxis": "coloraxis",
            "size": [
             46.77
            ],
            "sizemode": "area",
            "sizeref": 0.2528888888888889
           },
           "mode": "markers",
           "name": "",
           "showlegend": false,
           "subplot": "mapbox",
           "type": "scattermapbox"
          }
         ],
         "name": "2010-07-05"
        },
        {
         "data": [
          {
           "customdata": [
            [
             44.98,
             "2011-07-12T00:00:00"
            ]
           ],
           "hovertemplate": "<b>%{hovertext}</b><br><br>animation_frame=2011-07-12<br>Salinity %0=%{marker.color}<br>Latitude_dd=%{lat}<br>Longitude_dd=%{lon}<br>Date=%{customdata[1]}<extra></extra>",
           "hovertext": [
            "marwada"
           ],
           "lat": [
            26.31694722
           ],
           "legendgroup": "",
           "lon": [
            50.45246667
           ],
           "marker": {
            "color": [
             44.98
            ],
            "coloraxis": "coloraxis",
            "size": [
             44.98
            ],
            "sizemode": "area",
            "sizeref": 0.2528888888888889
           },
           "mode": "markers",
           "name": "",
           "showlegend": false,
           "subplot": "mapbox",
           "type": "scattermapbox"
          }
         ],
         "name": "2011-07-12"
        },
        {
         "data": [
          {
           "customdata": [
            [
             49.31,
             "2012-01-19T00:00:00"
            ]
           ],
           "hovertemplate": "<b>%{hovertext}</b><br><br>animation_frame=2012-01-19<br>Salinity %0=%{marker.color}<br>Latitude_dd=%{lat}<br>Longitude_dd=%{lon}<br>Date=%{customdata[1]}<extra></extra>",
           "hovertext": [
            "marwada"
           ],
           "lat": [
            26.31694722
           ],
           "legendgroup": "",
           "lon": [
            50.45246667
           ],
           "marker": {
            "color": [
             49.31
            ],
            "coloraxis": "coloraxis",
            "size": [
             49.31
            ],
            "sizemode": "area",
            "sizeref": 0.2528888888888889
           },
           "mode": "markers",
           "name": "",
           "showlegend": false,
           "subplot": "mapbox",
           "type": "scattermapbox"
          }
         ],
         "name": "2012-01-19"
        },
        {
         "data": [
          {
           "customdata": [
            [
             46.06,
             "2012-07-10T00:00:00"
            ]
           ],
           "hovertemplate": "<b>%{hovertext}</b><br><br>animation_frame=2012-07-10<br>Salinity %0=%{marker.color}<br>Latitude_dd=%{lat}<br>Longitude_dd=%{lon}<br>Date=%{customdata[1]}<extra></extra>",
           "hovertext": [
            "marwada"
           ],
           "lat": [
            26.31694722
           ],
           "legendgroup": "",
           "lon": [
            50.45246667
           ],
           "marker": {
            "color": [
             46.06
            ],
            "coloraxis": "coloraxis",
            "size": [
             46.06
            ],
            "sizemode": "area",
            "sizeref": 0.2528888888888889
           },
           "mode": "markers",
           "name": "",
           "showlegend": false,
           "subplot": "mapbox",
           "type": "scattermapbox"
          }
         ],
         "name": "2012-07-10"
        },
        {
         "data": [
          {
           "customdata": [
            [
             47.6,
             "2013-08-27T00:00:00"
            ]
           ],
           "hovertemplate": "<b>%{hovertext}</b><br><br>animation_frame=2013-08-27<br>Salinity %0=%{marker.color}<br>Latitude_dd=%{lat}<br>Longitude_dd=%{lon}<br>Date=%{customdata[1]}<extra></extra>",
           "hovertext": [
            "marwada"
           ],
           "lat": [
            26.31694722
           ],
           "legendgroup": "",
           "lon": [
            50.45246667
           ],
           "marker": {
            "color": [
             47.6
            ],
            "coloraxis": "coloraxis",
            "size": [
             47.6
            ],
            "sizemode": "area",
            "sizeref": 0.2528888888888889
           },
           "mode": "markers",
           "name": "",
           "showlegend": false,
           "subplot": "mapbox",
           "type": "scattermapbox"
          }
         ],
         "name": "2013-08-27"
        },
        {
         "data": [
          {
           "customdata": [
            [
             46.42,
             "2014-01-22T00:00:00"
            ]
           ],
           "hovertemplate": "<b>%{hovertext}</b><br><br>animation_frame=2014-01-22<br>Salinity %0=%{marker.color}<br>Latitude_dd=%{lat}<br>Longitude_dd=%{lon}<br>Date=%{customdata[1]}<extra></extra>",
           "hovertext": [
            "marwada"
           ],
           "lat": [
            26.31694722
           ],
           "legendgroup": "",
           "lon": [
            50.45246667
           ],
           "marker": {
            "color": [
             46.42
            ],
            "coloraxis": "coloraxis",
            "size": [
             46.42
            ],
            "sizemode": "area",
            "sizeref": 0.2528888888888889
           },
           "mode": "markers",
           "name": "",
           "showlegend": false,
           "subplot": "mapbox",
           "type": "scattermapbox"
          }
         ],
         "name": "2014-01-22"
        },
        {
         "data": [
          {
           "customdata": [
            [
             48.98,
             "2014-08-31T00:00:00"
            ],
            [
             45.08,
             "2014-08-31T00:00:00"
            ]
           ],
           "hovertemplate": "<b>%{hovertext}</b><br><br>animation_frame=2014-08-31<br>Salinity %0=%{marker.color}<br>Latitude_dd=%{lat}<br>Longitude_dd=%{lon}<br>Date=%{customdata[1]}<extra></extra>",
           "hovertext": [
            "marwada",
            "sura"
           ],
           "lat": [
            26.31694722,
            26.48800278
           ],
           "legendgroup": "",
           "lon": [
            50.45246667,
            50.42891944
           ],
           "marker": {
            "color": [
             48.98,
             45.08
            ],
            "coloraxis": "coloraxis",
            "size": [
             48.98,
             45.08
            ],
            "sizemode": "area",
            "sizeref": 0.2528888888888889
           },
           "mode": "markers",
           "name": "",
           "showlegend": false,
           "subplot": "mapbox",
           "type": "scattermapbox"
          }
         ],
         "name": "2014-08-31"
        },
        {
         "data": [
          {
           "customdata": [
            [
             47.16,
             "2015-08-26T00:00:00"
            ],
            [
             45.55,
             "2015-08-26T00:00:00"
            ]
           ],
           "hovertemplate": "<b>%{hovertext}</b><br><br>animation_frame=2015-08-26<br>Salinity %0=%{marker.color}<br>Latitude_dd=%{lat}<br>Longitude_dd=%{lon}<br>Date=%{customdata[1]}<extra></extra>",
           "hovertext": [
            "marwada",
            "sura"
           ],
           "lat": [
            26.31694722,
            26.48800278
           ],
           "legendgroup": "",
           "lon": [
            50.45246667,
            50.42891944
           ],
           "marker": {
            "color": [
             47.16,
             45.55
            ],
            "coloraxis": "coloraxis",
            "size": [
             47.16,
             45.55
            ],
            "sizemode": "area",
            "sizeref": 0.2528888888888889
           },
           "mode": "markers",
           "name": "",
           "showlegend": false,
           "subplot": "mapbox",
           "type": "scattermapbox"
          }
         ],
         "name": "2015-08-26"
        },
        {
         "data": [
          {
           "customdata": [
            [
             46.67,
             "2016-02-01T00:00:00"
            ]
           ],
           "hovertemplate": "<b>%{hovertext}</b><br><br>animation_frame=2016-02-01<br>Salinity %0=%{marker.color}<br>Latitude_dd=%{lat}<br>Longitude_dd=%{lon}<br>Date=%{customdata[1]}<extra></extra>",
           "hovertext": [
            "marwada"
           ],
           "lat": [
            26.31694722
           ],
           "legendgroup": "",
           "lon": [
            50.45246667
           ],
           "marker": {
            "color": [
             46.67
            ],
            "coloraxis": "coloraxis",
            "size": [
             46.67
            ],
            "sizemode": "area",
            "sizeref": 0.2528888888888889
           },
           "mode": "markers",
           "name": "",
           "showlegend": false,
           "subplot": "mapbox",
           "type": "scattermapbox"
          }
         ],
         "name": "2016-02-01"
        },
        {
         "data": [
          {
           "customdata": [
            [
             43.95,
             "2016-04-19T00:00:00"
            ]
           ],
           "hovertemplate": "<b>%{hovertext}</b><br><br>animation_frame=2016-04-19<br>Salinity %0=%{marker.color}<br>Latitude_dd=%{lat}<br>Longitude_dd=%{lon}<br>Date=%{customdata[1]}<extra></extra>",
           "hovertext": [
            "marwada"
           ],
           "lat": [
            26.31694722
           ],
           "legendgroup": "",
           "lon": [
            50.45246667
           ],
           "marker": {
            "color": [
             43.95
            ],
            "coloraxis": "coloraxis",
            "size": [
             43.95
            ],
            "sizemode": "area",
            "sizeref": 0.2528888888888889
           },
           "mode": "markers",
           "name": "",
           "showlegend": false,
           "subplot": "mapbox",
           "type": "scattermapbox"
          }
         ],
         "name": "2016-04-19"
        },
        {
         "data": [
          {
           "customdata": [
            [
             46.48,
             "2016-10-26T00:00:00"
            ]
           ],
           "hovertemplate": "<b>%{hovertext}</b><br><br>animation_frame=2016-10-26<br>Salinity %0=%{marker.color}<br>Latitude_dd=%{lat}<br>Longitude_dd=%{lon}<br>Date=%{customdata[1]}<extra></extra>",
           "hovertext": [
            "marwada"
           ],
           "lat": [
            26.31694722
           ],
           "legendgroup": "",
           "lon": [
            50.45246667
           ],
           "marker": {
            "color": [
             46.48
            ],
            "coloraxis": "coloraxis",
            "size": [
             46.48
            ],
            "sizemode": "area",
            "sizeref": 0.2528888888888889
           },
           "mode": "markers",
           "name": "",
           "showlegend": false,
           "subplot": "mapbox",
           "type": "scattermapbox"
          }
         ],
         "name": "2016-10-26"
        },
        {
         "data": [
          {
           "customdata": [
            [
             55.45,
             "2007-04-26T00:00:00"
            ]
           ],
           "hovertemplate": "<b>%{hovertext}</b><br><br>animation_frame=2007-04-26<br>Salinity %0=%{marker.color}<br>Latitude_dd=%{lat}<br>Longitude_dd=%{lon}<br>Date=%{customdata[1]}<extra></extra>",
           "hovertext": [
            "qassar"
           ],
           "lat": [
            26.02503611
           ],
           "legendgroup": "",
           "lon": [
            50.43051667
           ],
           "marker": {
            "color": [
             55.45
            ],
            "coloraxis": "coloraxis",
            "size": [
             55.45
            ],
            "sizemode": "area",
            "sizeref": 0.2528888888888889
           },
           "mode": "markers",
           "name": "",
           "showlegend": false,
           "subplot": "mapbox",
           "type": "scattermapbox"
          }
         ],
         "name": "2007-04-26"
        },
        {
         "data": [
          {
           "customdata": [
            [
             55.35,
             "2007-07-11T00:00:00"
            ]
           ],
           "hovertemplate": "<b>%{hovertext}</b><br><br>animation_frame=2007-07-11<br>Salinity %0=%{marker.color}<br>Latitude_dd=%{lat}<br>Longitude_dd=%{lon}<br>Date=%{customdata[1]}<extra></extra>",
           "hovertext": [
            "qassar"
           ],
           "lat": [
            26.02503611
           ],
           "legendgroup": "",
           "lon": [
            50.43051667
           ],
           "marker": {
            "color": [
             55.35
            ],
            "coloraxis": "coloraxis",
            "size": [
             55.35
            ],
            "sizemode": "area",
            "sizeref": 0.2528888888888889
           },
           "mode": "markers",
           "name": "",
           "showlegend": false,
           "subplot": "mapbox",
           "type": "scattermapbox"
          }
         ],
         "name": "2007-07-11"
        },
        {
         "data": [
          {
           "customdata": [
            [
             55.99,
             "2007-11-01T00:00:00"
            ]
           ],
           "hovertemplate": "<b>%{hovertext}</b><br><br>animation_frame=2007-11-01<br>Salinity %0=%{marker.color}<br>Latitude_dd=%{lat}<br>Longitude_dd=%{lon}<br>Date=%{customdata[1]}<extra></extra>",
           "hovertext": [
            "qassar"
           ],
           "lat": [
            26.02503611
           ],
           "legendgroup": "",
           "lon": [
            50.43051667
           ],
           "marker": {
            "color": [
             55.99
            ],
            "coloraxis": "coloraxis",
            "size": [
             55.99
            ],
            "sizemode": "area",
            "sizeref": 0.2528888888888889
           },
           "mode": "markers",
           "name": "",
           "showlegend": false,
           "subplot": "mapbox",
           "type": "scattermapbox"
          }
         ],
         "name": "2007-11-01"
        },
        {
         "data": [
          {
           "customdata": [
            [
             55.64,
             "2008-04-23T00:00:00"
            ]
           ],
           "hovertemplate": "<b>%{hovertext}</b><br><br>animation_frame=2008-04-23<br>Salinity %0=%{marker.color}<br>Latitude_dd=%{lat}<br>Longitude_dd=%{lon}<br>Date=%{customdata[1]}<extra></extra>",
           "hovertext": [
            "qassar"
           ],
           "lat": [
            26.02503611
           ],
           "legendgroup": "",
           "lon": [
            50.43051667
           ],
           "marker": {
            "color": [
             55.64
            ],
            "coloraxis": "coloraxis",
            "size": [
             55.64
            ],
            "sizemode": "area",
            "sizeref": 0.2528888888888889
           },
           "mode": "markers",
           "name": "",
           "showlegend": false,
           "subplot": "mapbox",
           "type": "scattermapbox"
          }
         ],
         "name": "2008-04-23"
        },
        {
         "data": [
          {
           "customdata": [
            [
             56.03,
             "2008-07-09T00:00:00"
            ]
           ],
           "hovertemplate": "<b>%{hovertext}</b><br><br>animation_frame=2008-07-09<br>Salinity %0=%{marker.color}<br>Latitude_dd=%{lat}<br>Longitude_dd=%{lon}<br>Date=%{customdata[1]}<extra></extra>",
           "hovertext": [
            "qassar"
           ],
           "lat": [
            26.02503611
           ],
           "legendgroup": "",
           "lon": [
            50.43051667
           ],
           "marker": {
            "color": [
             56.03
            ],
            "coloraxis": "coloraxis",
            "size": [
             56.03
            ],
            "sizemode": "area",
            "sizeref": 0.2528888888888889
           },
           "mode": "markers",
           "name": "",
           "showlegend": false,
           "subplot": "mapbox",
           "type": "scattermapbox"
          }
         ],
         "name": "2008-07-09"
        },
        {
         "data": [
          {
           "customdata": [
            [
             52.8,
             "2008-10-29T00:00:00"
            ]
           ],
           "hovertemplate": "<b>%{hovertext}</b><br><br>animation_frame=2008-10-29<br>Salinity %0=%{marker.color}<br>Latitude_dd=%{lat}<br>Longitude_dd=%{lon}<br>Date=%{customdata[1]}<extra></extra>",
           "hovertext": [
            "qassar"
           ],
           "lat": [
            26.02503611
           ],
           "legendgroup": "",
           "lon": [
            50.43051667
           ],
           "marker": {
            "color": [
             52.8
            ],
            "coloraxis": "coloraxis",
            "size": [
             52.8
            ],
            "sizemode": "area",
            "sizeref": 0.2528888888888889
           },
           "mode": "markers",
           "name": "",
           "showlegend": false,
           "subplot": "mapbox",
           "type": "scattermapbox"
          }
         ],
         "name": "2008-10-29"
        },
        {
         "data": [
          {
           "customdata": [
            [
             56.9,
             "2009-01-28T00:00:00"
            ]
           ],
           "hovertemplate": "<b>%{hovertext}</b><br><br>animation_frame=2009-01-28<br>Salinity %0=%{marker.color}<br>Latitude_dd=%{lat}<br>Longitude_dd=%{lon}<br>Date=%{customdata[1]}<extra></extra>",
           "hovertext": [
            "qassar"
           ],
           "lat": [
            26.02503611
           ],
           "legendgroup": "",
           "lon": [
            50.43051667
           ],
           "marker": {
            "color": [
             56.9
            ],
            "coloraxis": "coloraxis",
            "size": [
             56.9
            ],
            "sizemode": "area",
            "sizeref": 0.2528888888888889
           },
           "mode": "markers",
           "name": "",
           "showlegend": false,
           "subplot": "mapbox",
           "type": "scattermapbox"
          }
         ],
         "name": "2009-01-28"
        },
        {
         "data": [
          {
           "customdata": [
            [
             55.6,
             "2009-04-21T00:00:00"
            ]
           ],
           "hovertemplate": "<b>%{hovertext}</b><br><br>animation_frame=2009-04-21<br>Salinity %0=%{marker.color}<br>Latitude_dd=%{lat}<br>Longitude_dd=%{lon}<br>Date=%{customdata[1]}<extra></extra>",
           "hovertext": [
            "qassar"
           ],
           "lat": [
            26.02503611
           ],
           "legendgroup": "",
           "lon": [
            50.43051667
           ],
           "marker": {
            "color": [
             55.6
            ],
            "coloraxis": "coloraxis",
            "size": [
             55.6
            ],
            "sizemode": "area",
            "sizeref": 0.2528888888888889
           },
           "mode": "markers",
           "name": "",
           "showlegend": false,
           "subplot": "mapbox",
           "type": "scattermapbox"
          }
         ],
         "name": "2009-04-21"
        },
        {
         "data": [
          {
           "customdata": [
            [
             54.21,
             "2009-07-08T00:00:00"
            ]
           ],
           "hovertemplate": "<b>%{hovertext}</b><br><br>animation_frame=2009-07-08<br>Salinity %0=%{marker.color}<br>Latitude_dd=%{lat}<br>Longitude_dd=%{lon}<br>Date=%{customdata[1]}<extra></extra>",
           "hovertext": [
            "qassar"
           ],
           "lat": [
            26.02503611
           ],
           "legendgroup": "",
           "lon": [
            50.43051667
           ],
           "marker": {
            "color": [
             54.21
            ],
            "coloraxis": "coloraxis",
            "size": [
             54.21
            ],
            "sizemode": "area",
            "sizeref": 0.2528888888888889
           },
           "mode": "markers",
           "name": "",
           "showlegend": false,
           "subplot": "mapbox",
           "type": "scattermapbox"
          }
         ],
         "name": "2009-07-08"
        },
        {
         "data": [
          {
           "customdata": [
            [
             56.42,
             "2009-10-13T00:00:00"
            ]
           ],
           "hovertemplate": "<b>%{hovertext}</b><br><br>animation_frame=2009-10-13<br>Salinity %0=%{marker.color}<br>Latitude_dd=%{lat}<br>Longitude_dd=%{lon}<br>Date=%{customdata[1]}<extra></extra>",
           "hovertext": [
            "qassar"
           ],
           "lat": [
            26.02503611
           ],
           "legendgroup": "",
           "lon": [
            50.43051667
           ],
           "marker": {
            "color": [
             56.42
            ],
            "coloraxis": "coloraxis",
            "size": [
             56.42
            ],
            "sizemode": "area",
            "sizeref": 0.2528888888888889
           },
           "mode": "markers",
           "name": "",
           "showlegend": false,
           "subplot": "mapbox",
           "type": "scattermapbox"
          }
         ],
         "name": "2009-10-13"
        },
        {
         "data": [
          {
           "customdata": [
            [
             53.38,
             "2010-02-04T00:00:00"
            ]
           ],
           "hovertemplate": "<b>%{hovertext}</b><br><br>animation_frame=2010-02-04<br>Salinity %0=%{marker.color}<br>Latitude_dd=%{lat}<br>Longitude_dd=%{lon}<br>Date=%{customdata[1]}<extra></extra>",
           "hovertext": [
            "qassar"
           ],
           "lat": [
            26.02503611
           ],
           "legendgroup": "",
           "lon": [
            50.43051667
           ],
           "marker": {
            "color": [
             53.38
            ],
            "coloraxis": "coloraxis",
            "size": [
             53.38
            ],
            "sizemode": "area",
            "sizeref": 0.2528888888888889
           },
           "mode": "markers",
           "name": "",
           "showlegend": false,
           "subplot": "mapbox",
           "type": "scattermapbox"
          }
         ],
         "name": "2010-02-04"
        },
        {
         "data": [
          {
           "customdata": [
            [
             56.37,
             "2011-01-19T00:00:00"
            ]
           ],
           "hovertemplate": "<b>%{hovertext}</b><br><br>animation_frame=2011-01-19<br>Salinity %0=%{marker.color}<br>Latitude_dd=%{lat}<br>Longitude_dd=%{lon}<br>Date=%{customdata[1]}<extra></extra>",
           "hovertext": [
            "qassar"
           ],
           "lat": [
            26.02503611
           ],
           "legendgroup": "",
           "lon": [
            50.43051667
           ],
           "marker": {
            "color": [
             56.37
            ],
            "coloraxis": "coloraxis",
            "size": [
             56.37
            ],
            "sizemode": "area",
            "sizeref": 0.2528888888888889
           },
           "mode": "markers",
           "name": "",
           "showlegend": false,
           "subplot": "mapbox",
           "type": "scattermapbox"
          }
         ],
         "name": "2011-01-19"
        },
        {
         "data": [
          {
           "customdata": [
            [
             53.23,
             "2011-04-27T00:00:00"
            ]
           ],
           "hovertemplate": "<b>%{hovertext}</b><br><br>animation_frame=2011-04-27<br>Salinity %0=%{marker.color}<br>Latitude_dd=%{lat}<br>Longitude_dd=%{lon}<br>Date=%{customdata[1]}<extra></extra>",
           "hovertext": [
            "qassar"
           ],
           "lat": [
            26.02503611
           ],
           "legendgroup": "",
           "lon": [
            50.43051667
           ],
           "marker": {
            "color": [
             53.23
            ],
            "coloraxis": "coloraxis",
            "size": [
             53.23
            ],
            "sizemode": "area",
            "sizeref": 0.2528888888888889
           },
           "mode": "markers",
           "name": "",
           "showlegend": false,
           "subplot": "mapbox",
           "type": "scattermapbox"
          }
         ],
         "name": "2011-04-27"
        },
        {
         "data": [
          {
           "customdata": [
            [
             53.46,
             "2011-10-12T00:00:00"
            ]
           ],
           "hovertemplate": "<b>%{hovertext}</b><br><br>animation_frame=2011-10-12<br>Salinity %0=%{marker.color}<br>Latitude_dd=%{lat}<br>Longitude_dd=%{lon}<br>Date=%{customdata[1]}<extra></extra>",
           "hovertext": [
            "qassar"
           ],
           "lat": [
            26.02503611
           ],
           "legendgroup": "",
           "lon": [
            50.43051667
           ],
           "marker": {
            "color": [
             53.46
            ],
            "coloraxis": "coloraxis",
            "size": [
             53.46
            ],
            "sizemode": "area",
            "sizeref": 0.2528888888888889
           },
           "mode": "markers",
           "name": "",
           "showlegend": false,
           "subplot": "mapbox",
           "type": "scattermapbox"
          }
         ],
         "name": "2011-10-12"
        },
        {
         "data": [
          {
           "customdata": [
            [
             54.58,
             "2012-04-18T00:00:00"
            ]
           ],
           "hovertemplate": "<b>%{hovertext}</b><br><br>animation_frame=2012-04-18<br>Salinity %0=%{marker.color}<br>Latitude_dd=%{lat}<br>Longitude_dd=%{lon}<br>Date=%{customdata[1]}<extra></extra>",
           "hovertext": [
            "qassar"
           ],
           "lat": [
            26.02503611
           ],
           "legendgroup": "",
           "lon": [
            50.43051667
           ],
           "marker": {
            "color": [
             54.58
            ],
            "coloraxis": "coloraxis",
            "size": [
             54.58
            ],
            "sizemode": "area",
            "sizeref": 0.2528888888888889
           },
           "mode": "markers",
           "name": "",
           "showlegend": false,
           "subplot": "mapbox",
           "type": "scattermapbox"
          }
         ],
         "name": "2012-04-18"
        },
        {
         "data": [
          {
           "customdata": [
            [
             56.03,
             "2013-11-06T00:00:00"
            ]
           ],
           "hovertemplate": "<b>%{hovertext}</b><br><br>animation_frame=2013-11-06<br>Salinity %0=%{marker.color}<br>Latitude_dd=%{lat}<br>Longitude_dd=%{lon}<br>Date=%{customdata[1]}<extra></extra>",
           "hovertext": [
            "qassar"
           ],
           "lat": [
            26.02503611
           ],
           "legendgroup": "",
           "lon": [
            50.43051667
           ],
           "marker": {
            "color": [
             56.03
            ],
            "coloraxis": "coloraxis",
            "size": [
             56.03
            ],
            "sizemode": "area",
            "sizeref": 0.2528888888888889
           },
           "mode": "markers",
           "name": "",
           "showlegend": false,
           "subplot": "mapbox",
           "type": "scattermapbox"
          }
         ],
         "name": "2013-11-06"
        },
        {
         "data": [
          {
           "customdata": [
            [
             40.67,
             "2014-05-06T00:00:00"
            ],
            [
             40.47,
             "2014-05-06T00:00:00"
            ],
            [
             40.56,
             "2014-05-06T00:00:00"
            ],
            [
             43.16,
             "2014-05-06T00:00:00"
            ]
           ],
           "hovertemplate": "<b>%{hovertext}</b><br><br>animation_frame=2014-05-06<br>Salinity %0=%{marker.color}<br>Latitude_dd=%{lat}<br>Longitude_dd=%{lon}<br>Date=%{customdata[1]}<extra></extra>",
           "hovertext": [
            "abu lthama",
            "najwat abu lthama",
            "shtaya",
            "sura"
           ],
           "lat": [
            26.78361667,
            26.848575,
            26.58504167,
            26.48800278
           ],
           "legendgroup": "",
           "lon": [
            50.8636,
            50.84965556,
            50.73033333,
            50.42891944
           ],
           "marker": {
            "color": [
             40.67,
             40.47,
             40.56,
             43.16
            ],
            "coloraxis": "coloraxis",
            "size": [
             40.67,
             40.47,
             40.56,
             43.16
            ],
            "sizemode": "area",
            "sizeref": 0.2528888888888889
           },
           "mode": "markers",
           "name": "",
           "showlegend": false,
           "subplot": "mapbox",
           "type": "scattermapbox"
          }
         ],
         "name": "2014-05-06"
        },
        {
         "data": [
          {
           "customdata": [
            [
             41.49,
             "2014-08-26T00:00:00"
            ],
            [
             40.93,
             "2014-08-26T00:00:00"
            ],
            [
             41.58,
             "2014-08-26T00:00:00"
            ]
           ],
           "hovertemplate": "<b>%{hovertext}</b><br><br>animation_frame=2014-08-26<br>Salinity %0=%{marker.color}<br>Latitude_dd=%{lat}<br>Longitude_dd=%{lon}<br>Date=%{customdata[1]}<extra></extra>",
           "hovertext": [
            "abu lthama",
            "najwat abu lthama",
            "shtaya"
           ],
           "lat": [
            26.78361667,
            26.848575,
            26.58504167
           ],
           "legendgroup": "",
           "lon": [
            50.8636,
            50.84965556,
            50.73033333
           ],
           "marker": {
            "color": [
             41.49,
             40.93,
             41.58
            ],
            "coloraxis": "coloraxis",
            "size": [
             41.49,
             40.93,
             41.58
            ],
            "sizemode": "area",
            "sizeref": 0.2528888888888889
           },
           "mode": "markers",
           "name": "",
           "showlegend": false,
           "subplot": "mapbox",
           "type": "scattermapbox"
          }
         ],
         "name": "2014-08-26"
        },
        {
         "data": [
          {
           "customdata": [
            [
             40.44,
             "2014-10-29T00:00:00"
            ],
            [
             40.2,
             "2014-10-29T00:00:00"
            ],
            [
             40.73,
             "2014-10-29T00:00:00"
            ],
            [
             45.2,
             "2014-10-29T00:00:00"
            ]
           ],
           "hovertemplate": "<b>%{hovertext}</b><br><br>animation_frame=2014-10-29<br>Salinity %0=%{marker.color}<br>Latitude_dd=%{lat}<br>Longitude_dd=%{lon}<br>Date=%{customdata[1]}<extra></extra>",
           "hovertext": [
            "abu lthama",
            "najwat abu lthama",
            "shtaya",
            "sura"
           ],
           "lat": [
            26.78361667,
            26.848575,
            26.58504167,
            26.48800278
           ],
           "legendgroup": "",
           "lon": [
            50.8636,
            50.84965556,
            50.73033333,
            50.42891944
           ],
           "marker": {
            "color": [
             40.44,
             40.2,
             40.73,
             45.2
            ],
            "coloraxis": "coloraxis",
            "size": [
             40.44,
             40.2,
             40.73,
             45.2
            ],
            "sizemode": "area",
            "sizeref": 0.2528888888888889
           },
           "mode": "markers",
           "name": "",
           "showlegend": false,
           "subplot": "mapbox",
           "type": "scattermapbox"
          }
         ],
         "name": "2014-10-29"
        },
        {
         "data": [
          {
           "customdata": [
            [
             40.22,
             "2015-01-26T00:00:00"
            ],
            [
             40.32,
             "2015-01-26T00:00:00"
            ],
            [
             40.38,
             "2015-01-26T00:00:00"
            ],
            [
             43.04,
             "2015-01-26T00:00:00"
            ]
           ],
           "hovertemplate": "<b>%{hovertext}</b><br><br>animation_frame=2015-01-26<br>Salinity %0=%{marker.color}<br>Latitude_dd=%{lat}<br>Longitude_dd=%{lon}<br>Date=%{customdata[1]}<extra></extra>",
           "hovertext": [
            "abu lthama",
            "najwat abu lthama",
            "shtaya",
            "sura"
           ],
           "lat": [
            26.78361667,
            26.848575,
            26.58504167,
            26.48800278
           ],
           "legendgroup": "",
           "lon": [
            50.8636,
            50.84965556,
            50.73033333,
            50.42891944
           ],
           "marker": {
            "color": [
             40.22,
             40.32,
             40.38,
             43.04
            ],
            "coloraxis": "coloraxis",
            "size": [
             40.22,
             40.32,
             40.38,
             43.04
            ],
            "sizemode": "area",
            "sizeref": 0.2528888888888889
           },
           "mode": "markers",
           "name": "",
           "showlegend": false,
           "subplot": "mapbox",
           "type": "scattermapbox"
          }
         ],
         "name": "2015-01-26"
        },
        {
         "data": [
          {
           "customdata": [
            [
             40.85,
             "2015-04-16T00:00:00"
            ],
            [
             40.38,
             "2015-04-16T00:00:00"
            ],
            [
             41.21,
             "2015-04-16T00:00:00"
            ],
            [
             44.06,
             "2015-04-16T00:00:00"
            ]
           ],
           "hovertemplate": "<b>%{hovertext}</b><br><br>animation_frame=2015-04-16<br>Salinity %0=%{marker.color}<br>Latitude_dd=%{lat}<br>Longitude_dd=%{lon}<br>Date=%{customdata[1]}<extra></extra>",
           "hovertext": [
            "abu lthama",
            "najwat abu lthama",
            "shtaya",
            "sura"
           ],
           "lat": [
            26.78361667,
            26.848575,
            26.58504167,
            26.48800278
           ],
           "legendgroup": "",
           "lon": [
            50.8636,
            50.84965556,
            50.73033333,
            50.42891944
           ],
           "marker": {
            "color": [
             40.85,
             40.38,
             41.21,
             44.06
            ],
            "coloraxis": "coloraxis",
            "size": [
             40.85,
             40.38,
             41.21,
             44.06
            ],
            "sizemode": "area",
            "sizeref": 0.2528888888888889
           },
           "mode": "markers",
           "name": "",
           "showlegend": false,
           "subplot": "mapbox",
           "type": "scattermapbox"
          }
         ],
         "name": "2015-04-16"
        },
        {
         "data": [
          {
           "customdata": [
            [
             41.02,
             "2015-08-25T00:00:00"
            ],
            [
             41.36,
             "2015-08-25T00:00:00"
            ],
            [
             41.91,
             "2015-08-25T00:00:00"
            ]
           ],
           "hovertemplate": "<b>%{hovertext}</b><br><br>animation_frame=2015-08-25<br>Salinity %0=%{marker.color}<br>Latitude_dd=%{lat}<br>Longitude_dd=%{lon}<br>Date=%{customdata[1]}<extra></extra>",
           "hovertext": [
            "abu lthama",
            "najwat abu lthama",
            "shtaya"
           ],
           "lat": [
            26.78361667,
            26.848575,
            26.58504167
           ],
           "legendgroup": "",
           "lon": [
            50.8636,
            50.84965556,
            50.73033333
           ],
           "marker": {
            "color": [
             41.02,
             41.36,
             41.91
            ],
            "coloraxis": "coloraxis",
            "size": [
             41.02,
             41.36,
             41.91
            ],
            "sizemode": "area",
            "sizeref": 0.2528888888888889
           },
           "mode": "markers",
           "name": "",
           "showlegend": false,
           "subplot": "mapbox",
           "type": "scattermapbox"
          }
         ],
         "name": "2015-08-25"
        },
        {
         "data": [
          {
           "customdata": [
            [
             40.37,
             "2015-12-01T00:00:00"
            ],
            [
             40.25,
             "2015-12-01T00:00:00"
            ],
            [
             40.93,
             "2015-12-01T00:00:00"
            ],
            [
             44.44,
             "2015-12-01T00:00:00"
            ]
           ],
           "hovertemplate": "<b>%{hovertext}</b><br><br>animation_frame=2015-12-01<br>Salinity %0=%{marker.color}<br>Latitude_dd=%{lat}<br>Longitude_dd=%{lon}<br>Date=%{customdata[1]}<extra></extra>",
           "hovertext": [
            "abu lthama",
            "najwat abu lthama",
            "shtaya",
            "sura"
           ],
           "lat": [
            26.78361667,
            26.848575,
            26.58504167,
            26.48800278
           ],
           "legendgroup": "",
           "lon": [
            50.8636,
            50.84965556,
            50.73033333,
            50.42891944
           ],
           "marker": {
            "color": [
             40.37,
             40.25,
             40.93,
             44.44
            ],
            "coloraxis": "coloraxis",
            "size": [
             40.37,
             40.25,
             40.93,
             44.44
            ],
            "sizemode": "area",
            "sizeref": 0.2528888888888889
           },
           "mode": "markers",
           "name": "",
           "showlegend": false,
           "subplot": "mapbox",
           "type": "scattermapbox"
          }
         ],
         "name": "2015-12-01"
        },
        {
         "data": [
          {
           "customdata": [
            [
             40.63,
             "2016-02-02T00:00:00"
            ],
            [
             40.4,
             "2016-02-02T00:00:00"
            ],
            [
             41.03,
             "2016-02-02T00:00:00"
            ],
            [
             43.1,
             "2016-02-02T00:00:00"
            ]
           ],
           "hovertemplate": "<b>%{hovertext}</b><br><br>animation_frame=2016-02-02<br>Salinity %0=%{marker.color}<br>Latitude_dd=%{lat}<br>Longitude_dd=%{lon}<br>Date=%{customdata[1]}<extra></extra>",
           "hovertext": [
            "abu lthama",
            "najwat abu lthama",
            "shtaya",
            "sura"
           ],
           "lat": [
            26.78361667,
            26.848575,
            26.58504167,
            26.48800278
           ],
           "legendgroup": "",
           "lon": [
            50.8636,
            50.84965556,
            50.73033333,
            50.42891944
           ],
           "marker": {
            "color": [
             40.63,
             40.4,
             41.03,
             43.1
            ],
            "coloraxis": "coloraxis",
            "size": [
             40.63,
             40.4,
             41.03,
             43.1
            ],
            "sizemode": "area",
            "sizeref": 0.2528888888888889
           },
           "mode": "markers",
           "name": "",
           "showlegend": false,
           "subplot": "mapbox",
           "type": "scattermapbox"
          }
         ],
         "name": "2016-02-02"
        },
        {
         "data": [
          {
           "customdata": [
            [
             40.52,
             "2016-04-20T00:00:00"
            ],
            [
             40.44,
             "2016-04-20T00:00:00"
            ],
            [
             40.67,
             "2016-04-20T00:00:00"
            ],
            [
             44.77,
             "2016-04-20T00:00:00"
            ]
           ],
           "hovertemplate": "<b>%{hovertext}</b><br><br>animation_frame=2016-04-20<br>Salinity %0=%{marker.color}<br>Latitude_dd=%{lat}<br>Longitude_dd=%{lon}<br>Date=%{customdata[1]}<extra></extra>",
           "hovertext": [
            "abu lthama",
            "najwat abu lthama",
            "shtaya",
            "sura"
           ],
           "lat": [
            26.78361667,
            26.848575,
            26.58504167,
            26.48800278
           ],
           "legendgroup": "",
           "lon": [
            50.8636,
            50.84965556,
            50.73033333,
            50.42891944
           ],
           "marker": {
            "color": [
             40.52,
             40.44,
             40.67,
             44.77
            ],
            "coloraxis": "coloraxis",
            "size": [
             40.52,
             40.44,
             40.67,
             44.77
            ],
            "sizemode": "area",
            "sizeref": 0.2528888888888889
           },
           "mode": "markers",
           "name": "",
           "showlegend": false,
           "subplot": "mapbox",
           "type": "scattermapbox"
          }
         ],
         "name": "2016-04-20"
        },
        {
         "data": [
          {
           "customdata": [
            [
             39.41,
             "2016-08-08T00:00:00"
            ],
            [
             39.17,
             "2016-08-08T00:00:00"
            ],
            [
             40.86,
             "2016-08-08T00:00:00"
            ]
           ],
           "hovertemplate": "<b>%{hovertext}</b><br><br>animation_frame=2016-08-08<br>Salinity %0=%{marker.color}<br>Latitude_dd=%{lat}<br>Longitude_dd=%{lon}<br>Date=%{customdata[1]}<extra></extra>",
           "hovertext": [
            "abu lthama",
            "najwat abu lthama",
            "shtaya"
           ],
           "lat": [
            26.78361667,
            26.848575,
            26.58504167
           ],
           "legendgroup": "",
           "lon": [
            50.8636,
            50.84965556,
            50.73033333
           ],
           "marker": {
            "color": [
             39.41,
             39.17,
             40.86
            ],
            "coloraxis": "coloraxis",
            "size": [
             39.41,
             39.17,
             40.86
            ],
            "sizemode": "area",
            "sizeref": 0.2528888888888889
           },
           "mode": "markers",
           "name": "",
           "showlegend": false,
           "subplot": "mapbox",
           "type": "scattermapbox"
          }
         ],
         "name": "2016-08-08"
        },
        {
         "data": [
          {
           "customdata": [
            [
             39.49,
             "2016-11-13T00:00:00"
            ],
            [
             39.46,
             "2016-11-13T00:00:00"
            ],
            [
             39.77,
             "2016-11-13T00:00:00"
            ],
            [
             42.72,
             "2016-11-13T00:00:00"
            ]
           ],
           "hovertemplate": "<b>%{hovertext}</b><br><br>animation_frame=2016-11-13<br>Salinity %0=%{marker.color}<br>Latitude_dd=%{lat}<br>Longitude_dd=%{lon}<br>Date=%{customdata[1]}<extra></extra>",
           "hovertext": [
            "abu lthama",
            "najwat abu lthama",
            "shtaya",
            "sura"
           ],
           "lat": [
            26.78361667,
            26.848575,
            26.58504167,
            26.48800278
           ],
           "legendgroup": "",
           "lon": [
            50.8636,
            50.84965556,
            50.73033333,
            50.42891944
           ],
           "marker": {
            "color": [
             39.49,
             39.46,
             39.77,
             42.72
            ],
            "coloraxis": "coloraxis",
            "size": [
             39.49,
             39.46,
             39.77,
             42.72
            ],
            "sizemode": "area",
            "sizeref": 0.2528888888888889
           },
           "mode": "markers",
           "name": "",
           "showlegend": false,
           "subplot": "mapbox",
           "type": "scattermapbox"
          }
         ],
         "name": "2016-11-13"
        }
       ],
       "layout": {
        "coloraxis": {
         "colorbar": {
          "title": {
           "text": "Salinity %0"
          }
         },
         "colorscale": [
          [
           0,
           "rgb(247,251,255)"
          ],
          [
           0.125,
           "rgb(222,235,247)"
          ],
          [
           0.25,
           "rgb(198,219,239)"
          ],
          [
           0.375,
           "rgb(158,202,225)"
          ],
          [
           0.5,
           "rgb(107,174,214)"
          ],
          [
           0.625,
           "rgb(66,146,198)"
          ],
          [
           0.75,
           "rgb(33,113,181)"
          ],
          [
           0.875,
           "rgb(8,81,156)"
          ],
          [
           1,
           "rgb(8,48,107)"
          ]
         ]
        },
        "legend": {
         "itemsizing": "constant",
         "tracegroupgap": 0
        },
        "mapbox": {
         "center": {
          "lat": 26.11792324598921,
          "lon": 50.652512750467615
         },
         "domain": {
          "x": [
           0,
           1
          ],
          "y": [
           0,
           1
          ]
         },
         "style": "carto-positron",
         "zoom": 10
        },
        "margin": {
         "t": 60
        },
        "sliders": [
         {
          "active": 0,
          "currentvalue": {
           "prefix": "animation_frame="
          },
          "len": 0.9,
          "pad": {
           "b": 10,
           "t": 60
          },
          "steps": [
           {
            "args": [
             [
              "2007-04-23"
             ],
             {
              "frame": {
               "duration": 0,
               "redraw": true
              },
              "fromcurrent": true,
              "mode": "immediate",
              "transition": {
               "duration": 0,
               "easing": "linear"
              }
             }
            ],
            "label": "2007-04-23",
            "method": "animate"
           },
           {
            "args": [
             [
              "2007-07-08"
             ],
             {
              "frame": {
               "duration": 0,
               "redraw": true
              },
              "fromcurrent": true,
              "mode": "immediate",
              "transition": {
               "duration": 0,
               "easing": "linear"
              }
             }
            ],
            "label": "2007-07-08",
            "method": "animate"
           },
           {
            "args": [
             [
              "2007-10-29"
             ],
             {
              "frame": {
               "duration": 0,
               "redraw": true
              },
              "fromcurrent": true,
              "mode": "immediate",
              "transition": {
               "duration": 0,
               "easing": "linear"
              }
             }
            ],
            "label": "2007-10-29",
            "method": "animate"
           },
           {
            "args": [
             [
              "2008-01-06"
             ],
             {
              "frame": {
               "duration": 0,
               "redraw": true
              },
              "fromcurrent": true,
              "mode": "immediate",
              "transition": {
               "duration": 0,
               "easing": "linear"
              }
             }
            ],
            "label": "2008-01-06",
            "method": "animate"
           },
           {
            "args": [
             [
              "2008-04-21"
             ],
             {
              "frame": {
               "duration": 0,
               "redraw": true
              },
              "fromcurrent": true,
              "mode": "immediate",
              "transition": {
               "duration": 0,
               "easing": "linear"
              }
             }
            ],
            "label": "2008-04-21",
            "method": "animate"
           },
           {
            "args": [
             [
              "2008-07-07"
             ],
             {
              "frame": {
               "duration": 0,
               "redraw": true
              },
              "fromcurrent": true,
              "mode": "immediate",
              "transition": {
               "duration": 0,
               "easing": "linear"
              }
             }
            ],
            "label": "2008-07-07",
            "method": "animate"
           },
           {
            "args": [
             [
              "2008-10-27"
             ],
             {
              "frame": {
               "duration": 0,
               "redraw": true
              },
              "fromcurrent": true,
              "mode": "immediate",
              "transition": {
               "duration": 0,
               "easing": "linear"
              }
             }
            ],
            "label": "2008-10-27",
            "method": "animate"
           },
           {
            "args": [
             [
              "2009-01-19"
             ],
             {
              "frame": {
               "duration": 0,
               "redraw": true
              },
              "fromcurrent": true,
              "mode": "immediate",
              "transition": {
               "duration": 0,
               "easing": "linear"
              }
             }
            ],
            "label": "2009-01-19",
            "method": "animate"
           },
           {
            "args": [
             [
              "2009-04-22"
             ],
             {
              "frame": {
               "duration": 0,
               "redraw": true
              },
              "fromcurrent": true,
              "mode": "immediate",
              "transition": {
               "duration": 0,
               "easing": "linear"
              }
             }
            ],
            "label": "2009-04-22",
            "method": "animate"
           },
           {
            "args": [
             [
              "2009-07-05"
             ],
             {
              "frame": {
               "duration": 0,
               "redraw": true
              },
              "fromcurrent": true,
              "mode": "immediate",
              "transition": {
               "duration": 0,
               "easing": "linear"
              }
             }
            ],
            "label": "2009-07-05",
            "method": "animate"
           },
           {
            "args": [
             [
              "2009-10-14"
             ],
             {
              "frame": {
               "duration": 0,
               "redraw": true
              },
              "fromcurrent": true,
              "mode": "immediate",
              "transition": {
               "duration": 0,
               "easing": "linear"
              }
             }
            ],
            "label": "2009-10-14",
            "method": "animate"
           },
           {
            "args": [
             [
              "2010-02-01"
             ],
             {
              "frame": {
               "duration": 0,
               "redraw": true
              },
              "fromcurrent": true,
              "mode": "immediate",
              "transition": {
               "duration": 0,
               "easing": "linear"
              }
             }
            ],
            "label": "2010-02-01",
            "method": "animate"
           },
           {
            "args": [
             [
              "2010-04-18"
             ],
             {
              "frame": {
               "duration": 0,
               "redraw": true
              },
              "fromcurrent": true,
              "mode": "immediate",
              "transition": {
               "duration": 0,
               "easing": "linear"
              }
             }
            ],
            "label": "2010-04-18",
            "method": "animate"
           },
           {
            "args": [
             [
              "2010-07-07"
             ],
             {
              "frame": {
               "duration": 0,
               "redraw": true
              },
              "fromcurrent": true,
              "mode": "immediate",
              "transition": {
               "duration": 0,
               "easing": "linear"
              }
             }
            ],
            "label": "2010-07-07",
            "method": "animate"
           },
           {
            "args": [
             [
              "2010-10-10"
             ],
             {
              "frame": {
               "duration": 0,
               "redraw": true
              },
              "fromcurrent": true,
              "mode": "immediate",
              "transition": {
               "duration": 0,
               "easing": "linear"
              }
             }
            ],
            "label": "2010-10-10",
            "method": "animate"
           },
           {
            "args": [
             [
              "2011-01-20"
             ],
             {
              "frame": {
               "duration": 0,
               "redraw": true
              },
              "fromcurrent": true,
              "mode": "immediate",
              "transition": {
               "duration": 0,
               "easing": "linear"
              }
             }
            ],
            "label": "2011-01-20",
            "method": "animate"
           },
           {
            "args": [
             [
              "2011-04-24"
             ],
             {
              "frame": {
               "duration": 0,
               "redraw": true
              },
              "fromcurrent": true,
              "mode": "immediate",
              "transition": {
               "duration": 0,
               "easing": "linear"
              }
             }
            ],
            "label": "2011-04-24",
            "method": "animate"
           },
           {
            "args": [
             [
              "2011-07-10"
             ],
             {
              "frame": {
               "duration": 0,
               "redraw": true
              },
              "fromcurrent": true,
              "mode": "immediate",
              "transition": {
               "duration": 0,
               "easing": "linear"
              }
             }
            ],
            "label": "2011-07-10",
            "method": "animate"
           },
           {
            "args": [
             [
              "2011-10-09"
             ],
             {
              "frame": {
               "duration": 0,
               "redraw": true
              },
              "fromcurrent": true,
              "mode": "immediate",
              "transition": {
               "duration": 0,
               "easing": "linear"
              }
             }
            ],
            "label": "2011-10-09",
            "method": "animate"
           },
           {
            "args": [
             [
              "2012-01-16"
             ],
             {
              "frame": {
               "duration": 0,
               "redraw": true
              },
              "fromcurrent": true,
              "mode": "immediate",
              "transition": {
               "duration": 0,
               "easing": "linear"
              }
             }
            ],
            "label": "2012-01-16",
            "method": "animate"
           },
           {
            "args": [
             [
              "2012-04-15"
             ],
             {
              "frame": {
               "duration": 0,
               "redraw": true
              },
              "fromcurrent": true,
              "mode": "immediate",
              "transition": {
               "duration": 0,
               "easing": "linear"
              }
             }
            ],
            "label": "2012-04-15",
            "method": "animate"
           },
           {
            "args": [
             [
              "2012-07-09"
             ],
             {
              "frame": {
               "duration": 0,
               "redraw": true
              },
              "fromcurrent": true,
              "mode": "immediate",
              "transition": {
               "duration": 0,
               "easing": "linear"
              }
             }
            ],
            "label": "2012-07-09",
            "method": "animate"
           },
           {
            "args": [
             [
              "2012-10-08"
             ],
             {
              "frame": {
               "duration": 0,
               "redraw": true
              },
              "fromcurrent": true,
              "mode": "immediate",
              "transition": {
               "duration": 0,
               "easing": "linear"
              }
             }
            ],
            "label": "2012-10-08",
            "method": "animate"
           },
           {
            "args": [
             [
              "2013-01-20"
             ],
             {
              "frame": {
               "duration": 0,
               "redraw": true
              },
              "fromcurrent": true,
              "mode": "immediate",
              "transition": {
               "duration": 0,
               "easing": "linear"
              }
             }
            ],
            "label": "2013-01-20",
            "method": "animate"
           },
           {
            "args": [
             [
              "2013-04-14"
             ],
             {
              "frame": {
               "duration": 0,
               "redraw": true
              },
              "fromcurrent": true,
              "mode": "immediate",
              "transition": {
               "duration": 0,
               "easing": "linear"
              }
             }
            ],
            "label": "2013-04-14",
            "method": "animate"
           },
           {
            "args": [
             [
              "2013-08-25"
             ],
             {
              "frame": {
               "duration": 0,
               "redraw": true
              },
              "fromcurrent": true,
              "mode": "immediate",
              "transition": {
               "duration": 0,
               "easing": "linear"
              }
             }
            ],
            "label": "2013-08-25",
            "method": "animate"
           },
           {
            "args": [
             [
              "2013-11-03"
             ],
             {
              "frame": {
               "duration": 0,
               "redraw": true
              },
              "fromcurrent": true,
              "mode": "immediate",
              "transition": {
               "duration": 0,
               "easing": "linear"
              }
             }
            ],
            "label": "2013-11-03",
            "method": "animate"
           },
           {
            "args": [
             [
              "2014-01-19"
             ],
             {
              "frame": {
               "duration": 0,
               "redraw": true
              },
              "fromcurrent": true,
              "mode": "immediate",
              "transition": {
               "duration": 0,
               "easing": "linear"
              }
             }
            ],
            "label": "2014-01-19",
            "method": "animate"
           },
           {
            "args": [
             [
              "2014-05-05"
             ],
             {
              "frame": {
               "duration": 0,
               "redraw": true
              },
              "fromcurrent": true,
              "mode": "immediate",
              "transition": {
               "duration": 0,
               "easing": "linear"
              }
             }
            ],
            "label": "2014-05-05",
            "method": "animate"
           },
           {
            "args": [
             [
              "2014-08-25"
             ],
             {
              "frame": {
               "duration": 0,
               "redraw": true
              },
              "fromcurrent": true,
              "mode": "immediate",
              "transition": {
               "duration": 0,
               "easing": "linear"
              }
             }
            ],
            "label": "2014-08-25",
            "method": "animate"
           },
           {
            "args": [
             [
              "2014-10-19"
             ],
             {
              "frame": {
               "duration": 0,
               "redraw": true
              },
              "fromcurrent": true,
              "mode": "immediate",
              "transition": {
               "duration": 0,
               "easing": "linear"
              }
             }
            ],
            "label": "2014-10-19",
            "method": "animate"
           },
           {
            "args": [
             [
              "2015-01-27"
             ],
             {
              "frame": {
               "duration": 0,
               "redraw": true
              },
              "fromcurrent": true,
              "mode": "immediate",
              "transition": {
               "duration": 0,
               "easing": "linear"
              }
             }
            ],
            "label": "2015-01-27",
            "method": "animate"
           },
           {
            "args": [
             [
              "2015-04-15"
             ],
             {
              "frame": {
               "duration": 0,
               "redraw": true
              },
              "fromcurrent": true,
              "mode": "immediate",
              "transition": {
               "duration": 0,
               "easing": "linear"
              }
             }
            ],
            "label": "2015-04-15",
            "method": "animate"
           },
           {
            "args": [
             [
              "2015-08-23"
             ],
             {
              "frame": {
               "duration": 0,
               "redraw": true
              },
              "fromcurrent": true,
              "mode": "immediate",
              "transition": {
               "duration": 0,
               "easing": "linear"
              }
             }
            ],
            "label": "2015-08-23",
            "method": "animate"
           },
           {
            "args": [
             [
              "2015-11-01"
             ],
             {
              "frame": {
               "duration": 0,
               "redraw": true
              },
              "fromcurrent": true,
              "mode": "immediate",
              "transition": {
               "duration": 0,
               "easing": "linear"
              }
             }
            ],
            "label": "2015-11-01",
            "method": "animate"
           },
           {
            "args": [
             [
              "2016-01-17"
             ],
             {
              "frame": {
               "duration": 0,
               "redraw": true
              },
              "fromcurrent": true,
              "mode": "immediate",
              "transition": {
               "duration": 0,
               "easing": "linear"
              }
             }
            ],
            "label": "2016-01-17",
            "method": "animate"
           },
           {
            "args": [
             [
              "2016-04-17"
             ],
             {
              "frame": {
               "duration": 0,
               "redraw": true
              },
              "fromcurrent": true,
              "mode": "immediate",
              "transition": {
               "duration": 0,
               "easing": "linear"
              }
             }
            ],
            "label": "2016-04-17",
            "method": "animate"
           },
           {
            "args": [
             [
              "2016-08-09"
             ],
             {
              "frame": {
               "duration": 0,
               "redraw": true
              },
              "fromcurrent": true,
              "mode": "immediate",
              "transition": {
               "duration": 0,
               "easing": "linear"
              }
             }
            ],
            "label": "2016-08-09",
            "method": "animate"
           },
           {
            "args": [
             [
              "2016-10-24"
             ],
             {
              "frame": {
               "duration": 0,
               "redraw": true
              },
              "fromcurrent": true,
              "mode": "immediate",
              "transition": {
               "duration": 0,
               "easing": "linear"
              }
             }
            ],
            "label": "2016-10-24",
            "method": "animate"
           },
           {
            "args": [
             [
              "2007-07-09"
             ],
             {
              "frame": {
               "duration": 0,
               "redraw": true
              },
              "fromcurrent": true,
              "mode": "immediate",
              "transition": {
               "duration": 0,
               "easing": "linear"
              }
             }
            ],
            "label": "2007-07-09",
            "method": "animate"
           },
           {
            "args": [
             [
              "2008-04-20"
             ],
             {
              "frame": {
               "duration": 0,
               "redraw": true
              },
              "fromcurrent": true,
              "mode": "immediate",
              "transition": {
               "duration": 0,
               "easing": "linear"
              }
             }
            ],
            "label": "2008-04-20",
            "method": "animate"
           },
           {
            "args": [
             [
              "2014-10-20"
             ],
             {
              "frame": {
               "duration": 0,
               "redraw": true
              },
              "fromcurrent": true,
              "mode": "immediate",
              "transition": {
               "duration": 0,
               "easing": "linear"
              }
             }
            ],
            "label": "2014-10-20",
            "method": "animate"
           },
           {
            "args": [
             [
              "2007-04-24"
             ],
             {
              "frame": {
               "duration": 0,
               "redraw": true
              },
              "fromcurrent": true,
              "mode": "immediate",
              "transition": {
               "duration": 0,
               "easing": "linear"
              }
             }
            ],
            "label": "2007-04-24",
            "method": "animate"
           },
           {
            "args": [
             [
              "2007-10-30"
             ],
             {
              "frame": {
               "duration": 0,
               "redraw": true
              },
              "fromcurrent": true,
              "mode": "immediate",
              "transition": {
               "duration": 0,
               "easing": "linear"
              }
             }
            ],
            "label": "2007-10-30",
            "method": "animate"
           },
           {
            "args": [
             [
              "2008-10-25"
             ],
             {
              "frame": {
               "duration": 0,
               "redraw": true
              },
              "fromcurrent": true,
              "mode": "immediate",
              "transition": {
               "duration": 0,
               "easing": "linear"
              }
             }
            ],
            "label": "2008-10-25",
            "method": "animate"
           },
           {
            "args": [
             [
              "2009-01-18"
             ],
             {
              "frame": {
               "duration": 0,
               "redraw": true
              },
              "fromcurrent": true,
              "mode": "immediate",
              "transition": {
               "duration": 0,
               "easing": "linear"
              }
             }
            ],
            "label": "2009-01-18",
            "method": "animate"
           },
           {
            "args": [
             [
              "2009-04-20"
             ],
             {
              "frame": {
               "duration": 0,
               "redraw": true
              },
              "fromcurrent": true,
              "mode": "immediate",
              "transition": {
               "duration": 0,
               "easing": "linear"
              }
             }
            ],
            "label": "2009-04-20",
            "method": "animate"
           },
           {
            "args": [
             [
              "2009-10-11"
             ],
             {
              "frame": {
               "duration": 0,
               "redraw": true
              },
              "fromcurrent": true,
              "mode": "immediate",
              "transition": {
               "duration": 0,
               "easing": "linear"
              }
             }
            ],
            "label": "2009-10-11",
            "method": "animate"
           },
           {
            "args": [
             [
              "2010-02-02"
             ],
             {
              "frame": {
               "duration": 0,
               "redraw": true
              },
              "fromcurrent": true,
              "mode": "immediate",
              "transition": {
               "duration": 0,
               "easing": "linear"
              }
             }
            ],
            "label": "2010-02-02",
            "method": "animate"
           },
           {
            "args": [
             [
              "2010-04-19"
             ],
             {
              "frame": {
               "duration": 0,
               "redraw": true
              },
              "fromcurrent": true,
              "mode": "immediate",
              "transition": {
               "duration": 0,
               "easing": "linear"
              }
             }
            ],
            "label": "2010-04-19",
            "method": "animate"
           },
           {
            "args": [
             [
              "2010-07-08"
             ],
             {
              "frame": {
               "duration": 0,
               "redraw": true
              },
              "fromcurrent": true,
              "mode": "immediate",
              "transition": {
               "duration": 0,
               "easing": "linear"
              }
             }
            ],
            "label": "2010-07-08",
            "method": "animate"
           },
           {
            "args": [
             [
              "2010-10-11"
             ],
             {
              "frame": {
               "duration": 0,
               "redraw": true
              },
              "fromcurrent": true,
              "mode": "immediate",
              "transition": {
               "duration": 0,
               "easing": "linear"
              }
             }
            ],
            "label": "2010-10-11",
            "method": "animate"
           },
           {
            "args": [
             [
              "2012-10-07"
             ],
             {
              "frame": {
               "duration": 0,
               "redraw": true
              },
              "fromcurrent": true,
              "mode": "immediate",
              "transition": {
               "duration": 0,
               "easing": "linear"
              }
             }
            ],
            "label": "2012-10-07",
            "method": "animate"
           },
           {
            "args": [
             [
              "2013-04-15"
             ],
             {
              "frame": {
               "duration": 0,
               "redraw": true
              },
              "fromcurrent": true,
              "mode": "immediate",
              "transition": {
               "duration": 0,
               "easing": "linear"
              }
             }
            ],
            "label": "2013-04-15",
            "method": "animate"
           },
           {
            "args": [
             [
              "2008-01-08"
             ],
             {
              "frame": {
               "duration": 0,
               "redraw": true
              },
              "fromcurrent": true,
              "mode": "immediate",
              "transition": {
               "duration": 0,
               "easing": "linear"
              }
             }
            ],
            "label": "2008-01-08",
            "method": "animate"
           },
           {
            "args": [
             [
              "2008-07-06"
             ],
             {
              "frame": {
               "duration": 0,
               "redraw": true
              },
              "fromcurrent": true,
              "mode": "immediate",
              "transition": {
               "duration": 0,
               "easing": "linear"
              }
             }
            ],
            "label": "2008-07-06",
            "method": "animate"
           },
           {
            "args": [
             [
              "2009-07-06"
             ],
             {
              "frame": {
               "duration": 0,
               "redraw": true
              },
              "fromcurrent": true,
              "mode": "immediate",
              "transition": {
               "duration": 0,
               "easing": "linear"
              }
             }
            ],
            "label": "2009-07-06",
            "method": "animate"
           },
           {
            "args": [
             [
              "2011-01-21"
             ],
             {
              "frame": {
               "duration": 0,
               "redraw": true
              },
              "fromcurrent": true,
              "mode": "immediate",
              "transition": {
               "duration": 0,
               "easing": "linear"
              }
             }
            ],
            "label": "2011-01-21",
            "method": "animate"
           },
           {
            "args": [
             [
              "2011-04-25"
             ],
             {
              "frame": {
               "duration": 0,
               "redraw": true
              },
              "fromcurrent": true,
              "mode": "immediate",
              "transition": {
               "duration": 0,
               "easing": "linear"
              }
             }
            ],
            "label": "2011-04-25",
            "method": "animate"
           },
           {
            "args": [
             [
              "2011-07-11"
             ],
             {
              "frame": {
               "duration": 0,
               "redraw": true
              },
              "fromcurrent": true,
              "mode": "immediate",
              "transition": {
               "duration": 0,
               "easing": "linear"
              }
             }
            ],
            "label": "2011-07-11",
            "method": "animate"
           },
           {
            "args": [
             [
              "2011-10-10"
             ],
             {
              "frame": {
               "duration": 0,
               "redraw": true
              },
              "fromcurrent": true,
              "mode": "immediate",
              "transition": {
               "duration": 0,
               "easing": "linear"
              }
             }
            ],
            "label": "2011-10-10",
            "method": "animate"
           },
           {
            "args": [
             [
              "2012-01-17"
             ],
             {
              "frame": {
               "duration": 0,
               "redraw": true
              },
              "fromcurrent": true,
              "mode": "immediate",
              "transition": {
               "duration": 0,
               "easing": "linear"
              }
             }
            ],
            "label": "2012-01-17",
            "method": "animate"
           },
           {
            "args": [
             [
              "2012-04-16"
             ],
             {
              "frame": {
               "duration": 0,
               "redraw": true
              },
              "fromcurrent": true,
              "mode": "immediate",
              "transition": {
               "duration": 0,
               "easing": "linear"
              }
             }
            ],
            "label": "2012-04-16",
            "method": "animate"
           },
           {
            "args": [
             [
              "2012-07-08"
             ],
             {
              "frame": {
               "duration": 0,
               "redraw": true
              },
              "fromcurrent": true,
              "mode": "immediate",
              "transition": {
               "duration": 0,
               "easing": "linear"
              }
             }
            ],
            "label": "2012-07-08",
            "method": "animate"
           },
           {
            "args": [
             [
              "2013-01-21"
             ],
             {
              "frame": {
               "duration": 0,
               "redraw": true
              },
              "fromcurrent": true,
              "mode": "immediate",
              "transition": {
               "duration": 0,
               "easing": "linear"
              }
             }
            ],
            "label": "2013-01-21",
            "method": "animate"
           },
           {
            "args": [
             [
              "2013-08-26"
             ],
             {
              "frame": {
               "duration": 0,
               "redraw": true
              },
              "fromcurrent": true,
              "mode": "immediate",
              "transition": {
               "duration": 0,
               "easing": "linear"
              }
             }
            ],
            "label": "2013-08-26",
            "method": "animate"
           },
           {
            "args": [
             [
              "2013-11-05"
             ],
             {
              "frame": {
               "duration": 0,
               "redraw": true
              },
              "fromcurrent": true,
              "mode": "immediate",
              "transition": {
               "duration": 0,
               "easing": "linear"
              }
             }
            ],
            "label": "2013-11-05",
            "method": "animate"
           },
           {
            "args": [
             [
              "2014-01-20"
             ],
             {
              "frame": {
               "duration": 0,
               "redraw": true
              },
              "fromcurrent": true,
              "mode": "immediate",
              "transition": {
               "duration": 0,
               "easing": "linear"
              }
             }
            ],
            "label": "2014-01-20",
            "method": "animate"
           },
           {
            "args": [
             [
              "2014-05-04"
             ],
             {
              "frame": {
               "duration": 0,
               "redraw": true
              },
              "fromcurrent": true,
              "mode": "immediate",
              "transition": {
               "duration": 0,
               "easing": "linear"
              }
             }
            ],
            "label": "2014-05-04",
            "method": "animate"
           },
           {
            "args": [
             [
              "2014-08-24"
             ],
             {
              "frame": {
               "duration": 0,
               "redraw": true
              },
              "fromcurrent": true,
              "mode": "immediate",
              "transition": {
               "duration": 0,
               "easing": "linear"
              }
             }
            ],
            "label": "2014-08-24",
            "method": "animate"
           },
           {
            "args": [
             [
              "2015-02-01"
             ],
             {
              "frame": {
               "duration": 0,
               "redraw": true
              },
              "fromcurrent": true,
              "mode": "immediate",
              "transition": {
               "duration": 0,
               "easing": "linear"
              }
             }
            ],
            "label": "2015-02-01",
            "method": "animate"
           },
           {
            "args": [
             [
              "2015-04-12"
             ],
             {
              "frame": {
               "duration": 0,
               "redraw": true
              },
              "fromcurrent": true,
              "mode": "immediate",
              "transition": {
               "duration": 0,
               "easing": "linear"
              }
             }
            ],
            "label": "2015-04-12",
            "method": "animate"
           },
           {
            "args": [
             [
              "2015-08-24"
             ],
             {
              "frame": {
               "duration": 0,
               "redraw": true
              },
              "fromcurrent": true,
              "mode": "immediate",
              "transition": {
               "duration": 0,
               "easing": "linear"
              }
             }
            ],
            "label": "2015-08-24",
            "method": "animate"
           },
           {
            "args": [
             [
              "2015-11-02"
             ],
             {
              "frame": {
               "duration": 0,
               "redraw": true
              },
              "fromcurrent": true,
              "mode": "immediate",
              "transition": {
               "duration": 0,
               "easing": "linear"
              }
             }
            ],
            "label": "2015-11-02",
            "method": "animate"
           },
           {
            "args": [
             [
              "2016-01-18"
             ],
             {
              "frame": {
               "duration": 0,
               "redraw": true
              },
              "fromcurrent": true,
              "mode": "immediate",
              "transition": {
               "duration": 0,
               "easing": "linear"
              }
             }
            ],
            "label": "2016-01-18",
            "method": "animate"
           },
           {
            "args": [
             [
              "2016-04-18"
             ],
             {
              "frame": {
               "duration": 0,
               "redraw": true
              },
              "fromcurrent": true,
              "mode": "immediate",
              "transition": {
               "duration": 0,
               "easing": "linear"
              }
             }
            ],
            "label": "2016-04-18",
            "method": "animate"
           },
           {
            "args": [
             [
              "2016-08-10"
             ],
             {
              "frame": {
               "duration": 0,
               "redraw": true
              },
              "fromcurrent": true,
              "mode": "immediate",
              "transition": {
               "duration": 0,
               "easing": "linear"
              }
             }
            ],
            "label": "2016-08-10",
            "method": "animate"
           },
           {
            "args": [
             [
              "2016-10-25"
             ],
             {
              "frame": {
               "duration": 0,
               "redraw": true
              },
              "fromcurrent": true,
              "mode": "immediate",
              "transition": {
               "duration": 0,
               "easing": "linear"
              }
             }
            ],
            "label": "2016-10-25",
            "method": "animate"
           },
           {
            "args": [
             [
              "2007-04-25"
             ],
             {
              "frame": {
               "duration": 0,
               "redraw": true
              },
              "fromcurrent": true,
              "mode": "immediate",
              "transition": {
               "duration": 0,
               "easing": "linear"
              }
             }
            ],
            "label": "2007-04-25",
            "method": "animate"
           },
           {
            "args": [
             [
              "2007-07-10"
             ],
             {
              "frame": {
               "duration": 0,
               "redraw": true
              },
              "fromcurrent": true,
              "mode": "immediate",
              "transition": {
               "duration": 0,
               "easing": "linear"
              }
             }
            ],
            "label": "2007-07-10",
            "method": "animate"
           },
           {
            "args": [
             [
              "2007-10-31"
             ],
             {
              "frame": {
               "duration": 0,
               "redraw": true
              },
              "fromcurrent": true,
              "mode": "immediate",
              "transition": {
               "duration": 0,
               "easing": "linear"
              }
             }
            ],
            "label": "2007-10-31",
            "method": "animate"
           },
           {
            "args": [
             [
              "2008-01-09"
             ],
             {
              "frame": {
               "duration": 0,
               "redraw": true
              },
              "fromcurrent": true,
              "mode": "immediate",
              "transition": {
               "duration": 0,
               "easing": "linear"
              }
             }
            ],
            "label": "2008-01-09",
            "method": "animate"
           },
           {
            "args": [
             [
              "2008-04-22"
             ],
             {
              "frame": {
               "duration": 0,
               "redraw": true
              },
              "fromcurrent": true,
              "mode": "immediate",
              "transition": {
               "duration": 0,
               "easing": "linear"
              }
             }
            ],
            "label": "2008-04-22",
            "method": "animate"
           },
           {
            "args": [
             [
              "2008-07-08"
             ],
             {
              "frame": {
               "duration": 0,
               "redraw": true
              },
              "fromcurrent": true,
              "mode": "immediate",
              "transition": {
               "duration": 0,
               "easing": "linear"
              }
             }
            ],
            "label": "2008-07-08",
            "method": "animate"
           },
           {
            "args": [
             [
              "2008-10-28"
             ],
             {
              "frame": {
               "duration": 0,
               "redraw": true
              },
              "fromcurrent": true,
              "mode": "immediate",
              "transition": {
               "duration": 0,
               "easing": "linear"
              }
             }
            ],
            "label": "2008-10-28",
            "method": "animate"
           },
           {
            "args": [
             [
              "2009-01-20"
             ],
             {
              "frame": {
               "duration": 0,
               "redraw": true
              },
              "fromcurrent": true,
              "mode": "immediate",
              "transition": {
               "duration": 0,
               "easing": "linear"
              }
             }
            ],
            "label": "2009-01-20",
            "method": "animate"
           },
           {
            "args": [
             [
              "2009-04-19"
             ],
             {
              "frame": {
               "duration": 0,
               "redraw": true
              },
              "fromcurrent": true,
              "mode": "immediate",
              "transition": {
               "duration": 0,
               "easing": "linear"
              }
             }
            ],
            "label": "2009-04-19",
            "method": "animate"
           },
           {
            "args": [
             [
              "2009-07-07"
             ],
             {
              "frame": {
               "duration": 0,
               "redraw": true
              },
              "fromcurrent": true,
              "mode": "immediate",
              "transition": {
               "duration": 0,
               "easing": "linear"
              }
             }
            ],
            "label": "2009-07-07",
            "method": "animate"
           },
           {
            "args": [
             [
              "2009-10-12"
             ],
             {
              "frame": {
               "duration": 0,
               "redraw": true
              },
              "fromcurrent": true,
              "mode": "immediate",
              "transition": {
               "duration": 0,
               "easing": "linear"
              }
             }
            ],
            "label": "2009-10-12",
            "method": "animate"
           },
           {
            "args": [
             [
              "2010-02-03"
             ],
             {
              "frame": {
               "duration": 0,
               "redraw": true
              },
              "fromcurrent": true,
              "mode": "immediate",
              "transition": {
               "duration": 0,
               "easing": "linear"
              }
             }
            ],
            "label": "2010-02-03",
            "method": "animate"
           },
           {
            "args": [
             [
              "2010-04-21"
             ],
             {
              "frame": {
               "duration": 0,
               "redraw": true
              },
              "fromcurrent": true,
              "mode": "immediate",
              "transition": {
               "duration": 0,
               "easing": "linear"
              }
             }
            ],
            "label": "2010-04-21",
            "method": "animate"
           },
           {
            "args": [
             [
              "2010-07-06"
             ],
             {
              "frame": {
               "duration": 0,
               "redraw": true
              },
              "fromcurrent": true,
              "mode": "immediate",
              "transition": {
               "duration": 0,
               "easing": "linear"
              }
             }
            ],
            "label": "2010-07-06",
            "method": "animate"
           },
           {
            "args": [
             [
              "2010-10-17"
             ],
             {
              "frame": {
               "duration": 0,
               "redraw": true
              },
              "fromcurrent": true,
              "mode": "immediate",
              "transition": {
               "duration": 0,
               "easing": "linear"
              }
             }
            ],
            "label": "2010-10-17",
            "method": "animate"
           },
           {
            "args": [
             [
              "2011-01-18"
             ],
             {
              "frame": {
               "duration": 0,
               "redraw": true
              },
              "fromcurrent": true,
              "mode": "immediate",
              "transition": {
               "duration": 0,
               "easing": "linear"
              }
             }
            ],
            "label": "2011-01-18",
            "method": "animate"
           },
           {
            "args": [
             [
              "2011-04-26"
             ],
             {
              "frame": {
               "duration": 0,
               "redraw": true
              },
              "fromcurrent": true,
              "mode": "immediate",
              "transition": {
               "duration": 0,
               "easing": "linear"
              }
             }
            ],
            "label": "2011-04-26",
            "method": "animate"
           },
           {
            "args": [
             [
              "2011-07-13"
             ],
             {
              "frame": {
               "duration": 0,
               "redraw": true
              },
              "fromcurrent": true,
              "mode": "immediate",
              "transition": {
               "duration": 0,
               "easing": "linear"
              }
             }
            ],
            "label": "2011-07-13",
            "method": "animate"
           },
           {
            "args": [
             [
              "2011-10-11"
             ],
             {
              "frame": {
               "duration": 0,
               "redraw": true
              },
              "fromcurrent": true,
              "mode": "immediate",
              "transition": {
               "duration": 0,
               "easing": "linear"
              }
             }
            ],
            "label": "2011-10-11",
            "method": "animate"
           },
           {
            "args": [
             [
              "2012-01-18"
             ],
             {
              "frame": {
               "duration": 0,
               "redraw": true
              },
              "fromcurrent": true,
              "mode": "immediate",
              "transition": {
               "duration": 0,
               "easing": "linear"
              }
             }
            ],
            "label": "2012-01-18",
            "method": "animate"
           },
           {
            "args": [
             [
              "2012-04-17"
             ],
             {
              "frame": {
               "duration": 0,
               "redraw": true
              },
              "fromcurrent": true,
              "mode": "immediate",
              "transition": {
               "duration": 0,
               "easing": "linear"
              }
             }
            ],
            "label": "2012-04-17",
            "method": "animate"
           },
           {
            "args": [
             [
              "2012-07-11"
             ],
             {
              "frame": {
               "duration": 0,
               "redraw": true
              },
              "fromcurrent": true,
              "mode": "immediate",
              "transition": {
               "duration": 0,
               "easing": "linear"
              }
             }
            ],
            "label": "2012-07-11",
            "method": "animate"
           },
           {
            "args": [
             [
              "2012-10-10"
             ],
             {
              "frame": {
               "duration": 0,
               "redraw": true
              },
              "fromcurrent": true,
              "mode": "immediate",
              "transition": {
               "duration": 0,
               "easing": "linear"
              }
             }
            ],
            "label": "2012-10-10",
            "method": "animate"
           },
           {
            "args": [
             [
              "2013-01-23"
             ],
             {
              "frame": {
               "duration": 0,
               "redraw": true
              },
              "fromcurrent": true,
              "mode": "immediate",
              "transition": {
               "duration": 0,
               "easing": "linear"
              }
             }
            ],
            "label": "2013-01-23",
            "method": "animate"
           },
           {
            "args": [
             [
              "2013-04-17"
             ],
             {
              "frame": {
               "duration": 0,
               "redraw": true
              },
              "fromcurrent": true,
              "mode": "immediate",
              "transition": {
               "duration": 0,
               "easing": "linear"
              }
             }
            ],
            "label": "2013-04-17",
            "method": "animate"
           },
           {
            "args": [
             [
              "2013-08-28"
             ],
             {
              "frame": {
               "duration": 0,
               "redraw": true
              },
              "fromcurrent": true,
              "mode": "immediate",
              "transition": {
               "duration": 0,
               "easing": "linear"
              }
             }
            ],
            "label": "2013-08-28",
            "method": "animate"
           },
           {
            "args": [
             [
              "2013-11-07"
             ],
             {
              "frame": {
               "duration": 0,
               "redraw": true
              },
              "fromcurrent": true,
              "mode": "immediate",
              "transition": {
               "duration": 0,
               "easing": "linear"
              }
             }
            ],
            "label": "2013-11-07",
            "method": "animate"
           },
           {
            "args": [
             [
              "2014-01-21"
             ],
             {
              "frame": {
               "duration": 0,
               "redraw": true
              },
              "fromcurrent": true,
              "mode": "immediate",
              "transition": {
               "duration": 0,
               "easing": "linear"
              }
             }
            ],
            "label": "2014-01-21",
            "method": "animate"
           },
           {
            "args": [
             [
              "2014-05-07"
             ],
             {
              "frame": {
               "duration": 0,
               "redraw": true
              },
              "fromcurrent": true,
              "mode": "immediate",
              "transition": {
               "duration": 0,
               "easing": "linear"
              }
             }
            ],
            "label": "2014-05-07",
            "method": "animate"
           },
           {
            "args": [
             [
              "2014-08-27"
             ],
             {
              "frame": {
               "duration": 0,
               "redraw": true
              },
              "fromcurrent": true,
              "mode": "immediate",
              "transition": {
               "duration": 0,
               "easing": "linear"
              }
             }
            ],
            "label": "2014-08-27",
            "method": "animate"
           },
           {
            "args": [
             [
              "2014-10-21"
             ],
             {
              "frame": {
               "duration": 0,
               "redraw": true
              },
              "fromcurrent": true,
              "mode": "immediate",
              "transition": {
               "duration": 0,
               "easing": "linear"
              }
             }
            ],
            "label": "2014-10-21",
            "method": "animate"
           },
           {
            "args": [
             [
              "2015-01-28"
             ],
             {
              "frame": {
               "duration": 0,
               "redraw": true
              },
              "fromcurrent": true,
              "mode": "immediate",
              "transition": {
               "duration": 0,
               "easing": "linear"
              }
             }
            ],
            "label": "2015-01-28",
            "method": "animate"
           },
           {
            "args": [
             [
              "2015-04-19"
             ],
             {
              "frame": {
               "duration": 0,
               "redraw": true
              },
              "fromcurrent": true,
              "mode": "immediate",
              "transition": {
               "duration": 0,
               "easing": "linear"
              }
             }
            ],
            "label": "2015-04-19",
            "method": "animate"
           },
           {
            "args": [
             [
              "2015-08-30"
             ],
             {
              "frame": {
               "duration": 0,
               "redraw": true
              },
              "fromcurrent": true,
              "mode": "immediate",
              "transition": {
               "duration": 0,
               "easing": "linear"
              }
             }
            ],
            "label": "2015-08-30",
            "method": "animate"
           },
           {
            "args": [
             [
              "2015-11-30"
             ],
             {
              "frame": {
               "duration": 0,
               "redraw": true
              },
              "fromcurrent": true,
              "mode": "immediate",
              "transition": {
               "duration": 0,
               "easing": "linear"
              }
             }
            ],
            "label": "2015-11-30",
            "method": "animate"
           },
           {
            "args": [
             [
              "2016-11-14"
             ],
             {
              "frame": {
               "duration": 0,
               "redraw": true
              },
              "fromcurrent": true,
              "mode": "immediate",
              "transition": {
               "duration": 0,
               "easing": "linear"
              }
             }
            ],
            "label": "2016-11-14",
            "method": "animate"
           },
           {
            "args": [
             [
              "2010-04-20"
             ],
             {
              "frame": {
               "duration": 0,
               "redraw": true
              },
              "fromcurrent": true,
              "mode": "immediate",
              "transition": {
               "duration": 0,
               "easing": "linear"
              }
             }
            ],
            "label": "2010-04-20",
            "method": "animate"
           },
           {
            "args": [
             [
              "2010-10-12"
             ],
             {
              "frame": {
               "duration": 0,
               "redraw": true
              },
              "fromcurrent": true,
              "mode": "immediate",
              "transition": {
               "duration": 0,
               "easing": "linear"
              }
             }
            ],
            "label": "2010-10-12",
            "method": "animate"
           },
           {
            "args": [
             [
              "2012-10-09"
             ],
             {
              "frame": {
               "duration": 0,
               "redraw": true
              },
              "fromcurrent": true,
              "mode": "immediate",
              "transition": {
               "duration": 0,
               "easing": "linear"
              }
             }
            ],
            "label": "2012-10-09",
            "method": "animate"
           },
           {
            "args": [
             [
              "2013-01-22"
             ],
             {
              "frame": {
               "duration": 0,
               "redraw": true
              },
              "fromcurrent": true,
              "mode": "immediate",
              "transition": {
               "duration": 0,
               "easing": "linear"
              }
             }
            ],
            "label": "2013-01-22",
            "method": "animate"
           },
           {
            "args": [
             [
              "2013-04-16"
             ],
             {
              "frame": {
               "duration": 0,
               "redraw": true
              },
              "fromcurrent": true,
              "mode": "immediate",
              "transition": {
               "duration": 0,
               "easing": "linear"
              }
             }
            ],
            "label": "2013-04-16",
            "method": "animate"
           },
           {
            "args": [
             [
              "2010-07-05"
             ],
             {
              "frame": {
               "duration": 0,
               "redraw": true
              },
              "fromcurrent": true,
              "mode": "immediate",
              "transition": {
               "duration": 0,
               "easing": "linear"
              }
             }
            ],
            "label": "2010-07-05",
            "method": "animate"
           },
           {
            "args": [
             [
              "2011-07-12"
             ],
             {
              "frame": {
               "duration": 0,
               "redraw": true
              },
              "fromcurrent": true,
              "mode": "immediate",
              "transition": {
               "duration": 0,
               "easing": "linear"
              }
             }
            ],
            "label": "2011-07-12",
            "method": "animate"
           },
           {
            "args": [
             [
              "2012-01-19"
             ],
             {
              "frame": {
               "duration": 0,
               "redraw": true
              },
              "fromcurrent": true,
              "mode": "immediate",
              "transition": {
               "duration": 0,
               "easing": "linear"
              }
             }
            ],
            "label": "2012-01-19",
            "method": "animate"
           },
           {
            "args": [
             [
              "2012-07-10"
             ],
             {
              "frame": {
               "duration": 0,
               "redraw": true
              },
              "fromcurrent": true,
              "mode": "immediate",
              "transition": {
               "duration": 0,
               "easing": "linear"
              }
             }
            ],
            "label": "2012-07-10",
            "method": "animate"
           },
           {
            "args": [
             [
              "2013-08-27"
             ],
             {
              "frame": {
               "duration": 0,
               "redraw": true
              },
              "fromcurrent": true,
              "mode": "immediate",
              "transition": {
               "duration": 0,
               "easing": "linear"
              }
             }
            ],
            "label": "2013-08-27",
            "method": "animate"
           },
           {
            "args": [
             [
              "2014-01-22"
             ],
             {
              "frame": {
               "duration": 0,
               "redraw": true
              },
              "fromcurrent": true,
              "mode": "immediate",
              "transition": {
               "duration": 0,
               "easing": "linear"
              }
             }
            ],
            "label": "2014-01-22",
            "method": "animate"
           },
           {
            "args": [
             [
              "2014-08-31"
             ],
             {
              "frame": {
               "duration": 0,
               "redraw": true
              },
              "fromcurrent": true,
              "mode": "immediate",
              "transition": {
               "duration": 0,
               "easing": "linear"
              }
             }
            ],
            "label": "2014-08-31",
            "method": "animate"
           },
           {
            "args": [
             [
              "2015-08-26"
             ],
             {
              "frame": {
               "duration": 0,
               "redraw": true
              },
              "fromcurrent": true,
              "mode": "immediate",
              "transition": {
               "duration": 0,
               "easing": "linear"
              }
             }
            ],
            "label": "2015-08-26",
            "method": "animate"
           },
           {
            "args": [
             [
              "2016-02-01"
             ],
             {
              "frame": {
               "duration": 0,
               "redraw": true
              },
              "fromcurrent": true,
              "mode": "immediate",
              "transition": {
               "duration": 0,
               "easing": "linear"
              }
             }
            ],
            "label": "2016-02-01",
            "method": "animate"
           },
           {
            "args": [
             [
              "2016-04-19"
             ],
             {
              "frame": {
               "duration": 0,
               "redraw": true
              },
              "fromcurrent": true,
              "mode": "immediate",
              "transition": {
               "duration": 0,
               "easing": "linear"
              }
             }
            ],
            "label": "2016-04-19",
            "method": "animate"
           },
           {
            "args": [
             [
              "2016-10-26"
             ],
             {
              "frame": {
               "duration": 0,
               "redraw": true
              },
              "fromcurrent": true,
              "mode": "immediate",
              "transition": {
               "duration": 0,
               "easing": "linear"
              }
             }
            ],
            "label": "2016-10-26",
            "method": "animate"
           },
           {
            "args": [
             [
              "2007-04-26"
             ],
             {
              "frame": {
               "duration": 0,
               "redraw": true
              },
              "fromcurrent": true,
              "mode": "immediate",
              "transition": {
               "duration": 0,
               "easing": "linear"
              }
             }
            ],
            "label": "2007-04-26",
            "method": "animate"
           },
           {
            "args": [
             [
              "2007-07-11"
             ],
             {
              "frame": {
               "duration": 0,
               "redraw": true
              },
              "fromcurrent": true,
              "mode": "immediate",
              "transition": {
               "duration": 0,
               "easing": "linear"
              }
             }
            ],
            "label": "2007-07-11",
            "method": "animate"
           },
           {
            "args": [
             [
              "2007-11-01"
             ],
             {
              "frame": {
               "duration": 0,
               "redraw": true
              },
              "fromcurrent": true,
              "mode": "immediate",
              "transition": {
               "duration": 0,
               "easing": "linear"
              }
             }
            ],
            "label": "2007-11-01",
            "method": "animate"
           },
           {
            "args": [
             [
              "2008-04-23"
             ],
             {
              "frame": {
               "duration": 0,
               "redraw": true
              },
              "fromcurrent": true,
              "mode": "immediate",
              "transition": {
               "duration": 0,
               "easing": "linear"
              }
             }
            ],
            "label": "2008-04-23",
            "method": "animate"
           },
           {
            "args": [
             [
              "2008-07-09"
             ],
             {
              "frame": {
               "duration": 0,
               "redraw": true
              },
              "fromcurrent": true,
              "mode": "immediate",
              "transition": {
               "duration": 0,
               "easing": "linear"
              }
             }
            ],
            "label": "2008-07-09",
            "method": "animate"
           },
           {
            "args": [
             [
              "2008-10-29"
             ],
             {
              "frame": {
               "duration": 0,
               "redraw": true
              },
              "fromcurrent": true,
              "mode": "immediate",
              "transition": {
               "duration": 0,
               "easing": "linear"
              }
             }
            ],
            "label": "2008-10-29",
            "method": "animate"
           },
           {
            "args": [
             [
              "2009-01-28"
             ],
             {
              "frame": {
               "duration": 0,
               "redraw": true
              },
              "fromcurrent": true,
              "mode": "immediate",
              "transition": {
               "duration": 0,
               "easing": "linear"
              }
             }
            ],
            "label": "2009-01-28",
            "method": "animate"
           },
           {
            "args": [
             [
              "2009-04-21"
             ],
             {
              "frame": {
               "duration": 0,
               "redraw": true
              },
              "fromcurrent": true,
              "mode": "immediate",
              "transition": {
               "duration": 0,
               "easing": "linear"
              }
             }
            ],
            "label": "2009-04-21",
            "method": "animate"
           },
           {
            "args": [
             [
              "2009-07-08"
             ],
             {
              "frame": {
               "duration": 0,
               "redraw": true
              },
              "fromcurrent": true,
              "mode": "immediate",
              "transition": {
               "duration": 0,
               "easing": "linear"
              }
             }
            ],
            "label": "2009-07-08",
            "method": "animate"
           },
           {
            "args": [
             [
              "2009-10-13"
             ],
             {
              "frame": {
               "duration": 0,
               "redraw": true
              },
              "fromcurrent": true,
              "mode": "immediate",
              "transition": {
               "duration": 0,
               "easing": "linear"
              }
             }
            ],
            "label": "2009-10-13",
            "method": "animate"
           },
           {
            "args": [
             [
              "2010-02-04"
             ],
             {
              "frame": {
               "duration": 0,
               "redraw": true
              },
              "fromcurrent": true,
              "mode": "immediate",
              "transition": {
               "duration": 0,
               "easing": "linear"
              }
             }
            ],
            "label": "2010-02-04",
            "method": "animate"
           },
           {
            "args": [
             [
              "2011-01-19"
             ],
             {
              "frame": {
               "duration": 0,
               "redraw": true
              },
              "fromcurrent": true,
              "mode": "immediate",
              "transition": {
               "duration": 0,
               "easing": "linear"
              }
             }
            ],
            "label": "2011-01-19",
            "method": "animate"
           },
           {
            "args": [
             [
              "2011-04-27"
             ],
             {
              "frame": {
               "duration": 0,
               "redraw": true
              },
              "fromcurrent": true,
              "mode": "immediate",
              "transition": {
               "duration": 0,
               "easing": "linear"
              }
             }
            ],
            "label": "2011-04-27",
            "method": "animate"
           },
           {
            "args": [
             [
              "2011-10-12"
             ],
             {
              "frame": {
               "duration": 0,
               "redraw": true
              },
              "fromcurrent": true,
              "mode": "immediate",
              "transition": {
               "duration": 0,
               "easing": "linear"
              }
             }
            ],
            "label": "2011-10-12",
            "method": "animate"
           },
           {
            "args": [
             [
              "2012-04-18"
             ],
             {
              "frame": {
               "duration": 0,
               "redraw": true
              },
              "fromcurrent": true,
              "mode": "immediate",
              "transition": {
               "duration": 0,
               "easing": "linear"
              }
             }
            ],
            "label": "2012-04-18",
            "method": "animate"
           },
           {
            "args": [
             [
              "2013-11-06"
             ],
             {
              "frame": {
               "duration": 0,
               "redraw": true
              },
              "fromcurrent": true,
              "mode": "immediate",
              "transition": {
               "duration": 0,
               "easing": "linear"
              }
             }
            ],
            "label": "2013-11-06",
            "method": "animate"
           },
           {
            "args": [
             [
              "2014-05-06"
             ],
             {
              "frame": {
               "duration": 0,
               "redraw": true
              },
              "fromcurrent": true,
              "mode": "immediate",
              "transition": {
               "duration": 0,
               "easing": "linear"
              }
             }
            ],
            "label": "2014-05-06",
            "method": "animate"
           },
           {
            "args": [
             [
              "2014-08-26"
             ],
             {
              "frame": {
               "duration": 0,
               "redraw": true
              },
              "fromcurrent": true,
              "mode": "immediate",
              "transition": {
               "duration": 0,
               "easing": "linear"
              }
             }
            ],
            "label": "2014-08-26",
            "method": "animate"
           },
           {
            "args": [
             [
              "2014-10-29"
             ],
             {
              "frame": {
               "duration": 0,
               "redraw": true
              },
              "fromcurrent": true,
              "mode": "immediate",
              "transition": {
               "duration": 0,
               "easing": "linear"
              }
             }
            ],
            "label": "2014-10-29",
            "method": "animate"
           },
           {
            "args": [
             [
              "2015-01-26"
             ],
             {
              "frame": {
               "duration": 0,
               "redraw": true
              },
              "fromcurrent": true,
              "mode": "immediate",
              "transition": {
               "duration": 0,
               "easing": "linear"
              }
             }
            ],
            "label": "2015-01-26",
            "method": "animate"
           },
           {
            "args": [
             [
              "2015-04-16"
             ],
             {
              "frame": {
               "duration": 0,
               "redraw": true
              },
              "fromcurrent": true,
              "mode": "immediate",
              "transition": {
               "duration": 0,
               "easing": "linear"
              }
             }
            ],
            "label": "2015-04-16",
            "method": "animate"
           },
           {
            "args": [
             [
              "2015-08-25"
             ],
             {
              "frame": {
               "duration": 0,
               "redraw": true
              },
              "fromcurrent": true,
              "mode": "immediate",
              "transition": {
               "duration": 0,
               "easing": "linear"
              }
             }
            ],
            "label": "2015-08-25",
            "method": "animate"
           },
           {
            "args": [
             [
              "2015-12-01"
             ],
             {
              "frame": {
               "duration": 0,
               "redraw": true
              },
              "fromcurrent": true,
              "mode": "immediate",
              "transition": {
               "duration": 0,
               "easing": "linear"
              }
             }
            ],
            "label": "2015-12-01",
            "method": "animate"
           },
           {
            "args": [
             [
              "2016-02-02"
             ],
             {
              "frame": {
               "duration": 0,
               "redraw": true
              },
              "fromcurrent": true,
              "mode": "immediate",
              "transition": {
               "duration": 0,
               "easing": "linear"
              }
             }
            ],
            "label": "2016-02-02",
            "method": "animate"
           },
           {
            "args": [
             [
              "2016-04-20"
             ],
             {
              "frame": {
               "duration": 0,
               "redraw": true
              },
              "fromcurrent": true,
              "mode": "immediate",
              "transition": {
               "duration": 0,
               "easing": "linear"
              }
             }
            ],
            "label": "2016-04-20",
            "method": "animate"
           },
           {
            "args": [
             [
              "2016-08-08"
             ],
             {
              "frame": {
               "duration": 0,
               "redraw": true
              },
              "fromcurrent": true,
              "mode": "immediate",
              "transition": {
               "duration": 0,
               "easing": "linear"
              }
             }
            ],
            "label": "2016-08-08",
            "method": "animate"
           },
           {
            "args": [
             [
              "2016-11-13"
             ],
             {
              "frame": {
               "duration": 0,
               "redraw": true
              },
              "fromcurrent": true,
              "mode": "immediate",
              "transition": {
               "duration": 0,
               "easing": "linear"
              }
             }
            ],
            "label": "2016-11-13",
            "method": "animate"
           }
          ],
          "x": 0.1,
          "xanchor": "left",
          "y": 0,
          "yanchor": "top"
         }
        ],
        "template": {
         "data": {
          "bar": [
           {
            "error_x": {
             "color": "#2a3f5f"
            },
            "error_y": {
             "color": "#2a3f5f"
            },
            "marker": {
             "line": {
              "color": "#E5ECF6",
              "width": 0.5
             },
             "pattern": {
              "fillmode": "overlay",
              "size": 10,
              "solidity": 0.2
             }
            },
            "type": "bar"
           }
          ],
          "barpolar": [
           {
            "marker": {
             "line": {
              "color": "#E5ECF6",
              "width": 0.5
             },
             "pattern": {
              "fillmode": "overlay",
              "size": 10,
              "solidity": 0.2
             }
            },
            "type": "barpolar"
           }
          ],
          "carpet": [
           {
            "aaxis": {
             "endlinecolor": "#2a3f5f",
             "gridcolor": "white",
             "linecolor": "white",
             "minorgridcolor": "white",
             "startlinecolor": "#2a3f5f"
            },
            "baxis": {
             "endlinecolor": "#2a3f5f",
             "gridcolor": "white",
             "linecolor": "white",
             "minorgridcolor": "white",
             "startlinecolor": "#2a3f5f"
            },
            "type": "carpet"
           }
          ],
          "choropleth": [
           {
            "colorbar": {
             "outlinewidth": 0,
             "ticks": ""
            },
            "type": "choropleth"
           }
          ],
          "contour": [
           {
            "colorbar": {
             "outlinewidth": 0,
             "ticks": ""
            },
            "colorscale": [
             [
              0,
              "#0d0887"
             ],
             [
              0.1111111111111111,
              "#46039f"
             ],
             [
              0.2222222222222222,
              "#7201a8"
             ],
             [
              0.3333333333333333,
              "#9c179e"
             ],
             [
              0.4444444444444444,
              "#bd3786"
             ],
             [
              0.5555555555555556,
              "#d8576b"
             ],
             [
              0.6666666666666666,
              "#ed7953"
             ],
             [
              0.7777777777777778,
              "#fb9f3a"
             ],
             [
              0.8888888888888888,
              "#fdca26"
             ],
             [
              1,
              "#f0f921"
             ]
            ],
            "type": "contour"
           }
          ],
          "contourcarpet": [
           {
            "colorbar": {
             "outlinewidth": 0,
             "ticks": ""
            },
            "type": "contourcarpet"
           }
          ],
          "heatmap": [
           {
            "colorbar": {
             "outlinewidth": 0,
             "ticks": ""
            },
            "colorscale": [
             [
              0,
              "#0d0887"
             ],
             [
              0.1111111111111111,
              "#46039f"
             ],
             [
              0.2222222222222222,
              "#7201a8"
             ],
             [
              0.3333333333333333,
              "#9c179e"
             ],
             [
              0.4444444444444444,
              "#bd3786"
             ],
             [
              0.5555555555555556,
              "#d8576b"
             ],
             [
              0.6666666666666666,
              "#ed7953"
             ],
             [
              0.7777777777777778,
              "#fb9f3a"
             ],
             [
              0.8888888888888888,
              "#fdca26"
             ],
             [
              1,
              "#f0f921"
             ]
            ],
            "type": "heatmap"
           }
          ],
          "heatmapgl": [
           {
            "colorbar": {
             "outlinewidth": 0,
             "ticks": ""
            },
            "colorscale": [
             [
              0,
              "#0d0887"
             ],
             [
              0.1111111111111111,
              "#46039f"
             ],
             [
              0.2222222222222222,
              "#7201a8"
             ],
             [
              0.3333333333333333,
              "#9c179e"
             ],
             [
              0.4444444444444444,
              "#bd3786"
             ],
             [
              0.5555555555555556,
              "#d8576b"
             ],
             [
              0.6666666666666666,
              "#ed7953"
             ],
             [
              0.7777777777777778,
              "#fb9f3a"
             ],
             [
              0.8888888888888888,
              "#fdca26"
             ],
             [
              1,
              "#f0f921"
             ]
            ],
            "type": "heatmapgl"
           }
          ],
          "histogram": [
           {
            "marker": {
             "pattern": {
              "fillmode": "overlay",
              "size": 10,
              "solidity": 0.2
             }
            },
            "type": "histogram"
           }
          ],
          "histogram2d": [
           {
            "colorbar": {
             "outlinewidth": 0,
             "ticks": ""
            },
            "colorscale": [
             [
              0,
              "#0d0887"
             ],
             [
              0.1111111111111111,
              "#46039f"
             ],
             [
              0.2222222222222222,
              "#7201a8"
             ],
             [
              0.3333333333333333,
              "#9c179e"
             ],
             [
              0.4444444444444444,
              "#bd3786"
             ],
             [
              0.5555555555555556,
              "#d8576b"
             ],
             [
              0.6666666666666666,
              "#ed7953"
             ],
             [
              0.7777777777777778,
              "#fb9f3a"
             ],
             [
              0.8888888888888888,
              "#fdca26"
             ],
             [
              1,
              "#f0f921"
             ]
            ],
            "type": "histogram2d"
           }
          ],
          "histogram2dcontour": [
           {
            "colorbar": {
             "outlinewidth": 0,
             "ticks": ""
            },
            "colorscale": [
             [
              0,
              "#0d0887"
             ],
             [
              0.1111111111111111,
              "#46039f"
             ],
             [
              0.2222222222222222,
              "#7201a8"
             ],
             [
              0.3333333333333333,
              "#9c179e"
             ],
             [
              0.4444444444444444,
              "#bd3786"
             ],
             [
              0.5555555555555556,
              "#d8576b"
             ],
             [
              0.6666666666666666,
              "#ed7953"
             ],
             [
              0.7777777777777778,
              "#fb9f3a"
             ],
             [
              0.8888888888888888,
              "#fdca26"
             ],
             [
              1,
              "#f0f921"
             ]
            ],
            "type": "histogram2dcontour"
           }
          ],
          "mesh3d": [
           {
            "colorbar": {
             "outlinewidth": 0,
             "ticks": ""
            },
            "type": "mesh3d"
           }
          ],
          "parcoords": [
           {
            "line": {
             "colorbar": {
              "outlinewidth": 0,
              "ticks": ""
             }
            },
            "type": "parcoords"
           }
          ],
          "pie": [
           {
            "automargin": true,
            "type": "pie"
           }
          ],
          "scatter": [
           {
            "fillpattern": {
             "fillmode": "overlay",
             "size": 10,
             "solidity": 0.2
            },
            "type": "scatter"
           }
          ],
          "scatter3d": [
           {
            "line": {
             "colorbar": {
              "outlinewidth": 0,
              "ticks": ""
             }
            },
            "marker": {
             "colorbar": {
              "outlinewidth": 0,
              "ticks": ""
             }
            },
            "type": "scatter3d"
           }
          ],
          "scattercarpet": [
           {
            "marker": {
             "colorbar": {
              "outlinewidth": 0,
              "ticks": ""
             }
            },
            "type": "scattercarpet"
           }
          ],
          "scattergeo": [
           {
            "marker": {
             "colorbar": {
              "outlinewidth": 0,
              "ticks": ""
             }
            },
            "type": "scattergeo"
           }
          ],
          "scattergl": [
           {
            "marker": {
             "colorbar": {
              "outlinewidth": 0,
              "ticks": ""
             }
            },
            "type": "scattergl"
           }
          ],
          "scattermapbox": [
           {
            "marker": {
             "colorbar": {
              "outlinewidth": 0,
              "ticks": ""
             }
            },
            "type": "scattermapbox"
           }
          ],
          "scatterpolar": [
           {
            "marker": {
             "colorbar": {
              "outlinewidth": 0,
              "ticks": ""
             }
            },
            "type": "scatterpolar"
           }
          ],
          "scatterpolargl": [
           {
            "marker": {
             "colorbar": {
              "outlinewidth": 0,
              "ticks": ""
             }
            },
            "type": "scatterpolargl"
           }
          ],
          "scatterternary": [
           {
            "marker": {
             "colorbar": {
              "outlinewidth": 0,
              "ticks": ""
             }
            },
            "type": "scatterternary"
           }
          ],
          "surface": [
           {
            "colorbar": {
             "outlinewidth": 0,
             "ticks": ""
            },
            "colorscale": [
             [
              0,
              "#0d0887"
             ],
             [
              0.1111111111111111,
              "#46039f"
             ],
             [
              0.2222222222222222,
              "#7201a8"
             ],
             [
              0.3333333333333333,
              "#9c179e"
             ],
             [
              0.4444444444444444,
              "#bd3786"
             ],
             [
              0.5555555555555556,
              "#d8576b"
             ],
             [
              0.6666666666666666,
              "#ed7953"
             ],
             [
              0.7777777777777778,
              "#fb9f3a"
             ],
             [
              0.8888888888888888,
              "#fdca26"
             ],
             [
              1,
              "#f0f921"
             ]
            ],
            "type": "surface"
           }
          ],
          "table": [
           {
            "cells": {
             "fill": {
              "color": "#EBF0F8"
             },
             "line": {
              "color": "white"
             }
            },
            "header": {
             "fill": {
              "color": "#C8D4E3"
             },
             "line": {
              "color": "white"
             }
            },
            "type": "table"
           }
          ]
         },
         "layout": {
          "annotationdefaults": {
           "arrowcolor": "#2a3f5f",
           "arrowhead": 0,
           "arrowwidth": 1
          },
          "autotypenumbers": "strict",
          "coloraxis": {
           "colorbar": {
            "outlinewidth": 0,
            "ticks": ""
           }
          },
          "colorscale": {
           "diverging": [
            [
             0,
             "#8e0152"
            ],
            [
             0.1,
             "#c51b7d"
            ],
            [
             0.2,
             "#de77ae"
            ],
            [
             0.3,
             "#f1b6da"
            ],
            [
             0.4,
             "#fde0ef"
            ],
            [
             0.5,
             "#f7f7f7"
            ],
            [
             0.6,
             "#e6f5d0"
            ],
            [
             0.7,
             "#b8e186"
            ],
            [
             0.8,
             "#7fbc41"
            ],
            [
             0.9,
             "#4d9221"
            ],
            [
             1,
             "#276419"
            ]
           ],
           "sequential": [
            [
             0,
             "#0d0887"
            ],
            [
             0.1111111111111111,
             "#46039f"
            ],
            [
             0.2222222222222222,
             "#7201a8"
            ],
            [
             0.3333333333333333,
             "#9c179e"
            ],
            [
             0.4444444444444444,
             "#bd3786"
            ],
            [
             0.5555555555555556,
             "#d8576b"
            ],
            [
             0.6666666666666666,
             "#ed7953"
            ],
            [
             0.7777777777777778,
             "#fb9f3a"
            ],
            [
             0.8888888888888888,
             "#fdca26"
            ],
            [
             1,
             "#f0f921"
            ]
           ],
           "sequentialminus": [
            [
             0,
             "#0d0887"
            ],
            [
             0.1111111111111111,
             "#46039f"
            ],
            [
             0.2222222222222222,
             "#7201a8"
            ],
            [
             0.3333333333333333,
             "#9c179e"
            ],
            [
             0.4444444444444444,
             "#bd3786"
            ],
            [
             0.5555555555555556,
             "#d8576b"
            ],
            [
             0.6666666666666666,
             "#ed7953"
            ],
            [
             0.7777777777777778,
             "#fb9f3a"
            ],
            [
             0.8888888888888888,
             "#fdca26"
            ],
            [
             1,
             "#f0f921"
            ]
           ]
          },
          "colorway": [
           "#636efa",
           "#EF553B",
           "#00cc96",
           "#ab63fa",
           "#FFA15A",
           "#19d3f3",
           "#FF6692",
           "#B6E880",
           "#FF97FF",
           "#FECB52"
          ],
          "font": {
           "color": "#2a3f5f"
          },
          "geo": {
           "bgcolor": "white",
           "lakecolor": "white",
           "landcolor": "#E5ECF6",
           "showlakes": true,
           "showland": true,
           "subunitcolor": "white"
          },
          "hoverlabel": {
           "align": "left"
          },
          "hovermode": "closest",
          "mapbox": {
           "style": "light"
          },
          "paper_bgcolor": "white",
          "plot_bgcolor": "#E5ECF6",
          "polar": {
           "angularaxis": {
            "gridcolor": "white",
            "linecolor": "white",
            "ticks": ""
           },
           "bgcolor": "#E5ECF6",
           "radialaxis": {
            "gridcolor": "white",
            "linecolor": "white",
            "ticks": ""
           }
          },
          "scene": {
           "xaxis": {
            "backgroundcolor": "#E5ECF6",
            "gridcolor": "white",
            "gridwidth": 2,
            "linecolor": "white",
            "showbackground": true,
            "ticks": "",
            "zerolinecolor": "white"
           },
           "yaxis": {
            "backgroundcolor": "#E5ECF6",
            "gridcolor": "white",
            "gridwidth": 2,
            "linecolor": "white",
            "showbackground": true,
            "ticks": "",
            "zerolinecolor": "white"
           },
           "zaxis": {
            "backgroundcolor": "#E5ECF6",
            "gridcolor": "white",
            "gridwidth": 2,
            "linecolor": "white",
            "showbackground": true,
            "ticks": "",
            "zerolinecolor": "white"
           }
          },
          "shapedefaults": {
           "line": {
            "color": "#2a3f5f"
           }
          },
          "ternary": {
           "aaxis": {
            "gridcolor": "white",
            "linecolor": "white",
            "ticks": ""
           },
           "baxis": {
            "gridcolor": "white",
            "linecolor": "white",
            "ticks": ""
           },
           "bgcolor": "#E5ECF6",
           "caxis": {
            "gridcolor": "white",
            "linecolor": "white",
            "ticks": ""
           }
          },
          "title": {
           "x": 0.05
          },
          "xaxis": {
           "automargin": true,
           "gridcolor": "white",
           "linecolor": "white",
           "ticks": "",
           "title": {
            "standoff": 15
           },
           "zerolinecolor": "white",
           "zerolinewidth": 2
          },
          "yaxis": {
           "automargin": true,
           "gridcolor": "white",
           "linecolor": "white",
           "ticks": "",
           "title": {
            "standoff": 15
           },
           "zerolinecolor": "white",
           "zerolinewidth": 2
          }
         }
        },
        "title": {
         "text": "Salinity Over Time in Bahrain",
         "x": 0.5
        },
        "updatemenus": [
         {
          "buttons": [
           {
            "args": [
             null,
             {
              "frame": {
               "duration": 500,
               "redraw": true
              },
              "fromcurrent": true,
              "mode": "immediate",
              "transition": {
               "duration": 500,
               "easing": "linear"
              }
             }
            ],
            "label": "&#9654;",
            "method": "animate"
           },
           {
            "args": [
             [
              null
             ],
             {
              "frame": {
               "duration": 0,
               "redraw": true
              },
              "fromcurrent": true,
              "mode": "immediate",
              "transition": {
               "duration": 0,
               "easing": "linear"
              }
             }
            ],
            "label": "&#9724;",
            "method": "animate"
           }
          ],
          "direction": "left",
          "pad": {
           "r": 10,
           "t": 70
          },
          "showactive": false,
          "type": "buttons",
          "x": 0.1,
          "xanchor": "right",
          "y": 0,
          "yanchor": "top"
         }
        ]
       }
      }
     },
     "metadata": {},
     "output_type": "display_data"
    }
   ],
   "source": [
    "import pandas as pd\n",
    "import plotly.express as px\n",
    "\n",
    "# Load the SST data\n",
    "sst_file_path = \"marine 2007 - 2016 may 2017.csv\"  # Replace with your SST data file path\n",
    "sst_data_df = pd.read_csv(sst_file_path, encoding='ISO-8859-1')\n",
    "\n",
    "# Load the geolocation data\n",
    "geo_location_file_path = \"Bahrain Climate Data - Geo Locations - Sheet2.csv\"  # Replace with your geolocation data file path\n",
    "geo_location_df = pd.read_csv(geo_location_file_path)\n",
    "\n",
    "# Standardize the location names in both datasets for accurate merging\n",
    "sst_data_df['locations'] = sst_data_df['locations'].str.strip().str.lower()\n",
    "geo_location_df['Location'] = geo_location_df['Location'].str.strip().str.lower()\n",
    "\n",
    "# Merge the datasets on the location field\n",
    "merged_data_df = pd.merge(sst_data_df, geo_location_df, left_on='locations', right_on='Location')\n",
    "\n",
    "# Convert the 'Date' column to a datetime object\n",
    "merged_data_df['Date'] = pd.to_datetime(merged_data_df['Date'], errors='coerce')\n",
    "\n",
    "# Replace commas and convert the 'Salinity %0' column to numeric\n",
    "merged_data_df['Salinity %0'] = pd.to_numeric(merged_data_df['Salinity %0'].str.replace(',', ''), errors='coerce')\n",
    "\n",
    "# Remove rows with missing salinity data\n",
    "cleaned_data_df = merged_data_df.dropna(subset=['Salinity %0'])\n",
    "\n",
    "# Create the scatter mapbox plot for Salinity\n",
    "fig_salinity = px.scatter_mapbox(\n",
    "    cleaned_data_df,\n",
    "    lat=\"Latitude_dd\",\n",
    "    lon=\"Longitude_dd\",\n",
    "    color=\"Salinity %0\",\n",
    "    size=\"Salinity %0\",\n",
    "    hover_name=\"locations\",\n",
    "    hover_data=[\"Salinity %0\", \"Date\"],\n",
    "    animation_frame=cleaned_data_df['Date'].dt.strftime('%Y-%m-%d'),\n",
    "    color_continuous_scale=px.colors.sequential.Blues,\n",
    "    size_max=15,\n",
    "    zoom=10,\n",
    "    mapbox_style=\"carto-positron\"\n",
    ")\n",
    "\n",
    "fig_salinity.update_layout(\n",
    "    title_text=\"Salinity Over Time in Bahrain\",\n",
    "    title_x=0.5\n",
    ")\n",
    "\n",
    "fig_salinity.show()\n"
   ]
  }
 ],
 "metadata": {
  "kernelspec": {
   "display_name": "Python 3",
   "language": "python",
   "name": "python3"
  },
  "language_info": {
   "codemirror_mode": {
    "name": "ipython",
    "version": 3
   },
   "file_extension": ".py",
   "mimetype": "text/x-python",
   "name": "python",
   "nbconvert_exporter": "python",
   "pygments_lexer": "ipython3",
   "version": "3.11.7"
  }
 },
 "nbformat": 4,
 "nbformat_minor": 2
}
