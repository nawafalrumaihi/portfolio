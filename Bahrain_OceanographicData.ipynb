{
  "nbformat": 4,
  "nbformat_minor": 0,
  "metadata": {
    "colab": {
      "provenance": [],
      "authorship_tag": "ABX9TyNGDBuPLCRYKk/W7pMLj7Eq",
      "include_colab_link": true
    },
    "kernelspec": {
      "name": "python3",
      "display_name": "Python 3"
    },
    "language_info": {
      "name": "python"
    }
  },
  "cells": [
    {
      "cell_type": "markdown",
      "metadata": {
        "id": "view-in-github",
        "colab_type": "text"
      },
      "source": [
        "<a href=\"https://colab.research.google.com/github/nawafalrumaihi/portfolio/blob/main/Bahrain_OceanographicData.ipynb\" target=\"_parent\"><img src=\"https://colab.research.google.com/assets/colab-badge.svg\" alt=\"Open In Colab\"/></a>"
      ]
    },
    {
      "cell_type": "markdown",
      "source": [
        "# Average Sea Site Salinity (2007 - 2017) in Kingdom of Bahrain"
      ],
      "metadata": {
        "id": "gFgLdT2_OIuS"
      }
    },
    {
      "cell_type": "code",
      "execution_count": null,
      "metadata": {
        "colab": {
          "base_uri": "https://localhost:8080/",
          "height": 542
        },
        "id": "1LDlU2GDNwLv",
        "outputId": "6c3538e4-2805-4caa-d459-9602b74be524"
      },
      "outputs": [
        {
          "output_type": "display_data",
          "data": {
            "text/html": [
              "<html>\n",
              "<head><meta charset=\"utf-8\" /></head>\n",
              "<body>\n",
              "    <div>            <script src=\"https://cdnjs.cloudflare.com/ajax/libs/mathjax/2.7.5/MathJax.js?config=TeX-AMS-MML_SVG\"></script><script type=\"text/javascript\">if (window.MathJax && window.MathJax.Hub && window.MathJax.Hub.Config) {window.MathJax.Hub.Config({SVG: {font: \"STIX-Web\"}});}</script>                <script type=\"text/javascript\">window.PlotlyConfig = {MathJaxConfig: 'local'};</script>\n",
              "        <script charset=\"utf-8\" src=\"https://cdn.plot.ly/plotly-2.24.1.min.js\"></script>                <div id=\"5ed71a07-5c26-4800-ac76-e7c5be447ab1\" class=\"plotly-graph-div\" style=\"height:525px; width:100%;\"></div>            <script type=\"text/javascript\">                                    window.PLOTLYENV=window.PLOTLYENV || {};                                    if (document.getElementById(\"5ed71a07-5c26-4800-ac76-e7c5be447ab1\")) {                    Plotly.newPlot(                        \"5ed71a07-5c26-4800-ac76-e7c5be447ab1\",                        [{\"customdata\":[[40.46454545454546],[43.41947368421053],[43.236315789473686],[42.502105263157894],[52.66538461538461],[43.683846153846154],[43.40923076923077],[49.05583333333333],[40.48090909090909],[43.21263157894737],[43.185641025641026],[44.54394736842105],[44.19108108108108],[45.00135135135135],[45.808157894736844],[44.539032258064516],[46.91487179487179],[45.66945945945946],[43.57394736842105],[40.307272727272725],[54.5425925925926],[48.09342105263158],[40.875454545454545],[43.32131578947369],[44.155454545454546],[55.586666666666666]],\"hovertemplate\":\"\\u003cb\\u003e%{hovertext}\\u003c\\u002fb\\u003e\\u003cbr\\u003e\\u003cbr\\u003eLongitude_dd=%{x}\\u003cbr\\u003eLatitude_dd=%{y}\\u003cbr\\u003eSalinity %0=%{marker.color}\\u003cextra\\u003e\\u003c\\u002fextra\\u003e\",\"hovertext\":[\"abu lthama\",\"al gaha\",\"al gazara\",\"al jarim\",\"al jasra\",\"askar\",\"bapco\",\"bartafi\",\"bo omamah\",\"dam\",\"fa'ash\",\"fasht tighalib\",\"ghumais\",\"jabbari\",\"khor fasht\",\"marina club\",\"marwada\",\"mashtan\",\"msoor\",\"najwat abu lthama\",\"qassar\",\"qassar noon\",\"shtaya\",\"suhain\",\"sura\",\"umm al nasa'an\"],\"legendgroup\":\"\",\"marker\":{\"color\":[40.46454545454546,43.41947368421053,43.236315789473686,42.502105263157894,52.66538461538461,43.683846153846154,43.40923076923077,49.05583333333333,40.48090909090909,43.21263157894737,43.185641025641026,44.54394736842105,44.19108108108108,45.00135135135135,45.808157894736844,44.539032258064516,46.91487179487179,45.66945945945946,43.57394736842105,40.307272727272725,54.5425925925926,48.09342105263158,40.875454545454545,43.32131578947369,44.155454545454546,55.586666666666666],\"coloraxis\":\"coloraxis\",\"size\":[40.46454545454546,43.41947368421053,43.236315789473686,42.502105263157894,52.66538461538461,43.683846153846154,43.40923076923077,49.05583333333333,40.48090909090909,43.21263157894737,43.185641025641026,44.54394736842105,44.19108108108108,45.00135135135135,45.808157894736844,44.539032258064516,46.91487179487179,45.66945945945946,43.57394736842105,40.307272727272725,54.5425925925926,48.09342105263158,40.875454545454545,43.32131578947369,44.155454545454546,55.586666666666666],\"sizemode\":\"area\",\"sizeref\":0.24705185185185186,\"symbol\":\"circle\"},\"mode\":\"markers\",\"name\":\"\",\"orientation\":\"v\",\"showlegend\":false,\"x\":[50.8636,50.67534167,50.79488611,50.57226111,50.42950833,50.63189722,50.64105,50.44042778,50.69974444,50.83459722,50.72880556,50.71598889,50.86679444,50.66624167,50.45546667,50.60260278,50.45246667,50.68702778,50.70566944,50.84965556,50.43051667,50.63698056,50.73033333,50.68624444,50.42891944,50.39714167],\"xaxis\":\"x\",\"y\":[26.78361667,26.13141667,26.16458889,26.40921389,26.20631667,26.05994444,26.108525,26.26796944,26.72356111,26.18792778,26.15064167,25.95768056,26.03835,25.917225,26.34433889,26.23741389,26.31694722,25.84470833,26.08035,26.848575,26.02503611,25.81586944,26.58504167,26.17104444,26.48800278,26.06743611],\"yaxis\":\"y\",\"type\":\"scatter\"}],                        {\"template\":{\"data\":{\"histogram2dcontour\":[{\"type\":\"histogram2dcontour\",\"colorbar\":{\"outlinewidth\":0,\"ticks\":\"\"},\"colorscale\":[[0.0,\"#0d0887\"],[0.1111111111111111,\"#46039f\"],[0.2222222222222222,\"#7201a8\"],[0.3333333333333333,\"#9c179e\"],[0.4444444444444444,\"#bd3786\"],[0.5555555555555556,\"#d8576b\"],[0.6666666666666666,\"#ed7953\"],[0.7777777777777778,\"#fb9f3a\"],[0.8888888888888888,\"#fdca26\"],[1.0,\"#f0f921\"]]}],\"choropleth\":[{\"type\":\"choropleth\",\"colorbar\":{\"outlinewidth\":0,\"ticks\":\"\"}}],\"histogram2d\":[{\"type\":\"histogram2d\",\"colorbar\":{\"outlinewidth\":0,\"ticks\":\"\"},\"colorscale\":[[0.0,\"#0d0887\"],[0.1111111111111111,\"#46039f\"],[0.2222222222222222,\"#7201a8\"],[0.3333333333333333,\"#9c179e\"],[0.4444444444444444,\"#bd3786\"],[0.5555555555555556,\"#d8576b\"],[0.6666666666666666,\"#ed7953\"],[0.7777777777777778,\"#fb9f3a\"],[0.8888888888888888,\"#fdca26\"],[1.0,\"#f0f921\"]]}],\"heatmap\":[{\"type\":\"heatmap\",\"colorbar\":{\"outlinewidth\":0,\"ticks\":\"\"},\"colorscale\":[[0.0,\"#0d0887\"],[0.1111111111111111,\"#46039f\"],[0.2222222222222222,\"#7201a8\"],[0.3333333333333333,\"#9c179e\"],[0.4444444444444444,\"#bd3786\"],[0.5555555555555556,\"#d8576b\"],[0.6666666666666666,\"#ed7953\"],[0.7777777777777778,\"#fb9f3a\"],[0.8888888888888888,\"#fdca26\"],[1.0,\"#f0f921\"]]}],\"heatmapgl\":[{\"type\":\"heatmapgl\",\"colorbar\":{\"outlinewidth\":0,\"ticks\":\"\"},\"colorscale\":[[0.0,\"#0d0887\"],[0.1111111111111111,\"#46039f\"],[0.2222222222222222,\"#7201a8\"],[0.3333333333333333,\"#9c179e\"],[0.4444444444444444,\"#bd3786\"],[0.5555555555555556,\"#d8576b\"],[0.6666666666666666,\"#ed7953\"],[0.7777777777777778,\"#fb9f3a\"],[0.8888888888888888,\"#fdca26\"],[1.0,\"#f0f921\"]]}],\"contourcarpet\":[{\"type\":\"contourcarpet\",\"colorbar\":{\"outlinewidth\":0,\"ticks\":\"\"}}],\"contour\":[{\"type\":\"contour\",\"colorbar\":{\"outlinewidth\":0,\"ticks\":\"\"},\"colorscale\":[[0.0,\"#0d0887\"],[0.1111111111111111,\"#46039f\"],[0.2222222222222222,\"#7201a8\"],[0.3333333333333333,\"#9c179e\"],[0.4444444444444444,\"#bd3786\"],[0.5555555555555556,\"#d8576b\"],[0.6666666666666666,\"#ed7953\"],[0.7777777777777778,\"#fb9f3a\"],[0.8888888888888888,\"#fdca26\"],[1.0,\"#f0f921\"]]}],\"surface\":[{\"type\":\"surface\",\"colorbar\":{\"outlinewidth\":0,\"ticks\":\"\"},\"colorscale\":[[0.0,\"#0d0887\"],[0.1111111111111111,\"#46039f\"],[0.2222222222222222,\"#7201a8\"],[0.3333333333333333,\"#9c179e\"],[0.4444444444444444,\"#bd3786\"],[0.5555555555555556,\"#d8576b\"],[0.6666666666666666,\"#ed7953\"],[0.7777777777777778,\"#fb9f3a\"],[0.8888888888888888,\"#fdca26\"],[1.0,\"#f0f921\"]]}],\"mesh3d\":[{\"type\":\"mesh3d\",\"colorbar\":{\"outlinewidth\":0,\"ticks\":\"\"}}],\"scatter\":[{\"fillpattern\":{\"fillmode\":\"overlay\",\"size\":10,\"solidity\":0.2},\"type\":\"scatter\"}],\"parcoords\":[{\"type\":\"parcoords\",\"line\":{\"colorbar\":{\"outlinewidth\":0,\"ticks\":\"\"}}}],\"scatterpolargl\":[{\"type\":\"scatterpolargl\",\"marker\":{\"colorbar\":{\"outlinewidth\":0,\"ticks\":\"\"}}}],\"bar\":[{\"error_x\":{\"color\":\"#2a3f5f\"},\"error_y\":{\"color\":\"#2a3f5f\"},\"marker\":{\"line\":{\"color\":\"#E5ECF6\",\"width\":0.5},\"pattern\":{\"fillmode\":\"overlay\",\"size\":10,\"solidity\":0.2}},\"type\":\"bar\"}],\"scattergeo\":[{\"type\":\"scattergeo\",\"marker\":{\"colorbar\":{\"outlinewidth\":0,\"ticks\":\"\"}}}],\"scatterpolar\":[{\"type\":\"scatterpolar\",\"marker\":{\"colorbar\":{\"outlinewidth\":0,\"ticks\":\"\"}}}],\"histogram\":[{\"marker\":{\"pattern\":{\"fillmode\":\"overlay\",\"size\":10,\"solidity\":0.2}},\"type\":\"histogram\"}],\"scattergl\":[{\"type\":\"scattergl\",\"marker\":{\"colorbar\":{\"outlinewidth\":0,\"ticks\":\"\"}}}],\"scatter3d\":[{\"type\":\"scatter3d\",\"line\":{\"colorbar\":{\"outlinewidth\":0,\"ticks\":\"\"}},\"marker\":{\"colorbar\":{\"outlinewidth\":0,\"ticks\":\"\"}}}],\"scattermapbox\":[{\"type\":\"scattermapbox\",\"marker\":{\"colorbar\":{\"outlinewidth\":0,\"ticks\":\"\"}}}],\"scatterternary\":[{\"type\":\"scatterternary\",\"marker\":{\"colorbar\":{\"outlinewidth\":0,\"ticks\":\"\"}}}],\"scattercarpet\":[{\"type\":\"scattercarpet\",\"marker\":{\"colorbar\":{\"outlinewidth\":0,\"ticks\":\"\"}}}],\"carpet\":[{\"aaxis\":{\"endlinecolor\":\"#2a3f5f\",\"gridcolor\":\"white\",\"linecolor\":\"white\",\"minorgridcolor\":\"white\",\"startlinecolor\":\"#2a3f5f\"},\"baxis\":{\"endlinecolor\":\"#2a3f5f\",\"gridcolor\":\"white\",\"linecolor\":\"white\",\"minorgridcolor\":\"white\",\"startlinecolor\":\"#2a3f5f\"},\"type\":\"carpet\"}],\"table\":[{\"cells\":{\"fill\":{\"color\":\"#EBF0F8\"},\"line\":{\"color\":\"white\"}},\"header\":{\"fill\":{\"color\":\"#C8D4E3\"},\"line\":{\"color\":\"white\"}},\"type\":\"table\"}],\"barpolar\":[{\"marker\":{\"line\":{\"color\":\"#E5ECF6\",\"width\":0.5},\"pattern\":{\"fillmode\":\"overlay\",\"size\":10,\"solidity\":0.2}},\"type\":\"barpolar\"}],\"pie\":[{\"automargin\":true,\"type\":\"pie\"}]},\"layout\":{\"autotypenumbers\":\"strict\",\"colorway\":[\"#636efa\",\"#EF553B\",\"#00cc96\",\"#ab63fa\",\"#FFA15A\",\"#19d3f3\",\"#FF6692\",\"#B6E880\",\"#FF97FF\",\"#FECB52\"],\"font\":{\"color\":\"#2a3f5f\"},\"hovermode\":\"closest\",\"hoverlabel\":{\"align\":\"left\"},\"paper_bgcolor\":\"white\",\"plot_bgcolor\":\"#E5ECF6\",\"polar\":{\"bgcolor\":\"#E5ECF6\",\"angularaxis\":{\"gridcolor\":\"white\",\"linecolor\":\"white\",\"ticks\":\"\"},\"radialaxis\":{\"gridcolor\":\"white\",\"linecolor\":\"white\",\"ticks\":\"\"}},\"ternary\":{\"bgcolor\":\"#E5ECF6\",\"aaxis\":{\"gridcolor\":\"white\",\"linecolor\":\"white\",\"ticks\":\"\"},\"baxis\":{\"gridcolor\":\"white\",\"linecolor\":\"white\",\"ticks\":\"\"},\"caxis\":{\"gridcolor\":\"white\",\"linecolor\":\"white\",\"ticks\":\"\"}},\"coloraxis\":{\"colorbar\":{\"outlinewidth\":0,\"ticks\":\"\"}},\"colorscale\":{\"sequential\":[[0.0,\"#0d0887\"],[0.1111111111111111,\"#46039f\"],[0.2222222222222222,\"#7201a8\"],[0.3333333333333333,\"#9c179e\"],[0.4444444444444444,\"#bd3786\"],[0.5555555555555556,\"#d8576b\"],[0.6666666666666666,\"#ed7953\"],[0.7777777777777778,\"#fb9f3a\"],[0.8888888888888888,\"#fdca26\"],[1.0,\"#f0f921\"]],\"sequentialminus\":[[0.0,\"#0d0887\"],[0.1111111111111111,\"#46039f\"],[0.2222222222222222,\"#7201a8\"],[0.3333333333333333,\"#9c179e\"],[0.4444444444444444,\"#bd3786\"],[0.5555555555555556,\"#d8576b\"],[0.6666666666666666,\"#ed7953\"],[0.7777777777777778,\"#fb9f3a\"],[0.8888888888888888,\"#fdca26\"],[1.0,\"#f0f921\"]],\"diverging\":[[0,\"#8e0152\"],[0.1,\"#c51b7d\"],[0.2,\"#de77ae\"],[0.3,\"#f1b6da\"],[0.4,\"#fde0ef\"],[0.5,\"#f7f7f7\"],[0.6,\"#e6f5d0\"],[0.7,\"#b8e186\"],[0.8,\"#7fbc41\"],[0.9,\"#4d9221\"],[1,\"#276419\"]]},\"xaxis\":{\"gridcolor\":\"white\",\"linecolor\":\"white\",\"ticks\":\"\",\"title\":{\"standoff\":15},\"zerolinecolor\":\"white\",\"automargin\":true,\"zerolinewidth\":2},\"yaxis\":{\"gridcolor\":\"white\",\"linecolor\":\"white\",\"ticks\":\"\",\"title\":{\"standoff\":15},\"zerolinecolor\":\"white\",\"automargin\":true,\"zerolinewidth\":2},\"scene\":{\"xaxis\":{\"backgroundcolor\":\"#E5ECF6\",\"gridcolor\":\"white\",\"linecolor\":\"white\",\"showbackground\":true,\"ticks\":\"\",\"zerolinecolor\":\"white\",\"gridwidth\":2},\"yaxis\":{\"backgroundcolor\":\"#E5ECF6\",\"gridcolor\":\"white\",\"linecolor\":\"white\",\"showbackground\":true,\"ticks\":\"\",\"zerolinecolor\":\"white\",\"gridwidth\":2},\"zaxis\":{\"backgroundcolor\":\"#E5ECF6\",\"gridcolor\":\"white\",\"linecolor\":\"white\",\"showbackground\":true,\"ticks\":\"\",\"zerolinecolor\":\"white\",\"gridwidth\":2}},\"shapedefaults\":{\"line\":{\"color\":\"#2a3f5f\"}},\"annotationdefaults\":{\"arrowcolor\":\"#2a3f5f\",\"arrowhead\":0,\"arrowwidth\":1},\"geo\":{\"bgcolor\":\"white\",\"landcolor\":\"#E5ECF6\",\"subunitcolor\":\"white\",\"showland\":true,\"showlakes\":true,\"lakecolor\":\"white\"},\"title\":{\"x\":0.05},\"mapbox\":{\"style\":\"light\"}}},\"xaxis\":{\"anchor\":\"y\",\"domain\":[0.0,1.0],\"title\":{\"text\":\"Longitude\"}},\"yaxis\":{\"anchor\":\"x\",\"domain\":[0.0,1.0],\"title\":{\"text\":\"Latitude\"}},\"coloraxis\":{\"colorbar\":{\"title\":{\"text\":\"Salinity %0\"}},\"colorscale\":[[0.0,\"rgb(247,251,255)\"],[0.125,\"rgb(222,235,247)\"],[0.25,\"rgb(198,219,239)\"],[0.375,\"rgb(158,202,225)\"],[0.5,\"rgb(107,174,214)\"],[0.625,\"rgb(66,146,198)\"],[0.75,\"rgb(33,113,181)\"],[0.875,\"rgb(8,81,156)\"],[1.0,\"rgb(8,48,107)\"]]},\"legend\":{\"tracegroupgap\":0,\"itemsizing\":\"constant\"},\"margin\":{\"t\":60},\"title\":{\"text\":\"Average Salinity in Bahrain by Longitutde & Latitude (2007 - 2017)\",\"x\":0.5},\"annotations\":[{\"showarrow\":false,\"text\":\"Source: Kingdom of Bahrain - Supreme Council for Environment\",\"x\":0.5,\"xref\":\"paper\",\"y\":-0.2,\"yref\":\"paper\"}]},                        {\"responsive\": true}                    ).then(function(){\n",
              "                            \n",
              "var gd = document.getElementById('5ed71a07-5c26-4800-ac76-e7c5be447ab1');\n",
              "var x = new MutationObserver(function (mutations, observer) {{\n",
              "        var display = window.getComputedStyle(gd).display;\n",
              "        if (!display || display === 'none') {{\n",
              "            console.log([gd, 'removed!']);\n",
              "            Plotly.purge(gd);\n",
              "            observer.disconnect();\n",
              "        }}\n",
              "}});\n",
              "\n",
              "// Listen for the removal of the full notebook cells\n",
              "var notebookContainer = gd.closest('#notebook-container');\n",
              "if (notebookContainer) {{\n",
              "    x.observe(notebookContainer, {childList: true});\n",
              "}}\n",
              "\n",
              "// Listen for the clearing of the current output cell\n",
              "var outputEl = gd.closest('.output');\n",
              "if (outputEl) {{\n",
              "    x.observe(outputEl, {childList: true});\n",
              "}}\n",
              "\n",
              "                        })                };                            </script>        </div>\n",
              "</body>\n",
              "</html>"
            ]
          },
          "metadata": {}
        }
      ],
      "source": [
        "# create an interactive scatterplot with the averages of both salinity and temperature\n",
        "import pandas as pd\n",
        "import plotly.express as px\n",
        "\n",
        "# Load the SST data\n",
        "sst_file_path = \"marine 2007 - 2016 may 2017.csv\"  # Replace with your SST data file path\n",
        "sst_data_df = pd.read_csv(sst_file_path, encoding='ISO-8859-1')\n",
        "\n",
        "# Load the geolocation data\n",
        "geo_location_file_path = \"Bahrain Climate Data - Geo Locations - Sheet2.csv\"  # Replace with your geolocation data file path\n",
        "# encode the file with ISO-8859-1 to avoid encoding errors\n",
        "geo_location_df = pd.read_csv(geo_location_file_path, encoding='ISO-8859-1')\n",
        "\n",
        "# Standardize the location names in both datasets for accurate merging\n",
        "sst_data_df['locations'] = sst_data_df['locations'].str.strip().str.lower()\n",
        "geo_location_df['Location'] = geo_location_df['Location'].str.strip().str.lower()\n",
        "\n",
        "# Merge the datasets on the location field\n",
        "merged_data_df = pd.merge(sst_data_df, geo_location_df, left_on='locations', right_on='Location')\n",
        "\n",
        "# Convert the 'Date' column to a datetime object\n",
        "merged_data_df['Date'] = pd.to_datetime(merged_data_df['Date'], errors='coerce')\n",
        "\n",
        "# Replace commas and convert the 'Salinity %0' column to numeric\n",
        "merged_data_df['Salinity %0'] = pd.to_numeric(merged_data_df['Salinity %0'].str.replace(',', ''), errors='coerce')\n",
        "\n",
        "# Remove rows with missing salinity data\n",
        "cleaned_data_df = merged_data_df.dropna(subset=['Salinity %0'])\n",
        "\n",
        "# Create a new dataframe with the average salinity for each location\n",
        "# Include latitude and longitude in the grouped dataframe\n",
        "avg_salinity_df = cleaned_data_df.groupby('locations').agg({\n",
        "    'Salinity %0': 'mean',\n",
        "    'Latitude_dd': 'first',  # Assuming each location has a unique latitude\n",
        "    'Longitude_dd': 'first'  # Assuming each location has a unique longitude\n",
        "}).reset_index()\n",
        "\n",
        "# Create a non - map scatter plot for Salinity\n",
        "fig_avg_salinity = px.scatter(\n",
        "    avg_salinity_df,\n",
        "    x=\"Longitude_dd\",\n",
        "    y=\"Latitude_dd\",\n",
        "    color=\"Salinity %0\",\n",
        "    size=\"Salinity %0\",\n",
        "    hover_name=\"locations\",\n",
        "    hover_data=[\"Salinity %0\"],\n",
        "    color_continuous_scale=px.colors.sequential.Blues,\n",
        "    size_max=15\n",
        ")\n",
        "\n",
        "fig_avg_salinity.update_layout(\n",
        "    title_text=\"Average Salinity in Bahrain by Longitutde & Latitude (2007 - 2017)\",\n",
        "    xaxis_title=\"Longitude\",\n",
        "    yaxis_title=\"Latitude\",\n",
        "    # add text for source below the chart and x-axis\n",
        "    annotations=[\n",
        "        dict(\n",
        "            x=0.5,\n",
        "            y=-0.20,\n",
        "            showarrow=False,\n",
        "            text=\"Source: Kingdom of Bahrain - Supreme Council for Environment\",\n",
        "            xref=\"paper\",\n",
        "            yref=\"paper\"\n",
        "        )\n",
        "    ],\n",
        "    title_x=0.5\n",
        ")\n",
        "\n",
        "fig_avg_salinity.show()"
      ]
    }
  ]
}